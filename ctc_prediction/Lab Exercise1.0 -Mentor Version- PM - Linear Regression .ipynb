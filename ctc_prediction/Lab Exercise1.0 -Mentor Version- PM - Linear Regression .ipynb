{
 "cells": [
  {
   "cell_type": "code",
   "execution_count": 24,
   "id": "42b5b6b8",
   "metadata": {},
   "outputs": [],
   "source": [
    "import numpy as np\n",
    "import pandas as pd\n",
    "from matplotlib import pyplot as plt\n",
    "import seaborn as sns"
   ]
  },
  {
   "cell_type": "markdown",
   "id": "64222f54",
   "metadata": {},
   "source": [
    "## 1. Read the data from the ‘.csv’ file. Check the dimensions, data types of different variables, missing values and the basic measures of descriptive statistics for the continuous variables. "
   ]
  },
  {
   "cell_type": "code",
   "execution_count": 25,
   "id": "101d28a7",
   "metadata": {},
   "outputs": [
    {
     "data": {
      "text/html": [
       "<div>\n",
       "<style scoped>\n",
       "    .dataframe tbody tr th:only-of-type {\n",
       "        vertical-align: middle;\n",
       "    }\n",
       "\n",
       "    .dataframe tbody tr th {\n",
       "        vertical-align: top;\n",
       "    }\n",
       "\n",
       "    .dataframe thead th {\n",
       "        text-align: right;\n",
       "    }\n",
       "</style>\n",
       "<table border=\"1\" class=\"dataframe\">\n",
       "  <thead>\n",
       "    <tr style=\"text-align: right;\">\n",
       "      <th></th>\n",
       "      <th>Cement</th>\n",
       "      <th>Blast_Furnace_Slag</th>\n",
       "      <th>Fly_Ash</th>\n",
       "      <th>Water</th>\n",
       "      <th>Superplasticizer</th>\n",
       "      <th>Coarse_Aggregate</th>\n",
       "      <th>Fine_Aggregate</th>\n",
       "      <th>Age</th>\n",
       "      <th>Concrete_compressive_strength</th>\n",
       "    </tr>\n",
       "  </thead>\n",
       "  <tbody>\n",
       "    <tr>\n",
       "      <th>0</th>\n",
       "      <td>540.0</td>\n",
       "      <td>0.0</td>\n",
       "      <td>0.0</td>\n",
       "      <td>162.0</td>\n",
       "      <td>2.5</td>\n",
       "      <td>1040.0</td>\n",
       "      <td>676.0</td>\n",
       "      <td>28</td>\n",
       "      <td>79.99</td>\n",
       "    </tr>\n",
       "    <tr>\n",
       "      <th>1</th>\n",
       "      <td>540.0</td>\n",
       "      <td>0.0</td>\n",
       "      <td>0.0</td>\n",
       "      <td>162.0</td>\n",
       "      <td>2.5</td>\n",
       "      <td>1055.0</td>\n",
       "      <td>676.0</td>\n",
       "      <td>28</td>\n",
       "      <td>61.89</td>\n",
       "    </tr>\n",
       "    <tr>\n",
       "      <th>2</th>\n",
       "      <td>332.5</td>\n",
       "      <td>142.5</td>\n",
       "      <td>0.0</td>\n",
       "      <td>228.0</td>\n",
       "      <td>0.0</td>\n",
       "      <td>932.0</td>\n",
       "      <td>594.0</td>\n",
       "      <td>270</td>\n",
       "      <td>40.27</td>\n",
       "    </tr>\n",
       "    <tr>\n",
       "      <th>3</th>\n",
       "      <td>332.5</td>\n",
       "      <td>142.5</td>\n",
       "      <td>0.0</td>\n",
       "      <td>228.0</td>\n",
       "      <td>0.0</td>\n",
       "      <td>932.0</td>\n",
       "      <td>594.0</td>\n",
       "      <td>365</td>\n",
       "      <td>41.05</td>\n",
       "    </tr>\n",
       "    <tr>\n",
       "      <th>4</th>\n",
       "      <td>198.6</td>\n",
       "      <td>132.4</td>\n",
       "      <td>0.0</td>\n",
       "      <td>192.0</td>\n",
       "      <td>0.0</td>\n",
       "      <td>978.4</td>\n",
       "      <td>825.5</td>\n",
       "      <td>360</td>\n",
       "      <td>44.30</td>\n",
       "    </tr>\n",
       "  </tbody>\n",
       "</table>\n",
       "</div>"
      ],
      "text/plain": [
       "   Cement  Blast_Furnace_Slag  Fly_Ash  Water  Superplasticizer  \\\n",
       "0   540.0                 0.0      0.0  162.0               2.5   \n",
       "1   540.0                 0.0      0.0  162.0               2.5   \n",
       "2   332.5               142.5      0.0  228.0               0.0   \n",
       "3   332.5               142.5      0.0  228.0               0.0   \n",
       "4   198.6               132.4      0.0  192.0               0.0   \n",
       "\n",
       "   Coarse_Aggregate  Fine_Aggregate  Age  Concrete_compressive_strength  \n",
       "0            1040.0           676.0   28                          79.99  \n",
       "1            1055.0           676.0   28                          61.89  \n",
       "2             932.0           594.0  270                          40.27  \n",
       "3             932.0           594.0  365                          41.05  \n",
       "4             978.4           825.5  360                          44.30  "
      ]
     },
     "execution_count": 25,
     "metadata": {},
     "output_type": "execute_result"
    }
   ],
   "source": [
    "df = pd.read_csv('Concrete_Data.csv')\n",
    "df.head()"
   ]
  },
  {
   "cell_type": "code",
   "execution_count": 26,
   "id": "4baa1de8",
   "metadata": {},
   "outputs": [
    {
     "name": "stdout",
     "output_type": "stream",
     "text": [
      "Number of rows: 1030 \n",
      "Number of columns: 9\n"
     ]
    }
   ],
   "source": [
    "print('Number of rows:',df.shape[0],'\\nNumber of columns:',df.shape[1])"
   ]
  },
  {
   "cell_type": "code",
   "execution_count": 27,
   "id": "1bf8f7af",
   "metadata": {},
   "outputs": [
    {
     "name": "stdout",
     "output_type": "stream",
     "text": [
      "<class 'pandas.core.frame.DataFrame'>\n",
      "RangeIndex: 1030 entries, 0 to 1029\n",
      "Data columns (total 9 columns):\n",
      " #   Column                         Non-Null Count  Dtype  \n",
      "---  ------                         --------------  -----  \n",
      " 0   Cement                         1030 non-null   float64\n",
      " 1   Blast_Furnace_Slag             1030 non-null   float64\n",
      " 2   Fly_Ash                        1030 non-null   float64\n",
      " 3   Water                          1030 non-null   float64\n",
      " 4   Superplasticizer               1030 non-null   float64\n",
      " 5   Coarse_Aggregate               1030 non-null   float64\n",
      " 6   Fine_Aggregate                 1030 non-null   float64\n",
      " 7   Age                            1030 non-null   int64  \n",
      " 8   Concrete_compressive_strength  1030 non-null   float64\n",
      "dtypes: float64(8), int64(1)\n",
      "memory usage: 72.5 KB\n",
      "None \n",
      "\n",
      "Cement                           float64\n",
      "Blast_Furnace_Slag               float64\n",
      "Fly_Ash                          float64\n",
      "Water                            float64\n",
      "Superplasticizer                 float64\n",
      "Coarse_Aggregate                 float64\n",
      "Fine_Aggregate                   float64\n",
      "Age                                int64\n",
      "Concrete_compressive_strength    float64\n",
      "dtype: object\n"
     ]
    }
   ],
   "source": [
    "print(df.info(),'\\n')\n",
    "print(df.dtypes)"
   ]
  },
  {
   "cell_type": "code",
   "execution_count": 28,
   "id": "4dbe85e4",
   "metadata": {},
   "outputs": [
    {
     "data": {
      "text/html": [
       "<div>\n",
       "<style scoped>\n",
       "    .dataframe tbody tr th:only-of-type {\n",
       "        vertical-align: middle;\n",
       "    }\n",
       "\n",
       "    .dataframe tbody tr th {\n",
       "        vertical-align: top;\n",
       "    }\n",
       "\n",
       "    .dataframe thead th {\n",
       "        text-align: right;\n",
       "    }\n",
       "</style>\n",
       "<table border=\"1\" class=\"dataframe\">\n",
       "  <thead>\n",
       "    <tr style=\"text-align: right;\">\n",
       "      <th></th>\n",
       "      <th>Cement</th>\n",
       "      <th>Blast_Furnace_Slag</th>\n",
       "      <th>Fly_Ash</th>\n",
       "      <th>Water</th>\n",
       "      <th>Superplasticizer</th>\n",
       "      <th>Coarse_Aggregate</th>\n",
       "      <th>Fine_Aggregate</th>\n",
       "      <th>Age</th>\n",
       "      <th>Concrete_compressive_strength</th>\n",
       "    </tr>\n",
       "  </thead>\n",
       "  <tbody>\n",
       "    <tr>\n",
       "      <th>0</th>\n",
       "      <td>540.0</td>\n",
       "      <td>0.0</td>\n",
       "      <td>0.0</td>\n",
       "      <td>162.0</td>\n",
       "      <td>2.5</td>\n",
       "      <td>1040.0</td>\n",
       "      <td>676.0</td>\n",
       "      <td>28</td>\n",
       "      <td>79.99</td>\n",
       "    </tr>\n",
       "    <tr>\n",
       "      <th>1</th>\n",
       "      <td>540.0</td>\n",
       "      <td>0.0</td>\n",
       "      <td>0.0</td>\n",
       "      <td>162.0</td>\n",
       "      <td>2.5</td>\n",
       "      <td>1055.0</td>\n",
       "      <td>676.0</td>\n",
       "      <td>28</td>\n",
       "      <td>61.89</td>\n",
       "    </tr>\n",
       "    <tr>\n",
       "      <th>2</th>\n",
       "      <td>332.5</td>\n",
       "      <td>142.5</td>\n",
       "      <td>0.0</td>\n",
       "      <td>228.0</td>\n",
       "      <td>0.0</td>\n",
       "      <td>932.0</td>\n",
       "      <td>594.0</td>\n",
       "      <td>270</td>\n",
       "      <td>40.27</td>\n",
       "    </tr>\n",
       "    <tr>\n",
       "      <th>3</th>\n",
       "      <td>332.5</td>\n",
       "      <td>142.5</td>\n",
       "      <td>0.0</td>\n",
       "      <td>228.0</td>\n",
       "      <td>0.0</td>\n",
       "      <td>932.0</td>\n",
       "      <td>594.0</td>\n",
       "      <td>365</td>\n",
       "      <td>41.05</td>\n",
       "    </tr>\n",
       "    <tr>\n",
       "      <th>4</th>\n",
       "      <td>198.6</td>\n",
       "      <td>132.4</td>\n",
       "      <td>0.0</td>\n",
       "      <td>192.0</td>\n",
       "      <td>0.0</td>\n",
       "      <td>978.4</td>\n",
       "      <td>825.5</td>\n",
       "      <td>360</td>\n",
       "      <td>44.30</td>\n",
       "    </tr>\n",
       "  </tbody>\n",
       "</table>\n",
       "</div>"
      ],
      "text/plain": [
       "   Cement  Blast_Furnace_Slag  Fly_Ash  Water  Superplasticizer  \\\n",
       "0   540.0                 0.0      0.0  162.0               2.5   \n",
       "1   540.0                 0.0      0.0  162.0               2.5   \n",
       "2   332.5               142.5      0.0  228.0               0.0   \n",
       "3   332.5               142.5      0.0  228.0               0.0   \n",
       "4   198.6               132.4      0.0  192.0               0.0   \n",
       "\n",
       "   Coarse_Aggregate  Fine_Aggregate  Age  Concrete_compressive_strength  \n",
       "0            1040.0           676.0   28                          79.99  \n",
       "1            1055.0           676.0   28                          61.89  \n",
       "2             932.0           594.0  270                          40.27  \n",
       "3             932.0           594.0  365                          41.05  \n",
       "4             978.4           825.5  360                          44.30  "
      ]
     },
     "execution_count": 28,
     "metadata": {},
     "output_type": "execute_result"
    }
   ],
   "source": [
    "df.head()"
   ]
  },
  {
   "cell_type": "code",
   "execution_count": 29,
   "id": "3ced797c",
   "metadata": {},
   "outputs": [
    {
     "data": {
      "text/plain": [
       "Cement                           0\n",
       "Blast_Furnace_Slag               0\n",
       "Fly_Ash                          0\n",
       "Water                            0\n",
       "Superplasticizer                 0\n",
       "Coarse_Aggregate                 0\n",
       "Fine_Aggregate                   0\n",
       "Age                              0\n",
       "Concrete_compressive_strength    0\n",
       "dtype: int64"
      ]
     },
     "execution_count": 29,
     "metadata": {},
     "output_type": "execute_result"
    }
   ],
   "source": [
    "df.isna().sum()"
   ]
  },
  {
   "cell_type": "code",
   "execution_count": 30,
   "id": "49055daa",
   "metadata": {},
   "outputs": [
    {
     "data": {
      "text/html": [
       "<div>\n",
       "<style scoped>\n",
       "    .dataframe tbody tr th:only-of-type {\n",
       "        vertical-align: middle;\n",
       "    }\n",
       "\n",
       "    .dataframe tbody tr th {\n",
       "        vertical-align: top;\n",
       "    }\n",
       "\n",
       "    .dataframe thead th {\n",
       "        text-align: right;\n",
       "    }\n",
       "</style>\n",
       "<table border=\"1\" class=\"dataframe\">\n",
       "  <thead>\n",
       "    <tr style=\"text-align: right;\">\n",
       "      <th></th>\n",
       "      <th>count</th>\n",
       "      <th>mean</th>\n",
       "      <th>std</th>\n",
       "      <th>min</th>\n",
       "      <th>25%</th>\n",
       "      <th>50%</th>\n",
       "      <th>75%</th>\n",
       "      <th>max</th>\n",
       "    </tr>\n",
       "  </thead>\n",
       "  <tbody>\n",
       "    <tr>\n",
       "      <th>Cement</th>\n",
       "      <td>1030.0</td>\n",
       "      <td>281.167864</td>\n",
       "      <td>104.506364</td>\n",
       "      <td>102.00</td>\n",
       "      <td>192.375</td>\n",
       "      <td>272.900</td>\n",
       "      <td>350.000</td>\n",
       "      <td>540.0</td>\n",
       "    </tr>\n",
       "    <tr>\n",
       "      <th>Blast_Furnace_Slag</th>\n",
       "      <td>1030.0</td>\n",
       "      <td>73.895825</td>\n",
       "      <td>86.279342</td>\n",
       "      <td>0.00</td>\n",
       "      <td>0.000</td>\n",
       "      <td>22.000</td>\n",
       "      <td>142.950</td>\n",
       "      <td>359.4</td>\n",
       "    </tr>\n",
       "    <tr>\n",
       "      <th>Fly_Ash</th>\n",
       "      <td>1030.0</td>\n",
       "      <td>54.188350</td>\n",
       "      <td>63.997004</td>\n",
       "      <td>0.00</td>\n",
       "      <td>0.000</td>\n",
       "      <td>0.000</td>\n",
       "      <td>118.300</td>\n",
       "      <td>200.1</td>\n",
       "    </tr>\n",
       "    <tr>\n",
       "      <th>Water</th>\n",
       "      <td>1030.0</td>\n",
       "      <td>181.567282</td>\n",
       "      <td>21.354219</td>\n",
       "      <td>121.80</td>\n",
       "      <td>164.900</td>\n",
       "      <td>185.000</td>\n",
       "      <td>192.000</td>\n",
       "      <td>247.0</td>\n",
       "    </tr>\n",
       "    <tr>\n",
       "      <th>Superplasticizer</th>\n",
       "      <td>1030.0</td>\n",
       "      <td>6.204660</td>\n",
       "      <td>5.973841</td>\n",
       "      <td>0.00</td>\n",
       "      <td>0.000</td>\n",
       "      <td>6.400</td>\n",
       "      <td>10.200</td>\n",
       "      <td>32.2</td>\n",
       "    </tr>\n",
       "    <tr>\n",
       "      <th>Coarse_Aggregate</th>\n",
       "      <td>1030.0</td>\n",
       "      <td>972.918932</td>\n",
       "      <td>77.753954</td>\n",
       "      <td>801.00</td>\n",
       "      <td>932.000</td>\n",
       "      <td>968.000</td>\n",
       "      <td>1029.400</td>\n",
       "      <td>1145.0</td>\n",
       "    </tr>\n",
       "    <tr>\n",
       "      <th>Fine_Aggregate</th>\n",
       "      <td>1030.0</td>\n",
       "      <td>773.580485</td>\n",
       "      <td>80.175980</td>\n",
       "      <td>594.00</td>\n",
       "      <td>730.950</td>\n",
       "      <td>779.500</td>\n",
       "      <td>824.000</td>\n",
       "      <td>992.6</td>\n",
       "    </tr>\n",
       "    <tr>\n",
       "      <th>Age</th>\n",
       "      <td>1030.0</td>\n",
       "      <td>45.662136</td>\n",
       "      <td>63.169912</td>\n",
       "      <td>1.00</td>\n",
       "      <td>7.000</td>\n",
       "      <td>28.000</td>\n",
       "      <td>56.000</td>\n",
       "      <td>365.0</td>\n",
       "    </tr>\n",
       "    <tr>\n",
       "      <th>Concrete_compressive_strength</th>\n",
       "      <td>1030.0</td>\n",
       "      <td>35.817961</td>\n",
       "      <td>16.705742</td>\n",
       "      <td>2.33</td>\n",
       "      <td>23.710</td>\n",
       "      <td>34.445</td>\n",
       "      <td>46.135</td>\n",
       "      <td>82.6</td>\n",
       "    </tr>\n",
       "  </tbody>\n",
       "</table>\n",
       "</div>"
      ],
      "text/plain": [
       "                                count        mean         std     min  \\\n",
       "Cement                         1030.0  281.167864  104.506364  102.00   \n",
       "Blast_Furnace_Slag             1030.0   73.895825   86.279342    0.00   \n",
       "Fly_Ash                        1030.0   54.188350   63.997004    0.00   \n",
       "Water                          1030.0  181.567282   21.354219  121.80   \n",
       "Superplasticizer               1030.0    6.204660    5.973841    0.00   \n",
       "Coarse_Aggregate               1030.0  972.918932   77.753954  801.00   \n",
       "Fine_Aggregate                 1030.0  773.580485   80.175980  594.00   \n",
       "Age                            1030.0   45.662136   63.169912    1.00   \n",
       "Concrete_compressive_strength  1030.0   35.817961   16.705742    2.33   \n",
       "\n",
       "                                   25%      50%       75%     max  \n",
       "Cement                         192.375  272.900   350.000   540.0  \n",
       "Blast_Furnace_Slag               0.000   22.000   142.950   359.4  \n",
       "Fly_Ash                          0.000    0.000   118.300   200.1  \n",
       "Water                          164.900  185.000   192.000   247.0  \n",
       "Superplasticizer                 0.000    6.400    10.200    32.2  \n",
       "Coarse_Aggregate               932.000  968.000  1029.400  1145.0  \n",
       "Fine_Aggregate                 730.950  779.500   824.000   992.6  \n",
       "Age                              7.000   28.000    56.000   365.0  \n",
       "Concrete_compressive_strength   23.710   34.445    46.135    82.6  "
      ]
     },
     "execution_count": 30,
     "metadata": {},
     "output_type": "execute_result"
    }
   ],
   "source": [
    "df.describe().T"
   ]
  },
  {
   "cell_type": "code",
   "execution_count": 31,
   "id": "e5cc9c72",
   "metadata": {},
   "outputs": [],
   "source": [
    "#if mean >median,positive skewness or right skewness  e.g Cement\n",
    "\n",
    "#if mean<median,negative skewness or left skewness\n"
   ]
  },
  {
   "cell_type": "code",
   "execution_count": 32,
   "id": "3d7b7336",
   "metadata": {},
   "outputs": [
    {
     "data": {
      "text/plain": [
       "Cement                           0.509481\n",
       "Blast_Furnace_Slag               0.800717\n",
       "Fly_Ash                          0.537354\n",
       "Water                            0.074628\n",
       "Superplasticizer                 0.907203\n",
       "Coarse_Aggregate                -0.040220\n",
       "Fine_Aggregate                  -0.253010\n",
       "Age                              3.269177\n",
       "Concrete_compressive_strength    0.416977\n",
       "dtype: float64"
      ]
     },
     "execution_count": 32,
     "metadata": {},
     "output_type": "execute_result"
    }
   ],
   "source": [
    "df.skew()"
   ]
  },
  {
   "cell_type": "code",
   "execution_count": 33,
   "id": "32eeb31b",
   "metadata": {},
   "outputs": [
    {
     "data": {
      "text/plain": [
       "25"
      ]
     },
     "execution_count": 33,
     "metadata": {},
     "output_type": "execute_result"
    }
   ],
   "source": [
    "df.duplicated().sum()"
   ]
  },
  {
   "cell_type": "code",
   "execution_count": 34,
   "id": "f76044aa",
   "metadata": {},
   "outputs": [],
   "source": [
    "#There is no harm in keeping duplicated but there's no advantage also.lets drop duplicates."
   ]
  },
  {
   "cell_type": "code",
   "execution_count": 35,
   "id": "439f6310",
   "metadata": {},
   "outputs": [],
   "source": [
    "df.drop_duplicates(inplace=True)"
   ]
  },
  {
   "cell_type": "code",
   "execution_count": 36,
   "id": "e4b11cc2",
   "metadata": {},
   "outputs": [
    {
     "name": "stdout",
     "output_type": "stream",
     "text": [
      "<class 'pandas.core.frame.DataFrame'>\n",
      "Int64Index: 1005 entries, 0 to 1029\n",
      "Data columns (total 9 columns):\n",
      " #   Column                         Non-Null Count  Dtype  \n",
      "---  ------                         --------------  -----  \n",
      " 0   Cement                         1005 non-null   float64\n",
      " 1   Blast_Furnace_Slag             1005 non-null   float64\n",
      " 2   Fly_Ash                        1005 non-null   float64\n",
      " 3   Water                          1005 non-null   float64\n",
      " 4   Superplasticizer               1005 non-null   float64\n",
      " 5   Coarse_Aggregate               1005 non-null   float64\n",
      " 6   Fine_Aggregate                 1005 non-null   float64\n",
      " 7   Age                            1005 non-null   int64  \n",
      " 8   Concrete_compressive_strength  1005 non-null   float64\n",
      "dtypes: float64(8), int64(1)\n",
      "memory usage: 78.5 KB\n"
     ]
    }
   ],
   "source": [
    "df.info()"
   ]
  },
  {
   "cell_type": "code",
   "execution_count": 37,
   "id": "8fc3f2b1",
   "metadata": {},
   "outputs": [
    {
     "name": "stdout",
     "output_type": "stream",
     "text": [
      "<class 'pandas.core.frame.DataFrame'>\n",
      "RangeIndex: 1005 entries, 0 to 1004\n",
      "Data columns (total 9 columns):\n",
      " #   Column                         Non-Null Count  Dtype  \n",
      "---  ------                         --------------  -----  \n",
      " 0   Cement                         1005 non-null   float64\n",
      " 1   Blast_Furnace_Slag             1005 non-null   float64\n",
      " 2   Fly_Ash                        1005 non-null   float64\n",
      " 3   Water                          1005 non-null   float64\n",
      " 4   Superplasticizer               1005 non-null   float64\n",
      " 5   Coarse_Aggregate               1005 non-null   float64\n",
      " 6   Fine_Aggregate                 1005 non-null   float64\n",
      " 7   Age                            1005 non-null   int64  \n",
      " 8   Concrete_compressive_strength  1005 non-null   float64\n",
      "dtypes: float64(8), int64(1)\n",
      "memory usage: 70.8 KB\n"
     ]
    }
   ],
   "source": [
    "df.reset_index(drop=True,inplace=True)\n",
    "df.info()"
   ]
  },
  {
   "cell_type": "markdown",
   "id": "41a6b996",
   "metadata": {},
   "source": [
    "## 2. Perform univariate Exploratory Data Analysis for the continuous variables to check for outliers at a distance of 1.5 times the Inter-Quartile Range. Also, check the correlation amongst the various continuous variables."
   ]
  },
  {
   "cell_type": "code",
   "execution_count": 38,
   "id": "1baf4da7",
   "metadata": {},
   "outputs": [],
   "source": [
    "from pylab import rcParams\n",
    "rcParams['figure.figsize'] = 19,12"
   ]
  },
  {
   "cell_type": "code",
   "execution_count": 39,
   "id": "2a3e6aa6",
   "metadata": {
    "scrolled": true
   },
   "outputs": [
    {
     "data": {
      "text/plain": [
       "Index(['Cement', 'Blast_Furnace_Slag', 'Fly_Ash', 'Water', 'Superplasticizer',\n",
       "       'Coarse_Aggregate', 'Fine_Aggregate', 'Age',\n",
       "       'Concrete_compressive_strength'],\n",
       "      dtype='object')"
      ]
     },
     "execution_count": 39,
     "metadata": {},
     "output_type": "execute_result"
    }
   ],
   "source": [
    "df.columns"
   ]
  },
  {
   "cell_type": "code",
   "execution_count": 40,
   "id": "cf97cca0",
   "metadata": {},
   "outputs": [],
   "source": [
    "#One of the assumptions of linear regression is that the target variable should be normally distributed."
   ]
  },
  {
   "cell_type": "code",
   "execution_count": 41,
   "id": "7d496306",
   "metadata": {},
   "outputs": [
    {
     "data": {
      "text/plain": [
       "<seaborn.axisgrid.FacetGrid at 0x20ef501dee0>"
      ]
     },
     "execution_count": 41,
     "metadata": {},
     "output_type": "execute_result"
    },
    {
     "data": {
      "image/png": "[encoded data removed]",
      "text/plain": [
       "<Figure size 360x360 with 1 Axes>"
      ]
     },
     "metadata": {
      "needs_background": "light"
     },
     "output_type": "display_data"
    }
   ],
   "source": [
    "sns.displot(data=df,x=\"Concrete_compressive_strength\",kind=\"kde\")   #normal distributed with right skewness"
   ]
  },
  {
   "cell_type": "code",
   "execution_count": 42,
   "id": "2d205d60",
   "metadata": {},
   "outputs": [],
   "source": [
    "#second assumption of linear regression is that there should be linear relationship between my dependent and independent variables\n",
    "#to validate this,use scatterplot or check correlation\n",
    "#my dependent variable should be highly correlated with independent variables"
   ]
  },
  {
   "cell_type": "code",
   "execution_count": 43,
   "id": "8034cecc",
   "metadata": {},
   "outputs": [
    {
     "data": {
      "text/html": [
       "<div>\n",
       "<style scoped>\n",
       "    .dataframe tbody tr th:only-of-type {\n",
       "        vertical-align: middle;\n",
       "    }\n",
       "\n",
       "    .dataframe tbody tr th {\n",
       "        vertical-align: top;\n",
       "    }\n",
       "\n",
       "    .dataframe thead th {\n",
       "        text-align: right;\n",
       "    }\n",
       "</style>\n",
       "<table border=\"1\" class=\"dataframe\">\n",
       "  <thead>\n",
       "    <tr style=\"text-align: right;\">\n",
       "      <th></th>\n",
       "      <th>Cement</th>\n",
       "      <th>Blast_Furnace_Slag</th>\n",
       "      <th>Fly_Ash</th>\n",
       "      <th>Water</th>\n",
       "      <th>Superplasticizer</th>\n",
       "      <th>Coarse_Aggregate</th>\n",
       "      <th>Fine_Aggregate</th>\n",
       "      <th>Age</th>\n",
       "      <th>Concrete_compressive_strength</th>\n",
       "    </tr>\n",
       "  </thead>\n",
       "  <tbody>\n",
       "    <tr>\n",
       "      <th>Cement</th>\n",
       "      <td>1.000000</td>\n",
       "      <td>-0.303324</td>\n",
       "      <td>-0.385610</td>\n",
       "      <td>-0.056625</td>\n",
       "      <td>0.060906</td>\n",
       "      <td>-0.086205</td>\n",
       "      <td>-0.245375</td>\n",
       "      <td>0.086348</td>\n",
       "      <td>0.488283</td>\n",
       "    </tr>\n",
       "    <tr>\n",
       "      <th>Blast_Furnace_Slag</th>\n",
       "      <td>-0.303324</td>\n",
       "      <td>1.000000</td>\n",
       "      <td>-0.312352</td>\n",
       "      <td>0.130262</td>\n",
       "      <td>0.019800</td>\n",
       "      <td>-0.277559</td>\n",
       "      <td>-0.289685</td>\n",
       "      <td>-0.042759</td>\n",
       "      <td>0.103374</td>\n",
       "    </tr>\n",
       "    <tr>\n",
       "      <th>Fly_Ash</th>\n",
       "      <td>-0.385610</td>\n",
       "      <td>-0.312352</td>\n",
       "      <td>1.000000</td>\n",
       "      <td>-0.283314</td>\n",
       "      <td>0.414213</td>\n",
       "      <td>-0.026468</td>\n",
       "      <td>0.090262</td>\n",
       "      <td>-0.158940</td>\n",
       "      <td>-0.080648</td>\n",
       "    </tr>\n",
       "    <tr>\n",
       "      <th>Water</th>\n",
       "      <td>-0.056625</td>\n",
       "      <td>0.130262</td>\n",
       "      <td>-0.283314</td>\n",
       "      <td>1.000000</td>\n",
       "      <td>-0.646946</td>\n",
       "      <td>-0.212480</td>\n",
       "      <td>-0.444915</td>\n",
       "      <td>0.279284</td>\n",
       "      <td>-0.269624</td>\n",
       "    </tr>\n",
       "    <tr>\n",
       "      <th>Superplasticizer</th>\n",
       "      <td>0.060906</td>\n",
       "      <td>0.019800</td>\n",
       "      <td>0.414213</td>\n",
       "      <td>-0.646946</td>\n",
       "      <td>1.000000</td>\n",
       "      <td>-0.241721</td>\n",
       "      <td>0.207993</td>\n",
       "      <td>-0.194076</td>\n",
       "      <td>0.344209</td>\n",
       "    </tr>\n",
       "    <tr>\n",
       "      <th>Coarse_Aggregate</th>\n",
       "      <td>-0.086205</td>\n",
       "      <td>-0.277559</td>\n",
       "      <td>-0.026468</td>\n",
       "      <td>-0.212480</td>\n",
       "      <td>-0.241721</td>\n",
       "      <td>1.000000</td>\n",
       "      <td>-0.162187</td>\n",
       "      <td>-0.005264</td>\n",
       "      <td>-0.144717</td>\n",
       "    </tr>\n",
       "    <tr>\n",
       "      <th>Fine_Aggregate</th>\n",
       "      <td>-0.245375</td>\n",
       "      <td>-0.289685</td>\n",
       "      <td>0.090262</td>\n",
       "      <td>-0.444915</td>\n",
       "      <td>0.207993</td>\n",
       "      <td>-0.162187</td>\n",
       "      <td>1.000000</td>\n",
       "      <td>-0.156572</td>\n",
       "      <td>-0.186448</td>\n",
       "    </tr>\n",
       "    <tr>\n",
       "      <th>Age</th>\n",
       "      <td>0.086348</td>\n",
       "      <td>-0.042759</td>\n",
       "      <td>-0.158940</td>\n",
       "      <td>0.279284</td>\n",
       "      <td>-0.194076</td>\n",
       "      <td>-0.005264</td>\n",
       "      <td>-0.156572</td>\n",
       "      <td>1.000000</td>\n",
       "      <td>0.337367</td>\n",
       "    </tr>\n",
       "    <tr>\n",
       "      <th>Concrete_compressive_strength</th>\n",
       "      <td>0.488283</td>\n",
       "      <td>0.103374</td>\n",
       "      <td>-0.080648</td>\n",
       "      <td>-0.269624</td>\n",
       "      <td>0.344209</td>\n",
       "      <td>-0.144717</td>\n",
       "      <td>-0.186448</td>\n",
       "      <td>0.337367</td>\n",
       "      <td>1.000000</td>\n",
       "    </tr>\n",
       "  </tbody>\n",
       "</table>\n",
       "</div>"
      ],
      "text/plain": [
       "                                 Cement  Blast_Furnace_Slag   Fly_Ash  \\\n",
       "Cement                         1.000000           -0.303324 -0.385610   \n",
       "Blast_Furnace_Slag            -0.303324            1.000000 -0.312352   \n",
       "Fly_Ash                       -0.385610           -0.312352  1.000000   \n",
       "Water                         -0.056625            0.130262 -0.283314   \n",
       "Superplasticizer               0.060906            0.019800  0.414213   \n",
       "Coarse_Aggregate              -0.086205           -0.277559 -0.026468   \n",
       "Fine_Aggregate                -0.245375           -0.289685  0.090262   \n",
       "Age                            0.086348           -0.042759 -0.158940   \n",
       "Concrete_compressive_strength  0.488283            0.103374 -0.080648   \n",
       "\n",
       "                                  Water  Superplasticizer  Coarse_Aggregate  \\\n",
       "Cement                        -0.056625          0.060906         -0.086205   \n",
       "Blast_Furnace_Slag             0.130262          0.019800         -0.277559   \n",
       "Fly_Ash                       -0.283314          0.414213         -0.026468   \n",
       "Water                          1.000000         -0.646946         -0.212480   \n",
       "Superplasticizer              -0.646946          1.000000         -0.241721   \n",
       "Coarse_Aggregate              -0.212480         -0.241721          1.000000   \n",
       "Fine_Aggregate                -0.444915          0.207993         -0.162187   \n",
       "Age                            0.279284         -0.194076         -0.005264   \n",
       "Concrete_compressive_strength -0.269624          0.344209         -0.144717   \n",
       "\n",
       "                               Fine_Aggregate       Age  \\\n",
       "Cement                              -0.245375  0.086348   \n",
       "Blast_Furnace_Slag                  -0.289685 -0.042759   \n",
       "Fly_Ash                              0.090262 -0.158940   \n",
       "Water                               -0.444915  0.279284   \n",
       "Superplasticizer                     0.207993 -0.194076   \n",
       "Coarse_Aggregate                    -0.162187 -0.005264   \n",
       "Fine_Aggregate                       1.000000 -0.156572   \n",
       "Age                                 -0.156572  1.000000   \n",
       "Concrete_compressive_strength       -0.186448  0.337367   \n",
       "\n",
       "                               Concrete_compressive_strength  \n",
       "Cement                                              0.488283  \n",
       "Blast_Furnace_Slag                                  0.103374  \n",
       "Fly_Ash                                            -0.080648  \n",
       "Water                                              -0.269624  \n",
       "Superplasticizer                                    0.344209  \n",
       "Coarse_Aggregate                                   -0.144717  \n",
       "Fine_Aggregate                                     -0.186448  \n",
       "Age                                                 0.337367  \n",
       "Concrete_compressive_strength                       1.000000  "
      ]
     },
     "execution_count": 43,
     "metadata": {},
     "output_type": "execute_result"
    }
   ],
   "source": [
    "cor = df.corr()\n",
    "cor"
   ]
  },
  {
   "cell_type": "code",
   "execution_count": 44,
   "id": "d3a49c10",
   "metadata": {},
   "outputs": [],
   "source": [
    "#My dependent variable is Concrete_compressive_strength.It has good correlation with \"Cement\",\"Age.\",\"Superplasticizer\""
   ]
  },
  {
   "cell_type": "code",
   "execution_count": 45,
   "id": "6cdaed44",
   "metadata": {},
   "outputs": [
    {
     "data": {
      "image/png": "[encoded data removed]",
      "text/plain": [
       "<Figure size 936x504 with 2 Axes>"
      ]
     },
     "metadata": {
      "needs_background": "light"
     },
     "output_type": "display_data"
    }
   ],
   "source": [
    "plt.figure(figsize=(13,7))\n",
    "\n",
    "sns.heatmap(cor,annot=True,mask=np.triu(cor,+1),cmap='RdYlGn');"
   ]
  },
  {
   "cell_type": "code",
   "execution_count": 46,
   "id": "e35084df",
   "metadata": {},
   "outputs": [],
   "source": [
    "#there should not be any multicollinearity(correlation in the dependent variables).e.g water has some multicollinearity with\n",
    "#superplasticizer,coarse_aggregate,fine_aggregate,fly_Ash and blast_furnace_slag with cement\n",
    "\n"
   ]
  },
  {
   "cell_type": "code",
   "execution_count": 47,
   "id": "c206a681",
   "metadata": {},
   "outputs": [
    {
     "name": "stderr",
     "output_type": "stream",
     "text": [
      "C:\\Users\\utkar\\anaconda3\\lib\\site-packages\\seaborn\\_decorators.py:36: FutureWarning: Pass the following variable as a keyword arg: x. From version 0.12, the only valid positional argument will be `data`, and passing other arguments without an explicit keyword will result in an error or misinterpretation.\n",
      "  warnings.warn(\n"
     ]
    },
    {
     "data": {
      "image/png": "[encoded data removed]",
      "text/plain": [
       "<Figure size 1368x864 with 1 Axes>"
      ]
     },
     "metadata": {
      "needs_background": "light"
     },
     "output_type": "display_data"
    },
    {
     "name": "stderr",
     "output_type": "stream",
     "text": [
      "C:\\Users\\utkar\\anaconda3\\lib\\site-packages\\seaborn\\_decorators.py:36: FutureWarning: Pass the following variable as a keyword arg: x. From version 0.12, the only valid positional argument will be `data`, and passing other arguments without an explicit keyword will result in an error or misinterpretation.\n",
      "  warnings.warn(\n"
     ]
    },
    {
     "data": {
      "image/png": "[encoded data removed]",
      "text/plain": [
       "<Figure size 1368x864 with 1 Axes>"
      ]
     },
     "metadata": {
      "needs_background": "light"
     },
     "output_type": "display_data"
    },
    {
     "name": "stderr",
     "output_type": "stream",
     "text": [
      "C:\\Users\\utkar\\anaconda3\\lib\\site-packages\\seaborn\\_decorators.py:36: FutureWarning: Pass the following variable as a keyword arg: x. From version 0.12, the only valid positional argument will be `data`, and passing other arguments without an explicit keyword will result in an error or misinterpretation.\n",
      "  warnings.warn(\n"
     ]
    },
    {
     "data": {
      "image/png": "[encoded data removed]",
      "text/plain": [
       "<Figure size 1368x864 with 1 Axes>"
      ]
     },
     "metadata": {
      "needs_background": "light"
     },
     "output_type": "display_data"
    },
    {
     "name": "stderr",
     "output_type": "stream",
     "text": [
      "C:\\Users\\utkar\\anaconda3\\lib\\site-packages\\seaborn\\_decorators.py:36: FutureWarning: Pass the following variable as a keyword arg: x. From version 0.12, the only valid positional argument will be `data`, and passing other arguments without an explicit keyword will result in an error or misinterpretation.\n",
      "  warnings.warn(\n"
     ]
    },
    {
     "data": {
      "image/png": "[encoded data removed]",
      "text/plain": [
       "<Figure size 1368x864 with 1 Axes>"
      ]
     },
     "metadata": {
      "needs_background": "light"
     },
     "output_type": "display_data"
    },
    {
     "name": "stderr",
     "output_type": "stream",
     "text": [
      "C:\\Users\\utkar\\anaconda3\\lib\\site-packages\\seaborn\\_decorators.py:36: FutureWarning: Pass the following variable as a keyword arg: x. From version 0.12, the only valid positional argument will be `data`, and passing other arguments without an explicit keyword will result in an error or misinterpretation.\n",
      "  warnings.warn(\n"
     ]
    },
    {
     "data": {
      "image/png": "[encoded data removed]",
      "text/plain": [
       "<Figure size 1368x864 with 1 Axes>"
      ]
     },
     "metadata": {
      "needs_background": "light"
     },
     "output_type": "display_data"
    },
    {
     "name": "stderr",
     "output_type": "stream",
     "text": [
      "C:\\Users\\utkar\\anaconda3\\lib\\site-packages\\seaborn\\_decorators.py:36: FutureWarning: Pass the following variable as a keyword arg: x. From version 0.12, the only valid positional argument will be `data`, and passing other arguments without an explicit keyword will result in an error or misinterpretation.\n",
      "  warnings.warn(\n"
     ]
    },
    {
     "data": {
      "image/png": "[encoded data removed]",
      "text/plain": [
       "<Figure size 1368x864 with 1 Axes>"
      ]
     },
     "metadata": {
      "needs_background": "light"
     },
     "output_type": "display_data"
    },
    {
     "name": "stderr",
     "output_type": "stream",
     "text": [
      "C:\\Users\\utkar\\anaconda3\\lib\\site-packages\\seaborn\\_decorators.py:36: FutureWarning: Pass the following variable as a keyword arg: x. From version 0.12, the only valid positional argument will be `data`, and passing other arguments without an explicit keyword will result in an error or misinterpretation.\n",
      "  warnings.warn(\n"
     ]
    },
    {
     "data": {
      "image/png": "[encoded data removed]",
      "text/plain": [
       "<Figure size 1368x864 with 1 Axes>"
      ]
     },
     "metadata": {
      "needs_background": "light"
     },
     "output_type": "display_data"
    },
    {
     "name": "stderr",
     "output_type": "stream",
     "text": [
      "C:\\Users\\utkar\\anaconda3\\lib\\site-packages\\seaborn\\_decorators.py:36: FutureWarning: Pass the following variable as a keyword arg: x. From version 0.12, the only valid positional argument will be `data`, and passing other arguments without an explicit keyword will result in an error or misinterpretation.\n",
      "  warnings.warn(\n"
     ]
    },
    {
     "data": {
      "image/png": "[encoded data removed]",
      "text/plain": [
       "<Figure size 1368x864 with 1 Axes>"
      ]
     },
     "metadata": {
      "needs_background": "light"
     },
     "output_type": "display_data"
    },
    {
     "name": "stderr",
     "output_type": "stream",
     "text": [
      "C:\\Users\\utkar\\anaconda3\\lib\\site-packages\\seaborn\\_decorators.py:36: FutureWarning: Pass the following variable as a keyword arg: x. From version 0.12, the only valid positional argument will be `data`, and passing other arguments without an explicit keyword will result in an error or misinterpretation.\n",
      "  warnings.warn(\n"
     ]
    },
    {
     "data": {
      "image/png": "[encoded data removed]",
      "text/plain": [
       "<Figure size 1368x864 with 1 Axes>"
      ]
     },
     "metadata": {
      "needs_background": "light"
     },
     "output_type": "display_data"
    }
   ],
   "source": [
    "for i in df:\n",
    "    sns.boxplot(df[i])\n",
    "    plt.show()"
   ]
  },
  {
   "cell_type": "code",
   "execution_count": 48,
   "id": "52144915",
   "metadata": {},
   "outputs": [],
   "source": [
    "#other assumption is that there should not be any outliers but here we're not treating them now as our main focus is only \n",
    "#building model.you can treat using IQR FORMULA"
   ]
  },
  {
   "cell_type": "code",
   "execution_count": 49,
   "id": "3ab27d4b",
   "metadata": {
    "scrolled": true
   },
   "outputs": [
    {
     "data": {
      "image/png": "[encoded data removed]",
      "text/plain": [
       "<Figure size 1368x864 with 9 Axes>"
      ]
     },
     "metadata": {
      "needs_background": "light"
     },
     "output_type": "display_data"
    }
   ],
   "source": [
    "df.iloc[:,0:8].hist();"
   ]
  },
  {
   "cell_type": "markdown",
   "id": "8e411e67",
   "metadata": {},
   "source": [
    "## 3. From the heat map evident relationships between predictors are present . Therefore Check for multicolinearity "
   ]
  },
  {
   "cell_type": "markdown",
   "id": "8f2c9f54",
   "metadata": {},
   "source": [
    "There should not be any multicollinearity.If there's any correlation in the independent variables,we call it Multicollinearity.\n",
    "From the correlation plot,we can see Superplasticizer has correlation with water(-0.66),Fine_Aggregate is having -0.45 with water.Age is \n",
    "having 0.28 with water. Coarse_Aggregate and Fine_Aggregate has multicollinearity with Blast_Furnace_Slag.Blast_Furnace_Slag and \n",
    "Fly_Ash with Cement.Here,we are considering above 0.3.If multicollinearity is affecting model performance ,you need to treat \n",
    "them.\n"
   ]
  },
  {
   "cell_type": "markdown",
   "id": "eaee3a6f",
   "metadata": {},
   "source": [
    "A variance inflation factor(VIF) detects multicollinearity in regression analysis. Multicollinearity is when there’s correlation between predictors (i.e. independent variables) in a model; it’s presence can adversely affect your regression results. The VIF estimates how much the variance of a regression coefficient is inflated due to multicollinearity in the\n",
    "model"
   ]
  },
  {
   "cell_type": "markdown",
   "id": "1d339ab2",
   "metadata": {},
   "source": [
    "Multicollinearity is the occurrence of high intercorrelations among two or more independent variables in a multiple regression model. Multicollinearity can lead to skewed or misleading results when a researcher or analyst attempts to determine how well each independent variable can be used most effectively to predict or understand the dependent variable in a statistical model.\n",
    "\n",
    "In general, multicollinearity can lead to wider confidence intervals that produce less reliable probabilities in terms of the effect of independent variables in a model.\n",
    "\n"
   ]
  },
  {
   "cell_type": "markdown",
   "id": "49018063",
   "metadata": {},
   "source": [
    "Variance inflation factor (VIF) measures the degree of multicollinearity or collinearity in the regression model."
   ]
  },
  {
   "cell_type": "markdown",
   "id": "e9b0c6a5",
   "metadata": {},
   "source": [
    "Generally, a VIF above 4 or tolerance below 0.25 indicates that multicollinearity might exist, and further investigation is required. When VIF is higher than 10 or tolerance is lower than 0.1, there is significant multicollinearity that needs to be corrected."
   ]
  },
  {
   "cell_type": "markdown",
   "id": "51a3a620",
   "metadata": {},
   "source": [
    "V\n",
    "I\n",
    "F\n",
    "i\n",
    "=\n",
    "1\n",
    "(\n",
    "1\n",
    "−\n",
    "R\n",
    "2\n",
    "i)"
   ]
  },
  {
   "cell_type": "markdown",
   "id": "23f4d094",
   "metadata": {},
   "source": [
    "Where \n",
    "R\n",
    "i\n",
    " = multiple correlation coefficient between \n",
    "X\n",
    "i\n",
    " and remaining independent variables (p-1)\n",
    "\n",
    "i = 1,..., p (independent variables)\n",
    "\n",
    "When \n",
    "R\n",
    "2\n",
    "i\n",
    " = 0, there is a complete absence of multicollinearity, but when \n",
    "R\n",
    "2\n",
    "i\n",
    " = 1, there is exact multicollinearity"
   ]
  },
  {
   "cell_type": "code",
   "execution_count": 50,
   "id": "1520aa74",
   "metadata": {},
   "outputs": [],
   "source": [
    "#check for Multicolinearity \n",
    "import statsmodels.formula.api as SM\n",
    "def vif_cal(input_data):\n",
    "    x_vars=input_data \n",
    "    xvar_names=input_data.columns\n",
    "    for i in range(0,xvar_names.shape[0]):\n",
    "        y=x_vars[xvar_names[i]] \n",
    "        x=x_vars[xvar_names.drop(xvar_names[i])]\n",
    "        rsq=SM.ols(formula=\"y~x\", data=x_vars).fit().rsquared  \n",
    "        vif=round(1/(1-rsq),2)\n",
    "        print (xvar_names[i], \" VIF = \" , vif)"
   ]
  },
  {
   "cell_type": "code",
   "execution_count": 51,
   "id": "8af0b99d",
   "metadata": {},
   "outputs": [
    {
     "name": "stdout",
     "output_type": "stream",
     "text": [
      "Cement  VIF =  7.45\n",
      "Blast_Furnace_Slag  VIF =  7.26\n",
      "Fly_Ash  VIF =  6.08\n",
      "Water  VIF =  6.84\n",
      "Superplasticizer  VIF =  2.87\n",
      "Coarse_Aggregate  VIF =  4.96\n",
      "Fine_Aggregate  VIF =  6.97\n",
      "Age  VIF =  1.12\n"
     ]
    }
   ],
   "source": [
    "vif_cal(input_data=df[['Cement', 'Blast_Furnace_Slag', 'Fly_Ash', 'Water', 'Superplasticizer',\n",
    "       'Coarse_Aggregate', 'Fine_Aggregate', 'Age']])\n",
    "#while checking multicollinearity using VIF,add only independent variables in your df"
   ]
  },
  {
   "cell_type": "markdown",
   "id": "097d63a0",
   "metadata": {},
   "source": [
    "##### Multicolinearity exists as VIF>5 "
   ]
  },
  {
   "cell_type": "code",
   "execution_count": 52,
   "id": "d9c48a47",
   "metadata": {},
   "outputs": [],
   "source": [
    "#you can ignore VIF<5"
   ]
  },
  {
   "cell_type": "markdown",
   "id": "79f41d7d",
   "metadata": {},
   "source": [
    "We've completed EDA."
   ]
  },
  {
   "cell_type": "code",
   "execution_count": 53,
   "id": "7f753596",
   "metadata": {},
   "outputs": [],
   "source": [
    "#build the model first with all the features and then check if you need to treat VIF or not.Don't make a call just looking ar VIF\n",
    "#coz if you remove \"Cement\" here,it'll not be good.as \"Cement\" has 0.49 correlation with concrete compressive strength means approx \n",
    "#50% variation in it is explained by \"cement\" only."
   ]
  },
  {
   "cell_type": "markdown",
   "id": "455e7bae",
   "metadata": {},
   "source": [
    "## 4.Building a base model with all the features "
   ]
  },
  {
   "cell_type": "markdown",
   "id": "34893d51",
   "metadata": {},
   "source": [
    "Whenever you're building linear regression model,first build using \"Statsmodels\".The reason behind is that it has a very good ols \n",
    "result which is going to be in summary format.In SKLEARN,we will not get summary."
   ]
  },
  {
   "cell_type": "code",
   "execution_count": 58,
   "id": "15ac5108",
   "metadata": {},
   "outputs": [],
   "source": [
    "import statsmodels.formula.api as SM"
   ]
  },
  {
   "cell_type": "code",
   "execution_count": 59,
   "id": "7db9c576",
   "metadata": {},
   "outputs": [
    {
     "data": {
      "text/plain": [
       "Index(['Cement', 'Blast_Furnace_Slag', 'Fly_Ash', 'Water', 'Superplasticizer',\n",
       "       'Coarse_Aggregate', 'Fine_Aggregate', 'Age',\n",
       "       'Concrete_compressive_strength'],\n",
       "      dtype='object')"
      ]
     },
     "execution_count": 59,
     "metadata": {},
     "output_type": "execute_result"
    }
   ],
   "source": [
    "df.columns"
   ]
  },
  {
   "cell_type": "code",
   "execution_count": 60,
   "id": "82e10416",
   "metadata": {},
   "outputs": [],
   "source": [
    "#Base Model \n",
    "f_1 = 'Concrete_compressive_strength~Cement+Blast_Furnace_Slag+Fly_Ash+Water+Superplasticizer+Coarse_Aggregate+Fine_Aggregate+Age'"
   ]
  },
  {
   "cell_type": "code",
   "execution_count": 61,
   "id": "a673ae80",
   "metadata": {},
   "outputs": [
    {
     "data": {
      "text/html": [
       "<table class=\"simpletable\">\n",
       "<caption>OLS Regression Results</caption>\n",
       "<tr>\n",
       "  <th>Dep. Variable:</th>    <td>Concrete_compressive_strength</td> <th>  R-squared:         </th> <td>   0.604</td> \n",
       "</tr>\n",
       "<tr>\n",
       "  <th>Model:</th>                         <td>OLS</td>              <th>  Adj. R-squared:    </th> <td>   0.601</td> \n",
       "</tr>\n",
       "<tr>\n",
       "  <th>Method:</th>                   <td>Least Squares</td>         <th>  F-statistic:       </th> <td>   189.8</td> \n",
       "</tr>\n",
       "<tr>\n",
       "  <th>Date:</th>                   <td>Tue, 03 Jan 2023</td>        <th>  Prob (F-statistic):</th> <td>2.40e-194</td>\n",
       "</tr>\n",
       "<tr>\n",
       "  <th>Time:</th>                       <td>15:48:42</td>            <th>  Log-Likelihood:    </th> <td> -3764.4</td> \n",
       "</tr>\n",
       "<tr>\n",
       "  <th>No. Observations:</th>            <td>  1005</td>             <th>  AIC:               </th> <td>   7547.</td> \n",
       "</tr>\n",
       "<tr>\n",
       "  <th>Df Residuals:</th>                <td>   996</td>             <th>  BIC:               </th> <td>   7591.</td> \n",
       "</tr>\n",
       "<tr>\n",
       "  <th>Df Model:</th>                    <td>     8</td>             <th>                     </th>     <td> </td>    \n",
       "</tr>\n",
       "<tr>\n",
       "  <th>Covariance Type:</th>            <td>nonrobust</td>           <th>                     </th>     <td> </td>    \n",
       "</tr>\n",
       "</table>\n",
       "<table class=\"simpletable\">\n",
       "<tr>\n",
       "           <td></td>             <th>coef</th>     <th>std err</th>      <th>t</th>      <th>P>|t|</th>  <th>[0.025</th>    <th>0.975]</th>  \n",
       "</tr>\n",
       "<tr>\n",
       "  <th>Intercept</th>          <td>  -17.9198</td> <td>   26.416</td> <td>   -0.678</td> <td> 0.498</td> <td>  -69.758</td> <td>   33.918</td>\n",
       "</tr>\n",
       "<tr>\n",
       "  <th>Cement</th>             <td>    0.1172</td> <td>    0.008</td> <td>   13.802</td> <td> 0.000</td> <td>    0.101</td> <td>    0.134</td>\n",
       "</tr>\n",
       "<tr>\n",
       "  <th>Blast_Furnace_Slag</th> <td>    0.0995</td> <td>    0.010</td> <td>    9.793</td> <td> 0.000</td> <td>    0.080</td> <td>    0.119</td>\n",
       "</tr>\n",
       "<tr>\n",
       "  <th>Fly_Ash</th>            <td>    0.0856</td> <td>    0.012</td> <td>    6.863</td> <td> 0.000</td> <td>    0.061</td> <td>    0.110</td>\n",
       "</tr>\n",
       "<tr>\n",
       "  <th>Water</th>              <td>   -0.1522</td> <td>    0.040</td> <td>   -3.825</td> <td> 0.000</td> <td>   -0.230</td> <td>   -0.074</td>\n",
       "</tr>\n",
       "<tr>\n",
       "  <th>Superplasticizer</th>   <td>    0.2849</td> <td>    0.093</td> <td>    3.067</td> <td> 0.002</td> <td>    0.103</td> <td>    0.467</td>\n",
       "</tr>\n",
       "<tr>\n",
       "  <th>Coarse_Aggregate</th>   <td>    0.0157</td> <td>    0.009</td> <td>    1.682</td> <td> 0.093</td> <td>   -0.003</td> <td>    0.034</td>\n",
       "</tr>\n",
       "<tr>\n",
       "  <th>Fine_Aggregate</th>     <td>    0.0183</td> <td>    0.011</td> <td>    1.717</td> <td> 0.086</td> <td>   -0.003</td> <td>    0.039</td>\n",
       "</tr>\n",
       "<tr>\n",
       "  <th>Age</th>                <td>    0.1122</td> <td>    0.005</td> <td>   20.801</td> <td> 0.000</td> <td>    0.102</td> <td>    0.123</td>\n",
       "</tr>\n",
       "</table>\n",
       "<table class=\"simpletable\">\n",
       "<tr>\n",
       "  <th>Omnibus:</th>       <td> 4.033</td> <th>  Durbin-Watson:     </th> <td>   1.329</td>\n",
       "</tr>\n",
       "<tr>\n",
       "  <th>Prob(Omnibus):</th> <td> 0.133</td> <th>  Jarque-Bera (JB):  </th> <td>   3.922</td>\n",
       "</tr>\n",
       "<tr>\n",
       "  <th>Skew:</th>          <td>-0.150</td> <th>  Prob(JB):          </th> <td>   0.141</td>\n",
       "</tr>\n",
       "<tr>\n",
       "  <th>Kurtosis:</th>      <td> 3.062</td> <th>  Cond. No.          </th> <td>1.05e+05</td>\n",
       "</tr>\n",
       "</table><br/><br/>Notes:<br/>[1] Standard Errors assume that the covariance matrix of the errors is correctly specified.<br/>[2] The condition number is large, 1.05e+05. This might indicate that there are<br/>strong multicollinearity or other numerical problems."
      ],
      "text/plain": [
       "<class 'statsmodels.iolib.summary.Summary'>\n",
       "\"\"\"\n",
       "                                  OLS Regression Results                                 \n",
       "=========================================================================================\n",
       "Dep. Variable:     Concrete_compressive_strength   R-squared:                       0.604\n",
       "Model:                                       OLS   Adj. R-squared:                  0.601\n",
       "Method:                            Least Squares   F-statistic:                     189.8\n",
       "Date:                           Tue, 03 Jan 2023   Prob (F-statistic):          2.40e-194\n",
       "Time:                                   15:48:42   Log-Likelihood:                -3764.4\n",
       "No. Observations:                           1005   AIC:                             7547.\n",
       "Df Residuals:                                996   BIC:                             7591.\n",
       "Df Model:                                      8                                         \n",
       "Covariance Type:                       nonrobust                                         \n",
       "======================================================================================\n",
       "                         coef    std err          t      P>|t|      [0.025      0.975]\n",
       "--------------------------------------------------------------------------------------\n",
       "Intercept            -17.9198     26.416     -0.678      0.498     -69.758      33.918\n",
       "Cement                 0.1172      0.008     13.802      0.000       0.101       0.134\n",
       "Blast_Furnace_Slag     0.0995      0.010      9.793      0.000       0.080       0.119\n",
       "Fly_Ash                0.0856      0.012      6.863      0.000       0.061       0.110\n",
       "Water                 -0.1522      0.040     -3.825      0.000      -0.230      -0.074\n",
       "Superplasticizer       0.2849      0.093      3.067      0.002       0.103       0.467\n",
       "Coarse_Aggregate       0.0157      0.009      1.682      0.093      -0.003       0.034\n",
       "Fine_Aggregate         0.0183      0.011      1.717      0.086      -0.003       0.039\n",
       "Age                    0.1122      0.005     20.801      0.000       0.102       0.123\n",
       "==============================================================================\n",
       "Omnibus:                        4.033   Durbin-Watson:                   1.329\n",
       "Prob(Omnibus):                  0.133   Jarque-Bera (JB):                3.922\n",
       "Skew:                          -0.150   Prob(JB):                        0.141\n",
       "Kurtosis:                       3.062   Cond. No.                     1.05e+05\n",
       "==============================================================================\n",
       "\n",
       "Notes:\n",
       "[1] Standard Errors assume that the covariance matrix of the errors is correctly specified.\n",
       "[2] The condition number is large, 1.05e+05. This might indicate that there are\n",
       "strong multicollinearity or other numerical problems.\n",
       "\"\"\""
      ]
     },
     "execution_count": 61,
     "metadata": {},
     "output_type": "execute_result"
    }
   ],
   "source": [
    "model_1 = SM.ols(f_1,data=df).fit()\n",
    "model_1.summary()"
   ]
  },
  {
   "cell_type": "markdown",
   "id": "8af91f42",
   "metadata": {},
   "source": [
    "#ANOVA(prob F-stat):\n",
    "null hypothesis: \n",
    "none of the independent variables have a relation with the dependent variable(all betas are zero)\n",
    "\n",
    "alternate hypothesis: at least one of the independent variables is having relation with dependent variable.\n",
    "      (any one of the betas is non zero)\n",
    "      beta=regression coefficients"
   ]
  },
  {
   "cell_type": "markdown",
   "id": "b0fb5050",
   "metadata": {},
   "source": [
    "#ttest : to check which variable is having higher relation with your target variable\n",
    "\n",
    "null: beta=0\n",
    "\n",
    "alternate: beta<>0"
   ]
  },
  {
   "cell_type": "markdown",
   "id": "509c1e47",
   "metadata": {},
   "source": [
    "Here pvalue i.e  prob(f-stat)=2.40e-194 which is <0.05.we'll reject null hypothesis.it means at least one of the independent variables is having relation with dependent variable."
   ]
  },
  {
   "cell_type": "markdown",
   "id": "383b70c8",
   "metadata": {},
   "source": [
    "From P>|t| column ,we can say Coarse_Aggregate\t,fine_Aggregate\t are not significant to the model as their p values are greater than 0.05.\"Intercept\" is also not significant.these are statistically insignificant variables. even if we remove them,the model performance will not be affected"
   ]
  },
  {
   "cell_type": "code",
   "execution_count": 62,
   "id": "83693138",
   "metadata": {},
   "outputs": [],
   "source": [
    "#checking model performance by removing \"coarse_aggregate\" and \"fine_aggregate\" columns.\n",
    "formula = 'Concrete_compressive_strength~Cement+Blast_Furnace_Slag+Fly_Ash+Water+Superplasticizer+Age'"
   ]
  },
  {
   "cell_type": "code",
   "execution_count": 63,
   "id": "1eb287cf",
   "metadata": {},
   "outputs": [
    {
     "data": {
      "text/html": [
       "<table class=\"simpletable\">\n",
       "<caption>OLS Regression Results</caption>\n",
       "<tr>\n",
       "  <th>Dep. Variable:</th>    <td>Concrete_compressive_strength</td> <th>  R-squared:         </th> <td>   0.603</td> \n",
       "</tr>\n",
       "<tr>\n",
       "  <th>Model:</th>                         <td>OLS</td>              <th>  Adj. R-squared:    </th> <td>   0.600</td> \n",
       "</tr>\n",
       "<tr>\n",
       "  <th>Method:</th>                   <td>Least Squares</td>         <th>  F-statistic:       </th> <td>   252.2</td> \n",
       "</tr>\n",
       "<tr>\n",
       "  <th>Date:</th>                   <td>Tue, 03 Jan 2023</td>        <th>  Prob (F-statistic):</th> <td>4.58e-196</td>\n",
       "</tr>\n",
       "<tr>\n",
       "  <th>Time:</th>                       <td>16:00:36</td>            <th>  Log-Likelihood:    </th> <td> -3766.0</td> \n",
       "</tr>\n",
       "<tr>\n",
       "  <th>No. Observations:</th>            <td>  1005</td>             <th>  AIC:               </th> <td>   7546.</td> \n",
       "</tr>\n",
       "<tr>\n",
       "  <th>Df Residuals:</th>                <td>   998</td>             <th>  BIC:               </th> <td>   7580.</td> \n",
       "</tr>\n",
       "<tr>\n",
       "  <th>Df Model:</th>                    <td>     6</td>             <th>                     </th>     <td> </td>    \n",
       "</tr>\n",
       "<tr>\n",
       "  <th>Covariance Type:</th>            <td>nonrobust</td>           <th>                     </th>     <td> </td>    \n",
       "</tr>\n",
       "</table>\n",
       "<table class=\"simpletable\">\n",
       "<tr>\n",
       "           <td></td>             <th>coef</th>     <th>std err</th>      <th>t</th>      <th>P>|t|</th>  <th>[0.025</th>    <th>0.975]</th>  \n",
       "</tr>\n",
       "<tr>\n",
       "  <th>Intercept</th>          <td>   28.4673</td> <td>    4.171</td> <td>    6.824</td> <td> 0.000</td> <td>   20.281</td> <td>   36.653</td>\n",
       "</tr>\n",
       "<tr>\n",
       "  <th>Cement</th>             <td>    0.1042</td> <td>    0.004</td> <td>   24.666</td> <td> 0.000</td> <td>    0.096</td> <td>    0.113</td>\n",
       "</tr>\n",
       "<tr>\n",
       "  <th>Blast_Furnace_Slag</th> <td>    0.0838</td> <td>    0.005</td> <td>   16.827</td> <td> 0.000</td> <td>    0.074</td> <td>    0.094</td>\n",
       "</tr>\n",
       "<tr>\n",
       "  <th>Fly_Ash</th>            <td>    0.0684</td> <td>    0.008</td> <td>    8.882</td> <td> 0.000</td> <td>    0.053</td> <td>    0.083</td>\n",
       "</tr>\n",
       "<tr>\n",
       "  <th>Water</th>              <td>   -0.2123</td> <td>    0.021</td> <td>  -10.134</td> <td> 0.000</td> <td>   -0.253</td> <td>   -0.171</td>\n",
       "</tr>\n",
       "<tr>\n",
       "  <th>Superplasticizer</th>   <td>    0.2414</td> <td>    0.084</td> <td>    2.860</td> <td> 0.004</td> <td>    0.076</td> <td>    0.407</td>\n",
       "</tr>\n",
       "<tr>\n",
       "  <th>Age</th>                <td>    0.1115</td> <td>    0.005</td> <td>   20.759</td> <td> 0.000</td> <td>    0.101</td> <td>    0.122</td>\n",
       "</tr>\n",
       "</table>\n",
       "<table class=\"simpletable\">\n",
       "<tr>\n",
       "  <th>Omnibus:</th>       <td> 3.928</td> <th>  Durbin-Watson:     </th> <td>   1.334</td>\n",
       "</tr>\n",
       "<tr>\n",
       "  <th>Prob(Omnibus):</th> <td> 0.140</td> <th>  Jarque-Bera (JB):  </th> <td>   3.850</td>\n",
       "</tr>\n",
       "<tr>\n",
       "  <th>Skew:</th>          <td>-0.151</td> <th>  Prob(JB):          </th> <td>   0.146</td>\n",
       "</tr>\n",
       "<tr>\n",
       "  <th>Kurtosis:</th>      <td> 3.035</td> <th>  Cond. No.          </th> <td>4.58e+03</td>\n",
       "</tr>\n",
       "</table><br/><br/>Notes:<br/>[1] Standard Errors assume that the covariance matrix of the errors is correctly specified.<br/>[2] The condition number is large, 4.58e+03. This might indicate that there are<br/>strong multicollinearity or other numerical problems."
      ],
      "text/plain": [
       "<class 'statsmodels.iolib.summary.Summary'>\n",
       "\"\"\"\n",
       "                                  OLS Regression Results                                 \n",
       "=========================================================================================\n",
       "Dep. Variable:     Concrete_compressive_strength   R-squared:                       0.603\n",
       "Model:                                       OLS   Adj. R-squared:                  0.600\n",
       "Method:                            Least Squares   F-statistic:                     252.2\n",
       "Date:                           Tue, 03 Jan 2023   Prob (F-statistic):          4.58e-196\n",
       "Time:                                   16:00:36   Log-Likelihood:                -3766.0\n",
       "No. Observations:                           1005   AIC:                             7546.\n",
       "Df Residuals:                                998   BIC:                             7580.\n",
       "Df Model:                                      6                                         \n",
       "Covariance Type:                       nonrobust                                         \n",
       "======================================================================================\n",
       "                         coef    std err          t      P>|t|      [0.025      0.975]\n",
       "--------------------------------------------------------------------------------------\n",
       "Intercept             28.4673      4.171      6.824      0.000      20.281      36.653\n",
       "Cement                 0.1042      0.004     24.666      0.000       0.096       0.113\n",
       "Blast_Furnace_Slag     0.0838      0.005     16.827      0.000       0.074       0.094\n",
       "Fly_Ash                0.0684      0.008      8.882      0.000       0.053       0.083\n",
       "Water                 -0.2123      0.021    -10.134      0.000      -0.253      -0.171\n",
       "Superplasticizer       0.2414      0.084      2.860      0.004       0.076       0.407\n",
       "Age                    0.1115      0.005     20.759      0.000       0.101       0.122\n",
       "==============================================================================\n",
       "Omnibus:                        3.928   Durbin-Watson:                   1.334\n",
       "Prob(Omnibus):                  0.140   Jarque-Bera (JB):                3.850\n",
       "Skew:                          -0.151   Prob(JB):                        0.146\n",
       "Kurtosis:                       3.035   Cond. No.                     4.58e+03\n",
       "==============================================================================\n",
       "\n",
       "Notes:\n",
       "[1] Standard Errors assume that the covariance matrix of the errors is correctly specified.\n",
       "[2] The condition number is large, 4.58e+03. This might indicate that there are\n",
       "strong multicollinearity or other numerical problems.\n",
       "\"\"\""
      ]
     },
     "execution_count": 63,
     "metadata": {},
     "output_type": "execute_result"
    }
   ],
   "source": [
    "sm_model = SM.ols(formula=formula,data=df).fit()\n",
    "sm_model.summary()"
   ]
  },
  {
   "cell_type": "markdown",
   "id": "95bdf935",
   "metadata": {},
   "source": [
    "R square=0.603 again which remains the same,\n",
    "\n",
    "pvalue<0.05 again means we'll reject null hypothesis.means at least one of the independent variable is having relation with dependent variable.\n",
    "\n",
    "\"intercept \" become significant now."
   ]
  },
  {
   "cell_type": "markdown",
   "id": "69f5e935",
   "metadata": {},
   "source": [
    "If we're dropping insignificant variables,there will not be affect on model performance while if we drop significant variables,model \n",
    "will get affected.R square is used to check model performance."
   ]
  },
  {
   "cell_type": "code",
   "execution_count": 64,
   "id": "b9010b34",
   "metadata": {},
   "outputs": [
    {
     "data": {
      "text/plain": [
       "Index(['Cement', 'Blast_Furnace_Slag', 'Fly_Ash', 'Water', 'Superplasticizer',\n",
       "       'Coarse_Aggregate', 'Fine_Aggregate', 'Age',\n",
       "       'Concrete_compressive_strength'],\n",
       "      dtype='object')"
      ]
     },
     "execution_count": 64,
     "metadata": {},
     "output_type": "execute_result"
    }
   ],
   "source": [
    "df.columns"
   ]
  },
  {
   "cell_type": "code",
   "execution_count": 65,
   "id": "4838dd70",
   "metadata": {},
   "outputs": [],
   "source": [
    "columns=['Cement', 'Blast_Furnace_Slag', 'Fly_Ash', 'Water', 'Superplasticizer', 'Age']            "
   ]
  },
  {
   "cell_type": "code",
   "execution_count": 66,
   "id": "076d50ae",
   "metadata": {
    "scrolled": true
   },
   "outputs": [
    {
     "name": "stdout",
     "output_type": "stream",
     "text": [
      "Cement  VIF =  1.84\n",
      "Blast_Furnace_Slag  VIF =  1.74\n",
      "Fly_Ash  VIF =  2.31\n",
      "Water  VIF =  1.89\n",
      "Superplasticizer  VIF =  2.37\n",
      "Age  VIF =  1.11\n"
     ]
    }
   ],
   "source": [
    "vif_cal(df[columns])"
   ]
  },
  {
   "cell_type": "markdown",
   "id": "dbcda3db",
   "metadata": {},
   "source": [
    "Multicollinearity affects the model results.the first step in treating multicollinearity is build the model as it is and then\n",
    "remove the statistically insignificant variables.Then check VIF again with the significant variables .Here we can see all variables\n",
    "have VIF<5.Even if there's multicollinearity it's not affecting my model performance."
   ]
  },
  {
   "cell_type": "markdown",
   "id": "41ad64de",
   "metadata": {},
   "source": [
    "# IF WE WANT TO BUILD USING SKLEARN"
   ]
  },
  {
   "cell_type": "code",
   "execution_count": 148,
   "id": "1ccaec39",
   "metadata": {},
   "outputs": [],
   "source": [
    "X=df[columns] #the columns i selected for the model\n",
    "Y=df[\"Concrete_compressive_strength\"]#dependent variable\n"
   ]
  },
  {
   "cell_type": "code",
   "execution_count": 149,
   "id": "442dab84",
   "metadata": {},
   "outputs": [],
   "source": [
    "from sklearn.model_selection import train_test_split"
   ]
  },
  {
   "cell_type": "code",
   "execution_count": 150,
   "id": "56cdf0fc",
   "metadata": {},
   "outputs": [],
   "source": [
    "X_train, X_test, Y_train, Y_test = train_test_split(X,Y,test_size=0.2,random_state=111)"
   ]
  },
  {
   "cell_type": "code",
   "execution_count": 151,
   "id": "127e8473",
   "metadata": {},
   "outputs": [
    {
     "data": {
      "text/plain": [
       "(804, 6)"
      ]
     },
     "execution_count": 151,
     "metadata": {},
     "output_type": "execute_result"
    }
   ],
   "source": [
    "X_train.shape"
   ]
  },
  {
   "cell_type": "code",
   "execution_count": 152,
   "id": "cffab969",
   "metadata": {},
   "outputs": [
    {
     "data": {
      "text/plain": [
       "(201, 6)"
      ]
     },
     "execution_count": 152,
     "metadata": {},
     "output_type": "execute_result"
    }
   ],
   "source": [
    "X_test.shape"
   ]
  },
  {
   "cell_type": "code",
   "execution_count": 153,
   "id": "7bead93a",
   "metadata": {},
   "outputs": [],
   "source": [
    "from sklearn.linear_model import LinearRegression\n",
    "lr_model = LinearRegression()"
   ]
  },
  {
   "cell_type": "code",
   "execution_count": 154,
   "id": "f3bf5d71",
   "metadata": {},
   "outputs": [
    {
     "data": {
      "text/plain": [
       "LinearRegression()"
      ]
     },
     "execution_count": 154,
     "metadata": {},
     "output_type": "execute_result"
    }
   ],
   "source": [
    "lr_model.fit(X_train,Y_train)"
   ]
  },
  {
   "cell_type": "code",
   "execution_count": 155,
   "id": "98c24c54",
   "metadata": {},
   "outputs": [
    {
     "data": {
      "text/plain": [
       "0.599101309404614"
      ]
     },
     "execution_count": 155,
     "metadata": {},
     "output_type": "execute_result"
    }
   ],
   "source": [
    "lr_model.score(X_train,Y_train)     #r square for training data"
   ]
  },
  {
   "cell_type": "code",
   "execution_count": 156,
   "id": "2bae3146",
   "metadata": {},
   "outputs": [
    {
     "data": {
      "text/plain": [
       "0.6090990300043568"
      ]
     },
     "execution_count": 156,
     "metadata": {},
     "output_type": "execute_result"
    }
   ],
   "source": [
    "lr_model.score(X_test,Y_test)        ##r square for test data"
   ]
  },
  {
   "cell_type": "markdown",
   "id": "717cf9e3",
   "metadata": {},
   "source": [
    "Predicting for future values will be very easy if we get beta0,beta1,beta2..................."
   ]
  },
  {
   "cell_type": "code",
   "execution_count": 157,
   "id": "d5e52454",
   "metadata": {},
   "outputs": [
    {
     "data": {
      "text/plain": [
       "array([ 0.10144839,  0.08065062,  0.06521921, -0.20503973,  0.25534825,\n",
       "        0.1105488 ])"
      ]
     },
     "execution_count": 157,
     "metadata": {},
     "output_type": "execute_result"
    }
   ],
   "source": [
    "lr_model.coef_     #regression coefficients i.e beta1,beta2........."
   ]
  },
  {
   "cell_type": "code",
   "execution_count": 158,
   "id": "6594677c",
   "metadata": {},
   "outputs": [
    {
     "data": {
      "text/plain": [
       "27.814255742427292"
      ]
     },
     "execution_count": 158,
     "metadata": {},
     "output_type": "execute_result"
    }
   ],
   "source": [
    "lr_model.intercept_ #beta0"
   ]
  },
  {
   "cell_type": "code",
   "execution_count": 159,
   "id": "c07b5d04",
   "metadata": {},
   "outputs": [
    {
     "data": {
      "text/plain": [
       "['Cement', 'Blast_Furnace_Slag', 'Fly_Ash', 'Water', 'Superplasticizer', 'Age']"
      ]
     },
     "execution_count": 159,
     "metadata": {},
     "output_type": "execute_result"
    }
   ],
   "source": [
    "columns"
   ]
  },
  {
   "cell_type": "markdown",
   "id": "36ccda0d",
   "metadata": {},
   "source": [
    "Concrete_compressive_strength(pred)=27.814255742427292+0.10144839* Cement + 0.08065062* Blast_Furnace_Slag'+0.06521921* Fly_Ash\n",
    "-0.20503973* Water +0.25534825* Superplasticizer'+ 0.1105488 * Age"
   ]
  },
  {
   "cell_type": "code",
   "execution_count": 160,
   "id": "f3faece1",
   "metadata": {},
   "outputs": [
    {
     "data": {
      "text/plain": [
       "11     28.02\n",
       "524    25.57\n",
       "583    18.42\n",
       "371    49.25\n",
       "49     32.82\n",
       "       ...  \n",
       "86     40.60\n",
       "724    33.21\n",
       "980    33.40\n",
       "876    29.87\n",
       "852    31.42\n",
       "Name: Concrete_compressive_strength, Length: 804, dtype: float64"
      ]
     },
     "execution_count": 160,
     "metadata": {},
     "output_type": "execute_result"
    }
   ],
   "source": [
    "Y_train #actual values for train dataset"
   ]
  },
  {
   "cell_type": "code",
   "execution_count": 161,
   "id": "ad50c16b",
   "metadata": {},
   "outputs": [],
   "source": [
    "#28.02 is the actual  value for my 11th observation and so on"
   ]
  },
  {
   "cell_type": "code",
   "execution_count": 162,
   "id": "28ff3a46",
   "metadata": {
    "scrolled": false
   },
   "outputs": [
    {
     "data": {
      "text/plain": [
       "array([22.36778657, 20.86057877, 15.07373447, 28.37187593, 28.05123649,\n",
       "       33.80150804, 25.0164156 , 27.97752124, 39.42479486, 30.20878552,\n",
       "       17.26256462, 25.69742333, 29.86157636, 42.6537987 , 63.6496844 ,\n",
       "       44.21249695, 22.56058803, 46.94351711, 30.0298125 , 62.22093654,\n",
       "       53.81880643, 33.16148475, 33.75768922, 62.30257181, 31.62496076,\n",
       "       33.21820096, 20.61662633, 29.76103037, 44.67483598, 19.41065182,\n",
       "       36.57111641, 26.94748235, 27.36827656, 27.47065201, 34.63205605,\n",
       "       24.51035208, 23.80037879, 47.72999388, 24.9235136 , 41.61071758,\n",
       "       21.92776015, 23.8413036 , 31.97543696, 33.67078807, 18.44946275,\n",
       "       35.21847129, 29.70039007, 67.62770737, 61.38217649, 32.45475126,\n",
       "       32.10352066, 52.36040838, 31.69735727, 27.11341908, 20.22727499,\n",
       "       29.31622902, 49.37400973, 30.79955236, 53.33459266, 22.08058263,\n",
       "       13.26855844, 47.21665705, 31.73626219, 26.60502363, 34.52361252,\n",
       "       25.83320198, 24.18376232, 22.79988645, 57.51296845, 37.83091547,\n",
       "       26.37339115, 34.56453733, 23.52069413, 29.2039929 , 22.89565642,\n",
       "       24.58218782, 16.98860589, 18.75937586, 72.17032866, 24.79349367,\n",
       "       32.2353515 , 29.44645507, 31.42958658, 47.16920176, 61.82361332,\n",
       "       40.25968402, 36.34944828, 44.13925297, 21.78197483, 47.02613331,\n",
       "       33.35696369, 34.50140922, 63.49949112, 38.72405466, 52.5742773 ,\n",
       "       48.39672706, 26.30418357, 26.87294212, 32.56483265, 46.5081504 ,\n",
       "       68.37425711, 22.08702864, 21.88089327, 29.73838509, 22.35769124,\n",
       "       37.92430251, 24.62595752, 14.13173403, 19.68116919, 44.51931039,\n",
       "       24.44656244, 31.00703218, 32.06521604, 20.05565153, 53.94964888,\n",
       "       51.97294941, 39.8309375 , 27.71271058, 37.47350181, 39.50600239,\n",
       "       40.62587183, 28.25550356, 29.63666216, 28.58853401, 37.67278372,\n",
       "       20.60633053, 55.84215746, 37.83057691, 37.00674618, 55.21178707,\n",
       "       60.61381479, 59.96589815, 24.84430266, 19.32330861, 16.45325886,\n",
       "       39.5143699 , 34.82893607, 62.93533962, 36.07041001, 23.24581045,\n",
       "       47.45616035, 34.24710766, 48.19244846, 14.22927465, 18.95448878,\n",
       "       22.99099502, 18.68593501, 35.92152449, 24.11865266, 10.5048384 ,\n",
       "       39.70258197, 28.94105433, 28.39875372, 32.49943678, 18.53905394,\n",
       "       47.09124753, 29.85443046, 22.5582047 , 28.08632277, 35.01211348,\n",
       "       23.50500775, 35.32938946, 32.62834405, 26.74902383, 37.59617585,\n",
       "       25.48674536, 26.48068557, 29.08968682, 29.84502071, 43.31571431,\n",
       "       18.8432293 , 27.06334243, 33.2149029 , 31.20349034, 39.55652984,\n",
       "       42.53693098, 25.82443698, 31.48530102, 31.92593935, 28.4397703 ,\n",
       "       28.64749161, 49.26504194, 32.69333047, 35.86881847, 39.17120438,\n",
       "       26.52394293, 24.1165903 , 51.34436356, 32.12989471, 18.6166244 ,\n",
       "       22.8958038 , 26.56409882, 33.60346843, 17.90936093, 34.51647332,\n",
       "       27.32886998, 51.9973137 , 17.89058738, 21.82236734, 26.68199943,\n",
       "       39.5225393 , 30.88748384, 53.11368807, 23.16044793, 32.78354703,\n",
       "       16.91694913, 24.34969905, 49.27187043, 26.96021014, 25.41252692,\n",
       "       66.63981332, 53.54109206, 49.46376202, 29.84502071, 45.69079456,\n",
       "       20.6913763 , 37.78799325, 23.83151397, 36.7051655 , 54.10808359,\n",
       "       33.65120388, 28.69027638, 33.10875555, 35.4570505 , 48.67344678,\n",
       "       39.67270767, 33.76052083, 57.12557125, 17.85290629, 22.14398658,\n",
       "       38.26523733, 20.58302244, 37.47350181, 52.13441164, 50.66761556,\n",
       "       39.498343  , 15.40663731, 24.09464614, 52.36723687, 27.63479032,\n",
       "       23.94548435, 29.22181226, 39.07818861, 28.01877981, 20.69116747,\n",
       "       23.36011653, 32.79353253, 24.62595752, 32.09321334, 26.46437085,\n",
       "       32.76303196, 33.09342483, 49.79489581, 31.59403147, 37.90595064,\n",
       "       48.16407318, 34.45141954, 27.10532045, 39.16300403, 35.88889897,\n",
       "       11.97062377, 38.75635647, 22.68582032, 36.73980296, 29.99931192,\n",
       "       67.37868175, 12.96843607, 28.27916915, 46.5013219 , 29.98408826,\n",
       "       55.75255411, 25.82219255, 18.6166244 , 25.38224178, 32.7276053 ,\n",
       "       23.0126923 , 45.74624907, 39.52556152, 46.12661253, 56.08450683,\n",
       "       49.76723995, 37.91569701, 22.79988645, 51.8121776 , 36.24031003,\n",
       "       31.38809019, 16.12793792, 33.01145094, 45.51218579, 43.09599391,\n",
       "       31.32956426, 21.49983527, 58.77675208, 19.60406654, 33.29965704,\n",
       "       26.76235527, 31.41121165, 43.86983551, 49.8113889 , 37.37065495,\n",
       "       29.15340174, 33.50712714, 30.78723072, 58.38526766, 36.5597967 ,\n",
       "       47.06315149, 43.9571683 , 41.8946669 , 18.30055457, 16.91744915,\n",
       "       36.13098752, 39.78197874, 46.61028969, 43.75090016, 28.1480574 ,\n",
       "       45.71672646, 26.79833508, 33.69266102, 19.62483021, 24.11865266,\n",
       "       43.26771774, 52.98914039, 29.13154219, 39.69237279, 19.71789008,\n",
       "       42.23480221, 31.48743299, 25.56573586, 46.47240842, 47.65188649,\n",
       "       26.55046278, 50.3600493 , 33.52154413, 32.66764484, 24.26535909,\n",
       "       65.14518968, 57.07390606, 46.07146481, 26.14288492, 31.59701614,\n",
       "       31.68769951, 32.08362022, 39.4879366 , 22.72944753, 14.64761337,\n",
       "       31.52551773, 14.2921486 , 17.91863663, 29.35474554, 30.94867518,\n",
       "       26.53739746, 24.09464614, 24.18376232, 40.88335969, 51.65388197,\n",
       "       66.03070606, 18.09685873, 52.27154442, 26.54830945, 43.55455538,\n",
       "       32.09698106, 36.24405007, 50.22542035, 58.96188819, 30.45118286,\n",
       "       35.66291325, 32.62768705, 25.17668632, 14.96444211, 43.17798499,\n",
       "       32.50741125, 20.52065334, 28.15774396, 23.1784352 , 56.08450683,\n",
       "       33.92252524, 20.58087949, 46.11386294, 30.69122689, 56.53491664,\n",
       "       36.9652115 , 27.24503843, 71.00427615, 33.8136212 , 24.1964901 ,\n",
       "       30.80807702, 34.57055761, 23.35378721, 74.8734842 , 38.51289472,\n",
       "       30.04933292, 25.12141128, 32.34854944, 18.63151181, 26.23086791,\n",
       "       56.13767719, 22.48161011, 19.9239708 , 47.47989751, 25.6414113 ,\n",
       "       18.4010341 , 47.0524849 , 50.24390768, 29.94643694, 39.79441283,\n",
       "       31.68120937, 37.31421374, 23.45509634, 37.11797208, 21.95293866,\n",
       "       25.08755432, 34.91972383, 18.68593501, 41.60826116, 41.92482908,\n",
       "       27.66981454, 25.05269097, 32.54448401, 41.71121755, 36.31026934,\n",
       "       37.81394416, 23.6290031 , 25.05734041, 29.03913055, 23.96288934,\n",
       "       28.49385415, 49.26504194, 52.98914039, 41.52199972, 47.85881321,\n",
       "       22.65157678, 39.02045028, 25.80753957, 17.79515182, 35.02427321,\n",
       "       28.38993458, 23.29661945, 28.17147383, 25.32430806, 26.50293801,\n",
       "       20.66485646, 11.90774982, 59.1755829 , 35.55843797, 18.54226637,\n",
       "       52.11642063, 54.21339181, 21.27923003, 19.79448466, 34.87297384,\n",
       "       35.07293278, 30.94867518, 59.06998862, 39.28502791, 16.0157018 ,\n",
       "       32.70346981, 34.25115302, 41.40206141, 23.16935494, 46.80914778,\n",
       "       52.30198106, 31.51156848, 33.02973407, 22.77653562, 21.48426976,\n",
       "       22.99223987, 31.48374415, 46.55605814, 31.66111381, 20.07581694,\n",
       "       48.30392575, 23.182407  , 41.43526366, 41.67178932, 12.95724937,\n",
       "       20.98686545, 69.8999141 , 46.94351711, 30.02702461, 47.17617913,\n",
       "       55.33799733, 24.49059828, 30.16708426, 47.09281628, 43.09807575,\n",
       "       39.20257512, 35.14860822, 35.85839839, 50.09172725, 46.99636081,\n",
       "       30.05557657, 48.87758297, 12.52624086, 23.30728454, 19.84823779,\n",
       "       29.65946526, 40.22273837, 31.63775385, 22.47196884, 21.90741312,\n",
       "       16.22074154, 41.10148986, 25.48458244, 20.04626174, 32.08219201,\n",
       "       54.16188907, 27.36827656, 46.5013219 , 24.53992309, 31.04105021,\n",
       "       31.64751935, 24.18141318, 33.45570316, 20.56580416, 33.90385851,\n",
       "       23.59614628, 31.36065538, 35.56279367, 26.94748235, 68.61560143,\n",
       "       59.69319707, 10.94703361, 27.87018482, 23.67127996, 40.75304623,\n",
       "       26.23412687, 25.20885382, 24.42278108, 36.7273886 , 41.30544522,\n",
       "       35.50636736, 51.60835731, 32.19301724, 31.52616061, 28.97254215,\n",
       "       21.1303216 , 50.66761556, 29.40903264, 25.62621455, 36.17973927,\n",
       "       38.21468106, 25.40775379, 20.66947019, 23.64854924, 37.88640978,\n",
       "       49.49065277, 49.32504475, 60.17161959, 46.4556508 , 21.28565887,\n",
       "       61.07265808, 43.8050877 , 38.6426335 , 28.84504527, 56.55043983,\n",
       "       27.63528952, 19.76550381, 32.88306441, 60.78338092, 34.99998749,\n",
       "       50.22542035, 29.86894857, 58.43336377, 22.14407972, 53.71789968,\n",
       "       23.9853038 , 39.90302285, 21.46978351, 17.4113334 , 33.45268126,\n",
       "       26.16502737, 22.35769124, 14.49884458, 47.09124753, 52.15994647,\n",
       "       34.69238258, 15.68431745, 31.21534874, 31.65458359, 38.17854106,\n",
       "       30.82502424, 18.37628758, 37.34651946, 30.18857897, 28.29915509,\n",
       "       59.40017853, 53.96093529, 28.01894815, 31.76182543, 32.48860909,\n",
       "       36.43490113, 43.42265817, 33.13620002, 21.94441111, 53.0164725 ,\n",
       "       35.38088955, 39.65516313, 23.29431527, 50.05151871, 33.80150804,\n",
       "       51.87254207, 11.46555461, 33.47574997, 40.47435226, 33.28869626,\n",
       "       59.10135936, 43.66520261, 16.12651266, 28.77466253, 48.73652703,\n",
       "       51.54775239, 55.18413122, 39.57314207, 48.77717563, 23.37005056,\n",
       "       37.86215179, 24.78379562, 21.91714617, 30.74740604, 30.28446096,\n",
       "       33.41601924, 54.31506141, 36.9573606 , 37.64105419, 25.80175236,\n",
       "       57.20345003, 22.03046787, 47.65885226, 57.01609319, 49.3527006 ,\n",
       "       59.63028308, 50.21988038, 24.51191158, 36.17174088, 33.80491246,\n",
       "       52.09607718, 28.83329611, 36.65165559, 41.23303055, 19.24919269,\n",
       "       27.01441655, 28.57411402, 31.51439721, 39.27510571, 28.61846279,\n",
       "       59.29463143, 46.58393811, 23.12245849, 57.59495241, 22.99099502,\n",
       "       47.88313153, 52.36040838, 37.38105715, 49.67578887, 40.72254565,\n",
       "       59.73655616, 35.29975992, 49.23359367, 43.27232313, 20.34000636,\n",
       "       49.04845756, 28.4247432 , 40.23722184, 26.34667868, 38.6582452 ,\n",
       "       56.31223263, 67.90890972, 37.81270909, 17.35630256, 36.57734124,\n",
       "       38.85798294, 49.3691937 , 31.41461004, 17.96313634, 15.08980858,\n",
       "       56.30481209, 55.22828017, 57.42928963, 49.10864393, 21.77620305,\n",
       "       45.92084943, 33.25228336, 35.87028857, 34.98797228, 33.32060998,\n",
       "       31.25324087, 22.84217817, 44.53685493, 34.98110491, 35.30820405,\n",
       "       33.34416508, 23.33599916, 49.76723995, 27.71460445, 29.80606972,\n",
       "       64.50504906, 62.1627458 , 26.28441416, 38.55241694, 27.18909452,\n",
       "       48.30698025, 36.74657032, 25.25522812, 64.6640252 , 20.4794311 ,\n",
       "       53.98328726, 46.18828507, 34.83162862, 31.92806675, 51.0550864 ,\n",
       "       20.22727499, 34.39436178, 50.66761556, 16.63296395, 26.70226347,\n",
       "       29.41223038, 20.27090456, 41.59691147, 55.09268014, 19.34976735,\n",
       "       27.45016369, 42.21066672, 50.17629159, 40.46982698, 28.27205276,\n",
       "       29.06614287, 34.24746418, 31.24584931, 54.5956135 , 40.23722184,\n",
       "       37.14342416, 67.02329818, 35.74917469, 38.26523733, 46.0134556 ,\n",
       "       22.28897093, 23.04751849, 29.84439027, 24.70813114, 36.56863249,\n",
       "       76.97269031, 28.8434207 , 27.0264308 , 61.40968262, 46.114451  ,\n",
       "       32.45336724, 33.14654907, 23.73921797, 52.44302458, 53.77119661,\n",
       "       32.9497969 , 24.60615573, 52.13291373, 31.04105021, 21.73217665,\n",
       "       41.63353576, 18.96413405, 25.18259517, 22.41296629, 34.97064021,\n",
       "       31.82986291, 15.2899609 , 49.98037709, 42.80685395, 52.46937617,\n",
       "       22.35769124, 29.20463579, 32.17833375, 52.35529271, 43.50678076,\n",
       "       22.10125625, 46.38614698, 40.04798551, 25.30206317, 39.68548902,\n",
       "       20.66947019, 30.28217969, 42.00284411, 36.23889295, 14.5954243 ,\n",
       "       14.66708106, 22.59242938, 34.27528851, 27.09071043, 43.4165642 ,\n",
       "       48.67219716, 21.07787368, 52.98914039, 26.62379061, 31.26684026,\n",
       "       30.37276132, 33.43795604, 28.9768902 , 39.90065155, 45.58259785,\n",
       "       52.08876478, 34.84734026, 13.68953883, 31.81369725, 58.64596259,\n",
       "       38.304347  , 31.62919948, 30.57810809, 25.41185095])"
      ]
     },
     "execution_count": 162,
     "metadata": {},
     "output_type": "execute_result"
    }
   ],
   "source": [
    "lr_model.predict(X_train)    #predicted values for the train dataset"
   ]
  },
  {
   "cell_type": "code",
   "execution_count": 163,
   "id": "2c7dc45f",
   "metadata": {},
   "outputs": [],
   "source": [
    "#28.02 is the actual value for the 11th observation but my model predicted 22.\n",
    "\n",
    "#25.57 is the actual value for the 524th observation but my model predicted 20.86"
   ]
  },
  {
   "cell_type": "code",
   "execution_count": 164,
   "id": "b96eec52",
   "metadata": {},
   "outputs": [
    {
     "data": {
      "text/plain": [
       "309    66.42\n",
       "577    32.04\n",
       "815    45.30\n",
       "614    38.21\n",
       "645    16.11\n",
       "       ...  \n",
       "335    27.42\n",
       "507    23.85\n",
       "948    26.15\n",
       "601    32.92\n",
       "243    45.08\n",
       "Name: Concrete_compressive_strength, Length: 201, dtype: float64"
      ]
     },
     "execution_count": 164,
     "metadata": {},
     "output_type": "execute_result"
    }
   ],
   "source": [
    "Y_test #actual values for the test dataset"
   ]
  },
  {
   "cell_type": "code",
   "execution_count": 165,
   "id": "0556a266",
   "metadata": {},
   "outputs": [],
   "source": [
    "#66.42 is my actual value for 309th observation and model predicts 45.74 and so on"
   ]
  },
  {
   "cell_type": "code",
   "execution_count": 166,
   "id": "babe5147",
   "metadata": {},
   "outputs": [
    {
     "data": {
      "text/plain": [
       "array([45.74750695, 24.90779975, 41.99847026, 30.81537898, 33.48033003,\n",
       "       29.65580712, 59.08099512, 14.30179386, 24.42537448, 38.14468957,\n",
       "       17.12198886, 20.12258412, 35.67222428, 21.08330033, 32.29151381,\n",
       "       27.36987577, 28.30674724, 49.17872223, 58.11346531, 20.23667987,\n",
       "       30.96717143, 50.62253324, 21.29530414, 26.84225136, 38.40357048,\n",
       "       18.44803749, 32.7320286 , 35.02965802, 28.64749161, 34.37466571,\n",
       "       35.291901  , 34.40937597, 31.51946484, 26.0580353 , 23.61874934,\n",
       "       31.97543696, 29.38486726, 52.53372025, 18.9577052 , 52.97095303,\n",
       "       35.57845271, 49.34765814, 54.41760201, 21.16475413, 59.0881578 ,\n",
       "       39.39584719, 39.8309375 , 28.98799072, 34.26310483, 39.69577588,\n",
       "       29.2039929 , 28.1378189 , 69.60349549, 22.93367229, 33.79607666,\n",
       "       26.24269784, 24.18376232, 35.54726707, 33.54729364, 35.33945301,\n",
       "       21.57071752, 31.66721968, 40.36217292, 20.33005195, 27.18271691,\n",
       "       38.86235576, 27.48454489, 19.82870935, 47.89835555, 33.90936728,\n",
       "       44.23264078, 38.31383773, 33.01220466, 47.22694476, 39.41574321,\n",
       "       65.58738489, 17.72816214, 27.9396691 , 39.66530591, 50.1338426 ,\n",
       "       20.28379845, 31.66948046, 36.11426785, 52.65718767, 29.50833808,\n",
       "       31.46806098, 39.90302285, 17.45187191, 53.92988213, 27.98434729,\n",
       "       28.20868245, 28.15472681, 33.2762727 , 32.78882706, 50.22542035,\n",
       "       27.05120671, 23.61682897, 22.80095593, 41.1744166 , 28.44509532,\n",
       "       32.80381636, 14.94103979, 29.56497778, 59.05333926, 34.57741728,\n",
       "       48.30100841, 53.07574353, 22.90454727, 25.81039399, 37.37342544,\n",
       "       37.93373941, 49.15196724, 43.99102223, 28.9978469 , 46.9503456 ,\n",
       "       37.226787  , 63.26938657, 30.46524221, 21.68799047, 48.68456946,\n",
       "       51.7799359 , 33.13843985, 53.11368807, 38.01070327, 26.465417  ,\n",
       "       13.52605125, 13.31592657, 32.28110666, 17.35964436, 24.94899055,\n",
       "       27.00507895, 32.8576887 , 36.53362772, 23.42857649, 53.94606734,\n",
       "       51.78655877, 31.41121165, 54.90754403, 51.49728161, 25.95764432,\n",
       "       37.07263194, 24.23350354, 33.04724363, 45.41751873, 34.70853753,\n",
       "       27.40907914, 30.07300108, 17.08451775, 26.15303879, 25.20134061,\n",
       "       39.64218771, 38.42663329, 30.71202993, 23.00278323, 31.73055746,\n",
       "       47.28779868, 28.08897894, 37.9427067 , 30.73899716, 25.49316757,\n",
       "       37.87996279, 50.59053197, 32.58473258, 25.04675173, 27.8888601 ,\n",
       "       27.19403204, 20.40525544, 36.87895007, 25.61340155, 12.31001443,\n",
       "       56.08450683, 56.01432192, 21.39523184, 25.12141128, 34.29885678,\n",
       "       33.99958385, 22.11348738, 19.57720714, 34.017549  , 30.69460726,\n",
       "       56.91417287, 51.50024706, 46.36304463, 19.84754862, 22.58627492,\n",
       "       18.2951015 , 42.78773923, 41.70412931, 17.94980381, 27.80349758,\n",
       "       16.62331869, 28.14596181, 24.89079149, 35.17921352, 30.64155015,\n",
       "       53.14688515, 36.92865275, 30.44245945, 28.81439588, 29.33563579,\n",
       "       33.04180338])"
      ]
     },
     "execution_count": 166,
     "metadata": {},
     "output_type": "execute_result"
    }
   ],
   "source": [
    "lr_model.predict(X_test) #predicted values for the test dataset"
   ]
  },
  {
   "cell_type": "code",
   "execution_count": 167,
   "id": "934f56d7",
   "metadata": {},
   "outputs": [],
   "source": [
    "#There is so much of difference in my actual and predicted value.coz my R square value is only 0.6 with the variables i chose\n",
    "#.My variables can explain 60 % of the variation in the dependent variable."
   ]
  },
  {
   "cell_type": "markdown",
   "id": "b8e159f9",
   "metadata": {},
   "source": [
    "# model performance measures "
   ]
  },
  {
   "cell_type": "markdown",
   "id": "460a4b1e",
   "metadata": {},
   "source": [
    "R square"
   ]
  },
  {
   "cell_type": "code",
   "execution_count": 168,
   "id": "342e9139",
   "metadata": {},
   "outputs": [
    {
     "data": {
      "text/plain": [
       "0.599101309404614"
      ]
     },
     "execution_count": 168,
     "metadata": {},
     "output_type": "execute_result"
    }
   ],
   "source": [
    "lr_model.score(X_train,Y_train) #r square for training data"
   ]
  },
  {
   "cell_type": "code",
   "execution_count": 169,
   "id": "dae328fb",
   "metadata": {},
   "outputs": [
    {
     "data": {
      "text/plain": [
       "0.6090990300043568"
      ]
     },
     "execution_count": 169,
     "metadata": {},
     "output_type": "execute_result"
    }
   ],
   "source": [
    "lr_model.score(X_test,Y_test) #r square for test data"
   ]
  },
  {
   "cell_type": "code",
   "execution_count": 170,
   "id": "1edc9072",
   "metadata": {},
   "outputs": [],
   "source": [
    "#there is no overfitting/underfitting scenario because my train and test performance is approx the same which is 0.6"
   ]
  },
  {
   "cell_type": "markdown",
   "id": "c11a8d21",
   "metadata": {},
   "source": [
    "RMSE VALUE"
   ]
  },
  {
   "cell_type": "code",
   "execution_count": 171,
   "id": "5224faf5",
   "metadata": {},
   "outputs": [],
   "source": [
    "from sklearn.metrics import mean_absolute_error,mean_squared_error,mean_absolute_percentage_error"
   ]
  },
  {
   "cell_type": "code",
   "execution_count": 172,
   "id": "50f48f14",
   "metadata": {},
   "outputs": [
    {
     "data": {
      "text/plain": [
       "10.284541949984895"
      ]
     },
     "execution_count": 172,
     "metadata": {},
     "output_type": "execute_result"
    }
   ],
   "source": [
    "\n",
    "y_train_pred=lr_model.predict(X_train)\n",
    "y_test_pred=lr_model.predict(X_test)\n",
    "mean_squared_error(Y_train,y_train_pred,squared=False) #RMSE for training data"
   ]
  },
  {
   "cell_type": "code",
   "execution_count": 173,
   "id": "90cbddc9",
   "metadata": {},
   "outputs": [
    {
     "data": {
      "text/plain": [
       "10.23466397627644"
      ]
     },
     "execution_count": 173,
     "metadata": {},
     "output_type": "execute_result"
    }
   ],
   "source": [
    "mean_squared_error(Y_test,y_test_pred,squared=False) #RMSE for test data"
   ]
  },
  {
   "cell_type": "markdown",
   "id": "66c6a6a7",
   "metadata": {},
   "source": [
    "Here,RMSE of train and test data are very much similar which means there's no overfittinng/underfitting."
   ]
  },
  {
   "cell_type": "markdown",
   "id": "bf518f5e",
   "metadata": {},
   "source": [
    "The mean squared error (MSE) is the mean of a model's residuals. When you fit a regression model predicting some continuous response variable, and then use that model to predict the values of some data, the residuals are the differences between the values that your model predicts, and the actual values in the data."
   ]
  },
  {
   "cell_type": "markdown",
   "id": "851982ea",
   "metadata": {},
   "source": [
    "In machine Learning when we want to look at the accuracy of our model we take the root mean square of the error(RMSE) that has occurred between the test values and the predicted values mathematically. As the name suggests, it is calculated by taking the square root over the mean of the squared errors of individual points."
   ]
  },
  {
   "cell_type": "code",
   "execution_count": 107,
   "id": "45b4a8ba",
   "metadata": {},
   "outputs": [
    {
     "data": {
      "text/plain": [
       "8.268531722413856"
      ]
     },
     "execution_count": 107,
     "metadata": {},
     "output_type": "execute_result"
    }
   ],
   "source": [
    "mean_absolute_error(Y_train,y_train_pred)"
   ]
  },
  {
   "cell_type": "code",
   "execution_count": 108,
   "id": "f2224237",
   "metadata": {},
   "outputs": [
    {
     "data": {
      "text/plain": [
       "8.003896171576374"
      ]
     },
     "execution_count": 108,
     "metadata": {},
     "output_type": "execute_result"
    }
   ],
   "source": [
    "mean_absolute_error(Y_test,y_test_pred)"
   ]
  },
  {
   "cell_type": "code",
   "execution_count": 109,
   "id": "b96bf837",
   "metadata": {},
   "outputs": [
    {
     "data": {
      "text/plain": [
       "32.43924561000514"
      ]
     },
     "execution_count": 109,
     "metadata": {},
     "output_type": "execute_result"
    }
   ],
   "source": [
    "mean_absolute_percentage_error(Y_train,y_train_pred)*100 #32% error in my training dataset"
   ]
  },
  {
   "cell_type": "code",
   "execution_count": 110,
   "id": "060b757c",
   "metadata": {},
   "outputs": [
    {
     "data": {
      "text/plain": [
       "27.545760260806706"
      ]
     },
     "execution_count": 110,
     "metadata": {},
     "output_type": "execute_result"
    }
   ],
   "source": [
    "mean_absolute_percentage_error(Y_test,y_test_pred)*100 #27 % error in my test dataset"
   ]
  },
  {
   "cell_type": "code",
   "execution_count": 111,
   "id": "5d40e258",
   "metadata": {},
   "outputs": [],
   "source": [
    "##3 approaches to treat multicollinearity"
   ]
  },
  {
   "cell_type": "markdown",
   "id": "0987a4d2",
   "metadata": {},
   "source": [
    "1)the first step in treating multicollinearity is build the model as it is and then identify and remove the statistically  insignificant variables.Then check VIF again with the significant variables and then build the model with\n",
    "the significant variables."
   ]
  },
  {
   "cell_type": "markdown",
   "id": "f28ded7d",
   "metadata": {},
   "source": [
    "2)The next step is not to drop the variable,but there is something called REGULARIZATION METHODS (LASSO/RIDGE/ELASTIC NET)"
   ]
  },
  {
   "cell_type": "markdown",
   "id": "5ed3e7e5",
   "metadata": {},
   "source": [
    "let's suppose we have 2 variables x1 and x2.they're highly correlated.their coefficients are beta1 and beta2,which we got from linear regression model.\n",
    "If in the same linear regression model,you apply lasso regularisation ,it'll make one of these beta values to be zero.lets say it made beta2=0 \n",
    "If beta2=0,the effect of this x2 variable will not be in my model ."
   ]
  },
  {
   "cell_type": "markdown",
   "id": "b2c3c66e",
   "metadata": {},
   "source": [
    "When it comes to ridge regression it will make beta approximately equal to 0.The effect of that variable on  my outcome will be meaningless \n",
    "then"
   ]
  },
  {
   "cell_type": "markdown",
   "id": "c4fe78bd",
   "metadata": {},
   "source": [
    "Elastic net is a combination of lasso and ridge.In some cases,it'll make beta=0 and in some cases,it'll make approx equal to 0."
   ]
  },
  {
   "cell_type": "markdown",
   "id": "6af33d8d",
   "metadata": {},
   "source": [
    "3)Either try PCA/dropping variables."
   ]
  },
  {
   "cell_type": "markdown",
   "id": "36e305d1",
   "metadata": {},
   "source": [
    "# finished "
   ]
  },
  {
   "cell_type": "markdown",
   "id": "aec44602",
   "metadata": {},
   "source": [
    "## 5.Building 2nd iteration removing 'Fine_Aggregate' as p-value>0.05"
   ]
  },
  {
   "cell_type": "code",
   "execution_count": 113,
   "id": "3913b21d",
   "metadata": {},
   "outputs": [],
   "source": [
    "#2nd Iteration\n",
    "f_2 = 'Concrete_compressive_strength~Cement+Blast_Furnace_Slag+Fly_Ash+Water+Superplasticizer+Coarse_Aggregate+Age'"
   ]
  },
  {
   "cell_type": "code",
   "execution_count": 114,
   "id": "12feda19",
   "metadata": {},
   "outputs": [
    {
     "data": {
      "text/html": [
       "<table class=\"simpletable\">\n",
       "<caption>OLS Regression Results</caption>\n",
       "<tr>\n",
       "  <th>Dep. Variable:</th>    <td>Concrete_compressive_strength</td> <th>  R-squared:         </th> <td>   0.603</td> \n",
       "</tr>\n",
       "<tr>\n",
       "  <th>Model:</th>                         <td>OLS</td>              <th>  Adj. R-squared:    </th> <td>   0.600</td> \n",
       "</tr>\n",
       "<tr>\n",
       "  <th>Method:</th>                   <td>Least Squares</td>         <th>  F-statistic:       </th> <td>   216.1</td> \n",
       "</tr>\n",
       "<tr>\n",
       "  <th>Date:</th>                   <td>Tue, 03 Jan 2023</td>        <th>  Prob (F-statistic):</th> <td>6.82e-195</td>\n",
       "</tr>\n",
       "<tr>\n",
       "  <th>Time:</th>                       <td>16:10:54</td>            <th>  Log-Likelihood:    </th> <td> -3765.9</td> \n",
       "</tr>\n",
       "<tr>\n",
       "  <th>No. Observations:</th>            <td>  1005</td>             <th>  AIC:               </th> <td>   7548.</td> \n",
       "</tr>\n",
       "<tr>\n",
       "  <th>Df Residuals:</th>                <td>   997</td>             <th>  BIC:               </th> <td>   7587.</td> \n",
       "</tr>\n",
       "<tr>\n",
       "  <th>Df Model:</th>                    <td>     7</td>             <th>                     </th>     <td> </td>    \n",
       "</tr>\n",
       "<tr>\n",
       "  <th>Covariance Type:</th>            <td>nonrobust</td>           <th>                     </th>     <td> </td>    \n",
       "</tr>\n",
       "</table>\n",
       "<table class=\"simpletable\">\n",
       "<tr>\n",
       "           <td></td>             <th>coef</th>     <th>std err</th>      <th>t</th>      <th>P>|t|</th>  <th>[0.025</th>    <th>0.975]</th>  \n",
       "</tr>\n",
       "<tr>\n",
       "  <th>Intercept</th>          <td>   24.8495</td> <td>    8.813</td> <td>    2.820</td> <td> 0.005</td> <td>    7.555</td> <td>   42.144</td>\n",
       "</tr>\n",
       "<tr>\n",
       "  <th>Cement</th>             <td>    0.1047</td> <td>    0.004</td> <td>   24.124</td> <td> 0.000</td> <td>    0.096</td> <td>    0.113</td>\n",
       "</tr>\n",
       "<tr>\n",
       "  <th>Blast_Furnace_Slag</th> <td>    0.0845</td> <td>    0.005</td> <td>   16.236</td> <td> 0.000</td> <td>    0.074</td> <td>    0.095</td>\n",
       "</tr>\n",
       "<tr>\n",
       "  <th>Fly_Ash</th>            <td>    0.0689</td> <td>    0.008</td> <td>    8.860</td> <td> 0.000</td> <td>    0.054</td> <td>    0.084</td>\n",
       "</tr>\n",
       "<tr>\n",
       "  <th>Water</th>              <td>   -0.2072</td> <td>    0.024</td> <td>   -8.750</td> <td> 0.000</td> <td>   -0.254</td> <td>   -0.161</td>\n",
       "</tr>\n",
       "<tr>\n",
       "  <th>Superplasticizer</th>   <td>    0.2580</td> <td>    0.092</td> <td>    2.815</td> <td> 0.005</td> <td>    0.078</td> <td>    0.438</td>\n",
       "</tr>\n",
       "<tr>\n",
       "  <th>Coarse_Aggregate</th>   <td>    0.0024</td> <td>    0.005</td> <td>    0.466</td> <td> 0.641</td> <td>   -0.008</td> <td>    0.013</td>\n",
       "</tr>\n",
       "<tr>\n",
       "  <th>Age</th>                <td>    0.1114</td> <td>    0.005</td> <td>   20.710</td> <td> 0.000</td> <td>    0.101</td> <td>    0.122</td>\n",
       "</tr>\n",
       "</table>\n",
       "<table class=\"simpletable\">\n",
       "<tr>\n",
       "  <th>Omnibus:</th>       <td> 3.975</td> <th>  Durbin-Watson:     </th> <td>   1.336</td>\n",
       "</tr>\n",
       "<tr>\n",
       "  <th>Prob(Omnibus):</th> <td> 0.137</td> <th>  Jarque-Bera (JB):  </th> <td>   3.909</td>\n",
       "</tr>\n",
       "<tr>\n",
       "  <th>Skew:</th>          <td>-0.152</td> <th>  Prob(JB):          </th> <td>   0.142</td>\n",
       "</tr>\n",
       "<tr>\n",
       "  <th>Kurtosis:</th>      <td> 3.027</td> <th>  Cond. No.          </th> <td>2.81e+04</td>\n",
       "</tr>\n",
       "</table><br/><br/>Notes:<br/>[1] Standard Errors assume that the covariance matrix of the errors is correctly specified.<br/>[2] The condition number is large, 2.81e+04. This might indicate that there are<br/>strong multicollinearity or other numerical problems."
      ],
      "text/plain": [
       "<class 'statsmodels.iolib.summary.Summary'>\n",
       "\"\"\"\n",
       "                                  OLS Regression Results                                 \n",
       "=========================================================================================\n",
       "Dep. Variable:     Concrete_compressive_strength   R-squared:                       0.603\n",
       "Model:                                       OLS   Adj. R-squared:                  0.600\n",
       "Method:                            Least Squares   F-statistic:                     216.1\n",
       "Date:                           Tue, 03 Jan 2023   Prob (F-statistic):          6.82e-195\n",
       "Time:                                   16:10:54   Log-Likelihood:                -3765.9\n",
       "No. Observations:                           1005   AIC:                             7548.\n",
       "Df Residuals:                                997   BIC:                             7587.\n",
       "Df Model:                                      7                                         \n",
       "Covariance Type:                       nonrobust                                         \n",
       "======================================================================================\n",
       "                         coef    std err          t      P>|t|      [0.025      0.975]\n",
       "--------------------------------------------------------------------------------------\n",
       "Intercept             24.8495      8.813      2.820      0.005       7.555      42.144\n",
       "Cement                 0.1047      0.004     24.124      0.000       0.096       0.113\n",
       "Blast_Furnace_Slag     0.0845      0.005     16.236      0.000       0.074       0.095\n",
       "Fly_Ash                0.0689      0.008      8.860      0.000       0.054       0.084\n",
       "Water                 -0.2072      0.024     -8.750      0.000      -0.254      -0.161\n",
       "Superplasticizer       0.2580      0.092      2.815      0.005       0.078       0.438\n",
       "Coarse_Aggregate       0.0024      0.005      0.466      0.641      -0.008       0.013\n",
       "Age                    0.1114      0.005     20.710      0.000       0.101       0.122\n",
       "==============================================================================\n",
       "Omnibus:                        3.975   Durbin-Watson:                   1.336\n",
       "Prob(Omnibus):                  0.137   Jarque-Bera (JB):                3.909\n",
       "Skew:                          -0.152   Prob(JB):                        0.142\n",
       "Kurtosis:                       3.027   Cond. No.                     2.81e+04\n",
       "==============================================================================\n",
       "\n",
       "Notes:\n",
       "[1] Standard Errors assume that the covariance matrix of the errors is correctly specified.\n",
       "[2] The condition number is large, 2.81e+04. This might indicate that there are\n",
       "strong multicollinearity or other numerical problems.\n",
       "\"\"\""
      ]
     },
     "execution_count": 114,
     "metadata": {},
     "output_type": "execute_result"
    }
   ],
   "source": [
    "model_2 = SM.ols(f_2,data=df).fit()\n",
    "model_2.summary()"
   ]
  },
  {
   "cell_type": "markdown",
   "id": "524ff33a",
   "metadata": {},
   "source": [
    "## 6. Building 3rd Iteration removing \"Coarse_Aggregate\" as p-value > 0.05"
   ]
  },
  {
   "cell_type": "code",
   "execution_count": 115,
   "id": "d696db52",
   "metadata": {},
   "outputs": [],
   "source": [
    "#3rd Iteration\n",
    "f_3 = 'Concrete_compressive_strength~Cement+Blast_Furnace_Slag+Fly_Ash+Water+Superplasticizer+Age'"
   ]
  },
  {
   "cell_type": "code",
   "execution_count": 116,
   "id": "1fed29bf",
   "metadata": {},
   "outputs": [
    {
     "data": {
      "text/html": [
       "<table class=\"simpletable\">\n",
       "<caption>OLS Regression Results</caption>\n",
       "<tr>\n",
       "  <th>Dep. Variable:</th>    <td>Concrete_compressive_strength</td> <th>  R-squared:         </th> <td>   0.603</td> \n",
       "</tr>\n",
       "<tr>\n",
       "  <th>Model:</th>                         <td>OLS</td>              <th>  Adj. R-squared:    </th> <td>   0.600</td> \n",
       "</tr>\n",
       "<tr>\n",
       "  <th>Method:</th>                   <td>Least Squares</td>         <th>  F-statistic:       </th> <td>   252.2</td> \n",
       "</tr>\n",
       "<tr>\n",
       "  <th>Date:</th>                   <td>Tue, 03 Jan 2023</td>        <th>  Prob (F-statistic):</th> <td>4.58e-196</td>\n",
       "</tr>\n",
       "<tr>\n",
       "  <th>Time:</th>                       <td>16:10:59</td>            <th>  Log-Likelihood:    </th> <td> -3766.0</td> \n",
       "</tr>\n",
       "<tr>\n",
       "  <th>No. Observations:</th>            <td>  1005</td>             <th>  AIC:               </th> <td>   7546.</td> \n",
       "</tr>\n",
       "<tr>\n",
       "  <th>Df Residuals:</th>                <td>   998</td>             <th>  BIC:               </th> <td>   7580.</td> \n",
       "</tr>\n",
       "<tr>\n",
       "  <th>Df Model:</th>                    <td>     6</td>             <th>                     </th>     <td> </td>    \n",
       "</tr>\n",
       "<tr>\n",
       "  <th>Covariance Type:</th>            <td>nonrobust</td>           <th>                     </th>     <td> </td>    \n",
       "</tr>\n",
       "</table>\n",
       "<table class=\"simpletable\">\n",
       "<tr>\n",
       "           <td></td>             <th>coef</th>     <th>std err</th>      <th>t</th>      <th>P>|t|</th>  <th>[0.025</th>    <th>0.975]</th>  \n",
       "</tr>\n",
       "<tr>\n",
       "  <th>Intercept</th>          <td>   28.4673</td> <td>    4.171</td> <td>    6.824</td> <td> 0.000</td> <td>   20.281</td> <td>   36.653</td>\n",
       "</tr>\n",
       "<tr>\n",
       "  <th>Cement</th>             <td>    0.1042</td> <td>    0.004</td> <td>   24.666</td> <td> 0.000</td> <td>    0.096</td> <td>    0.113</td>\n",
       "</tr>\n",
       "<tr>\n",
       "  <th>Blast_Furnace_Slag</th> <td>    0.0838</td> <td>    0.005</td> <td>   16.827</td> <td> 0.000</td> <td>    0.074</td> <td>    0.094</td>\n",
       "</tr>\n",
       "<tr>\n",
       "  <th>Fly_Ash</th>            <td>    0.0684</td> <td>    0.008</td> <td>    8.882</td> <td> 0.000</td> <td>    0.053</td> <td>    0.083</td>\n",
       "</tr>\n",
       "<tr>\n",
       "  <th>Water</th>              <td>   -0.2123</td> <td>    0.021</td> <td>  -10.134</td> <td> 0.000</td> <td>   -0.253</td> <td>   -0.171</td>\n",
       "</tr>\n",
       "<tr>\n",
       "  <th>Superplasticizer</th>   <td>    0.2414</td> <td>    0.084</td> <td>    2.860</td> <td> 0.004</td> <td>    0.076</td> <td>    0.407</td>\n",
       "</tr>\n",
       "<tr>\n",
       "  <th>Age</th>                <td>    0.1115</td> <td>    0.005</td> <td>   20.759</td> <td> 0.000</td> <td>    0.101</td> <td>    0.122</td>\n",
       "</tr>\n",
       "</table>\n",
       "<table class=\"simpletable\">\n",
       "<tr>\n",
       "  <th>Omnibus:</th>       <td> 3.928</td> <th>  Durbin-Watson:     </th> <td>   1.334</td>\n",
       "</tr>\n",
       "<tr>\n",
       "  <th>Prob(Omnibus):</th> <td> 0.140</td> <th>  Jarque-Bera (JB):  </th> <td>   3.850</td>\n",
       "</tr>\n",
       "<tr>\n",
       "  <th>Skew:</th>          <td>-0.151</td> <th>  Prob(JB):          </th> <td>   0.146</td>\n",
       "</tr>\n",
       "<tr>\n",
       "  <th>Kurtosis:</th>      <td> 3.035</td> <th>  Cond. No.          </th> <td>4.58e+03</td>\n",
       "</tr>\n",
       "</table><br/><br/>Notes:<br/>[1] Standard Errors assume that the covariance matrix of the errors is correctly specified.<br/>[2] The condition number is large, 4.58e+03. This might indicate that there are<br/>strong multicollinearity or other numerical problems."
      ],
      "text/plain": [
       "<class 'statsmodels.iolib.summary.Summary'>\n",
       "\"\"\"\n",
       "                                  OLS Regression Results                                 \n",
       "=========================================================================================\n",
       "Dep. Variable:     Concrete_compressive_strength   R-squared:                       0.603\n",
       "Model:                                       OLS   Adj. R-squared:                  0.600\n",
       "Method:                            Least Squares   F-statistic:                     252.2\n",
       "Date:                           Tue, 03 Jan 2023   Prob (F-statistic):          4.58e-196\n",
       "Time:                                   16:10:59   Log-Likelihood:                -3766.0\n",
       "No. Observations:                           1005   AIC:                             7546.\n",
       "Df Residuals:                                998   BIC:                             7580.\n",
       "Df Model:                                      6                                         \n",
       "Covariance Type:                       nonrobust                                         \n",
       "======================================================================================\n",
       "                         coef    std err          t      P>|t|      [0.025      0.975]\n",
       "--------------------------------------------------------------------------------------\n",
       "Intercept             28.4673      4.171      6.824      0.000      20.281      36.653\n",
       "Cement                 0.1042      0.004     24.666      0.000       0.096       0.113\n",
       "Blast_Furnace_Slag     0.0838      0.005     16.827      0.000       0.074       0.094\n",
       "Fly_Ash                0.0684      0.008      8.882      0.000       0.053       0.083\n",
       "Water                 -0.2123      0.021    -10.134      0.000      -0.253      -0.171\n",
       "Superplasticizer       0.2414      0.084      2.860      0.004       0.076       0.407\n",
       "Age                    0.1115      0.005     20.759      0.000       0.101       0.122\n",
       "==============================================================================\n",
       "Omnibus:                        3.928   Durbin-Watson:                   1.334\n",
       "Prob(Omnibus):                  0.140   Jarque-Bera (JB):                3.850\n",
       "Skew:                          -0.151   Prob(JB):                        0.146\n",
       "Kurtosis:                       3.035   Cond. No.                     4.58e+03\n",
       "==============================================================================\n",
       "\n",
       "Notes:\n",
       "[1] Standard Errors assume that the covariance matrix of the errors is correctly specified.\n",
       "[2] The condition number is large, 4.58e+03. This might indicate that there are\n",
       "strong multicollinearity or other numerical problems.\n",
       "\"\"\""
      ]
     },
     "execution_count": 116,
     "metadata": {},
     "output_type": "execute_result"
    }
   ],
   "source": [
    "model_3 = SM.ols(f_3,data=df).fit()\n",
    "model_3.summary()"
   ]
  },
  {
   "cell_type": "markdown",
   "id": "e1bdb651",
   "metadata": {},
   "source": [
    "## 7.Recheck for Multicolinearity with all significant predictors "
   ]
  },
  {
   "cell_type": "code",
   "execution_count": 117,
   "id": "114e9235",
   "metadata": {},
   "outputs": [],
   "source": [
    "#Re-check for Multicolinearity \n",
    "def vif_cal(input_data):\n",
    "    x_vars=input_data\n",
    "    xvar_names=input_data.columns\n",
    "    for i in range(0,xvar_names.shape[0]):\n",
    "        y=x_vars[xvar_names[i]] \n",
    "        x=x_vars[xvar_names.drop(xvar_names[i])]\n",
    "        rsq=SM.ols(formula=\"y~x\", data=x_vars).fit().rsquared  \n",
    "        vif=round(1/(1-rsq),2)\n",
    "        print (xvar_names[i], \" VIF = \" , vif)"
   ]
  },
  {
   "cell_type": "code",
   "execution_count": 118,
   "id": "e92697f5",
   "metadata": {},
   "outputs": [
    {
     "name": "stdout",
     "output_type": "stream",
     "text": [
      "Cement  VIF =  1.84\n",
      "Blast_Furnace_Slag  VIF =  1.74\n",
      "Fly_Ash  VIF =  2.31\n",
      "Water  VIF =  1.89\n",
      "Superplasticizer  VIF =  2.37\n",
      "Age  VIF =  1.11\n"
     ]
    }
   ],
   "source": [
    "vif_cal(input_data=df[['Cement', 'Blast_Furnace_Slag', 'Fly_Ash', 'Water', 'Superplasticizer','Age']])\n",
    "#VIF <5 No multicolinearity in data "
   ]
  },
  {
   "cell_type": "code",
   "execution_count": 122,
   "id": "56a11387",
   "metadata": {},
   "outputs": [
    {
     "data": {
      "text/plain": [
       "0       54.082871\n",
       "1       54.082871\n",
       "2       56.747185\n",
       "3       67.335982\n",
       "4       59.618847\n",
       "          ...    \n",
       "1000    40.304258\n",
       "1001    33.969324\n",
       "1002    26.725704\n",
       "1003    29.255832\n",
       "1004    32.038078\n",
       "Length: 1005, dtype: float64"
      ]
     },
     "execution_count": 122,
     "metadata": {},
     "output_type": "execute_result"
    }
   ],
   "source": [
    "#Using the last best model \n",
    "model_3_pred = model_3.fittedvalues       #predicted values of \"Concrete_compressive_strength\" using model 3\n",
    "model_3_pred"
   ]
  },
  {
   "cell_type": "code",
   "execution_count": 123,
   "id": "6f577278",
   "metadata": {},
   "outputs": [
    {
     "name": "stderr",
     "output_type": "stream",
     "text": [
      "C:\\Users\\utkar\\anaconda3\\lib\\site-packages\\seaborn\\distributions.py:2619: FutureWarning: `distplot` is a deprecated function and will be removed in a future version. Please adapt your code to use either `displot` (a figure-level function with similar flexibility) or `histplot` (an axes-level function for histograms).\n",
      "  warnings.warn(msg, FutureWarning)\n",
      "C:\\Users\\utkar\\anaconda3\\lib\\site-packages\\seaborn\\distributions.py:2619: FutureWarning: `distplot` is a deprecated function and will be removed in a future version. Please adapt your code to use either `displot` (a figure-level function with similar flexibility) or `histplot` (an axes-level function for histograms).\n",
      "  warnings.warn(msg, FutureWarning)\n"
     ]
    },
    {
     "data": {
      "image/png": "[encoded data removed]",
      "text/plain": [
       "<Figure size 1368x864 with 1 Axes>"
      ]
     },
     "metadata": {
      "needs_background": "light"
     },
     "output_type": "display_data"
    }
   ],
   "source": [
    "sns.distplot(model_3.fittedvalues)        #distplot  of actual value and predicted value of \"Concrete_compressive_strength\"\n",
    "sns.distplot(df['Concrete_compressive_strength']);"
   ]
  },
  {
   "cell_type": "code",
   "execution_count": 124,
   "id": "08960e13",
   "metadata": {},
   "outputs": [
    {
     "name": "stderr",
     "output_type": "stream",
     "text": [
      "C:\\Users\\utkar\\anaconda3\\lib\\site-packages\\seaborn\\_decorators.py:36: FutureWarning: Pass the following variables as keyword args: x, y. From version 0.12, the only valid positional argument will be `data`, and passing other arguments without an explicit keyword will result in an error or misinterpretation.\n",
      "  warnings.warn(\n"
     ]
    },
    {
     "data": {
      "text/plain": [
       "<AxesSubplot:>"
      ]
     },
     "execution_count": 124,
     "metadata": {},
     "output_type": "execute_result"
    },
    {
     "data": {
      "image/png": "[encoded data removed]",
      "text/plain": [
       "<Figure size 1368x864 with 1 Axes>"
      ]
     },
     "metadata": {
      "needs_background": "light"
     },
     "output_type": "display_data"
    }
   ],
   "source": [
    "#relationship between residuals and predicted values\n",
    "\n",
    "sns.scatterplot(model_3.resid,model_3.fittedvalues)"
   ]
  },
  {
   "cell_type": "markdown",
   "id": "4e45e8ce",
   "metadata": {},
   "source": [
    "## 8.CONCLUSIONS FROM 3rd Iteration that is BEST MODEL"
   ]
  },
  {
   "cell_type": "markdown",
   "id": "99282ad2",
   "metadata": {},
   "source": [
    "#### Concrete_compressive_strength=(Cement x 0.105) + (Blast_Furnace_Slag x 0.087) + (Fly_Ash x 0.068) - (Water x 0.218) + (Superplasticizer x 0.240) + (Age x 0.113) "
   ]
  },
  {
   "cell_type": "markdown",
   "id": "c2937dfd",
   "metadata": {},
   "source": [
    "#### This means:\n",
    "- Addition of cement in the mixture increases the Concrete_compressive_strength\n",
    "- Addition of Blast Furnace Slag in the mixture increases the Concrete_compressive_strength\n",
    "- Addition of Fly Ash in the mixture increases the Concrete_compressive_strength\n",
    "- Addition of Water in the mixture decreases the Concrete_compressive_strength\n",
    "- Addition of Superplasticizer in the mixture increases the Concrete_compressive_strength\n",
    "- Longer the mixture ages it increases the Concrete_compressive_strength\n"
   ]
  },
  {
   "cell_type": "markdown",
   "id": "e60aa275",
   "metadata": {},
   "source": [
    "## 9.Best Model vs Base Model            #using sklearn"
   ]
  },
  {
   "cell_type": "code",
   "execution_count": 174,
   "id": "7508876d",
   "metadata": {},
   "outputs": [],
   "source": [
    "from sklearn.linear_model import LinearRegression"
   ]
  },
  {
   "cell_type": "code",
   "execution_count": 175,
   "id": "a906381c",
   "metadata": {},
   "outputs": [],
   "source": [
    "lr = LinearRegression()"
   ]
  },
  {
   "cell_type": "code",
   "execution_count": 176,
   "id": "c5cbc0c2",
   "metadata": {},
   "outputs": [],
   "source": [
    "from sklearn.model_selection import train_test_split"
   ]
  },
  {
   "cell_type": "code",
   "execution_count": 177,
   "id": "5740f79a",
   "metadata": {},
   "outputs": [],
   "source": [
    "X = df[['Cement', 'Blast_Furnace_Slag', 'Fly_Ash', 'Water', 'Superplasticizer',\n",
    "       'Coarse_Aggregate', 'Fine_Aggregate', 'Age']]\n",
    "Y = df['Concrete_compressive_strength']"
   ]
  },
  {
   "cell_type": "code",
   "execution_count": 178,
   "id": "64af8fb3",
   "metadata": {},
   "outputs": [],
   "source": [
    "X_train, X_test, Y_train, Y_test = train_test_split(X,Y,test_size=0.2,random_state=111)"
   ]
  },
  {
   "cell_type": "markdown",
   "id": "31f3aafc",
   "metadata": {},
   "source": [
    "### 9.1 Base Model building using sklearn Linear Regression "
   ]
  },
  {
   "cell_type": "code",
   "execution_count": 179,
   "id": "f0eb902a",
   "metadata": {},
   "outputs": [],
   "source": [
    "\n",
    "model_base = lr.fit(X_train[['Cement', 'Blast_Furnace_Slag', 'Fly_Ash', 'Water', 'Superplasticizer',\n",
    "       'Coarse_Aggregate', 'Fine_Aggregate', 'Age']],Y_train)"
   ]
  },
  {
   "cell_type": "code",
   "execution_count": 180,
   "id": "ebbf0b82",
   "metadata": {},
   "outputs": [],
   "source": [
    "#Training Data Prediction\n",
    "\n",
    "model_base_train = model_base.predict(X_train[['Cement', 'Blast_Furnace_Slag', 'Fly_Ash', 'Water', 'Superplasticizer',\n",
    "       'Coarse_Aggregate', 'Fine_Aggregate', 'Age']])"
   ]
  },
  {
   "cell_type": "code",
   "execution_count": 181,
   "id": "478f4c70",
   "metadata": {},
   "outputs": [],
   "source": [
    "#Test Data Prediction\n",
    "\n",
    "model_base_test = model_base.predict(X_test[['Cement', 'Blast_Furnace_Slag', 'Fly_Ash', 'Water', 'Superplasticizer',\n",
    "       'Coarse_Aggregate', 'Fine_Aggregate', 'Age']])"
   ]
  },
  {
   "cell_type": "code",
   "execution_count": 182,
   "id": "e2b1d2a5",
   "metadata": {},
   "outputs": [],
   "source": [
    "from sklearn.metrics import mean_squared_error"
   ]
  },
  {
   "cell_type": "code",
   "execution_count": 183,
   "id": "39b8ca4f",
   "metadata": {},
   "outputs": [
    {
     "name": "stdout",
     "output_type": "stream",
     "text": [
      "Training Data RMSE of model_base: 10.25\n",
      "Test Data RMSE of model_base: 10.3\n"
     ]
    }
   ],
   "source": [
    "RMSE_Train_base = np.round(np.sqrt(mean_squared_error(Y_train,model_base_train)),2)\n",
    "RMSE_Test_base = np.round(np.sqrt(mean_squared_error(Y_test,model_base_test)),2)\n",
    "\n",
    "\n",
    "print('Training Data RMSE of model_base:',RMSE_Train_base )\n",
    "print('Test Data RMSE of model_base:',RMSE_Test_base)"
   ]
  },
  {
   "cell_type": "code",
   "execution_count": 184,
   "id": "50078db3",
   "metadata": {},
   "outputs": [
    {
     "data": {
      "text/html": [
       "<div>\n",
       "<style scoped>\n",
       "    .dataframe tbody tr th:only-of-type {\n",
       "        vertical-align: middle;\n",
       "    }\n",
       "\n",
       "    .dataframe tbody tr th {\n",
       "        vertical-align: top;\n",
       "    }\n",
       "\n",
       "    .dataframe thead th {\n",
       "        text-align: right;\n",
       "    }\n",
       "</style>\n",
       "<table border=\"1\" class=\"dataframe\">\n",
       "  <thead>\n",
       "    <tr style=\"text-align: right;\">\n",
       "      <th></th>\n",
       "      <th>RMSE Training Data</th>\n",
       "      <th>RMSE Test Data</th>\n",
       "    </tr>\n",
       "  </thead>\n",
       "  <tbody>\n",
       "    <tr>\n",
       "      <th>Base Model</th>\n",
       "      <td>10.25</td>\n",
       "      <td>10.3</td>\n",
       "    </tr>\n",
       "  </tbody>\n",
       "</table>\n",
       "</div>"
      ],
      "text/plain": [
       "            RMSE Training Data  RMSE Test Data\n",
       "Base Model               10.25            10.3"
      ]
     },
     "execution_count": 184,
     "metadata": {},
     "output_type": "execute_result"
    }
   ],
   "source": [
    "resultDf_trn = pd.DataFrame({'RMSE Training Data':[RMSE_Train_base],'RMSE Test Data':[RMSE_Test_base]},index=['Base Model'])\n",
    "resultDf_trn"
   ]
  },
  {
   "cell_type": "markdown",
   "id": "49dfdfb0",
   "metadata": {},
   "source": [
    "### 9.2 Best Model building using sklearn Linear Regression "
   ]
  },
  {
   "cell_type": "code",
   "execution_count": 185,
   "id": "57b2fac9",
   "metadata": {},
   "outputs": [],
   "source": [
    "\n",
    "model_best = lr.fit(X_train[['Cement', 'Blast_Furnace_Slag', 'Fly_Ash', 'Water', 'Superplasticizer','Age']],Y_train)"
   ]
  },
  {
   "cell_type": "code",
   "execution_count": 186,
   "id": "8eb957da",
   "metadata": {},
   "outputs": [],
   "source": [
    "#Training Data Prediction\n",
    "\n",
    "model_best_train = model_best.predict(X_train[['Cement', 'Blast_Furnace_Slag', 'Fly_Ash', 'Water', 'Superplasticizer','Age']])"
   ]
  },
  {
   "cell_type": "code",
   "execution_count": 187,
   "id": "56823cda",
   "metadata": {},
   "outputs": [],
   "source": [
    "#Test Data Prediction\n",
    "\n",
    "model_best_test = model_best.predict(X_test[['Cement', 'Blast_Furnace_Slag', 'Fly_Ash', 'Water', 'Superplasticizer','Age']])"
   ]
  },
  {
   "cell_type": "code",
   "execution_count": 188,
   "id": "5774166a",
   "metadata": {},
   "outputs": [],
   "source": [
    "from sklearn.metrics import mean_squared_error"
   ]
  },
  {
   "cell_type": "code",
   "execution_count": 189,
   "id": "64f8a9f6",
   "metadata": {},
   "outputs": [
    {
     "name": "stdout",
     "output_type": "stream",
     "text": [
      "Training Data RMSE of model_base: 10.28\n",
      "Test Data RMSE of model_base: 10.23\n"
     ]
    }
   ],
   "source": [
    "RMSE_Train_best = np.round(np.sqrt(mean_squared_error(Y_train,model_best_train)),2)\n",
    "RMSE_Test_best = np.round(np.sqrt(mean_squared_error(Y_test,model_best_test)),2)\n",
    "\n",
    "\n",
    "print('Training Data RMSE of model_base:',RMSE_Train_best)\n",
    "print('Test Data RMSE of model_base:',RMSE_Test_best)"
   ]
  },
  {
   "cell_type": "code",
   "execution_count": 190,
   "id": "c6510c1a",
   "metadata": {},
   "outputs": [
    {
     "data": {
      "text/html": [
       "<div>\n",
       "<style scoped>\n",
       "    .dataframe tbody tr th:only-of-type {\n",
       "        vertical-align: middle;\n",
       "    }\n",
       "\n",
       "    .dataframe tbody tr th {\n",
       "        vertical-align: top;\n",
       "    }\n",
       "\n",
       "    .dataframe thead th {\n",
       "        text-align: right;\n",
       "    }\n",
       "</style>\n",
       "<table border=\"1\" class=\"dataframe\">\n",
       "  <thead>\n",
       "    <tr style=\"text-align: right;\">\n",
       "      <th></th>\n",
       "      <th>RMSE Training Data</th>\n",
       "      <th>RMSE Test Data</th>\n",
       "    </tr>\n",
       "  </thead>\n",
       "  <tbody>\n",
       "    <tr>\n",
       "      <th>Best Model</th>\n",
       "      <td>10.28</td>\n",
       "      <td>10.23</td>\n",
       "    </tr>\n",
       "  </tbody>\n",
       "</table>\n",
       "</div>"
      ],
      "text/plain": [
       "            RMSE Training Data  RMSE Test Data\n",
       "Best Model               10.28           10.23"
      ]
     },
     "execution_count": 190,
     "metadata": {},
     "output_type": "execute_result"
    }
   ],
   "source": [
    "resultDf_tst = pd.DataFrame({'RMSE Training Data':[RMSE_Train_best],'RMSE Test Data':[RMSE_Test_best]},index=['Best Model'])\n",
    "resultDf_tst"
   ]
  },
  {
   "cell_type": "code",
   "execution_count": 191,
   "id": "2986e3e2",
   "metadata": {},
   "outputs": [
    {
     "data": {
      "text/html": [
       "<div>\n",
       "<style scoped>\n",
       "    .dataframe tbody tr th:only-of-type {\n",
       "        vertical-align: middle;\n",
       "    }\n",
       "\n",
       "    .dataframe tbody tr th {\n",
       "        vertical-align: top;\n",
       "    }\n",
       "\n",
       "    .dataframe thead th {\n",
       "        text-align: right;\n",
       "    }\n",
       "</style>\n",
       "<table border=\"1\" class=\"dataframe\">\n",
       "  <thead>\n",
       "    <tr style=\"text-align: right;\">\n",
       "      <th></th>\n",
       "      <th>RMSE Training Data</th>\n",
       "      <th>RMSE Test Data</th>\n",
       "    </tr>\n",
       "  </thead>\n",
       "  <tbody>\n",
       "    <tr>\n",
       "      <th>Base Model</th>\n",
       "      <td>10.25</td>\n",
       "      <td>10.30</td>\n",
       "    </tr>\n",
       "    <tr>\n",
       "      <th>Best Model</th>\n",
       "      <td>10.28</td>\n",
       "      <td>10.23</td>\n",
       "    </tr>\n",
       "  </tbody>\n",
       "</table>\n",
       "</div>"
      ],
      "text/plain": [
       "            RMSE Training Data  RMSE Test Data\n",
       "Base Model               10.25           10.30\n",
       "Best Model               10.28           10.23"
      ]
     },
     "execution_count": 191,
     "metadata": {},
     "output_type": "execute_result"
    }
   ],
   "source": [
    "resultDf = pd.concat([resultDf_trn, resultDf_tst])\n",
    "resultDf"
   ]
  },
  {
   "cell_type": "code",
   "execution_count": 192,
   "id": "eb26c5e7",
   "metadata": {},
   "outputs": [],
   "source": [
    "#finished"
   ]
  },
  {
   "cell_type": "code",
   "execution_count": null,
   "id": "114579c9",
   "metadata": {},
   "outputs": [],
   "source": []
  },
  {
   "cell_type": "code",
   "execution_count": null,
   "id": "ff77469f",
   "metadata": {},
   "outputs": [],
   "source": []
  },
  {
   "cell_type": "code",
   "execution_count": null,
   "id": "20a7935c",
   "metadata": {},
   "outputs": [],
   "source": []
  }
 ],
 "metadata": {
  "kernelspec": {
   "display_name": "Python 3 (ipykernel)",
   "language": "python",
   "name": "python3"
  },
  "language_info": {
   "codemirror_mode": {
    "name": "ipython",
    "version": 3
   },
   "file_extension": ".py",
   "mimetype": "text/x-python",
   "name": "python",
   "nbconvert_exporter": "python",
   "pygments_lexer": "ipython3",
   "version": "3.9.7"
  }
 },
 "nbformat": 4,
 "nbformat_minor": 5
}
