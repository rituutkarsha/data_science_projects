{
 "cells": [
  {
   "cell_type": "markdown",
   "id": "05105451",
   "metadata": {},
   "source": [
    "# Problem Statement:\n",
    "\n",
    "You work for an office transport company. You are in discussions with ABC Consulting company for providing transport for their employees. For this purpose,you are tasked with understanding how do the employees of ABC Consulting prefer to commute presently (between home and office). Based on the parameters like age, salary, work experience etc. given in the data set ‘Transport.csv’,you are required to predict the preferred mode of transport. The project requires you to build several Machine Learning models and compare them so that the model can be finalised."
   ]
  },
  {
   "cell_type": "markdown",
   "id": "7765694b",
   "metadata": {},
   "source": [
    "# 1.1) Read the dataset. Do the descriptive statistics and do null value condition check."
   ]
  },
  {
   "cell_type": "code",
   "execution_count": 1,
   "id": "f642b2f4",
   "metadata": {},
   "outputs": [],
   "source": [
    "import pandas as pd\n",
    "import numpy as np\n",
    "import seaborn as sns\n",
    "import matplotlib.pyplot as plt\n",
    "%matplotlib inline\n",
    "from sklearn.model_selection import train_test_split,GridSearchCV\n",
    "from sklearn.linear_model import LogisticRegression\n",
    "from sklearn import metrics\n",
    "from sklearn.metrics import roc_auc_score,roc_curve,classification_report,confusion_matrix\n",
    "from sklearn.discriminant_analysis import LinearDiscriminantAnalysis\n",
    "from sklearn import metrics,model_selection\n",
    "from sklearn.preprocessing import scale\n",
    "from warnings import filterwarnings\n",
    "filterwarnings(\"ignore\")\n",
    "from scipy.stats import stats\n"
   ]
  },
  {
   "cell_type": "code",
   "execution_count": 2,
   "id": "22448a43",
   "metadata": {},
   "outputs": [
    {
     "data": {
      "text/html": [
       "<div>\n",
       "<style scoped>\n",
       "    .dataframe tbody tr th:only-of-type {\n",
       "        vertical-align: middle;\n",
       "    }\n",
       "\n",
       "    .dataframe tbody tr th {\n",
       "        vertical-align: top;\n",
       "    }\n",
       "\n",
       "    .dataframe thead th {\n",
       "        text-align: right;\n",
       "    }\n",
       "</style>\n",
       "<table border=\"1\" class=\"dataframe\">\n",
       "  <thead>\n",
       "    <tr style=\"text-align: right;\">\n",
       "      <th></th>\n",
       "      <th>Age</th>\n",
       "      <th>Gender</th>\n",
       "      <th>Engineer</th>\n",
       "      <th>MBA</th>\n",
       "      <th>Work Exp</th>\n",
       "      <th>Salary</th>\n",
       "      <th>Distance</th>\n",
       "      <th>license</th>\n",
       "      <th>Transport</th>\n",
       "    </tr>\n",
       "  </thead>\n",
       "  <tbody>\n",
       "    <tr>\n",
       "      <th>0</th>\n",
       "      <td>28</td>\n",
       "      <td>Male</td>\n",
       "      <td>0</td>\n",
       "      <td>0</td>\n",
       "      <td>4</td>\n",
       "      <td>14.3</td>\n",
       "      <td>3.2</td>\n",
       "      <td>0</td>\n",
       "      <td>Public Transport</td>\n",
       "    </tr>\n",
       "    <tr>\n",
       "      <th>1</th>\n",
       "      <td>23</td>\n",
       "      <td>Female</td>\n",
       "      <td>1</td>\n",
       "      <td>0</td>\n",
       "      <td>4</td>\n",
       "      <td>8.3</td>\n",
       "      <td>3.3</td>\n",
       "      <td>0</td>\n",
       "      <td>Public Transport</td>\n",
       "    </tr>\n",
       "    <tr>\n",
       "      <th>2</th>\n",
       "      <td>29</td>\n",
       "      <td>Male</td>\n",
       "      <td>1</td>\n",
       "      <td>0</td>\n",
       "      <td>7</td>\n",
       "      <td>13.4</td>\n",
       "      <td>4.1</td>\n",
       "      <td>0</td>\n",
       "      <td>Public Transport</td>\n",
       "    </tr>\n",
       "    <tr>\n",
       "      <th>3</th>\n",
       "      <td>28</td>\n",
       "      <td>Female</td>\n",
       "      <td>1</td>\n",
       "      <td>1</td>\n",
       "      <td>5</td>\n",
       "      <td>13.4</td>\n",
       "      <td>4.5</td>\n",
       "      <td>0</td>\n",
       "      <td>Public Transport</td>\n",
       "    </tr>\n",
       "    <tr>\n",
       "      <th>4</th>\n",
       "      <td>27</td>\n",
       "      <td>Male</td>\n",
       "      <td>1</td>\n",
       "      <td>0</td>\n",
       "      <td>4</td>\n",
       "      <td>13.4</td>\n",
       "      <td>4.6</td>\n",
       "      <td>0</td>\n",
       "      <td>Public Transport</td>\n",
       "    </tr>\n",
       "  </tbody>\n",
       "</table>\n",
       "</div>"
      ],
      "text/plain": [
       "   Age  Gender  Engineer  MBA  Work Exp  Salary  Distance  license  \\\n",
       "0   28    Male         0    0         4    14.3       3.2        0   \n",
       "1   23  Female         1    0         4     8.3       3.3        0   \n",
       "2   29    Male         1    0         7    13.4       4.1        0   \n",
       "3   28  Female         1    1         5    13.4       4.5        0   \n",
       "4   27    Male         1    0         4    13.4       4.6        0   \n",
       "\n",
       "          Transport  \n",
       "0  Public Transport  \n",
       "1  Public Transport  \n",
       "2  Public Transport  \n",
       "3  Public Transport  \n",
       "4  Public Transport  "
      ]
     },
     "execution_count": 2,
     "metadata": {},
     "output_type": "execute_result"
    }
   ],
   "source": [
    "\n",
    "df=pd.read_csv('Transport.csv')\n",
    "df.head()\n"
   ]
  },
  {
   "cell_type": "code",
   "execution_count": 3,
   "id": "880f25fd",
   "metadata": {},
   "outputs": [
    {
     "data": {
      "text/html": [
       "<div>\n",
       "<style scoped>\n",
       "    .dataframe tbody tr th:only-of-type {\n",
       "        vertical-align: middle;\n",
       "    }\n",
       "\n",
       "    .dataframe tbody tr th {\n",
       "        vertical-align: top;\n",
       "    }\n",
       "\n",
       "    .dataframe thead th {\n",
       "        text-align: right;\n",
       "    }\n",
       "</style>\n",
       "<table border=\"1\" class=\"dataframe\">\n",
       "  <thead>\n",
       "    <tr style=\"text-align: right;\">\n",
       "      <th></th>\n",
       "      <th>Age</th>\n",
       "      <th>Gender</th>\n",
       "      <th>Engineer</th>\n",
       "      <th>MBA</th>\n",
       "      <th>Work Exp</th>\n",
       "      <th>Salary</th>\n",
       "      <th>Distance</th>\n",
       "      <th>license</th>\n",
       "      <th>Transport</th>\n",
       "    </tr>\n",
       "  </thead>\n",
       "  <tbody>\n",
       "    <tr>\n",
       "      <th>439</th>\n",
       "      <td>40</td>\n",
       "      <td>Male</td>\n",
       "      <td>1</td>\n",
       "      <td>0</td>\n",
       "      <td>20</td>\n",
       "      <td>57.0</td>\n",
       "      <td>21.4</td>\n",
       "      <td>1</td>\n",
       "      <td>Private Transport</td>\n",
       "    </tr>\n",
       "    <tr>\n",
       "      <th>440</th>\n",
       "      <td>38</td>\n",
       "      <td>Male</td>\n",
       "      <td>1</td>\n",
       "      <td>0</td>\n",
       "      <td>19</td>\n",
       "      <td>44.0</td>\n",
       "      <td>21.5</td>\n",
       "      <td>1</td>\n",
       "      <td>Private Transport</td>\n",
       "    </tr>\n",
       "    <tr>\n",
       "      <th>441</th>\n",
       "      <td>37</td>\n",
       "      <td>Male</td>\n",
       "      <td>1</td>\n",
       "      <td>0</td>\n",
       "      <td>19</td>\n",
       "      <td>45.0</td>\n",
       "      <td>21.5</td>\n",
       "      <td>1</td>\n",
       "      <td>Private Transport</td>\n",
       "    </tr>\n",
       "    <tr>\n",
       "      <th>442</th>\n",
       "      <td>37</td>\n",
       "      <td>Male</td>\n",
       "      <td>0</td>\n",
       "      <td>0</td>\n",
       "      <td>19</td>\n",
       "      <td>47.0</td>\n",
       "      <td>22.8</td>\n",
       "      <td>1</td>\n",
       "      <td>Private Transport</td>\n",
       "    </tr>\n",
       "    <tr>\n",
       "      <th>443</th>\n",
       "      <td>39</td>\n",
       "      <td>Male</td>\n",
       "      <td>1</td>\n",
       "      <td>1</td>\n",
       "      <td>21</td>\n",
       "      <td>50.0</td>\n",
       "      <td>23.4</td>\n",
       "      <td>1</td>\n",
       "      <td>Private Transport</td>\n",
       "    </tr>\n",
       "  </tbody>\n",
       "</table>\n",
       "</div>"
      ],
      "text/plain": [
       "     Age Gender  Engineer  MBA  Work Exp  Salary  Distance  license  \\\n",
       "439   40   Male         1    0        20    57.0      21.4        1   \n",
       "440   38   Male         1    0        19    44.0      21.5        1   \n",
       "441   37   Male         1    0        19    45.0      21.5        1   \n",
       "442   37   Male         0    0        19    47.0      22.8        1   \n",
       "443   39   Male         1    1        21    50.0      23.4        1   \n",
       "\n",
       "             Transport  \n",
       "439  Private Transport  \n",
       "440  Private Transport  \n",
       "441  Private Transport  \n",
       "442  Private Transport  \n",
       "443  Private Transport  "
      ]
     },
     "execution_count": 3,
     "metadata": {},
     "output_type": "execute_result"
    }
   ],
   "source": [
    "df.tail()"
   ]
  },
  {
   "cell_type": "markdown",
   "id": "7e3ebdeb",
   "metadata": {},
   "source": [
    "#Descriptive statistics is the process of using statistical techniques to describe or summarize a set of data. As one of the major types of data analysis, descriptive analysis is popular for its ability to generate accessible insights from otherwise uninterpreted data."
   ]
  },
  {
   "cell_type": "code",
   "execution_count": 4,
   "id": "2a741426",
   "metadata": {},
   "outputs": [
    {
     "data": {
      "text/plain": [
       "(444, 9)"
      ]
     },
     "execution_count": 4,
     "metadata": {},
     "output_type": "execute_result"
    }
   ],
   "source": [
    "df.shape"
   ]
  },
  {
   "cell_type": "code",
   "execution_count": 5,
   "id": "ba3ea431",
   "metadata": {},
   "outputs": [
    {
     "data": {
      "text/html": [
       "<div>\n",
       "<style scoped>\n",
       "    .dataframe tbody tr th:only-of-type {\n",
       "        vertical-align: middle;\n",
       "    }\n",
       "\n",
       "    .dataframe tbody tr th {\n",
       "        vertical-align: top;\n",
       "    }\n",
       "\n",
       "    .dataframe thead th {\n",
       "        text-align: right;\n",
       "    }\n",
       "</style>\n",
       "<table border=\"1\" class=\"dataframe\">\n",
       "  <thead>\n",
       "    <tr style=\"text-align: right;\">\n",
       "      <th></th>\n",
       "      <th>count</th>\n",
       "      <th>mean</th>\n",
       "      <th>std</th>\n",
       "      <th>min</th>\n",
       "      <th>25%</th>\n",
       "      <th>50%</th>\n",
       "      <th>75%</th>\n",
       "      <th>max</th>\n",
       "    </tr>\n",
       "  </thead>\n",
       "  <tbody>\n",
       "    <tr>\n",
       "      <th>Age</th>\n",
       "      <td>444.0</td>\n",
       "      <td>27.747748</td>\n",
       "      <td>4.416710</td>\n",
       "      <td>18.0</td>\n",
       "      <td>25.0</td>\n",
       "      <td>27.0</td>\n",
       "      <td>30.000</td>\n",
       "      <td>43.0</td>\n",
       "    </tr>\n",
       "    <tr>\n",
       "      <th>Engineer</th>\n",
       "      <td>444.0</td>\n",
       "      <td>0.754505</td>\n",
       "      <td>0.430866</td>\n",
       "      <td>0.0</td>\n",
       "      <td>1.0</td>\n",
       "      <td>1.0</td>\n",
       "      <td>1.000</td>\n",
       "      <td>1.0</td>\n",
       "    </tr>\n",
       "    <tr>\n",
       "      <th>MBA</th>\n",
       "      <td>444.0</td>\n",
       "      <td>0.252252</td>\n",
       "      <td>0.434795</td>\n",
       "      <td>0.0</td>\n",
       "      <td>0.0</td>\n",
       "      <td>0.0</td>\n",
       "      <td>1.000</td>\n",
       "      <td>1.0</td>\n",
       "    </tr>\n",
       "    <tr>\n",
       "      <th>Work Exp</th>\n",
       "      <td>444.0</td>\n",
       "      <td>6.299550</td>\n",
       "      <td>5.112098</td>\n",
       "      <td>0.0</td>\n",
       "      <td>3.0</td>\n",
       "      <td>5.0</td>\n",
       "      <td>8.000</td>\n",
       "      <td>24.0</td>\n",
       "    </tr>\n",
       "    <tr>\n",
       "      <th>Salary</th>\n",
       "      <td>444.0</td>\n",
       "      <td>16.238739</td>\n",
       "      <td>10.453851</td>\n",
       "      <td>6.5</td>\n",
       "      <td>9.8</td>\n",
       "      <td>13.6</td>\n",
       "      <td>15.725</td>\n",
       "      <td>57.0</td>\n",
       "    </tr>\n",
       "    <tr>\n",
       "      <th>Distance</th>\n",
       "      <td>444.0</td>\n",
       "      <td>11.323198</td>\n",
       "      <td>3.606149</td>\n",
       "      <td>3.2</td>\n",
       "      <td>8.8</td>\n",
       "      <td>11.0</td>\n",
       "      <td>13.425</td>\n",
       "      <td>23.4</td>\n",
       "    </tr>\n",
       "    <tr>\n",
       "      <th>license</th>\n",
       "      <td>444.0</td>\n",
       "      <td>0.234234</td>\n",
       "      <td>0.423997</td>\n",
       "      <td>0.0</td>\n",
       "      <td>0.0</td>\n",
       "      <td>0.0</td>\n",
       "      <td>0.000</td>\n",
       "      <td>1.0</td>\n",
       "    </tr>\n",
       "  </tbody>\n",
       "</table>\n",
       "</div>"
      ],
      "text/plain": [
       "          count       mean        std   min   25%   50%     75%   max\n",
       "Age       444.0  27.747748   4.416710  18.0  25.0  27.0  30.000  43.0\n",
       "Engineer  444.0   0.754505   0.430866   0.0   1.0   1.0   1.000   1.0\n",
       "MBA       444.0   0.252252   0.434795   0.0   0.0   0.0   1.000   1.0\n",
       "Work Exp  444.0   6.299550   5.112098   0.0   3.0   5.0   8.000  24.0\n",
       "Salary    444.0  16.238739  10.453851   6.5   9.8  13.6  15.725  57.0\n",
       "Distance  444.0  11.323198   3.606149   3.2   8.8  11.0  13.425  23.4\n",
       "license   444.0   0.234234   0.423997   0.0   0.0   0.0   0.000   1.0"
      ]
     },
     "execution_count": 5,
     "metadata": {},
     "output_type": "execute_result"
    }
   ],
   "source": [
    "df.describe().T          #Checking the 5 point Summary of the Dataset.\n",
    "##Descriptive statistics include those that summarize the central tendency, dispersion and shape of a dataset’s distribution,"
   ]
  },
  {
   "cell_type": "markdown",
   "id": "ca3a9b42",
   "metadata": {},
   "source": [
    "From the above table we can infer the count,mean, std , 25% , 50% ,75% and min & max values of the all numeric variables present in the dataset.\n",
    "\n",
    "From the above table we can infer the count,unique,top,freq of all the categorical variables present in the dataset."
   ]
  },
  {
   "cell_type": "code",
   "execution_count": 6,
   "id": "0f1405a5",
   "metadata": {},
   "outputs": [
    {
     "data": {
      "text/plain": [
       "Age          0\n",
       "Gender       0\n",
       "Engineer     0\n",
       "MBA          0\n",
       "Work Exp     0\n",
       "Salary       0\n",
       "Distance     0\n",
       "license      0\n",
       "Transport    0\n",
       "dtype: int64"
      ]
     },
     "execution_count": 6,
     "metadata": {},
     "output_type": "execute_result"
    }
   ],
   "source": [
    "df.isnull().sum() #no null values"
   ]
  },
  {
   "cell_type": "markdown",
   "id": "a4ee5f09",
   "metadata": {},
   "source": [
    "# 1.2 Perform EDA (Check the null values, Data types, shape, Univariate, bivariate analysis). Also check for outliers (5 pts). Interpret the inferences for each (3 pts)"
   ]
  },
  {
   "cell_type": "markdown",
   "id": "9f80e89b",
   "metadata": {},
   "source": [
    "# EDA"
   ]
  },
  {
   "cell_type": "markdown",
   "id": "5bcc37b6",
   "metadata": {},
   "source": [
    "Exploratory Data Analysis, or EDA, is an important step in any Data Analysis or Data Science project. EDA is the process of investigating the dataset to discover patterns, and anomalies (outliers), and form hypotheses based on our understanding of the dataset.\n",
    "\n",
    "EDA involves generating summary statistics for numerical data in the dataset and creating various graphical representations to understand the data better"
   ]
  },
  {
   "cell_type": "code",
   "execution_count": 7,
   "id": "4ab43173",
   "metadata": {},
   "outputs": [
    {
     "name": "stdout",
     "output_type": "stream",
     "text": [
      "number of rows: 444\n",
      "number of columns: 9\n"
     ]
    }
   ],
   "source": [
    "\n",
    "print('number of rows:',df.shape[0])\n",
    "print('number of columns:',df.shape[1])      #shape"
   ]
  },
  {
   "cell_type": "code",
   "execution_count": 8,
   "id": "4c242b5a",
   "metadata": {},
   "outputs": [
    {
     "data": {
      "text/plain": [
       "3996"
      ]
     },
     "execution_count": 8,
     "metadata": {},
     "output_type": "execute_result"
    }
   ],
   "source": [
    "df.size\n"
   ]
  },
  {
   "cell_type": "code",
   "execution_count": 9,
   "id": "9088dd80",
   "metadata": {},
   "outputs": [
    {
     "name": "stdout",
     "output_type": "stream",
     "text": [
      "<class 'pandas.core.frame.DataFrame'>\n",
      "RangeIndex: 444 entries, 0 to 443\n",
      "Data columns (total 9 columns):\n",
      " #   Column     Non-Null Count  Dtype  \n",
      "---  ------     --------------  -----  \n",
      " 0   Age        444 non-null    int64  \n",
      " 1   Gender     444 non-null    object \n",
      " 2   Engineer   444 non-null    int64  \n",
      " 3   MBA        444 non-null    int64  \n",
      " 4   Work Exp   444 non-null    int64  \n",
      " 5   Salary     444 non-null    float64\n",
      " 6   Distance   444 non-null    float64\n",
      " 7   license    444 non-null    int64  \n",
      " 8   Transport  444 non-null    object \n",
      "dtypes: float64(2), int64(5), object(2)\n",
      "memory usage: 31.3+ KB\n"
     ]
    }
   ],
   "source": [
    "\n",
    "df.info()"
   ]
  },
  {
   "cell_type": "code",
   "execution_count": 10,
   "id": "4da105ea",
   "metadata": {},
   "outputs": [
    {
     "data": {
      "text/plain": [
       "Age            int64\n",
       "Gender        object\n",
       "Engineer       int64\n",
       "MBA            int64\n",
       "Work Exp       int64\n",
       "Salary       float64\n",
       "Distance     float64\n",
       "license        int64\n",
       "Transport     object\n",
       "dtype: object"
      ]
     },
     "execution_count": 10,
     "metadata": {},
     "output_type": "execute_result"
    }
   ],
   "source": [
    "\n",
    "df.dtypes         #data types\n",
    "     "
   ]
  },
  {
   "cell_type": "code",
   "execution_count": 11,
   "id": "c2456096",
   "metadata": {},
   "outputs": [
    {
     "data": {
      "text/plain": [
       "Age         0.955276\n",
       "Engineer   -1.186708\n",
       "MBA         1.144763\n",
       "Work Exp    1.352840\n",
       "Salary      2.044533\n",
       "Distance    0.539851\n",
       "license     1.259293\n",
       "dtype: float64"
      ]
     },
     "execution_count": 11,
     "metadata": {},
     "output_type": "execute_result"
    }
   ],
   "source": [
    "df.skew()"
   ]
  },
  {
   "cell_type": "markdown",
   "id": "c10a070e",
   "metadata": {},
   "source": [
    "\n",
    "Making different list for categorical columns and numerical columns"
   ]
  },
  {
   "cell_type": "code",
   "execution_count": 12,
   "id": "054ecf02",
   "metadata": {},
   "outputs": [
    {
     "name": "stdout",
     "output_type": "stream",
     "text": [
      "['Gender', 'Transport']\n",
      "['Age', 'Engineer', 'MBA', 'Work Exp', 'Salary', 'Distance', 'license']\n"
     ]
    }
   ],
   "source": [
    "cat=[]\n",
    "num=[]\n",
    "for i in df.columns:\n",
    "    if df[i].dtype==\"object\":\n",
    "        cat.append(i)\n",
    "    else:\n",
    "        num.append(i)\n",
    "print(cat) \n",
    "print(num)\n",
    "\n",
    "    "
   ]
  },
  {
   "cell_type": "markdown",
   "id": "de2b11b5",
   "metadata": {},
   "source": [
    "The above output shows that there is no “null” value in our dataset. (“?” or ” ”) these two symbols are most commonly detected. \n",
    "\n",
    "Let’s try to test whether any categorical attribute contains a “?” in it or not. At times there exists “?” or ” ” in place of missing values. Using the below code snippet we are going to test whether adult_df data frame consists of categorical variables \n",
    "with values as “?”."
   ]
  },
  {
   "cell_type": "code",
   "execution_count": 13,
   "id": "60f731f8",
   "metadata": {},
   "outputs": [
    {
     "name": "stdout",
     "output_type": "stream",
     "text": [
      "Gender : 0\n",
      "Transport : 0\n"
     ]
    }
   ],
   "source": [
    "for variable in cat:\n",
    "    print(variable,\":\", sum(df[variable] == '?'))"
   ]
  },
  {
   "cell_type": "markdown",
   "id": "4aa4d183",
   "metadata": {},
   "source": [
    "The output of the above code snippet shows that there are  no \"?\" or \" \" present in the data set"
   ]
  },
  {
   "cell_type": "markdown",
   "id": "bc7bf064",
   "metadata": {},
   "source": [
    "# Data preprocessing"
   ]
  },
  {
   "cell_type": "markdown",
   "id": "b36d3ce3",
   "metadata": {},
   "source": [
    "\n",
    "We need some summary statistics of our dataframe. For this, we can use describe() method. It can be used to generate various summary statistics."
   ]
  },
  {
   "cell_type": "markdown",
   "id": "09d55402",
   "metadata": {},
   "source": [
    " Describe for numerical and categorical columns"
   ]
  },
  {
   "cell_type": "code",
   "execution_count": 14,
   "id": "fc16cf96",
   "metadata": {},
   "outputs": [
    {
     "data": {
      "text/html": [
       "<div>\n",
       "<style scoped>\n",
       "    .dataframe tbody tr th:only-of-type {\n",
       "        vertical-align: middle;\n",
       "    }\n",
       "\n",
       "    .dataframe tbody tr th {\n",
       "        vertical-align: top;\n",
       "    }\n",
       "\n",
       "    .dataframe thead th {\n",
       "        text-align: right;\n",
       "    }\n",
       "</style>\n",
       "<table border=\"1\" class=\"dataframe\">\n",
       "  <thead>\n",
       "    <tr style=\"text-align: right;\">\n",
       "      <th></th>\n",
       "      <th>count</th>\n",
       "      <th>unique</th>\n",
       "      <th>top</th>\n",
       "      <th>freq</th>\n",
       "    </tr>\n",
       "  </thead>\n",
       "  <tbody>\n",
       "    <tr>\n",
       "      <th>Gender</th>\n",
       "      <td>444</td>\n",
       "      <td>2</td>\n",
       "      <td>Male</td>\n",
       "      <td>316</td>\n",
       "    </tr>\n",
       "    <tr>\n",
       "      <th>Transport</th>\n",
       "      <td>444</td>\n",
       "      <td>2</td>\n",
       "      <td>Public Transport</td>\n",
       "      <td>300</td>\n",
       "    </tr>\n",
       "  </tbody>\n",
       "</table>\n",
       "</div>"
      ],
      "text/plain": [
       "          count unique               top freq\n",
       "Gender      444      2              Male  316\n",
       "Transport   444      2  Public Transport  300"
      ]
     },
     "execution_count": 14,
     "metadata": {},
     "output_type": "execute_result"
    }
   ],
   "source": [
    "df[cat].describe().T"
   ]
  },
  {
   "cell_type": "code",
   "execution_count": 15,
   "id": "d91a3a6c",
   "metadata": {},
   "outputs": [
    {
     "data": {
      "text/html": [
       "<div>\n",
       "<style scoped>\n",
       "    .dataframe tbody tr th:only-of-type {\n",
       "        vertical-align: middle;\n",
       "    }\n",
       "\n",
       "    .dataframe tbody tr th {\n",
       "        vertical-align: top;\n",
       "    }\n",
       "\n",
       "    .dataframe thead th {\n",
       "        text-align: right;\n",
       "    }\n",
       "</style>\n",
       "<table border=\"1\" class=\"dataframe\">\n",
       "  <thead>\n",
       "    <tr style=\"text-align: right;\">\n",
       "      <th></th>\n",
       "      <th>count</th>\n",
       "      <th>mean</th>\n",
       "      <th>std</th>\n",
       "      <th>min</th>\n",
       "      <th>25%</th>\n",
       "      <th>50%</th>\n",
       "      <th>75%</th>\n",
       "      <th>max</th>\n",
       "    </tr>\n",
       "  </thead>\n",
       "  <tbody>\n",
       "    <tr>\n",
       "      <th>Age</th>\n",
       "      <td>444.0</td>\n",
       "      <td>27.747748</td>\n",
       "      <td>4.416710</td>\n",
       "      <td>18.0</td>\n",
       "      <td>25.0</td>\n",
       "      <td>27.0</td>\n",
       "      <td>30.000</td>\n",
       "      <td>43.0</td>\n",
       "    </tr>\n",
       "    <tr>\n",
       "      <th>Engineer</th>\n",
       "      <td>444.0</td>\n",
       "      <td>0.754505</td>\n",
       "      <td>0.430866</td>\n",
       "      <td>0.0</td>\n",
       "      <td>1.0</td>\n",
       "      <td>1.0</td>\n",
       "      <td>1.000</td>\n",
       "      <td>1.0</td>\n",
       "    </tr>\n",
       "    <tr>\n",
       "      <th>MBA</th>\n",
       "      <td>444.0</td>\n",
       "      <td>0.252252</td>\n",
       "      <td>0.434795</td>\n",
       "      <td>0.0</td>\n",
       "      <td>0.0</td>\n",
       "      <td>0.0</td>\n",
       "      <td>1.000</td>\n",
       "      <td>1.0</td>\n",
       "    </tr>\n",
       "    <tr>\n",
       "      <th>Work Exp</th>\n",
       "      <td>444.0</td>\n",
       "      <td>6.299550</td>\n",
       "      <td>5.112098</td>\n",
       "      <td>0.0</td>\n",
       "      <td>3.0</td>\n",
       "      <td>5.0</td>\n",
       "      <td>8.000</td>\n",
       "      <td>24.0</td>\n",
       "    </tr>\n",
       "    <tr>\n",
       "      <th>Salary</th>\n",
       "      <td>444.0</td>\n",
       "      <td>16.238739</td>\n",
       "      <td>10.453851</td>\n",
       "      <td>6.5</td>\n",
       "      <td>9.8</td>\n",
       "      <td>13.6</td>\n",
       "      <td>15.725</td>\n",
       "      <td>57.0</td>\n",
       "    </tr>\n",
       "    <tr>\n",
       "      <th>Distance</th>\n",
       "      <td>444.0</td>\n",
       "      <td>11.323198</td>\n",
       "      <td>3.606149</td>\n",
       "      <td>3.2</td>\n",
       "      <td>8.8</td>\n",
       "      <td>11.0</td>\n",
       "      <td>13.425</td>\n",
       "      <td>23.4</td>\n",
       "    </tr>\n",
       "    <tr>\n",
       "      <th>license</th>\n",
       "      <td>444.0</td>\n",
       "      <td>0.234234</td>\n",
       "      <td>0.423997</td>\n",
       "      <td>0.0</td>\n",
       "      <td>0.0</td>\n",
       "      <td>0.0</td>\n",
       "      <td>0.000</td>\n",
       "      <td>1.0</td>\n",
       "    </tr>\n",
       "  </tbody>\n",
       "</table>\n",
       "</div>"
      ],
      "text/plain": [
       "          count       mean        std   min   25%   50%     75%   max\n",
       "Age       444.0  27.747748   4.416710  18.0  25.0  27.0  30.000  43.0\n",
       "Engineer  444.0   0.754505   0.430866   0.0   1.0   1.0   1.000   1.0\n",
       "MBA       444.0   0.252252   0.434795   0.0   0.0   0.0   1.000   1.0\n",
       "Work Exp  444.0   6.299550   5.112098   0.0   3.0   5.0   8.000  24.0\n",
       "Salary    444.0  16.238739  10.453851   6.5   9.8  13.6  15.725  57.0\n",
       "Distance  444.0  11.323198   3.606149   3.2   8.8  11.0  13.425  23.4\n",
       "license   444.0   0.234234   0.423997   0.0   0.0   0.0   0.000   1.0"
      ]
     },
     "execution_count": 15,
     "metadata": {},
     "output_type": "execute_result"
    }
   ],
   "source": [
    "df[num].describe().T"
   ]
  },
  {
   "cell_type": "code",
   "execution_count": 16,
   "id": "d8bde530",
   "metadata": {},
   "outputs": [],
   "source": [
    "\n",
    "#Checking for duplicate data"
   ]
  },
  {
   "cell_type": "code",
   "execution_count": 17,
   "id": "80c5f5b5",
   "metadata": {},
   "outputs": [
    {
     "name": "stdout",
     "output_type": "stream",
     "text": [
      "Number of duplicate rows = 0\n"
     ]
    },
    {
     "data": {
      "text/html": [
       "<div>\n",
       "<style scoped>\n",
       "    .dataframe tbody tr th:only-of-type {\n",
       "        vertical-align: middle;\n",
       "    }\n",
       "\n",
       "    .dataframe tbody tr th {\n",
       "        vertical-align: top;\n",
       "    }\n",
       "\n",
       "    .dataframe thead th {\n",
       "        text-align: right;\n",
       "    }\n",
       "</style>\n",
       "<table border=\"1\" class=\"dataframe\">\n",
       "  <thead>\n",
       "    <tr style=\"text-align: right;\">\n",
       "      <th></th>\n",
       "      <th>Age</th>\n",
       "      <th>Gender</th>\n",
       "      <th>Engineer</th>\n",
       "      <th>MBA</th>\n",
       "      <th>Work Exp</th>\n",
       "      <th>Salary</th>\n",
       "      <th>Distance</th>\n",
       "      <th>license</th>\n",
       "      <th>Transport</th>\n",
       "    </tr>\n",
       "  </thead>\n",
       "  <tbody>\n",
       "  </tbody>\n",
       "</table>\n",
       "</div>"
      ],
      "text/plain": [
       "Empty DataFrame\n",
       "Columns: [Age, Gender, Engineer, MBA, Work Exp, Salary, Distance, license, Transport]\n",
       "Index: []"
      ]
     },
     "execution_count": 17,
     "metadata": {},
     "output_type": "execute_result"
    }
   ],
   "source": [
    "dups = df.duplicated()\n",
    "print('Number of duplicate rows = %d' % (dups.sum()))\n",
    "\n",
    "df[dups]            #no duplicate records"
   ]
  },
  {
   "cell_type": "markdown",
   "id": "49241765",
   "metadata": {},
   "source": [
    "### Unique values for categorical variables"
   ]
  },
  {
   "cell_type": "code",
   "execution_count": 18,
   "id": "8351809f",
   "metadata": {},
   "outputs": [
    {
     "name": "stdout",
     "output_type": "stream",
     "text": [
      "GENDER :  2\n",
      "Female    128\n",
      "Male      316\n",
      "Name: Gender, dtype: int64\n",
      "\n",
      "\n",
      "TRANSPORT :  2\n",
      "Private Transport    144\n",
      "Public Transport     300\n",
      "Name: Transport, dtype: int64\n",
      "\n",
      "\n"
     ]
    }
   ],
   "source": [
    "for column in df.columns:\n",
    "    if df[column].dtype == 'object':\n",
    "        print(column.upper(),': ',df[column].nunique())\n",
    "        print(df[column].value_counts().sort_values())\n",
    "        print('\\n')"
   ]
  },
  {
   "cell_type": "code",
   "execution_count": 19,
   "id": "2a9dc71d",
   "metadata": {},
   "outputs": [
    {
     "data": {
      "text/plain": [
       "Age            int64\n",
       "Gender        object\n",
       "Engineer       int64\n",
       "MBA            int64\n",
       "Work Exp       int64\n",
       "Salary       float64\n",
       "Distance     float64\n",
       "license        int64\n",
       "Transport     object\n",
       "dtype: object"
      ]
     },
     "execution_count": 19,
     "metadata": {},
     "output_type": "execute_result"
    }
   ],
   "source": [
    "\n",
    "df.dtypes         #data types"
   ]
  },
  {
   "cell_type": "code",
   "execution_count": 20,
   "id": "7caa89c8",
   "metadata": {},
   "outputs": [
    {
     "data": {
      "text/plain": [
       "0"
      ]
     },
     "execution_count": 20,
     "metadata": {},
     "output_type": "execute_result"
    }
   ],
   "source": [
    "0"
   ]
  },
  {
   "cell_type": "code",
   "execution_count": 21,
   "id": "7262be32",
   "metadata": {},
   "outputs": [
    {
     "name": "stdout",
     "output_type": "stream",
     "text": [
      "Age\n",
      "26    63\n",
      "27    49\n",
      "28    46\n",
      "24    46\n",
      "25    37\n",
      "30    34\n",
      "29    26\n",
      "23    24\n",
      "31    16\n",
      "22    15\n",
      "32    13\n",
      "33    11\n",
      "34    11\n",
      "38     9\n",
      "21     8\n",
      "39     7\n",
      "40     7\n",
      "36     6\n",
      "20     5\n",
      "37     4\n",
      "35     2\n",
      "18     2\n",
      "19     1\n",
      "42     1\n",
      "43     1\n",
      "Name: Age, dtype: int64\n",
      "Gender\n",
      "Male      316\n",
      "Female    128\n",
      "Name: Gender, dtype: int64\n",
      "Engineer\n",
      "1    335\n",
      "0    109\n",
      "Name: Engineer, dtype: int64\n",
      "MBA\n",
      "0    332\n",
      "1    112\n",
      "Name: MBA, dtype: int64\n",
      "Work Exp\n",
      "4     54\n",
      "2     47\n",
      "3     46\n",
      "6     46\n",
      "5     42\n",
      "0     29\n",
      "7     28\n",
      "8     28\n",
      "1     22\n",
      "9     21\n",
      "10    14\n",
      "11    11\n",
      "19    10\n",
      "14     8\n",
      "21     6\n",
      "20     6\n",
      "16     5\n",
      "12     5\n",
      "18     5\n",
      "13     3\n",
      "22     3\n",
      "17     2\n",
      "15     2\n",
      "24     1\n",
      "Name: Work Exp, dtype: int64\n",
      "Salary\n",
      "14.6    22\n",
      "8.5     13\n",
      "13.6    12\n",
      "12.8    12\n",
      "14.9    11\n",
      "        ..\n",
      "16.7     1\n",
      "22.7     1\n",
      "29.9     1\n",
      "18.9     1\n",
      "50.0     1\n",
      "Name: Salary, Length: 122, dtype: int64\n",
      "Distance\n",
      "12.2    12\n",
      "8.1     11\n",
      "9.0      9\n",
      "11.7     8\n",
      "9.4      7\n",
      "        ..\n",
      "14.5     1\n",
      "15.4     1\n",
      "16.2     1\n",
      "16.5     1\n",
      "23.4     1\n",
      "Name: Distance, Length: 137, dtype: int64\n",
      "license\n",
      "0    340\n",
      "1    104\n",
      "Name: license, dtype: int64\n",
      "Transport\n",
      "Public Transport     300\n",
      "Private Transport    144\n",
      "Name: Transport, dtype: int64\n"
     ]
    }
   ],
   "source": [
    "for col in df.columns:\n",
    "  print(col)\n",
    "  print(df[col].value_counts())\n"
   ]
  },
  {
   "cell_type": "code",
   "execution_count": 22,
   "id": "fff17aa1",
   "metadata": {},
   "outputs": [],
   "source": [
    "#From the above ,we can see that the Categorical variables are :\n",
    "\n",
    "#Gender\n",
    "#Engineer\n",
    "#MBA\n",
    "#License\n",
    "#Transport"
   ]
  },
  {
   "cell_type": "code",
   "execution_count": 23,
   "id": "14533396",
   "metadata": {},
   "outputs": [],
   "source": [
    "# Changing the data types of the categorical variables\n",
    "\n"
   ]
  },
  {
   "cell_type": "code",
   "execution_count": 24,
   "id": "62731a0c",
   "metadata": {},
   "outputs": [],
   "source": [
    "cat = ['Gender','Engineer','MBA','license','Transport']\n",
    "for col in cat:\n",
    "  df[col]=df[col].astype('object')"
   ]
  },
  {
   "cell_type": "code",
   "execution_count": 25,
   "id": "953bed3d",
   "metadata": {},
   "outputs": [
    {
     "data": {
      "text/plain": [
       "Age            int64\n",
       "Gender        object\n",
       "Engineer      object\n",
       "MBA           object\n",
       "Work Exp       int64\n",
       "Salary       float64\n",
       "Distance     float64\n",
       "license       object\n",
       "Transport     object\n",
       "dtype: object"
      ]
     },
     "execution_count": 25,
     "metadata": {},
     "output_type": "execute_result"
    }
   ],
   "source": [
    "df.dtypes\n"
   ]
  },
  {
   "cell_type": "code",
   "execution_count": 26,
   "id": "d8ebcd2d",
   "metadata": {},
   "outputs": [],
   "source": [
    "#Making different list for categorical columns and numerical columns"
   ]
  },
  {
   "cell_type": "code",
   "execution_count": 27,
   "id": "4e77d613",
   "metadata": {},
   "outputs": [
    {
     "name": "stdout",
     "output_type": "stream",
     "text": [
      "cat =  ['Gender', 'Engineer', 'MBA', 'license', 'Transport']\n",
      "num =  ['Age', 'Work Exp', 'Salary', 'Distance']\n"
     ]
    }
   ],
   "source": [
    "cat=[]\n",
    "num=[]\n",
    "for i in df.columns:\n",
    "  if df[i].dtype=='object':\n",
    "    cat.append(i)\n",
    "  else:\n",
    "    num.append(i)\n",
    "print('cat = ',cat)\n",
    "print('num = ',num)"
   ]
  },
  {
   "cell_type": "code",
   "execution_count": 28,
   "id": "f0710b97",
   "metadata": {},
   "outputs": [
    {
     "data": {
      "text/html": [
       "<div>\n",
       "<style scoped>\n",
       "    .dataframe tbody tr th:only-of-type {\n",
       "        vertical-align: middle;\n",
       "    }\n",
       "\n",
       "    .dataframe tbody tr th {\n",
       "        vertical-align: top;\n",
       "    }\n",
       "\n",
       "    .dataframe thead th {\n",
       "        text-align: right;\n",
       "    }\n",
       "</style>\n",
       "<table border=\"1\" class=\"dataframe\">\n",
       "  <thead>\n",
       "    <tr style=\"text-align: right;\">\n",
       "      <th></th>\n",
       "      <th>count</th>\n",
       "      <th>unique</th>\n",
       "      <th>top</th>\n",
       "      <th>freq</th>\n",
       "    </tr>\n",
       "  </thead>\n",
       "  <tbody>\n",
       "    <tr>\n",
       "      <th>Gender</th>\n",
       "      <td>444</td>\n",
       "      <td>2</td>\n",
       "      <td>Male</td>\n",
       "      <td>316</td>\n",
       "    </tr>\n",
       "    <tr>\n",
       "      <th>Engineer</th>\n",
       "      <td>444</td>\n",
       "      <td>2</td>\n",
       "      <td>1</td>\n",
       "      <td>335</td>\n",
       "    </tr>\n",
       "    <tr>\n",
       "      <th>MBA</th>\n",
       "      <td>444</td>\n",
       "      <td>2</td>\n",
       "      <td>0</td>\n",
       "      <td>332</td>\n",
       "    </tr>\n",
       "    <tr>\n",
       "      <th>license</th>\n",
       "      <td>444</td>\n",
       "      <td>2</td>\n",
       "      <td>0</td>\n",
       "      <td>340</td>\n",
       "    </tr>\n",
       "    <tr>\n",
       "      <th>Transport</th>\n",
       "      <td>444</td>\n",
       "      <td>2</td>\n",
       "      <td>Public Transport</td>\n",
       "      <td>300</td>\n",
       "    </tr>\n",
       "  </tbody>\n",
       "</table>\n",
       "</div>"
      ],
      "text/plain": [
       "          count unique               top freq\n",
       "Gender      444      2              Male  316\n",
       "Engineer    444      2                 1  335\n",
       "MBA         444      2                 0  332\n",
       "license     444      2                 0  340\n",
       "Transport   444      2  Public Transport  300"
      ]
     },
     "execution_count": 28,
     "metadata": {},
     "output_type": "execute_result"
    }
   ],
   "source": [
    "\n",
    "df[cat].describe().T"
   ]
  },
  {
   "cell_type": "code",
   "execution_count": 29,
   "id": "3b8fe588",
   "metadata": {},
   "outputs": [
    {
     "data": {
      "text/html": [
       "<div>\n",
       "<style scoped>\n",
       "    .dataframe tbody tr th:only-of-type {\n",
       "        vertical-align: middle;\n",
       "    }\n",
       "\n",
       "    .dataframe tbody tr th {\n",
       "        vertical-align: top;\n",
       "    }\n",
       "\n",
       "    .dataframe thead th {\n",
       "        text-align: right;\n",
       "    }\n",
       "</style>\n",
       "<table border=\"1\" class=\"dataframe\">\n",
       "  <thead>\n",
       "    <tr style=\"text-align: right;\">\n",
       "      <th></th>\n",
       "      <th>count</th>\n",
       "      <th>mean</th>\n",
       "      <th>std</th>\n",
       "      <th>min</th>\n",
       "      <th>25%</th>\n",
       "      <th>50%</th>\n",
       "      <th>75%</th>\n",
       "      <th>max</th>\n",
       "    </tr>\n",
       "  </thead>\n",
       "  <tbody>\n",
       "    <tr>\n",
       "      <th>Age</th>\n",
       "      <td>444.0</td>\n",
       "      <td>27.747748</td>\n",
       "      <td>4.416710</td>\n",
       "      <td>18.0</td>\n",
       "      <td>25.0</td>\n",
       "      <td>27.0</td>\n",
       "      <td>30.000</td>\n",
       "      <td>43.0</td>\n",
       "    </tr>\n",
       "    <tr>\n",
       "      <th>Work Exp</th>\n",
       "      <td>444.0</td>\n",
       "      <td>6.299550</td>\n",
       "      <td>5.112098</td>\n",
       "      <td>0.0</td>\n",
       "      <td>3.0</td>\n",
       "      <td>5.0</td>\n",
       "      <td>8.000</td>\n",
       "      <td>24.0</td>\n",
       "    </tr>\n",
       "    <tr>\n",
       "      <th>Salary</th>\n",
       "      <td>444.0</td>\n",
       "      <td>16.238739</td>\n",
       "      <td>10.453851</td>\n",
       "      <td>6.5</td>\n",
       "      <td>9.8</td>\n",
       "      <td>13.6</td>\n",
       "      <td>15.725</td>\n",
       "      <td>57.0</td>\n",
       "    </tr>\n",
       "    <tr>\n",
       "      <th>Distance</th>\n",
       "      <td>444.0</td>\n",
       "      <td>11.323198</td>\n",
       "      <td>3.606149</td>\n",
       "      <td>3.2</td>\n",
       "      <td>8.8</td>\n",
       "      <td>11.0</td>\n",
       "      <td>13.425</td>\n",
       "      <td>23.4</td>\n",
       "    </tr>\n",
       "  </tbody>\n",
       "</table>\n",
       "</div>"
      ],
      "text/plain": [
       "          count       mean        std   min   25%   50%     75%   max\n",
       "Age       444.0  27.747748   4.416710  18.0  25.0  27.0  30.000  43.0\n",
       "Work Exp  444.0   6.299550   5.112098   0.0   3.0   5.0   8.000  24.0\n",
       "Salary    444.0  16.238739  10.453851   6.5   9.8  13.6  15.725  57.0\n",
       "Distance  444.0  11.323198   3.606149   3.2   8.8  11.0  13.425  23.4"
      ]
     },
     "execution_count": 29,
     "metadata": {},
     "output_type": "execute_result"
    }
   ],
   "source": [
    "\n",
    "df[num].describe().T"
   ]
  },
  {
   "cell_type": "markdown",
   "id": "33db4058",
   "metadata": {},
   "source": [
    "# Univariate Analysis"
   ]
  },
  {
   "cell_type": "markdown",
   "id": "7060ca88",
   "metadata": {},
   "source": [
    "Uni means one and variate means variable, so in univariate analysis, there is only one dependable variable. The objective of univariate analysis is to derive the data, define and summarize it, and analyze the pattern present in it. In a dataset, it explores each variable separately. It is possible for two kinds of variables- Categorical and Numerical."
   ]
  },
  {
   "cell_type": "code",
   "execution_count": 30,
   "id": "fd5adb65",
   "metadata": {},
   "outputs": [
    {
     "data": {
      "text/plain": [
       "array([[<AxesSubplot:title={'center':'Age'}>,\n",
       "        <AxesSubplot:title={'center':'Work Exp'}>],\n",
       "       [<AxesSubplot:title={'center':'Salary'}>,\n",
       "        <AxesSubplot:title={'center':'Distance'}>]], dtype=object)"
      ]
     },
     "execution_count": 30,
     "metadata": {},
     "output_type": "execute_result"
    },
    {
     "data": {
      "image/png": "[encoded data removed]",
      "text/plain": [
       "<Figure size 1440x720 with 4 Axes>"
      ]
     },
     "metadata": {
      "needs_background": "light"
     },
     "output_type": "display_data"
    }
   ],
   "source": [
    "\n",
    "df[num].hist(figsize=(20,10))\n"
   ]
  },
  {
   "cell_type": "code",
   "execution_count": 31,
   "id": "a133c021",
   "metadata": {},
   "outputs": [
    {
     "data": {
      "image/png": "[encoded data removed]",
      "text/plain": [
       "<Figure size 1440x720 with 4 Axes>"
      ]
     },
     "metadata": {
      "needs_background": "light"
     },
     "output_type": "display_data"
    }
   ],
   "source": [
    "\n",
    "fig, ax = plt.subplots(2, 2, figsize=(20, 10))\n",
    "for i, subplot in zip(num, ax.flatten()):\n",
    "    sns.distplot(df[i], ax=subplot)\n",
    "    for label in subplot.get_xticklabels():\n",
    "        label.set_rotation(90)\n"
   ]
  },
  {
   "cell_type": "code",
   "execution_count": 32,
   "id": "09e29351",
   "metadata": {},
   "outputs": [
    {
     "data": {
      "image/png": "[encoded data removed]",
      "text/plain": [
       "<Figure size 1440x720 with 4 Axes>"
      ]
     },
     "metadata": {
      "needs_background": "light"
     },
     "output_type": "display_data"
    }
   ],
   "source": [
    "\n",
    "fig, ax = plt.subplots(2, 2, figsize=(20, 10))\n",
    "for i, subplot in zip(num, ax.flatten()):\n",
    "    sns.boxplot(df[i], ax=subplot)\n",
    "    for label in subplot.get_xticklabels():\n",
    "        label.set_rotation(90)\n",
    "     "
   ]
  },
  {
   "cell_type": "code",
   "execution_count": 33,
   "id": "cf6623b8",
   "metadata": {},
   "outputs": [
    {
     "data": {
      "image/png": "[encoded data removed]",
      "text/plain": [
       "<Figure size 1440x1440 with 6 Axes>"
      ]
     },
     "metadata": {
      "needs_background": "light"
     },
     "output_type": "display_data"
    }
   ],
   "source": [
    "fig, ax = plt.subplots(3, 2, figsize=(20, 20))\n",
    "for i, subplot in zip(cat, ax.flatten()):\n",
    "    sns.countplot(df[i], ax=subplot)\n",
    "    for label in subplot.get_xticklabels():\n",
    "        label.set_rotation(90)"
   ]
  },
  {
   "cell_type": "markdown",
   "id": "bf352c6e",
   "metadata": {},
   "source": [
    "# Multi-variate Analysis"
   ]
  },
  {
   "cell_type": "markdown",
   "id": "33b41c9f",
   "metadata": {},
   "source": [
    "\n",
    "Multivariate analysis is required when more than two variables have to be analyzed simultaneously. It is a tremendously hard task for the human brain to visualize a relationship among 4 variables in a graph and thus multivariate analysis is used to study more complex sets of data. "
   ]
  },
  {
   "cell_type": "code",
   "execution_count": 34,
   "id": "e5a22885",
   "metadata": {},
   "outputs": [
    {
     "data": {
      "text/html": [
       "<div>\n",
       "<style scoped>\n",
       "    .dataframe tbody tr th:only-of-type {\n",
       "        vertical-align: middle;\n",
       "    }\n",
       "\n",
       "    .dataframe tbody tr th {\n",
       "        vertical-align: top;\n",
       "    }\n",
       "\n",
       "    .dataframe thead th {\n",
       "        text-align: right;\n",
       "    }\n",
       "</style>\n",
       "<table border=\"1\" class=\"dataframe\">\n",
       "  <thead>\n",
       "    <tr style=\"text-align: right;\">\n",
       "      <th></th>\n",
       "      <th>Age</th>\n",
       "      <th>Work Exp</th>\n",
       "      <th>Salary</th>\n",
       "      <th>Distance</th>\n",
       "    </tr>\n",
       "  </thead>\n",
       "  <tbody>\n",
       "    <tr>\n",
       "      <th>Age</th>\n",
       "      <td>1.000000</td>\n",
       "      <td>0.932236</td>\n",
       "      <td>0.860673</td>\n",
       "      <td>0.352872</td>\n",
       "    </tr>\n",
       "    <tr>\n",
       "      <th>Work Exp</th>\n",
       "      <td>0.932236</td>\n",
       "      <td>1.000000</td>\n",
       "      <td>0.931974</td>\n",
       "      <td>0.372735</td>\n",
       "    </tr>\n",
       "    <tr>\n",
       "      <th>Salary</th>\n",
       "      <td>0.860673</td>\n",
       "      <td>0.931974</td>\n",
       "      <td>1.000000</td>\n",
       "      <td>0.442359</td>\n",
       "    </tr>\n",
       "    <tr>\n",
       "      <th>Distance</th>\n",
       "      <td>0.352872</td>\n",
       "      <td>0.372735</td>\n",
       "      <td>0.442359</td>\n",
       "      <td>1.000000</td>\n",
       "    </tr>\n",
       "  </tbody>\n",
       "</table>\n",
       "</div>"
      ],
      "text/plain": [
       "               Age  Work Exp    Salary  Distance\n",
       "Age       1.000000  0.932236  0.860673  0.352872\n",
       "Work Exp  0.932236  1.000000  0.931974  0.372735\n",
       "Salary    0.860673  0.931974  1.000000  0.442359\n",
       "Distance  0.352872  0.372735  0.442359  1.000000"
      ]
     },
     "execution_count": 34,
     "metadata": {},
     "output_type": "execute_result"
    }
   ],
   "source": [
    "cor = df.corr()\n",
    "cor      #checking for correlation"
   ]
  },
  {
   "cell_type": "code",
   "execution_count": 35,
   "id": "9ec1402b",
   "metadata": {},
   "outputs": [
    {
     "data": {
      "text/plain": [
       "<seaborn.axisgrid.PairGrid at 0x259ea9c8d90>"
      ]
     },
     "execution_count": 35,
     "metadata": {},
     "output_type": "execute_result"
    },
    {
     "data": {
      "image/png": "[encoded data removed]",
      "text/plain": [
       "<Figure size 720x720 with 20 Axes>"
      ]
     },
     "metadata": {
      "needs_background": "light"
     },
     "output_type": "display_data"
    }
   ],
   "source": [
    "\n",
    "sns.pairplot(df[num])\n"
   ]
  },
  {
   "cell_type": "code",
   "execution_count": 36,
   "id": "6bba0a25",
   "metadata": {},
   "outputs": [
    {
     "data": {
      "text/plain": [
       "<Figure size 3600x1800 with 0 Axes>"
      ]
     },
     "execution_count": 36,
     "metadata": {},
     "output_type": "execute_result"
    },
    {
     "data": {
      "image/png": "[encoded data removed]",
      "text/plain": [
       "<Figure size 1080x576 with 2 Axes>"
      ]
     },
     "metadata": {
      "needs_background": "light"
     },
     "output_type": "display_data"
    },
    {
     "data": {
      "text/plain": [
       "<Figure size 3600x1800 with 0 Axes>"
      ]
     },
     "metadata": {},
     "output_type": "display_data"
    }
   ],
   "source": [
    "plt.figure(figsize=(15,8))\n",
    "sns.heatmap(cor,annot=True,mask=np.triu(cor,+1),cmap='RdYlGn');plt.figure(figsize=(50,25))"
   ]
  },
  {
   "cell_type": "code",
   "execution_count": 37,
   "id": "ec2df76d",
   "metadata": {},
   "outputs": [],
   "source": [
    "#Outlier Treatment"
   ]
  },
  {
   "cell_type": "code",
   "execution_count": 38,
   "id": "f91de0e7",
   "metadata": {},
   "outputs": [],
   "source": [
    "def remove_outlier(col):\n",
    "    sorted(col)\n",
    "    Q1,Q3=np.percentile(col,[25,75])\n",
    "    IQR=Q3-Q1\n",
    "    lower_range= Q1-(1.5 * IQR)\n",
    "    upper_range= Q3+(1.5 * IQR)\n",
    "    return lower_range, upper_range"
   ]
  },
  {
   "cell_type": "code",
   "execution_count": 39,
   "id": "4a23e079",
   "metadata": {},
   "outputs": [],
   "source": [
    "for column in df.columns:\n",
    "    if df[column].dtype != 'object': \n",
    "        lr,ur=remove_outlier(df[column])\n",
    "        df[column]=np.where(df[column]>ur,ur,df[column])\n",
    "        df[column]=np.where(df[column]<lr,lr,df[column])\n"
   ]
  },
  {
   "cell_type": "code",
   "execution_count": 40,
   "id": "da00ec59",
   "metadata": {},
   "outputs": [
    {
     "data": {
      "text/plain": [
       "<AxesSubplot:>"
      ]
     },
     "execution_count": 40,
     "metadata": {},
     "output_type": "execute_result"
    },
    {
     "data": {
      "image/png": "[encoded data removed]",
      "text/plain": [
       "<Figure size 720x720 with 1 Axes>"
      ]
     },
     "metadata": {
      "needs_background": "light"
     },
     "output_type": "display_data"
    }
   ],
   "source": [
    "plt.figure(figsize=(10,10))\n",
    "df[num].boxplot(vert=0)   #NO OUTLIERS NOW AFTER TREATMENT"
   ]
  },
  {
   "cell_type": "markdown",
   "id": "cdf2a7e0",
   "metadata": {},
   "source": [
    "# 1.3) Encode the data (having string values) for Modelling(2 pts). Is Scaling necessary here or not?(2 pts), Data Split: Split the data into train and test (70:30) (2 pts)."
   ]
  },
  {
   "cell_type": "code",
   "execution_count": 41,
   "id": "d6cffddc",
   "metadata": {},
   "outputs": [
    {
     "data": {
      "text/html": [
       "<div>\n",
       "<style scoped>\n",
       "    .dataframe tbody tr th:only-of-type {\n",
       "        vertical-align: middle;\n",
       "    }\n",
       "\n",
       "    .dataframe tbody tr th {\n",
       "        vertical-align: top;\n",
       "    }\n",
       "\n",
       "    .dataframe thead th {\n",
       "        text-align: right;\n",
       "    }\n",
       "</style>\n",
       "<table border=\"1\" class=\"dataframe\">\n",
       "  <thead>\n",
       "    <tr style=\"text-align: right;\">\n",
       "      <th></th>\n",
       "      <th>Age</th>\n",
       "      <th>Gender</th>\n",
       "      <th>Engineer</th>\n",
       "      <th>MBA</th>\n",
       "      <th>Work Exp</th>\n",
       "      <th>Salary</th>\n",
       "      <th>Distance</th>\n",
       "      <th>license</th>\n",
       "      <th>Transport</th>\n",
       "    </tr>\n",
       "  </thead>\n",
       "  <tbody>\n",
       "    <tr>\n",
       "      <th>0</th>\n",
       "      <td>28.0</td>\n",
       "      <td>Male</td>\n",
       "      <td>0</td>\n",
       "      <td>0</td>\n",
       "      <td>4.0</td>\n",
       "      <td>14.3</td>\n",
       "      <td>3.2</td>\n",
       "      <td>0</td>\n",
       "      <td>Public Transport</td>\n",
       "    </tr>\n",
       "    <tr>\n",
       "      <th>1</th>\n",
       "      <td>23.0</td>\n",
       "      <td>Female</td>\n",
       "      <td>1</td>\n",
       "      <td>0</td>\n",
       "      <td>4.0</td>\n",
       "      <td>8.3</td>\n",
       "      <td>3.3</td>\n",
       "      <td>0</td>\n",
       "      <td>Public Transport</td>\n",
       "    </tr>\n",
       "    <tr>\n",
       "      <th>2</th>\n",
       "      <td>29.0</td>\n",
       "      <td>Male</td>\n",
       "      <td>1</td>\n",
       "      <td>0</td>\n",
       "      <td>7.0</td>\n",
       "      <td>13.4</td>\n",
       "      <td>4.1</td>\n",
       "      <td>0</td>\n",
       "      <td>Public Transport</td>\n",
       "    </tr>\n",
       "    <tr>\n",
       "      <th>3</th>\n",
       "      <td>28.0</td>\n",
       "      <td>Female</td>\n",
       "      <td>1</td>\n",
       "      <td>1</td>\n",
       "      <td>5.0</td>\n",
       "      <td>13.4</td>\n",
       "      <td>4.5</td>\n",
       "      <td>0</td>\n",
       "      <td>Public Transport</td>\n",
       "    </tr>\n",
       "    <tr>\n",
       "      <th>4</th>\n",
       "      <td>27.0</td>\n",
       "      <td>Male</td>\n",
       "      <td>1</td>\n",
       "      <td>0</td>\n",
       "      <td>4.0</td>\n",
       "      <td>13.4</td>\n",
       "      <td>4.6</td>\n",
       "      <td>0</td>\n",
       "      <td>Public Transport</td>\n",
       "    </tr>\n",
       "  </tbody>\n",
       "</table>\n",
       "</div>"
      ],
      "text/plain": [
       "    Age  Gender Engineer MBA  Work Exp  Salary  Distance license  \\\n",
       "0  28.0    Male        0   0       4.0    14.3       3.2       0   \n",
       "1  23.0  Female        1   0       4.0     8.3       3.3       0   \n",
       "2  29.0    Male        1   0       7.0    13.4       4.1       0   \n",
       "3  28.0  Female        1   1       5.0    13.4       4.5       0   \n",
       "4  27.0    Male        1   0       4.0    13.4       4.6       0   \n",
       "\n",
       "          Transport  \n",
       "0  Public Transport  \n",
       "1  Public Transport  \n",
       "2  Public Transport  \n",
       "3  Public Transport  \n",
       "4  Public Transport  "
      ]
     },
     "execution_count": 41,
     "metadata": {},
     "output_type": "execute_result"
    }
   ],
   "source": [
    "df.head(5)\n"
   ]
  },
  {
   "cell_type": "markdown",
   "id": "16027db6",
   "metadata": {},
   "source": [
    "# ONE HOT ENCODING"
   ]
  },
  {
   "cell_type": "markdown",
   "id": "ec6c983a",
   "metadata": {},
   "source": [
    "One hot encoding is one method of converting data to prepare it for an algorithm and get a better prediction. With one-hot, we convert each categorical value into a new categorical column and assign a binary value of 1 or 0 to those columns. Each integer value is represented as a binary vector. All the values are zero, and the index is marked with a 1."
   ]
  },
  {
   "cell_type": "code",
   "execution_count": 42,
   "id": "fe945c9b",
   "metadata": {},
   "outputs": [
    {
     "data": {
      "text/plain": [
       "['Gender', 'Engineer', 'MBA', 'license', 'Transport']"
      ]
     },
     "execution_count": 42,
     "metadata": {},
     "output_type": "execute_result"
    }
   ],
   "source": [
    "cat"
   ]
  },
  {
   "cell_type": "code",
   "execution_count": 43,
   "id": "9e2f498a",
   "metadata": {},
   "outputs": [],
   "source": [
    "#dropping the target variable form the list cat\n",
    "cat.remove('Transport')\n"
   ]
  },
  {
   "cell_type": "code",
   "execution_count": 44,
   "id": "462caf6d",
   "metadata": {},
   "outputs": [
    {
     "name": "stdout",
     "output_type": "stream",
     "text": [
      "cat ['Gender', 'Engineer', 'MBA', 'license']\n",
      "num ['Age', 'Work Exp', 'Salary', 'Distance']\n"
     ]
    }
   ],
   "source": [
    "print(\"cat\",cat)\n",
    "print(\"num\",num)\n"
   ]
  },
  {
   "cell_type": "code",
   "execution_count": 45,
   "id": "2086460e",
   "metadata": {},
   "outputs": [
    {
     "data": {
      "text/html": [
       "<div>\n",
       "<style scoped>\n",
       "    .dataframe tbody tr th:only-of-type {\n",
       "        vertical-align: middle;\n",
       "    }\n",
       "\n",
       "    .dataframe tbody tr th {\n",
       "        vertical-align: top;\n",
       "    }\n",
       "\n",
       "    .dataframe thead th {\n",
       "        text-align: right;\n",
       "    }\n",
       "</style>\n",
       "<table border=\"1\" class=\"dataframe\">\n",
       "  <thead>\n",
       "    <tr style=\"text-align: right;\">\n",
       "      <th></th>\n",
       "      <th>Age</th>\n",
       "      <th>Gender</th>\n",
       "      <th>Engineer</th>\n",
       "      <th>MBA</th>\n",
       "      <th>Work Exp</th>\n",
       "      <th>Salary</th>\n",
       "      <th>Distance</th>\n",
       "      <th>license</th>\n",
       "      <th>Transport</th>\n",
       "    </tr>\n",
       "  </thead>\n",
       "  <tbody>\n",
       "    <tr>\n",
       "      <th>0</th>\n",
       "      <td>28.0</td>\n",
       "      <td>Male</td>\n",
       "      <td>0</td>\n",
       "      <td>0</td>\n",
       "      <td>4.0</td>\n",
       "      <td>14.3</td>\n",
       "      <td>3.2</td>\n",
       "      <td>0</td>\n",
       "      <td>Public Transport</td>\n",
       "    </tr>\n",
       "    <tr>\n",
       "      <th>1</th>\n",
       "      <td>23.0</td>\n",
       "      <td>Female</td>\n",
       "      <td>1</td>\n",
       "      <td>0</td>\n",
       "      <td>4.0</td>\n",
       "      <td>8.3</td>\n",
       "      <td>3.3</td>\n",
       "      <td>0</td>\n",
       "      <td>Public Transport</td>\n",
       "    </tr>\n",
       "    <tr>\n",
       "      <th>2</th>\n",
       "      <td>29.0</td>\n",
       "      <td>Male</td>\n",
       "      <td>1</td>\n",
       "      <td>0</td>\n",
       "      <td>7.0</td>\n",
       "      <td>13.4</td>\n",
       "      <td>4.1</td>\n",
       "      <td>0</td>\n",
       "      <td>Public Transport</td>\n",
       "    </tr>\n",
       "    <tr>\n",
       "      <th>3</th>\n",
       "      <td>28.0</td>\n",
       "      <td>Female</td>\n",
       "      <td>1</td>\n",
       "      <td>1</td>\n",
       "      <td>5.0</td>\n",
       "      <td>13.4</td>\n",
       "      <td>4.5</td>\n",
       "      <td>0</td>\n",
       "      <td>Public Transport</td>\n",
       "    </tr>\n",
       "    <tr>\n",
       "      <th>4</th>\n",
       "      <td>27.0</td>\n",
       "      <td>Male</td>\n",
       "      <td>1</td>\n",
       "      <td>0</td>\n",
       "      <td>4.0</td>\n",
       "      <td>13.4</td>\n",
       "      <td>4.6</td>\n",
       "      <td>0</td>\n",
       "      <td>Public Transport</td>\n",
       "    </tr>\n",
       "    <tr>\n",
       "      <th>5</th>\n",
       "      <td>26.0</td>\n",
       "      <td>Male</td>\n",
       "      <td>1</td>\n",
       "      <td>0</td>\n",
       "      <td>4.0</td>\n",
       "      <td>12.3</td>\n",
       "      <td>4.8</td>\n",
       "      <td>1</td>\n",
       "      <td>Public Transport</td>\n",
       "    </tr>\n",
       "    <tr>\n",
       "      <th>6</th>\n",
       "      <td>28.0</td>\n",
       "      <td>Male</td>\n",
       "      <td>1</td>\n",
       "      <td>0</td>\n",
       "      <td>5.0</td>\n",
       "      <td>14.4</td>\n",
       "      <td>5.1</td>\n",
       "      <td>0</td>\n",
       "      <td>Private Transport</td>\n",
       "    </tr>\n",
       "    <tr>\n",
       "      <th>7</th>\n",
       "      <td>26.0</td>\n",
       "      <td>Female</td>\n",
       "      <td>1</td>\n",
       "      <td>0</td>\n",
       "      <td>3.0</td>\n",
       "      <td>10.5</td>\n",
       "      <td>5.1</td>\n",
       "      <td>0</td>\n",
       "      <td>Public Transport</td>\n",
       "    </tr>\n",
       "    <tr>\n",
       "      <th>8</th>\n",
       "      <td>22.0</td>\n",
       "      <td>Male</td>\n",
       "      <td>1</td>\n",
       "      <td>0</td>\n",
       "      <td>1.0</td>\n",
       "      <td>7.5</td>\n",
       "      <td>5.1</td>\n",
       "      <td>0</td>\n",
       "      <td>Public Transport</td>\n",
       "    </tr>\n",
       "    <tr>\n",
       "      <th>9</th>\n",
       "      <td>27.0</td>\n",
       "      <td>Male</td>\n",
       "      <td>1</td>\n",
       "      <td>0</td>\n",
       "      <td>4.0</td>\n",
       "      <td>13.5</td>\n",
       "      <td>5.2</td>\n",
       "      <td>0</td>\n",
       "      <td>Public Transport</td>\n",
       "    </tr>\n",
       "  </tbody>\n",
       "</table>\n",
       "</div>"
      ],
      "text/plain": [
       "    Age  Gender Engineer MBA  Work Exp  Salary  Distance license  \\\n",
       "0  28.0    Male        0   0       4.0    14.3       3.2       0   \n",
       "1  23.0  Female        1   0       4.0     8.3       3.3       0   \n",
       "2  29.0    Male        1   0       7.0    13.4       4.1       0   \n",
       "3  28.0  Female        1   1       5.0    13.4       4.5       0   \n",
       "4  27.0    Male        1   0       4.0    13.4       4.6       0   \n",
       "5  26.0    Male        1   0       4.0    12.3       4.8       1   \n",
       "6  28.0    Male        1   0       5.0    14.4       5.1       0   \n",
       "7  26.0  Female        1   0       3.0    10.5       5.1       0   \n",
       "8  22.0    Male        1   0       1.0     7.5       5.1       0   \n",
       "9  27.0    Male        1   0       4.0    13.5       5.2       0   \n",
       "\n",
       "           Transport  \n",
       "0   Public Transport  \n",
       "1   Public Transport  \n",
       "2   Public Transport  \n",
       "3   Public Transport  \n",
       "4   Public Transport  \n",
       "5   Public Transport  \n",
       "6  Private Transport  \n",
       "7   Public Transport  \n",
       "8   Public Transport  \n",
       "9   Public Transport  "
      ]
     },
     "execution_count": 45,
     "metadata": {},
     "output_type": "execute_result"
    }
   ],
   "source": [
    "df.head(10)"
   ]
  },
  {
   "cell_type": "code",
   "execution_count": 46,
   "id": "27aad2e0",
   "metadata": {},
   "outputs": [],
   "source": [
    "df =pd.get_dummies(df, columns=cat,drop_first=True)\n"
   ]
  },
  {
   "cell_type": "code",
   "execution_count": 47,
   "id": "5d53941e",
   "metadata": {},
   "outputs": [
    {
     "data": {
      "text/html": [
       "<div>\n",
       "<style scoped>\n",
       "    .dataframe tbody tr th:only-of-type {\n",
       "        vertical-align: middle;\n",
       "    }\n",
       "\n",
       "    .dataframe tbody tr th {\n",
       "        vertical-align: top;\n",
       "    }\n",
       "\n",
       "    .dataframe thead th {\n",
       "        text-align: right;\n",
       "    }\n",
       "</style>\n",
       "<table border=\"1\" class=\"dataframe\">\n",
       "  <thead>\n",
       "    <tr style=\"text-align: right;\">\n",
       "      <th></th>\n",
       "      <th>Age</th>\n",
       "      <th>Work Exp</th>\n",
       "      <th>Salary</th>\n",
       "      <th>Distance</th>\n",
       "      <th>Transport</th>\n",
       "      <th>Gender_Male</th>\n",
       "      <th>Engineer_1</th>\n",
       "      <th>MBA_1</th>\n",
       "      <th>license_1</th>\n",
       "    </tr>\n",
       "  </thead>\n",
       "  <tbody>\n",
       "    <tr>\n",
       "      <th>0</th>\n",
       "      <td>28.0</td>\n",
       "      <td>4.0</td>\n",
       "      <td>14.3</td>\n",
       "      <td>3.2</td>\n",
       "      <td>Public Transport</td>\n",
       "      <td>1</td>\n",
       "      <td>0</td>\n",
       "      <td>0</td>\n",
       "      <td>0</td>\n",
       "    </tr>\n",
       "    <tr>\n",
       "      <th>1</th>\n",
       "      <td>23.0</td>\n",
       "      <td>4.0</td>\n",
       "      <td>8.3</td>\n",
       "      <td>3.3</td>\n",
       "      <td>Public Transport</td>\n",
       "      <td>0</td>\n",
       "      <td>1</td>\n",
       "      <td>0</td>\n",
       "      <td>0</td>\n",
       "    </tr>\n",
       "    <tr>\n",
       "      <th>2</th>\n",
       "      <td>29.0</td>\n",
       "      <td>7.0</td>\n",
       "      <td>13.4</td>\n",
       "      <td>4.1</td>\n",
       "      <td>Public Transport</td>\n",
       "      <td>1</td>\n",
       "      <td>1</td>\n",
       "      <td>0</td>\n",
       "      <td>0</td>\n",
       "    </tr>\n",
       "    <tr>\n",
       "      <th>3</th>\n",
       "      <td>28.0</td>\n",
       "      <td>5.0</td>\n",
       "      <td>13.4</td>\n",
       "      <td>4.5</td>\n",
       "      <td>Public Transport</td>\n",
       "      <td>0</td>\n",
       "      <td>1</td>\n",
       "      <td>1</td>\n",
       "      <td>0</td>\n",
       "    </tr>\n",
       "    <tr>\n",
       "      <th>4</th>\n",
       "      <td>27.0</td>\n",
       "      <td>4.0</td>\n",
       "      <td>13.4</td>\n",
       "      <td>4.6</td>\n",
       "      <td>Public Transport</td>\n",
       "      <td>1</td>\n",
       "      <td>1</td>\n",
       "      <td>0</td>\n",
       "      <td>0</td>\n",
       "    </tr>\n",
       "    <tr>\n",
       "      <th>5</th>\n",
       "      <td>26.0</td>\n",
       "      <td>4.0</td>\n",
       "      <td>12.3</td>\n",
       "      <td>4.8</td>\n",
       "      <td>Public Transport</td>\n",
       "      <td>1</td>\n",
       "      <td>1</td>\n",
       "      <td>0</td>\n",
       "      <td>1</td>\n",
       "    </tr>\n",
       "    <tr>\n",
       "      <th>6</th>\n",
       "      <td>28.0</td>\n",
       "      <td>5.0</td>\n",
       "      <td>14.4</td>\n",
       "      <td>5.1</td>\n",
       "      <td>Private Transport</td>\n",
       "      <td>1</td>\n",
       "      <td>1</td>\n",
       "      <td>0</td>\n",
       "      <td>0</td>\n",
       "    </tr>\n",
       "    <tr>\n",
       "      <th>7</th>\n",
       "      <td>26.0</td>\n",
       "      <td>3.0</td>\n",
       "      <td>10.5</td>\n",
       "      <td>5.1</td>\n",
       "      <td>Public Transport</td>\n",
       "      <td>0</td>\n",
       "      <td>1</td>\n",
       "      <td>0</td>\n",
       "      <td>0</td>\n",
       "    </tr>\n",
       "    <tr>\n",
       "      <th>8</th>\n",
       "      <td>22.0</td>\n",
       "      <td>1.0</td>\n",
       "      <td>7.5</td>\n",
       "      <td>5.1</td>\n",
       "      <td>Public Transport</td>\n",
       "      <td>1</td>\n",
       "      <td>1</td>\n",
       "      <td>0</td>\n",
       "      <td>0</td>\n",
       "    </tr>\n",
       "    <tr>\n",
       "      <th>9</th>\n",
       "      <td>27.0</td>\n",
       "      <td>4.0</td>\n",
       "      <td>13.5</td>\n",
       "      <td>5.2</td>\n",
       "      <td>Public Transport</td>\n",
       "      <td>1</td>\n",
       "      <td>1</td>\n",
       "      <td>0</td>\n",
       "      <td>0</td>\n",
       "    </tr>\n",
       "  </tbody>\n",
       "</table>\n",
       "</div>"
      ],
      "text/plain": [
       "    Age  Work Exp  Salary  Distance          Transport  Gender_Male  \\\n",
       "0  28.0       4.0    14.3       3.2   Public Transport            1   \n",
       "1  23.0       4.0     8.3       3.3   Public Transport            0   \n",
       "2  29.0       7.0    13.4       4.1   Public Transport            1   \n",
       "3  28.0       5.0    13.4       4.5   Public Transport            0   \n",
       "4  27.0       4.0    13.4       4.6   Public Transport            1   \n",
       "5  26.0       4.0    12.3       4.8   Public Transport            1   \n",
       "6  28.0       5.0    14.4       5.1  Private Transport            1   \n",
       "7  26.0       3.0    10.5       5.1   Public Transport            0   \n",
       "8  22.0       1.0     7.5       5.1   Public Transport            1   \n",
       "9  27.0       4.0    13.5       5.2   Public Transport            1   \n",
       "\n",
       "   Engineer_1  MBA_1  license_1  \n",
       "0           0      0          0  \n",
       "1           1      0          0  \n",
       "2           1      0          0  \n",
       "3           1      1          0  \n",
       "4           1      0          0  \n",
       "5           1      0          1  \n",
       "6           1      0          0  \n",
       "7           1      0          0  \n",
       "8           1      0          0  \n",
       "9           1      0          0  "
      ]
     },
     "execution_count": 47,
     "metadata": {},
     "output_type": "execute_result"
    }
   ],
   "source": [
    "\n",
    "df.head(10)\n"
   ]
  },
  {
   "cell_type": "code",
   "execution_count": 48,
   "id": "1ec89050",
   "metadata": {},
   "outputs": [],
   "source": [
    "\n",
    "df['Transport'] = pd.Categorical(df['Transport']).codes"
   ]
  },
  {
   "cell_type": "code",
   "execution_count": 49,
   "id": "c743713c",
   "metadata": {},
   "outputs": [
    {
     "data": {
      "text/html": [
       "<div>\n",
       "<style scoped>\n",
       "    .dataframe tbody tr th:only-of-type {\n",
       "        vertical-align: middle;\n",
       "    }\n",
       "\n",
       "    .dataframe tbody tr th {\n",
       "        vertical-align: top;\n",
       "    }\n",
       "\n",
       "    .dataframe thead th {\n",
       "        text-align: right;\n",
       "    }\n",
       "</style>\n",
       "<table border=\"1\" class=\"dataframe\">\n",
       "  <thead>\n",
       "    <tr style=\"text-align: right;\">\n",
       "      <th></th>\n",
       "      <th>Age</th>\n",
       "      <th>Work Exp</th>\n",
       "      <th>Salary</th>\n",
       "      <th>Distance</th>\n",
       "      <th>Transport</th>\n",
       "      <th>Gender_Male</th>\n",
       "      <th>Engineer_1</th>\n",
       "      <th>MBA_1</th>\n",
       "      <th>license_1</th>\n",
       "    </tr>\n",
       "  </thead>\n",
       "  <tbody>\n",
       "    <tr>\n",
       "      <th>0</th>\n",
       "      <td>28.0</td>\n",
       "      <td>4.0</td>\n",
       "      <td>14.3</td>\n",
       "      <td>3.2</td>\n",
       "      <td>1</td>\n",
       "      <td>1</td>\n",
       "      <td>0</td>\n",
       "      <td>0</td>\n",
       "      <td>0</td>\n",
       "    </tr>\n",
       "    <tr>\n",
       "      <th>1</th>\n",
       "      <td>23.0</td>\n",
       "      <td>4.0</td>\n",
       "      <td>8.3</td>\n",
       "      <td>3.3</td>\n",
       "      <td>1</td>\n",
       "      <td>0</td>\n",
       "      <td>1</td>\n",
       "      <td>0</td>\n",
       "      <td>0</td>\n",
       "    </tr>\n",
       "    <tr>\n",
       "      <th>2</th>\n",
       "      <td>29.0</td>\n",
       "      <td>7.0</td>\n",
       "      <td>13.4</td>\n",
       "      <td>4.1</td>\n",
       "      <td>1</td>\n",
       "      <td>1</td>\n",
       "      <td>1</td>\n",
       "      <td>0</td>\n",
       "      <td>0</td>\n",
       "    </tr>\n",
       "    <tr>\n",
       "      <th>3</th>\n",
       "      <td>28.0</td>\n",
       "      <td>5.0</td>\n",
       "      <td>13.4</td>\n",
       "      <td>4.5</td>\n",
       "      <td>1</td>\n",
       "      <td>0</td>\n",
       "      <td>1</td>\n",
       "      <td>1</td>\n",
       "      <td>0</td>\n",
       "    </tr>\n",
       "    <tr>\n",
       "      <th>4</th>\n",
       "      <td>27.0</td>\n",
       "      <td>4.0</td>\n",
       "      <td>13.4</td>\n",
       "      <td>4.6</td>\n",
       "      <td>1</td>\n",
       "      <td>1</td>\n",
       "      <td>1</td>\n",
       "      <td>0</td>\n",
       "      <td>0</td>\n",
       "    </tr>\n",
       "    <tr>\n",
       "      <th>5</th>\n",
       "      <td>26.0</td>\n",
       "      <td>4.0</td>\n",
       "      <td>12.3</td>\n",
       "      <td>4.8</td>\n",
       "      <td>1</td>\n",
       "      <td>1</td>\n",
       "      <td>1</td>\n",
       "      <td>0</td>\n",
       "      <td>1</td>\n",
       "    </tr>\n",
       "    <tr>\n",
       "      <th>6</th>\n",
       "      <td>28.0</td>\n",
       "      <td>5.0</td>\n",
       "      <td>14.4</td>\n",
       "      <td>5.1</td>\n",
       "      <td>0</td>\n",
       "      <td>1</td>\n",
       "      <td>1</td>\n",
       "      <td>0</td>\n",
       "      <td>0</td>\n",
       "    </tr>\n",
       "    <tr>\n",
       "      <th>7</th>\n",
       "      <td>26.0</td>\n",
       "      <td>3.0</td>\n",
       "      <td>10.5</td>\n",
       "      <td>5.1</td>\n",
       "      <td>1</td>\n",
       "      <td>0</td>\n",
       "      <td>1</td>\n",
       "      <td>0</td>\n",
       "      <td>0</td>\n",
       "    </tr>\n",
       "    <tr>\n",
       "      <th>8</th>\n",
       "      <td>22.0</td>\n",
       "      <td>1.0</td>\n",
       "      <td>7.5</td>\n",
       "      <td>5.1</td>\n",
       "      <td>1</td>\n",
       "      <td>1</td>\n",
       "      <td>1</td>\n",
       "      <td>0</td>\n",
       "      <td>0</td>\n",
       "    </tr>\n",
       "    <tr>\n",
       "      <th>9</th>\n",
       "      <td>27.0</td>\n",
       "      <td>4.0</td>\n",
       "      <td>13.5</td>\n",
       "      <td>5.2</td>\n",
       "      <td>1</td>\n",
       "      <td>1</td>\n",
       "      <td>1</td>\n",
       "      <td>0</td>\n",
       "      <td>0</td>\n",
       "    </tr>\n",
       "  </tbody>\n",
       "</table>\n",
       "</div>"
      ],
      "text/plain": [
       "    Age  Work Exp  Salary  Distance  Transport  Gender_Male  Engineer_1  \\\n",
       "0  28.0       4.0    14.3       3.2          1            1           0   \n",
       "1  23.0       4.0     8.3       3.3          1            0           1   \n",
       "2  29.0       7.0    13.4       4.1          1            1           1   \n",
       "3  28.0       5.0    13.4       4.5          1            0           1   \n",
       "4  27.0       4.0    13.4       4.6          1            1           1   \n",
       "5  26.0       4.0    12.3       4.8          1            1           1   \n",
       "6  28.0       5.0    14.4       5.1          0            1           1   \n",
       "7  26.0       3.0    10.5       5.1          1            0           1   \n",
       "8  22.0       1.0     7.5       5.1          1            1           1   \n",
       "9  27.0       4.0    13.5       5.2          1            1           1   \n",
       "\n",
       "   MBA_1  license_1  \n",
       "0      0          0  \n",
       "1      0          0  \n",
       "2      0          0  \n",
       "3      1          0  \n",
       "4      0          0  \n",
       "5      0          1  \n",
       "6      0          0  \n",
       "7      0          0  \n",
       "8      0          0  \n",
       "9      0          0  "
      ]
     },
     "execution_count": 49,
     "metadata": {},
     "output_type": "execute_result"
    }
   ],
   "source": [
    "\n",
    "df.head(10)\n"
   ]
  },
  {
   "cell_type": "code",
   "execution_count": 50,
   "id": "75c0c3f5",
   "metadata": {},
   "outputs": [
    {
     "data": {
      "text/html": [
       "<div>\n",
       "<style scoped>\n",
       "    .dataframe tbody tr th:only-of-type {\n",
       "        vertical-align: middle;\n",
       "    }\n",
       "\n",
       "    .dataframe tbody tr th {\n",
       "        vertical-align: top;\n",
       "    }\n",
       "\n",
       "    .dataframe thead th {\n",
       "        text-align: right;\n",
       "    }\n",
       "</style>\n",
       "<table border=\"1\" class=\"dataframe\">\n",
       "  <thead>\n",
       "    <tr style=\"text-align: right;\">\n",
       "      <th></th>\n",
       "      <th>Age</th>\n",
       "      <th>WorkExp</th>\n",
       "      <th>Salary</th>\n",
       "      <th>Distance</th>\n",
       "      <th>Transport</th>\n",
       "      <th>Gender_Male</th>\n",
       "      <th>Engineer_1</th>\n",
       "      <th>MBA_1</th>\n",
       "      <th>license_1</th>\n",
       "    </tr>\n",
       "  </thead>\n",
       "  <tbody>\n",
       "    <tr>\n",
       "      <th>0</th>\n",
       "      <td>28.0</td>\n",
       "      <td>4.0</td>\n",
       "      <td>14.3000</td>\n",
       "      <td>3.2000</td>\n",
       "      <td>1</td>\n",
       "      <td>1</td>\n",
       "      <td>0</td>\n",
       "      <td>0</td>\n",
       "      <td>0</td>\n",
       "    </tr>\n",
       "    <tr>\n",
       "      <th>1</th>\n",
       "      <td>23.0</td>\n",
       "      <td>4.0</td>\n",
       "      <td>8.3000</td>\n",
       "      <td>3.3000</td>\n",
       "      <td>1</td>\n",
       "      <td>0</td>\n",
       "      <td>1</td>\n",
       "      <td>0</td>\n",
       "      <td>0</td>\n",
       "    </tr>\n",
       "    <tr>\n",
       "      <th>2</th>\n",
       "      <td>29.0</td>\n",
       "      <td>7.0</td>\n",
       "      <td>13.4000</td>\n",
       "      <td>4.1000</td>\n",
       "      <td>1</td>\n",
       "      <td>1</td>\n",
       "      <td>1</td>\n",
       "      <td>0</td>\n",
       "      <td>0</td>\n",
       "    </tr>\n",
       "    <tr>\n",
       "      <th>3</th>\n",
       "      <td>28.0</td>\n",
       "      <td>5.0</td>\n",
       "      <td>13.4000</td>\n",
       "      <td>4.5000</td>\n",
       "      <td>1</td>\n",
       "      <td>0</td>\n",
       "      <td>1</td>\n",
       "      <td>1</td>\n",
       "      <td>0</td>\n",
       "    </tr>\n",
       "    <tr>\n",
       "      <th>4</th>\n",
       "      <td>27.0</td>\n",
       "      <td>4.0</td>\n",
       "      <td>13.4000</td>\n",
       "      <td>4.6000</td>\n",
       "      <td>1</td>\n",
       "      <td>1</td>\n",
       "      <td>1</td>\n",
       "      <td>0</td>\n",
       "      <td>0</td>\n",
       "    </tr>\n",
       "    <tr>\n",
       "      <th>...</th>\n",
       "      <td>...</td>\n",
       "      <td>...</td>\n",
       "      <td>...</td>\n",
       "      <td>...</td>\n",
       "      <td>...</td>\n",
       "      <td>...</td>\n",
       "      <td>...</td>\n",
       "      <td>...</td>\n",
       "      <td>...</td>\n",
       "    </tr>\n",
       "    <tr>\n",
       "      <th>439</th>\n",
       "      <td>37.5</td>\n",
       "      <td>15.5</td>\n",
       "      <td>24.6125</td>\n",
       "      <td>20.3625</td>\n",
       "      <td>0</td>\n",
       "      <td>1</td>\n",
       "      <td>1</td>\n",
       "      <td>0</td>\n",
       "      <td>1</td>\n",
       "    </tr>\n",
       "    <tr>\n",
       "      <th>440</th>\n",
       "      <td>37.5</td>\n",
       "      <td>15.5</td>\n",
       "      <td>24.6125</td>\n",
       "      <td>20.3625</td>\n",
       "      <td>0</td>\n",
       "      <td>1</td>\n",
       "      <td>1</td>\n",
       "      <td>0</td>\n",
       "      <td>1</td>\n",
       "    </tr>\n",
       "    <tr>\n",
       "      <th>441</th>\n",
       "      <td>37.0</td>\n",
       "      <td>15.5</td>\n",
       "      <td>24.6125</td>\n",
       "      <td>20.3625</td>\n",
       "      <td>0</td>\n",
       "      <td>1</td>\n",
       "      <td>1</td>\n",
       "      <td>0</td>\n",
       "      <td>1</td>\n",
       "    </tr>\n",
       "    <tr>\n",
       "      <th>442</th>\n",
       "      <td>37.0</td>\n",
       "      <td>15.5</td>\n",
       "      <td>24.6125</td>\n",
       "      <td>20.3625</td>\n",
       "      <td>0</td>\n",
       "      <td>1</td>\n",
       "      <td>0</td>\n",
       "      <td>0</td>\n",
       "      <td>1</td>\n",
       "    </tr>\n",
       "    <tr>\n",
       "      <th>443</th>\n",
       "      <td>37.5</td>\n",
       "      <td>15.5</td>\n",
       "      <td>24.6125</td>\n",
       "      <td>20.3625</td>\n",
       "      <td>0</td>\n",
       "      <td>1</td>\n",
       "      <td>1</td>\n",
       "      <td>1</td>\n",
       "      <td>1</td>\n",
       "    </tr>\n",
       "  </tbody>\n",
       "</table>\n",
       "<p>444 rows × 9 columns</p>\n",
       "</div>"
      ],
      "text/plain": [
       "      Age  WorkExp   Salary  Distance  Transport  Gender_Male  Engineer_1  \\\n",
       "0    28.0      4.0  14.3000    3.2000          1            1           0   \n",
       "1    23.0      4.0   8.3000    3.3000          1            0           1   \n",
       "2    29.0      7.0  13.4000    4.1000          1            1           1   \n",
       "3    28.0      5.0  13.4000    4.5000          1            0           1   \n",
       "4    27.0      4.0  13.4000    4.6000          1            1           1   \n",
       "..    ...      ...      ...       ...        ...          ...         ...   \n",
       "439  37.5     15.5  24.6125   20.3625          0            1           1   \n",
       "440  37.5     15.5  24.6125   20.3625          0            1           1   \n",
       "441  37.0     15.5  24.6125   20.3625          0            1           1   \n",
       "442  37.0     15.5  24.6125   20.3625          0            1           0   \n",
       "443  37.5     15.5  24.6125   20.3625          0            1           1   \n",
       "\n",
       "     MBA_1  license_1  \n",
       "0        0          0  \n",
       "1        0          0  \n",
       "2        0          0  \n",
       "3        1          0  \n",
       "4        0          0  \n",
       "..     ...        ...  \n",
       "439      0          1  \n",
       "440      0          1  \n",
       "441      0          1  \n",
       "442      0          1  \n",
       "443      1          1  \n",
       "\n",
       "[444 rows x 9 columns]"
      ]
     },
     "execution_count": 50,
     "metadata": {},
     "output_type": "execute_result"
    }
   ],
   "source": [
    "# remove spaces from column names\n",
    "df.columns = df.columns.str.replace(\" \", \"\")\n",
    "\n",
    "# display the dataframe\n",
    "df"
   ]
  },
  {
   "cell_type": "markdown",
   "id": "d3ca626f",
   "metadata": {},
   "source": [
    "# SCALING"
   ]
  },
  {
   "cell_type": "markdown",
   "id": "3007c148",
   "metadata": {},
   "source": [
    "As the values of the variables are different,we should do scaling otherwise some of the variables are in different\n",
    "values and this may get more weightage than the other variables.Scaling will have all the values in the relative same range."
   ]
  },
  {
   "cell_type": "code",
   "execution_count": 51,
   "id": "0532a9a8",
   "metadata": {},
   "outputs": [],
   "source": [
    "from sklearn.preprocessing import StandardScaler\n",
    "from sklearn import preprocessing"
   ]
  },
  {
   "cell_type": "code",
   "execution_count": 52,
   "id": "1561cbae",
   "metadata": {},
   "outputs": [
    {
     "name": "stdout",
     "output_type": "stream",
     "text": [
      "[[0.51282051 0.25806452 0.43064182 ... 0.         0.         0.        ]\n",
      " [0.25641026 0.25806452 0.09937888 ... 1.         0.         0.        ]\n",
      " [0.56410256 0.4516129  0.38095238 ... 1.         0.         0.        ]\n",
      " ...\n",
      " [0.97435897 1.         1.         ... 1.         0.         1.        ]\n",
      " [0.97435897 1.         1.         ... 0.         0.         1.        ]\n",
      " [1.         1.         1.         ... 1.         1.         1.        ]]\n"
     ]
    }
   ],
   "source": [
    "min_max_scaler = preprocessing.MinMaxScaler()\n",
    "scaled_df = min_max_scaler.fit_transform(df)\n",
    "print(scaled_df)"
   ]
  },
  {
   "cell_type": "code",
   "execution_count": 53,
   "id": "892333c4",
   "metadata": {},
   "outputs": [
    {
     "data": {
      "text/html": [
       "<div>\n",
       "<style scoped>\n",
       "    .dataframe tbody tr th:only-of-type {\n",
       "        vertical-align: middle;\n",
       "    }\n",
       "\n",
       "    .dataframe tbody tr th {\n",
       "        vertical-align: top;\n",
       "    }\n",
       "\n",
       "    .dataframe thead th {\n",
       "        text-align: right;\n",
       "    }\n",
       "</style>\n",
       "<table border=\"1\" class=\"dataframe\">\n",
       "  <thead>\n",
       "    <tr style=\"text-align: right;\">\n",
       "      <th></th>\n",
       "      <th>Age</th>\n",
       "      <th>WorkExp</th>\n",
       "      <th>Salary</th>\n",
       "      <th>Distance</th>\n",
       "      <th>Transport</th>\n",
       "      <th>Gender_Male</th>\n",
       "      <th>Engineer_1</th>\n",
       "      <th>MBA_1</th>\n",
       "      <th>license_1</th>\n",
       "    </tr>\n",
       "  </thead>\n",
       "  <tbody>\n",
       "    <tr>\n",
       "      <th>0</th>\n",
       "      <td>0.512821</td>\n",
       "      <td>0.258065</td>\n",
       "      <td>0.430642</td>\n",
       "      <td>0.000000</td>\n",
       "      <td>1.0</td>\n",
       "      <td>1.0</td>\n",
       "      <td>0.0</td>\n",
       "      <td>0.0</td>\n",
       "      <td>0.0</td>\n",
       "    </tr>\n",
       "    <tr>\n",
       "      <th>1</th>\n",
       "      <td>0.256410</td>\n",
       "      <td>0.258065</td>\n",
       "      <td>0.099379</td>\n",
       "      <td>0.005827</td>\n",
       "      <td>1.0</td>\n",
       "      <td>0.0</td>\n",
       "      <td>1.0</td>\n",
       "      <td>0.0</td>\n",
       "      <td>0.0</td>\n",
       "    </tr>\n",
       "    <tr>\n",
       "      <th>2</th>\n",
       "      <td>0.564103</td>\n",
       "      <td>0.451613</td>\n",
       "      <td>0.380952</td>\n",
       "      <td>0.052440</td>\n",
       "      <td>1.0</td>\n",
       "      <td>1.0</td>\n",
       "      <td>1.0</td>\n",
       "      <td>0.0</td>\n",
       "      <td>0.0</td>\n",
       "    </tr>\n",
       "    <tr>\n",
       "      <th>3</th>\n",
       "      <td>0.512821</td>\n",
       "      <td>0.322581</td>\n",
       "      <td>0.380952</td>\n",
       "      <td>0.075747</td>\n",
       "      <td>1.0</td>\n",
       "      <td>0.0</td>\n",
       "      <td>1.0</td>\n",
       "      <td>1.0</td>\n",
       "      <td>0.0</td>\n",
       "    </tr>\n",
       "    <tr>\n",
       "      <th>4</th>\n",
       "      <td>0.461538</td>\n",
       "      <td>0.258065</td>\n",
       "      <td>0.380952</td>\n",
       "      <td>0.081573</td>\n",
       "      <td>1.0</td>\n",
       "      <td>1.0</td>\n",
       "      <td>1.0</td>\n",
       "      <td>0.0</td>\n",
       "      <td>0.0</td>\n",
       "    </tr>\n",
       "  </tbody>\n",
       "</table>\n",
       "</div>"
      ],
      "text/plain": [
       "        Age   WorkExp    Salary  Distance  Transport  Gender_Male  Engineer_1  \\\n",
       "0  0.512821  0.258065  0.430642  0.000000        1.0          1.0         0.0   \n",
       "1  0.256410  0.258065  0.099379  0.005827        1.0          0.0         1.0   \n",
       "2  0.564103  0.451613  0.380952  0.052440        1.0          1.0         1.0   \n",
       "3  0.512821  0.322581  0.380952  0.075747        1.0          0.0         1.0   \n",
       "4  0.461538  0.258065  0.380952  0.081573        1.0          1.0         1.0   \n",
       "\n",
       "   MBA_1  license_1  \n",
       "0    0.0        0.0  \n",
       "1    0.0        0.0  \n",
       "2    0.0        0.0  \n",
       "3    1.0        0.0  \n",
       "4    0.0        0.0  "
      ]
     },
     "execution_count": 53,
     "metadata": {},
     "output_type": "execute_result"
    }
   ],
   "source": [
    "scaled_df = pd.DataFrame(scaled_df, index=df.index, columns=df.columns)\n",
    "scaled_df.head()"
   ]
  },
  {
   "cell_type": "markdown",
   "id": "ba30ce23",
   "metadata": {},
   "source": [
    "Train Test Split"
   ]
  },
  {
   "cell_type": "code",
   "execution_count": 54,
   "id": "03c7607a",
   "metadata": {},
   "outputs": [],
   "source": [
    "# Copy all the predictor variables into X dataframe\n",
    "X = scaled_df.drop('Transport', axis=1)\n",
    "\n",
    "# Copy target into the y dataframe. \n",
    "y = scaled_df['Transport']\n"
   ]
  },
  {
   "cell_type": "code",
   "execution_count": 55,
   "id": "ca3805a9",
   "metadata": {},
   "outputs": [
    {
     "data": {
      "text/html": [
       "<div>\n",
       "<style scoped>\n",
       "    .dataframe tbody tr th:only-of-type {\n",
       "        vertical-align: middle;\n",
       "    }\n",
       "\n",
       "    .dataframe tbody tr th {\n",
       "        vertical-align: top;\n",
       "    }\n",
       "\n",
       "    .dataframe thead th {\n",
       "        text-align: right;\n",
       "    }\n",
       "</style>\n",
       "<table border=\"1\" class=\"dataframe\">\n",
       "  <thead>\n",
       "    <tr style=\"text-align: right;\">\n",
       "      <th></th>\n",
       "      <th>Age</th>\n",
       "      <th>WorkExp</th>\n",
       "      <th>Salary</th>\n",
       "      <th>Distance</th>\n",
       "      <th>Gender_Male</th>\n",
       "      <th>Engineer_1</th>\n",
       "      <th>MBA_1</th>\n",
       "      <th>license_1</th>\n",
       "    </tr>\n",
       "  </thead>\n",
       "  <tbody>\n",
       "    <tr>\n",
       "      <th>0</th>\n",
       "      <td>0.512821</td>\n",
       "      <td>0.258065</td>\n",
       "      <td>0.430642</td>\n",
       "      <td>0.000000</td>\n",
       "      <td>1.0</td>\n",
       "      <td>0.0</td>\n",
       "      <td>0.0</td>\n",
       "      <td>0.0</td>\n",
       "    </tr>\n",
       "    <tr>\n",
       "      <th>1</th>\n",
       "      <td>0.256410</td>\n",
       "      <td>0.258065</td>\n",
       "      <td>0.099379</td>\n",
       "      <td>0.005827</td>\n",
       "      <td>0.0</td>\n",
       "      <td>1.0</td>\n",
       "      <td>0.0</td>\n",
       "      <td>0.0</td>\n",
       "    </tr>\n",
       "    <tr>\n",
       "      <th>2</th>\n",
       "      <td>0.564103</td>\n",
       "      <td>0.451613</td>\n",
       "      <td>0.380952</td>\n",
       "      <td>0.052440</td>\n",
       "      <td>1.0</td>\n",
       "      <td>1.0</td>\n",
       "      <td>0.0</td>\n",
       "      <td>0.0</td>\n",
       "    </tr>\n",
       "    <tr>\n",
       "      <th>3</th>\n",
       "      <td>0.512821</td>\n",
       "      <td>0.322581</td>\n",
       "      <td>0.380952</td>\n",
       "      <td>0.075747</td>\n",
       "      <td>0.0</td>\n",
       "      <td>1.0</td>\n",
       "      <td>1.0</td>\n",
       "      <td>0.0</td>\n",
       "    </tr>\n",
       "    <tr>\n",
       "      <th>4</th>\n",
       "      <td>0.461538</td>\n",
       "      <td>0.258065</td>\n",
       "      <td>0.380952</td>\n",
       "      <td>0.081573</td>\n",
       "      <td>1.0</td>\n",
       "      <td>1.0</td>\n",
       "      <td>0.0</td>\n",
       "      <td>0.0</td>\n",
       "    </tr>\n",
       "  </tbody>\n",
       "</table>\n",
       "</div>"
      ],
      "text/plain": [
       "        Age   WorkExp    Salary  Distance  Gender_Male  Engineer_1  MBA_1  \\\n",
       "0  0.512821  0.258065  0.430642  0.000000          1.0         0.0    0.0   \n",
       "1  0.256410  0.258065  0.099379  0.005827          0.0         1.0    0.0   \n",
       "2  0.564103  0.451613  0.380952  0.052440          1.0         1.0    0.0   \n",
       "3  0.512821  0.322581  0.380952  0.075747          0.0         1.0    1.0   \n",
       "4  0.461538  0.258065  0.380952  0.081573          1.0         1.0    0.0   \n",
       "\n",
       "   license_1  \n",
       "0        0.0  \n",
       "1        0.0  \n",
       "2        0.0  \n",
       "3        0.0  \n",
       "4        0.0  "
      ]
     },
     "execution_count": 55,
     "metadata": {},
     "output_type": "execute_result"
    }
   ],
   "source": [
    "X.head()\n"
   ]
  },
  {
   "cell_type": "code",
   "execution_count": 56,
   "id": "5a51ee02",
   "metadata": {},
   "outputs": [
    {
     "data": {
      "text/plain": [
       "0    1.0\n",
       "1    1.0\n",
       "2    1.0\n",
       "3    1.0\n",
       "4    1.0\n",
       "Name: Transport, dtype: float64"
      ]
     },
     "execution_count": 56,
     "metadata": {},
     "output_type": "execute_result"
    }
   ],
   "source": [
    "y.head()\n"
   ]
  },
  {
   "cell_type": "code",
   "execution_count": 57,
   "id": "80fc6943",
   "metadata": {},
   "outputs": [],
   "source": [
    "\n",
    "\n",
    "# Split X and y into training and test set in 70:30 ratio\n",
    "from sklearn.model_selection import train_test_split\n",
    "X_train, X_test, y_train, y_test = train_test_split(X, y, test_size=0.30 , random_state=10)\n"
   ]
  },
  {
   "cell_type": "code",
   "execution_count": 58,
   "id": "0ced79e2",
   "metadata": {},
   "outputs": [
    {
     "data": {
      "text/plain": [
       "(310, 8)"
      ]
     },
     "execution_count": 58,
     "metadata": {},
     "output_type": "execute_result"
    }
   ],
   "source": [
    "X_train.shape"
   ]
  },
  {
   "cell_type": "code",
   "execution_count": 59,
   "id": "35c0646d",
   "metadata": {},
   "outputs": [
    {
     "data": {
      "text/plain": [
       "(134, 8)"
      ]
     },
     "execution_count": 59,
     "metadata": {},
     "output_type": "execute_result"
    }
   ],
   "source": [
    "X_test.shape"
   ]
  },
  {
   "cell_type": "markdown",
   "id": "cf6c8c45",
   "metadata": {},
   "source": [
    "# 1.4) Apply Logistic Regression(4 pts). Interpret the inferences of both model s (2 pts)"
   ]
  },
  {
   "cell_type": "code",
   "execution_count": 60,
   "id": "e6f51672",
   "metadata": {},
   "outputs": [],
   "source": [
    "import statsmodels.formula.api as SM"
   ]
  },
  {
   "cell_type": "code",
   "execution_count": 61,
   "id": "a385687b",
   "metadata": {},
   "outputs": [],
   "source": [
    "f_1 = 'Transport~Age+WorkExp+Salary+Engineer_1+MBA_1+Distance+license_1+Gender_Male'"
   ]
  },
  {
   "cell_type": "code",
   "execution_count": 62,
   "id": "0869d137",
   "metadata": {},
   "outputs": [
    {
     "name": "stdout",
     "output_type": "stream",
     "text": [
      "Optimization terminated successfully.\n",
      "         Current function value: 0.448655\n",
      "         Iterations 6\n"
     ]
    },
    {
     "data": {
      "text/html": [
       "<table class=\"simpletable\">\n",
       "<caption>Logit Regression Results</caption>\n",
       "<tr>\n",
       "  <th>Dep. Variable:</th>       <td>Transport</td>    <th>  No. Observations:  </th>  <td>   444</td>  \n",
       "</tr>\n",
       "<tr>\n",
       "  <th>Model:</th>                 <td>Logit</td>      <th>  Df Residuals:      </th>  <td>   435</td>  \n",
       "</tr>\n",
       "<tr>\n",
       "  <th>Method:</th>                 <td>MLE</td>       <th>  Df Model:          </th>  <td>     8</td>  \n",
       "</tr>\n",
       "<tr>\n",
       "  <th>Date:</th>            <td>Sun, 29 Jan 2023</td> <th>  Pseudo R-squ.:     </th>  <td>0.2879</td>  \n",
       "</tr>\n",
       "<tr>\n",
       "  <th>Time:</th>                <td>22:09:37</td>     <th>  Log-Likelihood:    </th> <td> -199.20</td> \n",
       "</tr>\n",
       "<tr>\n",
       "  <th>converged:</th>             <td>True</td>       <th>  LL-Null:           </th> <td> -279.76</td> \n",
       "</tr>\n",
       "<tr>\n",
       "  <th>Covariance Type:</th>     <td>nonrobust</td>    <th>  LLR p-value:       </th> <td>9.366e-31</td>\n",
       "</tr>\n",
       "</table>\n",
       "<table class=\"simpletable\">\n",
       "<tr>\n",
       "       <td></td>          <th>coef</th>     <th>std err</th>      <th>z</th>      <th>P>|z|</th>  <th>[0.025</th>    <th>0.975]</th>  \n",
       "</tr>\n",
       "<tr>\n",
       "  <th>Intercept</th>   <td>    2.1109</td> <td>    0.529</td> <td>    3.991</td> <td> 0.000</td> <td>    1.074</td> <td>    3.147</td>\n",
       "</tr>\n",
       "<tr>\n",
       "  <th>Age</th>         <td>    3.6826</td> <td>    1.493</td> <td>    2.467</td> <td> 0.014</td> <td>    0.757</td> <td>    6.608</td>\n",
       "</tr>\n",
       "<tr>\n",
       "  <th>WorkExp</th>     <td>   -4.1015</td> <td>    1.625</td> <td>   -2.525</td> <td> 0.012</td> <td>   -7.286</td> <td>   -0.917</td>\n",
       "</tr>\n",
       "<tr>\n",
       "  <th>Salary</th>      <td>    0.5894</td> <td>    1.058</td> <td>    0.557</td> <td> 0.577</td> <td>   -1.483</td> <td>    2.662</td>\n",
       "</tr>\n",
       "<tr>\n",
       "  <th>Engineer_1</th>  <td>   -0.1756</td> <td>    0.295</td> <td>   -0.595</td> <td> 0.552</td> <td>   -0.754</td> <td>    0.403</td>\n",
       "</tr>\n",
       "<tr>\n",
       "  <th>MBA_1</th>       <td>    0.5551</td> <td>    0.311</td> <td>    1.785</td> <td> 0.074</td> <td>   -0.054</td> <td>    1.165</td>\n",
       "</tr>\n",
       "<tr>\n",
       "  <th>Distance</th>    <td>   -4.3166</td> <td>    0.713</td> <td>   -6.051</td> <td> 0.000</td> <td>   -5.715</td> <td>   -2.918</td>\n",
       "</tr>\n",
       "<tr>\n",
       "  <th>license_1</th>   <td>   -2.2425</td> <td>    0.329</td> <td>   -6.816</td> <td> 0.000</td> <td>   -2.887</td> <td>   -1.598</td>\n",
       "</tr>\n",
       "<tr>\n",
       "  <th>Gender_Male</th> <td>    1.3077</td> <td>    0.289</td> <td>    4.522</td> <td> 0.000</td> <td>    0.741</td> <td>    1.874</td>\n",
       "</tr>\n",
       "</table>"
      ],
      "text/plain": [
       "<class 'statsmodels.iolib.summary.Summary'>\n",
       "\"\"\"\n",
       "                           Logit Regression Results                           \n",
       "==============================================================================\n",
       "Dep. Variable:              Transport   No. Observations:                  444\n",
       "Model:                          Logit   Df Residuals:                      435\n",
       "Method:                           MLE   Df Model:                            8\n",
       "Date:                Sun, 29 Jan 2023   Pseudo R-squ.:                  0.2879\n",
       "Time:                        22:09:37   Log-Likelihood:                -199.20\n",
       "converged:                       True   LL-Null:                       -279.76\n",
       "Covariance Type:            nonrobust   LLR p-value:                 9.366e-31\n",
       "===============================================================================\n",
       "                  coef    std err          z      P>|z|      [0.025      0.975]\n",
       "-------------------------------------------------------------------------------\n",
       "Intercept       2.1109      0.529      3.991      0.000       1.074       3.147\n",
       "Age             3.6826      1.493      2.467      0.014       0.757       6.608\n",
       "WorkExp        -4.1015      1.625     -2.525      0.012      -7.286      -0.917\n",
       "Salary          0.5894      1.058      0.557      0.577      -1.483       2.662\n",
       "Engineer_1     -0.1756      0.295     -0.595      0.552      -0.754       0.403\n",
       "MBA_1           0.5551      0.311      1.785      0.074      -0.054       1.165\n",
       "Distance       -4.3166      0.713     -6.051      0.000      -5.715      -2.918\n",
       "license_1      -2.2425      0.329     -6.816      0.000      -2.887      -1.598\n",
       "Gender_Male     1.3077      0.289      4.522      0.000       0.741       1.874\n",
       "===============================================================================\n",
       "\"\"\""
      ]
     },
     "execution_count": 62,
     "metadata": {},
     "output_type": "execute_result"
    }
   ],
   "source": [
    "model_1 = SM.logit(formula=f_1,data=scaled_df).fit()\n",
    "model_1.summary()"
   ]
  },
  {
   "cell_type": "code",
   "execution_count": 63,
   "id": "30e08d37",
   "metadata": {},
   "outputs": [
    {
     "name": "stdout",
     "output_type": "stream",
     "text": [
      "The adjusted pseudo R-square value is 0.25935108055302547\n"
     ]
    }
   ],
   "source": [
    "print('The adjusted pseudo R-square value is',1 - ((model_1.llf - model_1.df_model)/model_1.llnull))"
   ]
  },
  {
   "cell_type": "code",
   "execution_count": 64,
   "id": "985d4f94",
   "metadata": {},
   "outputs": [],
   "source": [
    "def vif_cal(input_data):\n",
    "    x_vars=input_data\n",
    "    xvar_names=input_data.columns\n",
    "    for i in range(0,xvar_names.shape[0]):\n",
    "        y=x_vars[xvar_names[i]] \n",
    "        x=x_vars[xvar_names.drop(xvar_names[i])]\n",
    "        rsq=SM.ols(formula=\"y~x\", data=x_vars).fit().rsquared  \n",
    "        vif=round(1/(1-rsq),2)\n",
    "        print (xvar_names[i], \" VIF = \" , vif)"
   ]
  },
  {
   "cell_type": "code",
   "execution_count": 65,
   "id": "eaa61854",
   "metadata": {},
   "outputs": [
    {
     "name": "stdout",
     "output_type": "stream",
     "text": [
      "Age  VIF =  6.8\n",
      "WorkExp  VIF =  13.38\n",
      "Salary  VIF =  7.09\n",
      "Engineer_1  VIF =  1.01\n",
      "MBA_1  VIF =  1.03\n",
      "Distance  VIF =  1.18\n",
      "license_1  VIF =  1.35\n",
      "Gender_Male  VIF =  1.08\n"
     ]
    }
   ],
   "source": [
    "vif_cal(input_data=scaled_df[['Age','WorkExp','Salary','Engineer_1','MBA_1','Distance','license_1','Gender_Male']])"
   ]
  },
  {
   "cell_type": "code",
   "execution_count": 66,
   "id": "7697eb14",
   "metadata": {},
   "outputs": [],
   "source": [
    "#Removing \"workexp\" as it has the highest VIF.VIF indicates there is multicollinearity problem"
   ]
  },
  {
   "cell_type": "code",
   "execution_count": 67,
   "id": "5503fee1",
   "metadata": {},
   "outputs": [],
   "source": [
    "f_2 = 'Transport~Age+Salary+Engineer_1+MBA_1+Distance+license_1+Gender_Male'\n"
   ]
  },
  {
   "cell_type": "code",
   "execution_count": 68,
   "id": "b7f97561",
   "metadata": {},
   "outputs": [
    {
     "name": "stdout",
     "output_type": "stream",
     "text": [
      "Optimization terminated successfully.\n",
      "         Current function value: 0.455880\n",
      "         Iterations 6\n"
     ]
    },
    {
     "data": {
      "text/html": [
       "<table class=\"simpletable\">\n",
       "<caption>Logit Regression Results</caption>\n",
       "<tr>\n",
       "  <th>Dep. Variable:</th>       <td>Transport</td>    <th>  No. Observations:  </th>  <td>   444</td>  \n",
       "</tr>\n",
       "<tr>\n",
       "  <th>Model:</th>                 <td>Logit</td>      <th>  Df Residuals:      </th>  <td>   436</td>  \n",
       "</tr>\n",
       "<tr>\n",
       "  <th>Method:</th>                 <td>MLE</td>       <th>  Df Model:          </th>  <td>     7</td>  \n",
       "</tr>\n",
       "<tr>\n",
       "  <th>Date:</th>            <td>Sun, 29 Jan 2023</td> <th>  Pseudo R-squ.:     </th>  <td>0.2765</td>  \n",
       "</tr>\n",
       "<tr>\n",
       "  <th>Time:</th>                <td>22:09:38</td>     <th>  Log-Likelihood:    </th> <td> -202.41</td> \n",
       "</tr>\n",
       "<tr>\n",
       "  <th>converged:</th>             <td>True</td>       <th>  LL-Null:           </th> <td> -279.76</td> \n",
       "</tr>\n",
       "<tr>\n",
       "  <th>Covariance Type:</th>     <td>nonrobust</td>    <th>  LLR p-value:       </th> <td>4.188e-30</td>\n",
       "</tr>\n",
       "</table>\n",
       "<table class=\"simpletable\">\n",
       "<tr>\n",
       "       <td></td>          <th>coef</th>     <th>std err</th>      <th>z</th>      <th>P>|z|</th>  <th>[0.025</th>    <th>0.975]</th>  \n",
       "</tr>\n",
       "<tr>\n",
       "  <th>Intercept</th>   <td>    2.5965</td> <td>    0.499</td> <td>    5.204</td> <td> 0.000</td> <td>    1.619</td> <td>    3.574</td>\n",
       "</tr>\n",
       "<tr>\n",
       "  <th>Age</th>         <td>    1.0114</td> <td>    1.056</td> <td>    0.957</td> <td> 0.338</td> <td>   -1.059</td> <td>    3.082</td>\n",
       "</tr>\n",
       "<tr>\n",
       "  <th>Salary</th>      <td>   -1.3727</td> <td>    0.730</td> <td>   -1.881</td> <td> 0.060</td> <td>   -2.803</td> <td>    0.058</td>\n",
       "</tr>\n",
       "<tr>\n",
       "  <th>Engineer_1</th>  <td>   -0.1632</td> <td>    0.292</td> <td>   -0.558</td> <td> 0.577</td> <td>   -0.736</td> <td>    0.410</td>\n",
       "</tr>\n",
       "<tr>\n",
       "  <th>MBA_1</th>       <td>    0.4669</td> <td>    0.305</td> <td>    1.530</td> <td> 0.126</td> <td>   -0.131</td> <td>    1.065</td>\n",
       "</tr>\n",
       "<tr>\n",
       "  <th>Distance</th>    <td>   -4.1269</td> <td>    0.699</td> <td>   -5.902</td> <td> 0.000</td> <td>   -5.497</td> <td>   -2.756</td>\n",
       "</tr>\n",
       "<tr>\n",
       "  <th>license_1</th>   <td>   -2.1896</td> <td>    0.323</td> <td>   -6.774</td> <td> 0.000</td> <td>   -2.823</td> <td>   -1.556</td>\n",
       "</tr>\n",
       "<tr>\n",
       "  <th>Gender_Male</th> <td>    1.2867</td> <td>    0.286</td> <td>    4.494</td> <td> 0.000</td> <td>    0.726</td> <td>    1.848</td>\n",
       "</tr>\n",
       "</table>"
      ],
      "text/plain": [
       "<class 'statsmodels.iolib.summary.Summary'>\n",
       "\"\"\"\n",
       "                           Logit Regression Results                           \n",
       "==============================================================================\n",
       "Dep. Variable:              Transport   No. Observations:                  444\n",
       "Model:                          Logit   Df Residuals:                      436\n",
       "Method:                           MLE   Df Model:                            7\n",
       "Date:                Sun, 29 Jan 2023   Pseudo R-squ.:                  0.2765\n",
       "Time:                        22:09:38   Log-Likelihood:                -202.41\n",
       "converged:                       True   LL-Null:                       -279.76\n",
       "Covariance Type:            nonrobust   LLR p-value:                 4.188e-30\n",
       "===============================================================================\n",
       "                  coef    std err          z      P>|z|      [0.025      0.975]\n",
       "-------------------------------------------------------------------------------\n",
       "Intercept       2.5965      0.499      5.204      0.000       1.619       3.574\n",
       "Age             1.0114      1.056      0.957      0.338      -1.059       3.082\n",
       "Salary         -1.3727      0.730     -1.881      0.060      -2.803       0.058\n",
       "Engineer_1     -0.1632      0.292     -0.558      0.577      -0.736       0.410\n",
       "MBA_1           0.4669      0.305      1.530      0.126      -0.131       1.065\n",
       "Distance       -4.1269      0.699     -5.902      0.000      -5.497      -2.756\n",
       "license_1      -2.1896      0.323     -6.774      0.000      -2.823      -1.556\n",
       "Gender_Male     1.2867      0.286      4.494      0.000       0.726       1.848\n",
       "===============================================================================\n",
       "\"\"\""
      ]
     },
     "execution_count": 68,
     "metadata": {},
     "output_type": "execute_result"
    }
   ],
   "source": [
    "model_2 = SM.logit(formula=f_2,data=scaled_df).fit()\n",
    "model_2.summary()"
   ]
  },
  {
   "cell_type": "code",
   "execution_count": 69,
   "id": "fb509c1d",
   "metadata": {},
   "outputs": [
    {
     "name": "stdout",
     "output_type": "stream",
     "text": [
      "The adjusted pseudo R-square value is 0.2514583226500491\n"
     ]
    }
   ],
   "source": [
    "print('The adjusted pseudo R-square value is',1 - ((model_2.llf - model_2.df_model)/model_2.llnull))"
   ]
  },
  {
   "cell_type": "code",
   "execution_count": 70,
   "id": "7bc9dac9",
   "metadata": {},
   "outputs": [],
   "source": [
    "def vif_cal(input_data):\n",
    "    x_vars=input_data\n",
    "    xvar_names=input_data.columns\n",
    "    for i in range(0,xvar_names.shape[0]):\n",
    "        y=x_vars[xvar_names[i]] \n",
    "        x=x_vars[xvar_names.drop(xvar_names[i])]\n",
    "        rsq=SM.ols(formula=\"y~x\", data=x_vars).fit().rsquared  \n",
    "        vif=round(1/(1-rsq),2)\n",
    "        print (xvar_names[i], \" VIF = \" , vif)"
   ]
  },
  {
   "cell_type": "code",
   "execution_count": 71,
   "id": "17d71fb3",
   "metadata": {},
   "outputs": [
    {
     "name": "stdout",
     "output_type": "stream",
     "text": [
      "Age  VIF =  3.59\n",
      "Salary  VIF =  3.47\n",
      "Engineer_1  VIF =  1.01\n",
      "MBA_1  VIF =  1.02\n",
      "Distance  VIF =  1.18\n",
      "Gender_Male  VIF =  1.08\n",
      "license_1  VIF =  1.35\n"
     ]
    }
   ],
   "source": [
    "vif_cal(input_data=scaled_df[['Age','Salary','Engineer_1','MBA_1','Distance','Gender_Male','license_1']])"
   ]
  },
  {
   "cell_type": "markdown",
   "id": "8edc87c8",
   "metadata": {},
   "source": [
    "VIF indicates there is no Multicollinearity problem.\n",
    "\n",
    "Based on 'p value', let's drop \"Engineer_1\" because it is not significant."
   ]
  },
  {
   "cell_type": "code",
   "execution_count": 72,
   "id": "b9d1f84e",
   "metadata": {},
   "outputs": [],
   "source": [
    "f_3 = 'Transport~Age+Salary+MBA_1+Distance+license_1+Gender_Male'"
   ]
  },
  {
   "cell_type": "code",
   "execution_count": 73,
   "id": "25722a63",
   "metadata": {},
   "outputs": [
    {
     "name": "stdout",
     "output_type": "stream",
     "text": [
      "Optimization terminated successfully.\n",
      "         Current function value: 0.456233\n",
      "         Iterations 6\n"
     ]
    },
    {
     "data": {
      "text/html": [
       "<table class=\"simpletable\">\n",
       "<caption>Logit Regression Results</caption>\n",
       "<tr>\n",
       "  <th>Dep. Variable:</th>       <td>Transport</td>    <th>  No. Observations:  </th>  <td>   444</td>  \n",
       "</tr>\n",
       "<tr>\n",
       "  <th>Model:</th>                 <td>Logit</td>      <th>  Df Residuals:      </th>  <td>   437</td>  \n",
       "</tr>\n",
       "<tr>\n",
       "  <th>Method:</th>                 <td>MLE</td>       <th>  Df Model:          </th>  <td>     6</td>  \n",
       "</tr>\n",
       "<tr>\n",
       "  <th>Date:</th>            <td>Sun, 29 Jan 2023</td> <th>  Pseudo R-squ.:     </th>  <td>0.2759</td>  \n",
       "</tr>\n",
       "<tr>\n",
       "  <th>Time:</th>                <td>22:09:39</td>     <th>  Log-Likelihood:    </th> <td> -202.57</td> \n",
       "</tr>\n",
       "<tr>\n",
       "  <th>converged:</th>             <td>True</td>       <th>  LL-Null:           </th> <td> -279.76</td> \n",
       "</tr>\n",
       "<tr>\n",
       "  <th>Covariance Type:</th>     <td>nonrobust</td>    <th>  LLR p-value:       </th> <td>9.160e-31</td>\n",
       "</tr>\n",
       "</table>\n",
       "<table class=\"simpletable\">\n",
       "<tr>\n",
       "       <td></td>          <th>coef</th>     <th>std err</th>      <th>z</th>      <th>P>|z|</th>  <th>[0.025</th>    <th>0.975]</th>  \n",
       "</tr>\n",
       "<tr>\n",
       "  <th>Intercept</th>   <td>    2.4960</td> <td>    0.464</td> <td>    5.380</td> <td> 0.000</td> <td>    1.587</td> <td>    3.405</td>\n",
       "</tr>\n",
       "<tr>\n",
       "  <th>Age</th>         <td>    0.9746</td> <td>    1.053</td> <td>    0.925</td> <td> 0.355</td> <td>   -1.090</td> <td>    3.039</td>\n",
       "</tr>\n",
       "<tr>\n",
       "  <th>Salary</th>      <td>   -1.3654</td> <td>    0.728</td> <td>   -1.875</td> <td> 0.061</td> <td>   -2.793</td> <td>    0.062</td>\n",
       "</tr>\n",
       "<tr>\n",
       "  <th>MBA_1</th>       <td>    0.4503</td> <td>    0.303</td> <td>    1.486</td> <td> 0.137</td> <td>   -0.144</td> <td>    1.044</td>\n",
       "</tr>\n",
       "<tr>\n",
       "  <th>Distance</th>    <td>   -4.1323</td> <td>    0.700</td> <td>   -5.906</td> <td> 0.000</td> <td>   -5.504</td> <td>   -2.761</td>\n",
       "</tr>\n",
       "<tr>\n",
       "  <th>license_1</th>   <td>   -2.1803</td> <td>    0.323</td> <td>   -6.760</td> <td> 0.000</td> <td>   -2.812</td> <td>   -1.548</td>\n",
       "</tr>\n",
       "<tr>\n",
       "  <th>Gender_Male</th> <td>    1.2804</td> <td>    0.286</td> <td>    4.483</td> <td> 0.000</td> <td>    0.721</td> <td>    1.840</td>\n",
       "</tr>\n",
       "</table>"
      ],
      "text/plain": [
       "<class 'statsmodels.iolib.summary.Summary'>\n",
       "\"\"\"\n",
       "                           Logit Regression Results                           \n",
       "==============================================================================\n",
       "Dep. Variable:              Transport   No. Observations:                  444\n",
       "Model:                          Logit   Df Residuals:                      437\n",
       "Method:                           MLE   Df Model:                            6\n",
       "Date:                Sun, 29 Jan 2023   Pseudo R-squ.:                  0.2759\n",
       "Time:                        22:09:39   Log-Likelihood:                -202.57\n",
       "converged:                       True   LL-Null:                       -279.76\n",
       "Covariance Type:            nonrobust   LLR p-value:                 9.160e-31\n",
       "===============================================================================\n",
       "                  coef    std err          z      P>|z|      [0.025      0.975]\n",
       "-------------------------------------------------------------------------------\n",
       "Intercept       2.4960      0.464      5.380      0.000       1.587       3.405\n",
       "Age             0.9746      1.053      0.925      0.355      -1.090       3.039\n",
       "Salary         -1.3654      0.728     -1.875      0.061      -2.793       0.062\n",
       "MBA_1           0.4503      0.303      1.486      0.137      -0.144       1.044\n",
       "Distance       -4.1323      0.700     -5.906      0.000      -5.504      -2.761\n",
       "license_1      -2.1803      0.323     -6.760      0.000      -2.812      -1.548\n",
       "Gender_Male     1.2804      0.286      4.483      0.000       0.721       1.840\n",
       "===============================================================================\n",
       "\"\"\""
      ]
     },
     "execution_count": 73,
     "metadata": {},
     "output_type": "execute_result"
    }
   ],
   "source": [
    "model_3 = SM.logit(formula=f_3,data=scaled_df).fit()\n",
    "model_3.summary()"
   ]
  },
  {
   "cell_type": "code",
   "execution_count": 74,
   "id": "e6271563",
   "metadata": {},
   "outputs": [
    {
     "name": "stdout",
     "output_type": "stream",
     "text": [
      "The adjusted pseudo R-square value is 0.254471894771379\n"
     ]
    }
   ],
   "source": [
    "print('The adjusted pseudo R-square value is',1 - ((model_3.llf - model_3.df_model)/model_3.llnull))"
   ]
  },
  {
   "cell_type": "code",
   "execution_count": 75,
   "id": "445d097e",
   "metadata": {},
   "outputs": [],
   "source": [
    "def vif_cal(input_data):\n",
    "    x_vars=input_data\n",
    "    xvar_names=input_data.columns\n",
    "    for i in range(0,xvar_names.shape[0]):\n",
    "        y=x_vars[xvar_names[i]] \n",
    "        x=x_vars[xvar_names.drop(xvar_names[i])]\n",
    "        rsq=SM.ols(formula=\"y~x\", data=x_vars).fit().rsquared  \n",
    "        vif=round(1/(1-rsq),2)\n",
    "        print (xvar_names[i], \" VIF = \" , vif)"
   ]
  },
  {
   "cell_type": "code",
   "execution_count": 76,
   "id": "2ea513d8",
   "metadata": {},
   "outputs": [
    {
     "name": "stdout",
     "output_type": "stream",
     "text": [
      "Salary  VIF =  3.47\n",
      "MBA_1  VIF =  1.02\n",
      "Age  VIF =  3.58\n",
      "Distance  VIF =  1.18\n",
      "Gender_Male  VIF =  1.08\n",
      "license_1  VIF =  1.34\n"
     ]
    }
   ],
   "source": [
    "vif_cal(input_data=scaled_df[['Salary','MBA_1','Age','Distance','Gender_Male','license_1']])"
   ]
  },
  {
   "cell_type": "markdown",
   "id": "59bfafbe",
   "metadata": {},
   "source": [
    "\n",
    "VIF indicates there is no Multicollinearity problem.\n",
    "\n",
    "Based on 'p value', let's drop \"Age\" because it is not significant"
   ]
  },
  {
   "cell_type": "code",
   "execution_count": 77,
   "id": "f23a4453",
   "metadata": {},
   "outputs": [],
   "source": [
    "f_4 = 'Transport~Salary+MBA_1+Distance+license_1+Gender_Male'"
   ]
  },
  {
   "cell_type": "code",
   "execution_count": 78,
   "id": "f1a8b1cf",
   "metadata": {},
   "outputs": [
    {
     "name": "stdout",
     "output_type": "stream",
     "text": [
      "Optimization terminated successfully.\n",
      "         Current function value: 0.457200\n",
      "         Iterations 6\n"
     ]
    },
    {
     "data": {
      "text/html": [
       "<table class=\"simpletable\">\n",
       "<caption>Logit Regression Results</caption>\n",
       "<tr>\n",
       "  <th>Dep. Variable:</th>       <td>Transport</td>    <th>  No. Observations:  </th>  <td>   444</td>  \n",
       "</tr>\n",
       "<tr>\n",
       "  <th>Model:</th>                 <td>Logit</td>      <th>  Df Residuals:      </th>  <td>   438</td>  \n",
       "</tr>\n",
       "<tr>\n",
       "  <th>Method:</th>                 <td>MLE</td>       <th>  Df Model:          </th>  <td>     5</td>  \n",
       "</tr>\n",
       "<tr>\n",
       "  <th>Date:</th>            <td>Sun, 29 Jan 2023</td> <th>  Pseudo R-squ.:     </th>  <td>0.2744</td>  \n",
       "</tr>\n",
       "<tr>\n",
       "  <th>Time:</th>                <td>22:09:40</td>     <th>  Log-Likelihood:    </th> <td> -203.00</td> \n",
       "</tr>\n",
       "<tr>\n",
       "  <th>converged:</th>             <td>True</td>       <th>  LL-Null:           </th> <td> -279.76</td> \n",
       "</tr>\n",
       "<tr>\n",
       "  <th>Covariance Type:</th>     <td>nonrobust</td>    <th>  LLR p-value:       </th> <td>2.374e-31</td>\n",
       "</tr>\n",
       "</table>\n",
       "<table class=\"simpletable\">\n",
       "<tr>\n",
       "       <td></td>          <th>coef</th>     <th>std err</th>      <th>z</th>      <th>P>|z|</th>  <th>[0.025</th>    <th>0.975]</th>  \n",
       "</tr>\n",
       "<tr>\n",
       "  <th>Intercept</th>   <td>    2.7151</td> <td>    0.402</td> <td>    6.747</td> <td> 0.000</td> <td>    1.926</td> <td>    3.504</td>\n",
       "</tr>\n",
       "<tr>\n",
       "  <th>Salary</th>      <td>   -0.8355</td> <td>    0.450</td> <td>   -1.857</td> <td> 0.063</td> <td>   -1.718</td> <td>    0.046</td>\n",
       "</tr>\n",
       "<tr>\n",
       "  <th>MBA_1</th>       <td>    0.4339</td> <td>    0.302</td> <td>    1.435</td> <td> 0.151</td> <td>   -0.159</td> <td>    1.027</td>\n",
       "</tr>\n",
       "<tr>\n",
       "  <th>Distance</th>    <td>   -4.0985</td> <td>    0.697</td> <td>   -5.877</td> <td> 0.000</td> <td>   -5.465</td> <td>   -2.732</td>\n",
       "</tr>\n",
       "<tr>\n",
       "  <th>license_1</th>   <td>   -2.1194</td> <td>    0.315</td> <td>   -6.727</td> <td> 0.000</td> <td>   -2.737</td> <td>   -1.502</td>\n",
       "</tr>\n",
       "<tr>\n",
       "  <th>Gender_Male</th> <td>    1.2883</td> <td>    0.285</td> <td>    4.526</td> <td> 0.000</td> <td>    0.730</td> <td>    1.846</td>\n",
       "</tr>\n",
       "</table>"
      ],
      "text/plain": [
       "<class 'statsmodels.iolib.summary.Summary'>\n",
       "\"\"\"\n",
       "                           Logit Regression Results                           \n",
       "==============================================================================\n",
       "Dep. Variable:              Transport   No. Observations:                  444\n",
       "Model:                          Logit   Df Residuals:                      438\n",
       "Method:                           MLE   Df Model:                            5\n",
       "Date:                Sun, 29 Jan 2023   Pseudo R-squ.:                  0.2744\n",
       "Time:                        22:09:40   Log-Likelihood:                -203.00\n",
       "converged:                       True   LL-Null:                       -279.76\n",
       "Covariance Type:            nonrobust   LLR p-value:                 2.374e-31\n",
       "===============================================================================\n",
       "                  coef    std err          z      P>|z|      [0.025      0.975]\n",
       "-------------------------------------------------------------------------------\n",
       "Intercept       2.7151      0.402      6.747      0.000       1.926       3.504\n",
       "Salary         -0.8355      0.450     -1.857      0.063      -1.718       0.046\n",
       "MBA_1           0.4339      0.302      1.435      0.151      -0.159       1.027\n",
       "Distance       -4.0985      0.697     -5.877      0.000      -5.465      -2.732\n",
       "license_1      -2.1194      0.315     -6.727      0.000      -2.737      -1.502\n",
       "Gender_Male     1.2883      0.285      4.526      0.000       0.730       1.846\n",
       "===============================================================================\n",
       "\"\"\""
      ]
     },
     "execution_count": 78,
     "metadata": {},
     "output_type": "execute_result"
    }
   ],
   "source": [
    "model_4 = SM.logit(formula=f_4,data=scaled_df).fit()\n",
    "model_4.summary()"
   ]
  },
  {
   "cell_type": "code",
   "execution_count": 79,
   "id": "6947cfa7",
   "metadata": {},
   "outputs": [
    {
     "name": "stdout",
     "output_type": "stream",
     "text": [
      "The adjusted pseudo R-square value is 0.25651162551008355\n"
     ]
    }
   ],
   "source": [
    "print('The adjusted pseudo R-square value is',1 - ((model_4.llf - model_4.df_model)/model_4.llnull))"
   ]
  },
  {
   "cell_type": "markdown",
   "id": "cf2ba1bf",
   "metadata": {},
   "source": [
    "VIF indicates there is no Multicollinearity problem.\n",
    "\n",
    "Based on 'p value', let's drop \"MBA_1\" because it is not significant"
   ]
  },
  {
   "cell_type": "code",
   "execution_count": 80,
   "id": "7f63f264",
   "metadata": {},
   "outputs": [],
   "source": [
    "f_5 = 'Transport~Salary+Distance+license_1+Gender_Male'"
   ]
  },
  {
   "cell_type": "code",
   "execution_count": 81,
   "id": "dd5d4651",
   "metadata": {},
   "outputs": [
    {
     "name": "stdout",
     "output_type": "stream",
     "text": [
      "Optimization terminated successfully.\n",
      "         Current function value: 0.459586\n",
      "         Iterations 6\n"
     ]
    },
    {
     "data": {
      "text/html": [
       "<table class=\"simpletable\">\n",
       "<caption>Logit Regression Results</caption>\n",
       "<tr>\n",
       "  <th>Dep. Variable:</th>       <td>Transport</td>    <th>  No. Observations:  </th>  <td>   444</td>  \n",
       "</tr>\n",
       "<tr>\n",
       "  <th>Model:</th>                 <td>Logit</td>      <th>  Df Residuals:      </th>  <td>   439</td>  \n",
       "</tr>\n",
       "<tr>\n",
       "  <th>Method:</th>                 <td>MLE</td>       <th>  Df Model:          </th>  <td>     4</td>  \n",
       "</tr>\n",
       "<tr>\n",
       "  <th>Date:</th>            <td>Sun, 29 Jan 2023</td> <th>  Pseudo R-squ.:     </th>  <td>0.2706</td>  \n",
       "</tr>\n",
       "<tr>\n",
       "  <th>Time:</th>                <td>22:09:40</td>     <th>  Log-Likelihood:    </th> <td> -204.06</td> \n",
       "</tr>\n",
       "<tr>\n",
       "  <th>converged:</th>             <td>True</td>       <th>  LL-Null:           </th> <td> -279.76</td> \n",
       "</tr>\n",
       "<tr>\n",
       "  <th>Covariance Type:</th>     <td>nonrobust</td>    <th>  LLR p-value:       </th> <td>1.018e-31</td>\n",
       "</tr>\n",
       "</table>\n",
       "<table class=\"simpletable\">\n",
       "<tr>\n",
       "       <td></td>          <th>coef</th>     <th>std err</th>      <th>z</th>      <th>P>|z|</th>  <th>[0.025</th>    <th>0.975]</th>  \n",
       "</tr>\n",
       "<tr>\n",
       "  <th>Intercept</th>   <td>    2.7777</td> <td>    0.402</td> <td>    6.912</td> <td> 0.000</td> <td>    1.990</td> <td>    3.565</td>\n",
       "</tr>\n",
       "<tr>\n",
       "  <th>Salary</th>      <td>   -0.8119</td> <td>    0.446</td> <td>   -1.818</td> <td> 0.069</td> <td>   -1.687</td> <td>    0.063</td>\n",
       "</tr>\n",
       "<tr>\n",
       "  <th>Distance</th>    <td>   -4.0921</td> <td>    0.700</td> <td>   -5.848</td> <td> 0.000</td> <td>   -5.464</td> <td>   -2.721</td>\n",
       "</tr>\n",
       "<tr>\n",
       "  <th>license_1</th>   <td>   -2.1404</td> <td>    0.315</td> <td>   -6.805</td> <td> 0.000</td> <td>   -2.757</td> <td>   -1.524</td>\n",
       "</tr>\n",
       "<tr>\n",
       "  <th>Gender_Male</th> <td>    1.3331</td> <td>    0.283</td> <td>    4.707</td> <td> 0.000</td> <td>    0.778</td> <td>    1.888</td>\n",
       "</tr>\n",
       "</table>"
      ],
      "text/plain": [
       "<class 'statsmodels.iolib.summary.Summary'>\n",
       "\"\"\"\n",
       "                           Logit Regression Results                           \n",
       "==============================================================================\n",
       "Dep. Variable:              Transport   No. Observations:                  444\n",
       "Model:                          Logit   Df Residuals:                      439\n",
       "Method:                           MLE   Df Model:                            4\n",
       "Date:                Sun, 29 Jan 2023   Pseudo R-squ.:                  0.2706\n",
       "Time:                        22:09:40   Log-Likelihood:                -204.06\n",
       "converged:                       True   LL-Null:                       -279.76\n",
       "Covariance Type:            nonrobust   LLR p-value:                 1.018e-31\n",
       "===============================================================================\n",
       "                  coef    std err          z      P>|z|      [0.025      0.975]\n",
       "-------------------------------------------------------------------------------\n",
       "Intercept       2.7777      0.402      6.912      0.000       1.990       3.565\n",
       "Salary         -0.8119      0.446     -1.818      0.069      -1.687       0.063\n",
       "Distance       -4.0921      0.700     -5.848      0.000      -5.464      -2.721\n",
       "license_1      -2.1404      0.315     -6.805      0.000      -2.757      -1.524\n",
       "Gender_Male     1.3331      0.283      4.707      0.000       0.778       1.888\n",
       "===============================================================================\n",
       "\"\"\""
      ]
     },
     "execution_count": 81,
     "metadata": {},
     "output_type": "execute_result"
    }
   ],
   "source": [
    "model_5 = SM.logit(formula=f_5,data=scaled_df).fit()\n",
    "model_5.summary()"
   ]
  },
  {
   "cell_type": "code",
   "execution_count": 82,
   "id": "55575777",
   "metadata": {},
   "outputs": [
    {
     "name": "stdout",
     "output_type": "stream",
     "text": [
      "The adjusted pseudo R-square value is 0.2562994321894886\n"
     ]
    }
   ],
   "source": [
    "print('The adjusted pseudo R-square value is',1 - ((model_5.llf - model_5.df_model)/model_5.llnull))"
   ]
  },
  {
   "cell_type": "code",
   "execution_count": 83,
   "id": "609ff7c9",
   "metadata": {},
   "outputs": [
    {
     "name": "stdout",
     "output_type": "stream",
     "text": [
      "Salary  VIF =  1.28\n",
      "Distance  VIF =  1.17\n",
      "Gender_Male  VIF =  1.06\n",
      "license_1  VIF =  1.29\n"
     ]
    }
   ],
   "source": [
    "vif_cal(input_data=scaled_df[['Salary','Distance','Gender_Male','license_1']])"
   ]
  },
  {
   "cell_type": "markdown",
   "id": "161e5825",
   "metadata": {},
   "source": [
    "VIF indicates there is no Multicollinearity problem.\n",
    "\n",
    "Based on 'p value', let's drop \"Salary\" because it is not significant"
   ]
  },
  {
   "cell_type": "code",
   "execution_count": 84,
   "id": "f63d467d",
   "metadata": {},
   "outputs": [],
   "source": [
    "f_6 = 'Transport~Distance+license_1+Gender_Male'"
   ]
  },
  {
   "cell_type": "code",
   "execution_count": 85,
   "id": "09ec7c7c",
   "metadata": {},
   "outputs": [
    {
     "name": "stdout",
     "output_type": "stream",
     "text": [
      "Optimization terminated successfully.\n",
      "         Current function value: 0.463313\n",
      "         Iterations 6\n"
     ]
    },
    {
     "data": {
      "text/html": [
       "<table class=\"simpletable\">\n",
       "<caption>Logit Regression Results</caption>\n",
       "<tr>\n",
       "  <th>Dep. Variable:</th>       <td>Transport</td>    <th>  No. Observations:  </th>  <td>   444</td>  \n",
       "</tr>\n",
       "<tr>\n",
       "  <th>Model:</th>                 <td>Logit</td>      <th>  Df Residuals:      </th>  <td>   440</td>  \n",
       "</tr>\n",
       "<tr>\n",
       "  <th>Method:</th>                 <td>MLE</td>       <th>  Df Model:          </th>  <td>     3</td>  \n",
       "</tr>\n",
       "<tr>\n",
       "  <th>Date:</th>            <td>Sun, 29 Jan 2023</td> <th>  Pseudo R-squ.:     </th>  <td>0.2647</td>  \n",
       "</tr>\n",
       "<tr>\n",
       "  <th>Time:</th>                <td>22:09:41</td>     <th>  Log-Likelihood:    </th> <td> -205.71</td> \n",
       "</tr>\n",
       "<tr>\n",
       "  <th>converged:</th>             <td>True</td>       <th>  LL-Null:           </th> <td> -279.76</td> \n",
       "</tr>\n",
       "<tr>\n",
       "  <th>Covariance Type:</th>     <td>nonrobust</td>    <th>  LLR p-value:       </th> <td>6.787e-32</td>\n",
       "</tr>\n",
       "</table>\n",
       "<table class=\"simpletable\">\n",
       "<tr>\n",
       "       <td></td>          <th>coef</th>     <th>std err</th>      <th>z</th>      <th>P>|z|</th>  <th>[0.025</th>    <th>0.975]</th>  \n",
       "</tr>\n",
       "<tr>\n",
       "  <th>Intercept</th>   <td>    2.5855</td> <td>    0.382</td> <td>    6.773</td> <td> 0.000</td> <td>    1.837</td> <td>    3.334</td>\n",
       "</tr>\n",
       "<tr>\n",
       "  <th>Distance</th>    <td>   -4.3560</td> <td>    0.681</td> <td>   -6.400</td> <td> 0.000</td> <td>   -5.690</td> <td>   -3.022</td>\n",
       "</tr>\n",
       "<tr>\n",
       "  <th>license_1</th>   <td>   -2.3017</td> <td>    0.303</td> <td>   -7.607</td> <td> 0.000</td> <td>   -2.895</td> <td>   -1.709</td>\n",
       "</tr>\n",
       "<tr>\n",
       "  <th>Gender_Male</th> <td>    1.3638</td> <td>    0.283</td> <td>    4.821</td> <td> 0.000</td> <td>    0.809</td> <td>    1.918</td>\n",
       "</tr>\n",
       "</table>"
      ],
      "text/plain": [
       "<class 'statsmodels.iolib.summary.Summary'>\n",
       "\"\"\"\n",
       "                           Logit Regression Results                           \n",
       "==============================================================================\n",
       "Dep. Variable:              Transport   No. Observations:                  444\n",
       "Model:                          Logit   Df Residuals:                      440\n",
       "Method:                           MLE   Df Model:                            3\n",
       "Date:                Sun, 29 Jan 2023   Pseudo R-squ.:                  0.2647\n",
       "Time:                        22:09:41   Log-Likelihood:                -205.71\n",
       "converged:                       True   LL-Null:                       -279.76\n",
       "Covariance Type:            nonrobust   LLR p-value:                 6.787e-32\n",
       "===============================================================================\n",
       "                  coef    std err          z      P>|z|      [0.025      0.975]\n",
       "-------------------------------------------------------------------------------\n",
       "Intercept       2.5855      0.382      6.773      0.000       1.837       3.334\n",
       "Distance       -4.3560      0.681     -6.400      0.000      -5.690      -3.022\n",
       "license_1      -2.3017      0.303     -7.607      0.000      -2.895      -1.709\n",
       "Gender_Male     1.3638      0.283      4.821      0.000       0.809       1.918\n",
       "===============================================================================\n",
       "\"\"\""
      ]
     },
     "execution_count": 85,
     "metadata": {},
     "output_type": "execute_result"
    }
   ],
   "source": [
    "model_6 = SM.logit(formula=f_6,data=scaled_df).fit()\n",
    "model_6.summary()"
   ]
  },
  {
   "cell_type": "code",
   "execution_count": 86,
   "id": "865d74d1",
   "metadata": {},
   "outputs": [
    {
     "name": "stdout",
     "output_type": "stream",
     "text": [
      "The adjusted pseudo R-square value is 0.2539602246310785\n"
     ]
    }
   ],
   "source": [
    "print('The adjusted pseudo R-square value is',1 - ((model_6.llf - model_6.df_model)/model_6.llnull))"
   ]
  },
  {
   "cell_type": "code",
   "execution_count": 87,
   "id": "a75dd216",
   "metadata": {},
   "outputs": [
    {
     "name": "stdout",
     "output_type": "stream",
     "text": [
      "Distance  VIF =  1.09\n",
      "Gender_Male  VIF =  1.06\n",
      "license_1  VIF =  1.15\n"
     ]
    }
   ],
   "source": [
    "vif_cal(input_data=scaled_df[['Distance','Gender_Male','license_1']])"
   ]
  },
  {
   "cell_type": "markdown",
   "id": "dc56b1f9",
   "metadata": {},
   "source": [
    "We notice that the adjusted pseudo R-squared values have increased.\n",
    "\n",
    "'p values' indicate that all variables are significant at 95% confidence level"
   ]
  },
  {
   "cell_type": "code",
   "execution_count": 88,
   "id": "137d4171",
   "metadata": {},
   "outputs": [],
   "source": [
    "# Prediction on the data"
   ]
  },
  {
   "cell_type": "code",
   "execution_count": 89,
   "id": "0927a80b",
   "metadata": {},
   "outputs": [
    {
     "data": {
      "text/plain": [
       "array([0.9810971 , 0.9282521 , 0.97636084, 0.9051302 , 0.97324782,\n",
       "       0.77582999, 0.96973756, 0.89122232, 0.96973756, 0.96898376,\n",
       "       0.88873722, 0.75299015, 0.96742129, 0.7434279 , 0.96661179,\n",
       "       0.96578289, 0.96317544, 0.86991871, 0.96133204, 0.96133204,\n",
       "       0.96133204, 0.96133204, 0.86406584, 0.96133204, 0.96037744,\n",
       "       0.86105705, 0.95940026, 0.95940026, 0.7028308 , 0.85799261,\n",
       "       0.85799261, 0.95840003, 0.95840003, 0.85487198, 0.85169462,\n",
       "       0.95737625, 0.68119973, 0.84516772, 0.95415859, 0.95415859,\n",
       "       0.67007601, 0.83493986, 0.95188637, 0.95071053, 0.65875859,\n",
       "       0.83141218, 0.95071053, 0.95071053, 0.82782465, 0.82782465,\n",
       "       0.94950748, 0.82782465, 0.94827666, 0.94827666, 0.94827666,\n",
       "       0.82417693, 0.94701752, 0.82046868, 0.94701752, 0.94572948,\n",
       "       0.63558285, 0.94572948, 0.94572948, 0.81669962, 0.81286947,\n",
       "       0.6296842 , 0.94441196, 0.94441196, 0.94441196, 0.94441196,\n",
       "       0.94306439, 0.94306439, 0.80897802, 0.94027668, 0.61176073,\n",
       "       0.8010104 , 0.93883535, 0.93736155, 0.79279556, 0.59963813,\n",
       "       0.79279556, 0.93736155, 0.79279556, 0.79279556, 0.79279556,\n",
       "       0.93736155, 0.93736155, 0.79279556, 0.78859523, 0.78859523,\n",
       "       0.78859523, 0.93431407, 0.93431407, 0.58122757, 0.93273913,\n",
       "       0.93273913, 0.93273913, 0.93273913, 0.93273913, 0.93112921,\n",
       "       0.77562244, 0.57503737, 0.93112921, 0.92948368, 0.92948368,\n",
       "       0.77117446, 0.56882354, 0.92948368, 0.56258797, 0.92780187,\n",
       "       0.92608314, 0.92608314, 0.76209374, 0.92608314, 0.75746144,\n",
       "       0.92432684, 0.75746144, 0.75746144, 0.92432684, 0.92253229,\n",
       "       0.92253229, 0.7527682 , 0.7527682 , 0.54376994, 0.92253229,\n",
       "       0.92253229, 0.54376994, 0.7527682 , 0.74801435, 0.92069884,\n",
       "       0.92069884, 0.74801435, 0.92069884, 0.92069884, 0.53115139,\n",
       "       0.91882582, 0.91882582, 0.74320028, 0.91691255, 0.91691255,\n",
       "       0.91691255, 0.73832641, 0.91691255, 0.91691255, 0.73339322,\n",
       "       0.91495835, 0.73339322, 0.91495835, 0.73339322, 0.91495835,\n",
       "       0.91495835, 0.72840125, 0.91296256, 0.91296256, 0.51215369,\n",
       "       0.91296256, 0.91296256, 0.91092449, 0.91092449, 0.91092449,\n",
       "       0.90884346, 0.49946562, 0.90884346, 0.49946562, 0.90884346,\n",
       "       0.71824329, 0.49312081, 0.71307862, 0.71307862, 0.70785778,\n",
       "       0.9045498 , 0.9045498 , 0.70785778, 0.90233581, 0.90233581,\n",
       "       0.4804399 , 0.4804399 , 0.90233581, 0.90233581, 0.90233581,\n",
       "       0.69725083, 0.69725083, 0.90007614, 0.90007614, 0.90007614,\n",
       "       0.90007614, 0.69186645, 0.89777011, 0.46778413, 0.89777011,\n",
       "       0.46778413, 0.45516968, 0.45516968, 0.89301627, 0.89301627,\n",
       "       0.89301627, 0.6809406 , 0.89056712, 0.44888294, 0.67540118,\n",
       "       0.67540118, 0.89056712, 0.88806893, 0.66981222, 0.88552104,\n",
       "       0.88552104, 0.66417488, 0.66417488, 0.88552104, 0.88552104,\n",
       "       0.88552104, 0.8829228 , 0.43012825, 0.65849036, 0.42391827,\n",
       "       0.88027357, 0.88027357, 0.65275993, 0.42391827, 0.88027357,\n",
       "       0.6469849 , 0.6469849 , 0.6469849 , 0.41773223, 0.41773223,\n",
       "       0.64116661, 0.87481956, 0.64116661, 0.40543929, 0.87201354,\n",
       "       0.63530649, 0.86915403, 0.62940597, 0.39933598, 0.39933598,\n",
       "       0.39933598, 0.86624043, 0.86624043, 0.14216251, 0.86624043,\n",
       "       0.62346658, 0.86327216, 0.38722438, 0.86024865, 0.86024865,\n",
       "       0.38121946, 0.61147735, 0.61147735, 0.37525063, 0.85716934,\n",
       "       0.85716934, 0.60543075, 0.85716934, 0.60543075, 0.85716934,\n",
       "       0.60543075, 0.5993517 , 0.5993517 , 0.85403369, 0.59324191,\n",
       "       0.36342755, 0.36342755, 0.36342755, 0.59324191, 0.36342755,\n",
       "       0.85084119, 0.84759131, 0.84759131, 0.84428359, 0.84428359,\n",
       "       0.35176723, 0.58093717, 0.84428359, 0.84428359, 0.84091756,\n",
       "       0.34600169, 0.11915134, 0.57474581, 0.34600169, 0.57474581,\n",
       "       0.57474581, 0.34600169, 0.34600169, 0.84091756, 0.84091756,\n",
       "       0.84091756, 0.34028104, 0.83749277, 0.83749277, 0.33460659,\n",
       "       0.33460659, 0.8340088 , 0.83046526, 0.32897957, 0.10890111,\n",
       "       0.82686178, 0.82686178, 0.54976395, 0.82686178, 0.32340119,\n",
       "       0.31787259, 0.82319801, 0.82319801, 0.82319801, 0.81947364,\n",
       "       0.81947364, 0.81947364, 0.81947364, 0.81947364, 0.81947364,\n",
       "       0.81568838, 0.5308543 , 0.30696905, 0.81568838, 0.81184197,\n",
       "       0.81184197, 0.52452861, 0.30159615, 0.81184197, 0.81184197,\n",
       "       0.81184197, 0.51819504, 0.8079342 , 0.51185562, 0.51185562,\n",
       "       0.80396486, 0.80396486, 0.7999338 , 0.50551238, 0.7999338 ,\n",
       "       0.79584091, 0.79584091, 0.49916737, 0.79168608, 0.08863282,\n",
       "       0.08660392, 0.27051834, 0.08660392, 0.78746929, 0.78746929,\n",
       "       0.78746929, 0.78319051, 0.78319051, 0.78319051, 0.77884978,\n",
       "       0.47381042, 0.47381042, 0.77884978, 0.77444717, 0.7699828 ,\n",
       "       0.24621556, 0.76545683, 0.24621556, 0.24621556, 0.24621556,\n",
       "       0.76086946, 0.76086946, 0.44858783, 0.75622094, 0.75622094,\n",
       "       0.75622094, 0.4360669 , 0.23235842, 0.23235842, 0.42983585,\n",
       "       0.42362696, 0.42362696, 0.06852096, 0.72200013, 0.39904986,\n",
       "       0.71687718, 0.39297916, 0.20218261, 0.39297916, 0.71169752,\n",
       "       0.19811947, 0.38694135, 0.71169752, 0.7064619 , 0.7064619 ,\n",
       "       0.70117113, 0.18630019, 0.36904166, 0.69582605, 0.18630019,\n",
       "       0.36904166, 0.69042757, 0.69042757, 0.3631516 , 0.17872729,\n",
       "       0.35730232, 0.68497667, 0.35149525, 0.67947434, 0.67947434,\n",
       "       0.17139738, 0.67392165, 0.67392165, 0.32871627, 0.15745601,\n",
       "       0.6512305 , 0.3231402 , 0.15411808, 0.64544384, 0.64544384,\n",
       "       0.31213866, 0.63374331, 0.30671532, 0.62188286, 0.29602841,\n",
       "       0.13829005, 0.03846521, 0.28556049, 0.60381937, 0.60381937,\n",
       "       0.59773199, 0.27028299, 0.59161433, 0.56687666, 0.11324713,\n",
       "       0.11324713, 0.24131694, 0.55437346, 0.03010239, 0.10582292,\n",
       "       0.10582292, 0.10344518, 0.10111482, 0.0944013 , 0.09015012,\n",
       "       0.08607219, 0.08607219, 0.47845984, 0.08409649, 0.07138458,\n",
       "       0.06248065, 0.06248065, 0.01675419, 0.06248065, 0.06248065,\n",
       "       0.06248065, 0.06248065, 0.06248065, 0.06248065])"
      ]
     },
     "execution_count": 89,
     "metadata": {},
     "output_type": "execute_result"
    }
   ],
   "source": [
    "y_prob_pred_6 = model_6.predict()\n",
    "y_prob_pred_6"
   ]
  },
  {
   "cell_type": "code",
   "execution_count": 90,
   "id": "3a8ef229",
   "metadata": {},
   "outputs": [
    {
     "data": {
      "image/png": "[encoded data removed]",
      "text/plain": [
       "<Figure size 432x288 with 1 Axes>"
      ]
     },
     "metadata": {
      "needs_background": "light"
     },
     "output_type": "display_data"
    }
   ],
   "source": [
    "sns.boxplot(x=scaled_df['Transport'],y=y_prob_pred_6)\n",
    "plt.xlabel('Transport');"
   ]
  },
  {
   "cell_type": "markdown",
   "id": "e1e3ae34",
   "metadata": {},
   "source": [
    "From the above boxplot, we need to decide on one such value of a cut-off which will give us the most reasonable power of the model. Let us take a cut-off of 0.5 first and check.\n",
    "\n",
    "Let us now see the predicted classes"
   ]
  },
  {
   "cell_type": "code",
   "execution_count": 91,
   "id": "fe3122f1",
   "metadata": {},
   "outputs": [
    {
     "data": {
      "text/plain": [
       "array([1, 1, 1, 1, 1, 1, 1, 1, 1, 1, 1, 1, 1, 1, 1, 1, 1, 1, 1, 1, 1, 1,\n",
       "       1, 1, 1, 1, 1, 1, 1, 1, 1, 1, 1, 1, 1, 1, 1, 1, 1, 1, 1, 1, 1, 1,\n",
       "       1, 1, 1, 1, 1, 1, 1, 1, 1, 1, 1, 1, 1, 1, 1, 1, 1, 1, 1, 1, 1, 1,\n",
       "       1, 1, 1, 1, 1, 1, 1, 1, 1, 1, 1, 1, 1, 1, 1, 1, 1, 1, 1, 1, 1, 1,\n",
       "       1, 1, 1, 1, 1, 1, 1, 1, 1, 1, 1, 1, 1, 1, 1, 1, 1, 1, 1, 1, 1, 1,\n",
       "       1, 1, 1, 1, 1, 1, 1, 1, 1, 1, 1, 1, 1, 1, 1, 1, 1, 1, 1, 1, 1, 1,\n",
       "       1, 1, 1, 1, 1, 1, 1, 1, 1, 1, 1, 1, 1, 1, 1, 1, 1, 1, 1, 1, 1, 1,\n",
       "       1, 1, 1, 1, 1, 1, 1, 0, 1, 0, 1, 1, 0, 1, 1, 1, 1, 1, 1, 1, 1, 0,\n",
       "       0, 1, 1, 1, 1, 1, 1, 1, 1, 1, 1, 1, 0, 1, 0, 0, 0, 1, 1, 1, 1, 1,\n",
       "       0, 1, 1, 1, 1, 1, 1, 1, 1, 1, 1, 1, 1, 1, 0, 1, 0, 1, 1, 1, 0, 1,\n",
       "       1, 1, 1, 0, 0, 1, 1, 1, 0, 1, 1, 1, 1, 0, 0, 0, 1, 1, 0, 1, 1, 1,\n",
       "       0, 1, 1, 0, 1, 1, 0, 1, 1, 1, 1, 1, 1, 1, 1, 1, 1, 1, 0, 0, 0, 1,\n",
       "       0, 1, 1, 1, 1, 1, 0, 1, 1, 1, 1, 0, 0, 1, 0, 1, 1, 0, 0, 1, 1, 1,\n",
       "       0, 1, 1, 0, 0, 1, 1, 0, 0, 1, 1, 1, 1, 0, 0, 1, 1, 1, 1, 1, 1, 1,\n",
       "       1, 1, 1, 1, 0, 1, 1, 1, 1, 0, 1, 1, 1, 1, 1, 1, 1, 1, 1, 1, 1, 1,\n",
       "       1, 1, 0, 1, 0, 0, 0, 0, 1, 1, 1, 1, 1, 1, 1, 0, 0, 1, 1, 1, 0, 1,\n",
       "       0, 0, 0, 1, 1, 0, 1, 1, 1, 0, 0, 0, 0, 0, 0, 0, 1, 0, 1, 0, 0, 0,\n",
       "       1, 0, 0, 1, 1, 1, 1, 0, 0, 1, 0, 0, 1, 1, 0, 0, 0, 1, 0, 1, 1, 0,\n",
       "       1, 1, 0, 0, 1, 0, 0, 1, 1, 0, 1, 0, 1, 0, 0, 0, 0, 1, 1, 1, 0, 1,\n",
       "       1, 0, 0, 0, 1, 0, 0, 0, 0, 0, 0, 0, 0, 0, 0, 0, 0, 0, 0, 0, 0, 0,\n",
       "       0, 0, 0, 0])"
      ]
     },
     "execution_count": 91,
     "metadata": {},
     "output_type": "execute_result"
    }
   ],
   "source": [
    "\n",
    "y_class_pred=(y_prob_pred_6>=0.5).astype(int)        #these are our predictions.wherever we got prob>0.5,we got 1 otherwise 0.\n",
    "y_class_pred"
   ]
  },
  {
   "cell_type": "code",
   "execution_count": 92,
   "id": "acb92dad",
   "metadata": {
    "scrolled": true
   },
   "outputs": [
    {
     "data": {
      "text/plain": [
       "array([ True,  True,  True,  True,  True,  True,  True,  True,  True,\n",
       "        True,  True,  True,  True,  True,  True,  True,  True,  True,\n",
       "        True,  True,  True,  True,  True,  True,  True,  True,  True,\n",
       "        True,  True,  True,  True,  True,  True,  True,  True,  True,\n",
       "        True,  True,  True,  True,  True,  True,  True,  True,  True,\n",
       "        True,  True,  True,  True,  True,  True,  True,  True,  True,\n",
       "        True,  True,  True,  True,  True,  True,  True,  True,  True,\n",
       "        True,  True,  True,  True,  True,  True,  True,  True,  True,\n",
       "        True,  True,  True,  True,  True,  True,  True,  True,  True,\n",
       "        True,  True,  True,  True,  True,  True,  True,  True,  True,\n",
       "        True,  True,  True,  True,  True,  True,  True,  True,  True,\n",
       "        True,  True,  True,  True,  True,  True,  True,  True,  True,\n",
       "        True,  True,  True,  True,  True,  True,  True,  True,  True,\n",
       "        True,  True,  True,  True,  True,  True,  True,  True,  True,\n",
       "        True,  True,  True,  True,  True,  True,  True,  True,  True,\n",
       "        True,  True,  True,  True,  True,  True,  True,  True,  True,\n",
       "        True,  True,  True,  True,  True,  True,  True,  True,  True,\n",
       "        True,  True,  True,  True,  True,  True,  True,  True, False,\n",
       "        True, False,  True,  True, False,  True,  True,  True,  True,\n",
       "        True,  True,  True,  True, False, False,  True,  True,  True,\n",
       "        True,  True,  True,  True,  True,  True,  True,  True, False,\n",
       "        True, False, False, False,  True,  True,  True,  True,  True,\n",
       "       False,  True,  True,  True,  True,  True,  True,  True,  True,\n",
       "        True,  True,  True,  True,  True, False,  True, False,  True,\n",
       "        True,  True, False,  True,  True,  True,  True, False, False,\n",
       "        True,  True,  True, False,  True,  True,  True,  True, False,\n",
       "       False, False,  True,  True, False,  True,  True,  True, False,\n",
       "        True,  True, False,  True,  True, False,  True,  True,  True,\n",
       "        True,  True,  True,  True,  True,  True,  True,  True, False,\n",
       "       False, False,  True, False,  True,  True,  True,  True,  True,\n",
       "       False,  True,  True,  True,  True, False, False,  True, False,\n",
       "        True,  True, False, False,  True,  True,  True, False,  True,\n",
       "        True, False, False,  True,  True, False, False,  True,  True,\n",
       "        True,  True, False, False,  True,  True,  True,  True,  True,\n",
       "        True,  True,  True,  True,  True,  True, False,  True,  True,\n",
       "        True,  True, False,  True,  True,  True,  True,  True,  True,\n",
       "        True,  True,  True,  True,  True,  True,  True,  True, False,\n",
       "        True, False, False, False, False,  True,  True,  True,  True,\n",
       "        True,  True,  True, False, False,  True,  True,  True, False,\n",
       "        True, False, False, False,  True,  True, False,  True,  True,\n",
       "        True, False, False, False, False, False, False, False,  True,\n",
       "       False,  True, False, False, False,  True, False, False,  True,\n",
       "        True,  True,  True, False, False,  True, False, False,  True,\n",
       "        True, False, False, False,  True, False,  True,  True, False,\n",
       "        True,  True, False, False,  True, False, False,  True,  True,\n",
       "       False,  True, False,  True, False, False, False, False,  True,\n",
       "        True,  True, False,  True,  True, False, False, False,  True,\n",
       "       False, False, False, False, False, False, False, False, False,\n",
       "       False, False, False, False, False, False, False, False, False,\n",
       "       False, False, False])"
      ]
     },
     "execution_count": 92,
     "metadata": {},
     "output_type": "execute_result"
    }
   ],
   "source": [
    "y_class_pred>0.5"
   ]
  },
  {
   "cell_type": "code",
   "execution_count": 93,
   "id": "4164f9b3",
   "metadata": {},
   "outputs": [],
   "source": [
    "y_prob_pred_5 = model_5.predict()\n",
    "y_prob_pred_4 = model_4.predict()\n",
    "y_prob_pred_3 = model_3.predict()\n",
    "y_prob_pred_2 = model_2.predict()\n",
    "y_prob_pred_1 = model_1.predict()"
   ]
  },
  {
   "cell_type": "markdown",
   "id": "24ff6dad",
   "metadata": {},
   "source": [
    "# Model Evaluation on the Data"
   ]
  },
  {
   "cell_type": "markdown",
   "id": "2d045a32",
   "metadata": {},
   "source": [
    "Let us now check the confusion matrix and the classification report followed by the AUC and the AUC-ROC curve."
   ]
  },
  {
   "cell_type": "code",
   "execution_count": 94,
   "id": "1a79b6d2",
   "metadata": {},
   "outputs": [],
   "source": [
    "from sklearn import metrics"
   ]
  },
  {
   "cell_type": "code",
   "execution_count": 95,
   "id": "1747e0b6",
   "metadata": {},
   "outputs": [
    {
     "data": {
      "image/png": "[encoded data removed]",
      "text/plain": [
       "<Figure size 432x288 with 2 Axes>"
      ]
     },
     "metadata": {
      "needs_background": "light"
     },
     "output_type": "display_data"
    }
   ],
   "source": [
    "sns.heatmap((metrics.confusion_matrix(scaled_df['Transport'],y_class_pred)),annot=True,fmt='.5g'\n",
    "            ,cmap='Greys');\n",
    "plt.xlabel('Predicted');\n",
    "plt.ylabel('Actuals',rotation=0);"
   ]
  },
  {
   "cell_type": "code",
   "execution_count": 96,
   "id": "4afae1c5",
   "metadata": {},
   "outputs": [
    {
     "name": "stdout",
     "output_type": "stream",
     "text": [
      "True Negative: 85 \n",
      "False Positives: 59 \n",
      "False Negatives: 26 \n",
      "True Positives: 274\n"
     ]
    }
   ],
   "source": [
    "tn, fp, fn, tp = metrics.confusion_matrix(scaled_df['Transport'],y_class_pred).ravel()\n",
    "print('True Negative:',tn,'\\n''False Positives:' ,fp,'\\n''False Negatives:', fn,'\\n''True Positives:', tp)"
   ]
  },
  {
   "cell_type": "code",
   "execution_count": 97,
   "id": "dcd8f9d8",
   "metadata": {},
   "outputs": [
    {
     "name": "stdout",
     "output_type": "stream",
     "text": [
      "              precision    recall  f1-score   support\n",
      "\n",
      "         0.0      0.766     0.590     0.667       144\n",
      "         1.0      0.823     0.913     0.866       300\n",
      "\n",
      "    accuracy                          0.809       444\n",
      "   macro avg      0.794     0.752     0.766       444\n",
      "weighted avg      0.804     0.809     0.801       444\n",
      "\n"
     ]
    }
   ],
   "source": [
    "print(metrics.classification_report(scaled_df['Transport'],y_class_pred,digits=3))     #classification report"
   ]
  },
  {
   "cell_type": "code",
   "execution_count": 98,
   "id": "5666e087",
   "metadata": {},
   "outputs": [
    {
     "data": {
      "text/plain": [
       "0.8085585585585585"
      ]
     },
     "execution_count": 98,
     "metadata": {},
     "output_type": "execute_result"
    }
   ],
   "source": [
    "metrics.accuracy_score(scaled_df['Transport'],y_class_pred) #accuracy score"
   ]
  },
  {
   "cell_type": "markdown",
   "id": "731a7971",
   "metadata": {},
   "source": [
    "We have been able to predict 80.8% of the target variables correctly."
   ]
  },
  {
   "cell_type": "code",
   "execution_count": 99,
   "id": "6e23e767",
   "metadata": {},
   "outputs": [
    {
     "name": "stdout",
     "output_type": "stream",
     "text": [
      "AUC: 0.813\n"
     ]
    },
    {
     "data": {
      "image/png": "[encoded data removed]",
      "text/plain": [
       "<Figure size 432x288 with 1 Axes>"
      ]
     },
     "metadata": {
      "needs_background": "light"
     },
     "output_type": "display_data"
    }
   ],
   "source": [
    "# AUC and ROC for the training data(model_6)\n",
    "\n",
    "\n",
    "\n",
    "# calculate AUC\n",
    "auc = metrics.roc_auc_score(scaled_df['Transport'],y_prob_pred_6)\n",
    "print('AUC: %.3f' % auc)\n",
    "# # calculate roc curve\n",
    "# from sklearn.metrics import roc_curve\n",
    "fpr, tpr, thresholds = metrics.roc_curve(scaled_df['Transport'],y_prob_pred_6)\n",
    "plt.plot([0, 1], [0, 1], linestyle='--')\n",
    "# plot the roc curve for the model\n",
    "plt.plot(fpr, tpr, marker='.')\n",
    "# show the plot\n",
    "plt.xlabel(\"False Positive Rate\")\n",
    "plt.ylabel(\"True Positive Rate\")\n",
    "plt.show()"
   ]
  },
  {
   "cell_type": "code",
   "execution_count": 100,
   "id": "64919a85",
   "metadata": {},
   "outputs": [
    {
     "name": "stdout",
     "output_type": "stream",
     "text": [
      "AUC: 0.812\n"
     ]
    },
    {
     "data": {
      "image/png": "[encoded data removed]",
      "text/plain": [
       "<Figure size 432x288 with 1 Axes>"
      ]
     },
     "metadata": {
      "needs_background": "light"
     },
     "output_type": "display_data"
    }
   ],
   "source": [
    "# AUC and ROC for the training data(model_5)\n",
    "\n",
    "\n",
    "\n",
    "# calculate AUC\n",
    "auc = metrics.roc_auc_score(scaled_df['Transport'],y_prob_pred_5)\n",
    "print('AUC: %.3f' % auc)\n",
    "# # calculate roc curve\n",
    "# from sklearn.metrics import roc_curve\n",
    "fpr, tpr, thresholds = metrics.roc_curve(scaled_df['Transport'],y_prob_pred_5)\n",
    "plt.plot([0, 1], [0, 1], linestyle='--')\n",
    "# plot the roc curve for the model\n",
    "plt.plot(fpr, tpr, marker='.')\n",
    "# show the plot\n",
    "plt.xlabel(\"False Positive Rate\")\n",
    "plt.ylabel(\"True Positive Rate\")\n",
    "plt.show()"
   ]
  },
  {
   "cell_type": "code",
   "execution_count": 101,
   "id": "7fbd15f4",
   "metadata": {
    "scrolled": true
   },
   "outputs": [
    {
     "name": "stdout",
     "output_type": "stream",
     "text": [
      "AUC: 0.815\n"
     ]
    },
    {
     "data": {
      "image/png": "[encoded data removed]",
      "text/plain": [
       "<Figure size 432x288 with 1 Axes>"
      ]
     },
     "metadata": {
      "needs_background": "light"
     },
     "output_type": "display_data"
    }
   ],
   "source": [
    "# AUC and ROC for the training data(model_4)\n",
    "\n",
    "\n",
    "\n",
    "# calculate AUC\n",
    "auc = metrics.roc_auc_score(scaled_df['Transport'],y_prob_pred_4)\n",
    "print('AUC: %.3f' % auc)\n",
    "# # calculate roc curve\n",
    "# from sklearn.metrics import roc_curve\n",
    "fpr, tpr, thresholds = metrics.roc_curve(scaled_df['Transport'],y_prob_pred_4)\n",
    "plt.plot([0, 1], [0, 1], linestyle='--')\n",
    "# plot the roc curve for the model\n",
    "plt.plot(fpr, tpr, marker='.')\n",
    "# show the plot\n",
    "plt.xlabel(\"False Positive Rate\")\n",
    "plt.ylabel(\"True Positive Rate\")\n",
    "plt.show()"
   ]
  },
  {
   "cell_type": "code",
   "execution_count": 102,
   "id": "1545f2b1",
   "metadata": {},
   "outputs": [
    {
     "name": "stdout",
     "output_type": "stream",
     "text": [
      "AUC: 0.824\n"
     ]
    },
    {
     "data": {
      "image/png": "[encoded data removed]",
      "text/plain": [
       "<Figure size 432x288 with 1 Axes>"
      ]
     },
     "metadata": {
      "needs_background": "light"
     },
     "output_type": "display_data"
    }
   ],
   "source": [
    "# AUC and ROC for the training data(model_1)\n",
    "\n",
    "\n",
    "\n",
    "# calculate AUC\n",
    "auc = metrics.roc_auc_score(scaled_df['Transport'],y_prob_pred_1)\n",
    "print('AUC: %.3f' % auc)\n",
    "# # calculate roc curve\n",
    "# from sklearn.metrics import roc_curve\n",
    "fpr, tpr, thresholds = metrics.roc_curve(scaled_df['Transport'],y_prob_pred_1)\n",
    "plt.plot([0, 1], [0, 1], linestyle='--')\n",
    "# plot the roc curve for the model\n",
    "plt.plot(fpr, tpr, marker='.')\n",
    "# show the plot\n",
    "plt.xlabel(\"False Positive Rate\")\n",
    "plt.ylabel(\"True Positive Rate\")\n",
    "plt.show()"
   ]
  },
  {
   "cell_type": "markdown",
   "id": "b48c1a63",
   "metadata": {},
   "source": [
    "# Only for Predictive purposes of Logistic Regression"
   ]
  },
  {
   "cell_type": "markdown",
   "id": "5f58f6e7",
   "metadata": {},
   "source": [
    "Checking the proportion of 1s and 0s in the target variable in both Training and Test data."
   ]
  },
  {
   "cell_type": "code",
   "execution_count": 103,
   "id": "018a9d79",
   "metadata": {},
   "outputs": [],
   "source": [
    "from sklearn.model_selection import train_test_split"
   ]
  },
  {
   "cell_type": "code",
   "execution_count": 104,
   "id": "393310f5",
   "metadata": {},
   "outputs": [],
   "source": [
    "Train,Test = train_test_split(scaled_df,test_size=0.3,random_state=10,stratify=scaled_df['Transport'])"
   ]
  },
  {
   "cell_type": "code",
   "execution_count": 105,
   "id": "49438b1b",
   "metadata": {},
   "outputs": [
    {
     "data": {
      "text/plain": [
       "(310, 9)"
      ]
     },
     "execution_count": 105,
     "metadata": {},
     "output_type": "execute_result"
    }
   ],
   "source": [
    "Train.shape"
   ]
  },
  {
   "cell_type": "code",
   "execution_count": 106,
   "id": "b03f1717",
   "metadata": {},
   "outputs": [
    {
     "data": {
      "text/plain": [
       "(134, 9)"
      ]
     },
     "execution_count": 106,
     "metadata": {},
     "output_type": "execute_result"
    }
   ],
   "source": [
    "Test.shape"
   ]
  },
  {
   "cell_type": "code",
   "execution_count": 107,
   "id": "9525e11f",
   "metadata": {},
   "outputs": [
    {
     "data": {
      "text/plain": [
       "1.0    0.674194\n",
       "0.0    0.325806\n",
       "Name: Transport, dtype: float64"
      ]
     },
     "execution_count": 107,
     "metadata": {},
     "output_type": "execute_result"
    }
   ],
   "source": [
    "Train['Transport'].value_counts(1)"
   ]
  },
  {
   "cell_type": "code",
   "execution_count": 108,
   "id": "bac6faed",
   "metadata": {},
   "outputs": [
    {
     "data": {
      "text/plain": [
       "1.0    0.679104\n",
       "0.0    0.320896\n",
       "Name: Transport, dtype: float64"
      ]
     },
     "execution_count": 108,
     "metadata": {},
     "output_type": "execute_result"
    }
   ],
   "source": [
    "Test['Transport'].value_counts(1)"
   ]
  },
  {
   "cell_type": "code",
   "execution_count": 109,
   "id": "a29abc87",
   "metadata": {},
   "outputs": [],
   "source": [
    "from sklearn.linear_model import LogisticRegression"
   ]
  },
  {
   "cell_type": "code",
   "execution_count": 110,
   "id": "72490548",
   "metadata": {},
   "outputs": [],
   "source": [
    "lr = LogisticRegression(penalty='none',solver='newton-cg')\n"
   ]
  },
  {
   "cell_type": "markdown",
   "id": "2cab91d9",
   "metadata": {},
   "source": [
    "# Using only the Model 6 variables to build the model on the training data and predict on the training as well as test data."
   ]
  },
  {
   "cell_type": "code",
   "execution_count": 111,
   "id": "86ccaccd",
   "metadata": {},
   "outputs": [],
   "source": [
    "model_sklearn_6=lr.fit(Train[['Distance','license_1','Gender_Male']],Train['Transport'])"
   ]
  },
  {
   "cell_type": "code",
   "execution_count": 112,
   "id": "56e7819b",
   "metadata": {},
   "outputs": [],
   "source": [
    "model_sklearn_6_pred_train=model_sklearn_6.predict(Train[['Distance','license_1','Gender_Male']])"
   ]
  },
  {
   "cell_type": "code",
   "execution_count": 113,
   "id": "01369b32",
   "metadata": {},
   "outputs": [],
   "source": [
    "model_sklearn_6_pred_test =model_sklearn_6.predict(Test[['Distance','license_1','Gender_Male']])"
   ]
  },
  {
   "cell_type": "code",
   "execution_count": 114,
   "id": "d6bbdd1a",
   "metadata": {},
   "outputs": [],
   "source": [
    "##Predicting on the Test Data\n",
    "\n",
    "m6_prob = model_sklearn_6.predict_proba(Test[['Distance','license_1','Gender_Male']])[:,1]"
   ]
  },
  {
   "cell_type": "code",
   "execution_count": 115,
   "id": "4c513f07",
   "metadata": {},
   "outputs": [
    {
     "data": {
      "text/plain": [
       "array([0.23705951, 0.81975793, 0.08391297, 0.16291965, 0.58545872,\n",
       "       0.96948743, 0.5715124 , 0.39766577, 0.83388857, 0.32015668,\n",
       "       0.92020054, 0.70370306, 0.60424605, 0.25766141, 0.95096048,\n",
       "       0.50665084, 0.48716263, 0.22897809, 0.98298278, 0.8265633 ,\n",
       "       0.9182712 , 0.92574135, 0.95447117, 0.42446002, 0.14596495,\n",
       "       0.90797391, 0.76810183, 0.84440905, 0.59175173, 0.14923456,\n",
       "       0.52611886, 0.97241694, 0.81898512, 0.70261316, 0.49365729,\n",
       "       0.77269866, 0.75005232, 0.88957985, 0.91629946, 0.09716071,\n",
       "       0.9182712 , 0.7913015 , 0.95215834, 0.49534596, 0.5980148 ,\n",
       "       0.79471028, 0.48885053, 0.75005232, 0.78697716, 0.94847894,\n",
       "       0.93882836, 0.92393489, 0.56641949, 0.85177681, 0.49365729,\n",
       "       0.65708491, 0.69275208, 0.93731872, 0.93257884, 0.28328672,\n",
       "       0.63486184, 0.5390572 , 0.80794973, 0.81898512, 0.65860546,\n",
       "       0.75489277, 0.89160329, 0.63329442, 0.96452123, 0.90577923,\n",
       "       0.41648131, 0.4741885 , 0.46124912, 0.65860546, 0.83099198,\n",
       "       0.82731058, 0.68011158, 0.89652542, 0.48105521, 0.81115148,\n",
       "       0.69163956, 0.37463123, 0.86072797, 0.71864259, 0.46292828,\n",
       "       0.97569637, 0.42281055, 0.96362108, 0.70909296, 0.34319291,\n",
       "       0.79471028, 0.68606944, 0.62759695, 0.85111635, 0.23705951,\n",
       "       0.67019408, 0.79043787, 0.92574135, 0.70909296, 0.76810183,\n",
       "       0.94847894, 0.68719297, 0.86381425, 0.90622392, 0.35500275,\n",
       "       0.86981399, 0.8265633 , 0.33735889, 0.94973421, 0.83745729,\n",
       "       0.96175444, 0.9220882 , 0.96870919, 0.35061122, 0.90353777,\n",
       "       0.92923635, 0.91629946, 0.8989116 , 0.93577436, 0.82731058,\n",
       "       0.5980148 , 0.64086493, 0.84440905, 0.90797391, 0.37914796,\n",
       "       0.67591281, 0.38688566, 0.08000285, 0.7913015 , 0.05751889,\n",
       "       0.0989977 , 0.85111635, 0.02576689, 0.78610048])"
      ]
     },
     "execution_count": 115,
     "metadata": {},
     "output_type": "execute_result"
    }
   ],
   "source": [
    "m6_prob      #if probability value is needed"
   ]
  },
  {
   "cell_type": "markdown",
   "id": "b44d9841",
   "metadata": {},
   "source": [
    "# Using only the Model 5 variables to build the model on the training data and predict on the training as well as test data."
   ]
  },
  {
   "cell_type": "code",
   "execution_count": 116,
   "id": "39731e15",
   "metadata": {},
   "outputs": [],
   "source": [
    "model_sklearn_5=lr.fit(Train[['Salary','Distance','license_1','Gender_Male']],Train['Transport'])"
   ]
  },
  {
   "cell_type": "code",
   "execution_count": 117,
   "id": "a432bc4a",
   "metadata": {},
   "outputs": [],
   "source": [
    "model_sklearn_5_pred_train=model_sklearn_5.predict(Train[['Salary','Distance','license_1','Gender_Male']])"
   ]
  },
  {
   "cell_type": "code",
   "execution_count": 118,
   "id": "75a3738e",
   "metadata": {},
   "outputs": [],
   "source": [
    "model_sklearn_5_pred_test =model_sklearn_5.predict(Test[['Salary','Distance','license_1','Gender_Male']])"
   ]
  },
  {
   "cell_type": "code",
   "execution_count": 119,
   "id": "c9828cd9",
   "metadata": {},
   "outputs": [],
   "source": [
    "##Predicting on the Test Data\n",
    "\n",
    "m5_prob = model_sklearn_5.predict_proba(Test[['Salary','Distance','license_1','Gender_Male']])[:,1]"
   ]
  },
  {
   "cell_type": "markdown",
   "id": "84fbcbd0",
   "metadata": {},
   "source": [
    "# confusion matrix for model 5 and 6"
   ]
  },
  {
   "cell_type": "code",
   "execution_count": 120,
   "id": "4be788cc",
   "metadata": {},
   "outputs": [],
   "source": [
    "from sklearn import metrics"
   ]
  },
  {
   "cell_type": "code",
   "execution_count": 121,
   "id": "abe04af8",
   "metadata": {},
   "outputs": [],
   "source": [
    "from pylab import rcParams\n",
    "rcParams['figure.figsize'] = 15,4"
   ]
  },
  {
   "cell_type": "code",
   "execution_count": 122,
   "id": "4eb40049",
   "metadata": {},
   "outputs": [
    {
     "data": {
      "image/png": "[encoded data removed]",
      "text/plain": [
       "<Figure size 1080x288 with 8 Axes>"
      ]
     },
     "metadata": {
      "needs_background": "light"
     },
     "output_type": "display_data"
    }
   ],
   "source": [
    "f,a =  plt.subplots(2,2,sharex=True,sharey=True)\n",
    "\n",
    "#Plotting confusion matrix for the different models for the Training Data\n",
    "\n",
    "plot_00 = sns.heatmap((metrics.confusion_matrix(Train['Transport'],model_sklearn_6_pred_train)),annot=True,fmt='.5g',cmap='Greys',ax=a[0][0]);\n",
    "a[0][0].set_title('Training Data')\n",
    "plot_10 = sns.heatmap((metrics.confusion_matrix(Train['Transport'],model_sklearn_5_pred_train)),annot=True,fmt='.5g',cmap='Greys',ax=a[1][0]);\n",
    "\n",
    "\n",
    "\n",
    "#Plotting confusion matrix for the different models for the Test Data\n",
    "\n",
    "\n",
    "plot_01 = sns.heatmap((metrics.confusion_matrix(Test['Transport'],model_sklearn_6_pred_test)),annot=True,fmt='.5g',cmap='Greys',ax=a[0][1]);\n",
    "a[0][1].set_title('Test Data')\n",
    "plot_11 = sns.heatmap((metrics.confusion_matrix(Test['Transport'],model_sklearn_5_pred_test)),annot=True,fmt='.5g',cmap='Greys',ax=a[1][1]);\n"
   ]
  },
  {
   "cell_type": "markdown",
   "id": "2c5ec034",
   "metadata": {},
   "source": [
    "# 1.5) Apply KNN Model(4 pts). Interpret the inferences of each model (2 pts)"
   ]
  },
  {
   "cell_type": "code",
   "execution_count": 123,
   "id": "c626d662",
   "metadata": {},
   "outputs": [
    {
     "data": {
      "text/html": [
       "<div>\n",
       "<style scoped>\n",
       "    .dataframe tbody tr th:only-of-type {\n",
       "        vertical-align: middle;\n",
       "    }\n",
       "\n",
       "    .dataframe tbody tr th {\n",
       "        vertical-align: top;\n",
       "    }\n",
       "\n",
       "    .dataframe thead th {\n",
       "        text-align: right;\n",
       "    }\n",
       "</style>\n",
       "<table border=\"1\" class=\"dataframe\">\n",
       "  <thead>\n",
       "    <tr style=\"text-align: right;\">\n",
       "      <th></th>\n",
       "      <th>Age</th>\n",
       "      <th>WorkExp</th>\n",
       "      <th>Salary</th>\n",
       "      <th>Distance</th>\n",
       "      <th>Transport</th>\n",
       "      <th>Gender_Male</th>\n",
       "      <th>Engineer_1</th>\n",
       "      <th>MBA_1</th>\n",
       "      <th>license_1</th>\n",
       "    </tr>\n",
       "  </thead>\n",
       "  <tbody>\n",
       "    <tr>\n",
       "      <th>0</th>\n",
       "      <td>28.0</td>\n",
       "      <td>4.0</td>\n",
       "      <td>14.3000</td>\n",
       "      <td>3.2000</td>\n",
       "      <td>1</td>\n",
       "      <td>1</td>\n",
       "      <td>0</td>\n",
       "      <td>0</td>\n",
       "      <td>0</td>\n",
       "    </tr>\n",
       "    <tr>\n",
       "      <th>1</th>\n",
       "      <td>23.0</td>\n",
       "      <td>4.0</td>\n",
       "      <td>8.3000</td>\n",
       "      <td>3.3000</td>\n",
       "      <td>1</td>\n",
       "      <td>0</td>\n",
       "      <td>1</td>\n",
       "      <td>0</td>\n",
       "      <td>0</td>\n",
       "    </tr>\n",
       "    <tr>\n",
       "      <th>2</th>\n",
       "      <td>29.0</td>\n",
       "      <td>7.0</td>\n",
       "      <td>13.4000</td>\n",
       "      <td>4.1000</td>\n",
       "      <td>1</td>\n",
       "      <td>1</td>\n",
       "      <td>1</td>\n",
       "      <td>0</td>\n",
       "      <td>0</td>\n",
       "    </tr>\n",
       "    <tr>\n",
       "      <th>3</th>\n",
       "      <td>28.0</td>\n",
       "      <td>5.0</td>\n",
       "      <td>13.4000</td>\n",
       "      <td>4.5000</td>\n",
       "      <td>1</td>\n",
       "      <td>0</td>\n",
       "      <td>1</td>\n",
       "      <td>1</td>\n",
       "      <td>0</td>\n",
       "    </tr>\n",
       "    <tr>\n",
       "      <th>4</th>\n",
       "      <td>27.0</td>\n",
       "      <td>4.0</td>\n",
       "      <td>13.4000</td>\n",
       "      <td>4.6000</td>\n",
       "      <td>1</td>\n",
       "      <td>1</td>\n",
       "      <td>1</td>\n",
       "      <td>0</td>\n",
       "      <td>0</td>\n",
       "    </tr>\n",
       "    <tr>\n",
       "      <th>...</th>\n",
       "      <td>...</td>\n",
       "      <td>...</td>\n",
       "      <td>...</td>\n",
       "      <td>...</td>\n",
       "      <td>...</td>\n",
       "      <td>...</td>\n",
       "      <td>...</td>\n",
       "      <td>...</td>\n",
       "      <td>...</td>\n",
       "    </tr>\n",
       "    <tr>\n",
       "      <th>439</th>\n",
       "      <td>37.5</td>\n",
       "      <td>15.5</td>\n",
       "      <td>24.6125</td>\n",
       "      <td>20.3625</td>\n",
       "      <td>0</td>\n",
       "      <td>1</td>\n",
       "      <td>1</td>\n",
       "      <td>0</td>\n",
       "      <td>1</td>\n",
       "    </tr>\n",
       "    <tr>\n",
       "      <th>440</th>\n",
       "      <td>37.5</td>\n",
       "      <td>15.5</td>\n",
       "      <td>24.6125</td>\n",
       "      <td>20.3625</td>\n",
       "      <td>0</td>\n",
       "      <td>1</td>\n",
       "      <td>1</td>\n",
       "      <td>0</td>\n",
       "      <td>1</td>\n",
       "    </tr>\n",
       "    <tr>\n",
       "      <th>441</th>\n",
       "      <td>37.0</td>\n",
       "      <td>15.5</td>\n",
       "      <td>24.6125</td>\n",
       "      <td>20.3625</td>\n",
       "      <td>0</td>\n",
       "      <td>1</td>\n",
       "      <td>1</td>\n",
       "      <td>0</td>\n",
       "      <td>1</td>\n",
       "    </tr>\n",
       "    <tr>\n",
       "      <th>442</th>\n",
       "      <td>37.0</td>\n",
       "      <td>15.5</td>\n",
       "      <td>24.6125</td>\n",
       "      <td>20.3625</td>\n",
       "      <td>0</td>\n",
       "      <td>1</td>\n",
       "      <td>0</td>\n",
       "      <td>0</td>\n",
       "      <td>1</td>\n",
       "    </tr>\n",
       "    <tr>\n",
       "      <th>443</th>\n",
       "      <td>37.5</td>\n",
       "      <td>15.5</td>\n",
       "      <td>24.6125</td>\n",
       "      <td>20.3625</td>\n",
       "      <td>0</td>\n",
       "      <td>1</td>\n",
       "      <td>1</td>\n",
       "      <td>1</td>\n",
       "      <td>1</td>\n",
       "    </tr>\n",
       "  </tbody>\n",
       "</table>\n",
       "<p>444 rows × 9 columns</p>\n",
       "</div>"
      ],
      "text/plain": [
       "      Age  WorkExp   Salary  Distance  Transport  Gender_Male  Engineer_1  \\\n",
       "0    28.0      4.0  14.3000    3.2000          1            1           0   \n",
       "1    23.0      4.0   8.3000    3.3000          1            0           1   \n",
       "2    29.0      7.0  13.4000    4.1000          1            1           1   \n",
       "3    28.0      5.0  13.4000    4.5000          1            0           1   \n",
       "4    27.0      4.0  13.4000    4.6000          1            1           1   \n",
       "..    ...      ...      ...       ...        ...          ...         ...   \n",
       "439  37.5     15.5  24.6125   20.3625          0            1           1   \n",
       "440  37.5     15.5  24.6125   20.3625          0            1           1   \n",
       "441  37.0     15.5  24.6125   20.3625          0            1           1   \n",
       "442  37.0     15.5  24.6125   20.3625          0            1           0   \n",
       "443  37.5     15.5  24.6125   20.3625          0            1           1   \n",
       "\n",
       "     MBA_1  license_1  \n",
       "0        0          0  \n",
       "1        0          0  \n",
       "2        0          0  \n",
       "3        1          0  \n",
       "4        0          0  \n",
       "..     ...        ...  \n",
       "439      0          1  \n",
       "440      0          1  \n",
       "441      0          1  \n",
       "442      0          1  \n",
       "443      1          1  \n",
       "\n",
       "[444 rows x 9 columns]"
      ]
     },
     "execution_count": 123,
     "metadata": {},
     "output_type": "execute_result"
    }
   ],
   "source": [
    "df"
   ]
  },
  {
   "cell_type": "code",
   "execution_count": 124,
   "id": "74331301",
   "metadata": {},
   "outputs": [],
   "source": [
    "# Arrange data into independent variables and dependent variables\n",
    "X = df.drop(\"Transport\",axis=1)  ## Features\n",
    "y = df[\"Transport\"]  ## Target"
   ]
  },
  {
   "cell_type": "code",
   "execution_count": 125,
   "id": "7a29421c",
   "metadata": {},
   "outputs": [],
   "source": [
    "# Split X and y into training and test set in 70:30 ratio\n",
    "from sklearn.model_selection import train_test_split\n",
    "X_train, X_test, y_train, y_test = train_test_split(X, y, test_size=0.30 , random_state=1)"
   ]
  },
  {
   "cell_type": "code",
   "execution_count": 126,
   "id": "74bfc541",
   "metadata": {},
   "outputs": [
    {
     "data": {
      "text/html": [
       "<style>#sk-container-id-1 {color: black;background-color: white;}#sk-container-id-1 pre{padding: 0;}#sk-container-id-1 div.sk-toggleable {background-color: white;}#sk-container-id-1 label.sk-toggleable__label {cursor: pointer;display: block;width: 100%;margin-bottom: 0;padding: 0.3em;box-sizing: border-box;text-align: center;}#sk-container-id-1 label.sk-toggleable__label-arrow:before {content: \"▸\";float: left;margin-right: 0.25em;color: #696969;}#sk-container-id-1 label.sk-toggleable__label-arrow:hover:before {color: black;}#sk-container-id-1 div.sk-estimator:hover label.sk-toggleable__label-arrow:before {color: black;}#sk-container-id-1 div.sk-toggleable__content {max-height: 0;max-width: 0;overflow: hidden;text-align: left;background-color: #f0f8ff;}#sk-container-id-1 div.sk-toggleable__content pre {margin: 0.2em;color: black;border-radius: 0.25em;background-color: #f0f8ff;}#sk-container-id-1 input.sk-toggleable__control:checked~div.sk-toggleable__content {max-height: 200px;max-width: 100%;overflow: auto;}#sk-container-id-1 input.sk-toggleable__control:checked~label.sk-toggleable__label-arrow:before {content: \"▾\";}#sk-container-id-1 div.sk-estimator input.sk-toggleable__control:checked~label.sk-toggleable__label {background-color: #d4ebff;}#sk-container-id-1 div.sk-label input.sk-toggleable__control:checked~label.sk-toggleable__label {background-color: #d4ebff;}#sk-container-id-1 input.sk-hidden--visually {border: 0;clip: rect(1px 1px 1px 1px);clip: rect(1px, 1px, 1px, 1px);height: 1px;margin: -1px;overflow: hidden;padding: 0;position: absolute;width: 1px;}#sk-container-id-1 div.sk-estimator {font-family: monospace;background-color: #f0f8ff;border: 1px dotted black;border-radius: 0.25em;box-sizing: border-box;margin-bottom: 0.5em;}#sk-container-id-1 div.sk-estimator:hover {background-color: #d4ebff;}#sk-container-id-1 div.sk-parallel-item::after {content: \"\";width: 100%;border-bottom: 1px solid gray;flex-grow: 1;}#sk-container-id-1 div.sk-label:hover label.sk-toggleable__label {background-color: #d4ebff;}#sk-container-id-1 div.sk-serial::before {content: \"\";position: absolute;border-left: 1px solid gray;box-sizing: border-box;top: 0;bottom: 0;left: 50%;z-index: 0;}#sk-container-id-1 div.sk-serial {display: flex;flex-direction: column;align-items: center;background-color: white;padding-right: 0.2em;padding-left: 0.2em;position: relative;}#sk-container-id-1 div.sk-item {position: relative;z-index: 1;}#sk-container-id-1 div.sk-parallel {display: flex;align-items: stretch;justify-content: center;background-color: white;position: relative;}#sk-container-id-1 div.sk-item::before, #sk-container-id-1 div.sk-parallel-item::before {content: \"\";position: absolute;border-left: 1px solid gray;box-sizing: border-box;top: 0;bottom: 0;left: 50%;z-index: -1;}#sk-container-id-1 div.sk-parallel-item {display: flex;flex-direction: column;z-index: 1;position: relative;background-color: white;}#sk-container-id-1 div.sk-parallel-item:first-child::after {align-self: flex-end;width: 50%;}#sk-container-id-1 div.sk-parallel-item:last-child::after {align-self: flex-start;width: 50%;}#sk-container-id-1 div.sk-parallel-item:only-child::after {width: 0;}#sk-container-id-1 div.sk-dashed-wrapped {border: 1px dashed gray;margin: 0 0.4em 0.5em 0.4em;box-sizing: border-box;padding-bottom: 0.4em;background-color: white;}#sk-container-id-1 div.sk-label label {font-family: monospace;font-weight: bold;display: inline-block;line-height: 1.2em;}#sk-container-id-1 div.sk-label-container {text-align: center;}#sk-container-id-1 div.sk-container {/* jupyter's `normalize.less` sets `[hidden] { display: none; }` but bootstrap.min.css set `[hidden] { display: none !important; }` so we also need the `!important` here to be able to override the default hidden behavior on the sphinx rendered scikit-learn.org. See: https://github.com/scikit-learn/scikit-learn/issues/21755 */display: inline-block !important;position: relative;}#sk-container-id-1 div.sk-text-repr-fallback {display: none;}</style><div id=\"sk-container-id-1\" class=\"sk-top-container\"><div class=\"sk-text-repr-fallback\"><pre>KNeighborsClassifier()</pre><b>In a Jupyter environment, please rerun this cell to show the HTML representation or trust the notebook. <br />On GitHub, the HTML representation is unable to render, please try loading this page with nbviewer.org.</b></div><div class=\"sk-container\" hidden><div class=\"sk-item\"><div class=\"sk-estimator sk-toggleable\"><input class=\"sk-toggleable__control sk-hidden--visually\" id=\"sk-estimator-id-1\" type=\"checkbox\" checked><label for=\"sk-estimator-id-1\" class=\"sk-toggleable__label sk-toggleable__label-arrow\">KNeighborsClassifier</label><div class=\"sk-toggleable__content\"><pre>KNeighborsClassifier()</pre></div></div></div></div></div>"
      ],
      "text/plain": [
       "KNeighborsClassifier()"
      ]
     },
     "execution_count": 126,
     "metadata": {},
     "output_type": "execute_result"
    }
   ],
   "source": [
    "from sklearn.neighbors import KNeighborsClassifier\n",
    "  #in this case,we have target column which is discrete ,which is classifier.so,we used KNeighborsClassifier.we've KNeighborsRegressor also\n",
    "KNN_model=KNeighborsClassifier()\n",
    "KNN_model.fit(X_train,y_train)# fitting our training data"
   ]
  },
  {
   "cell_type": "code",
   "execution_count": 127,
   "id": "70d2f529",
   "metadata": {},
   "outputs": [
    {
     "data": {
      "text/plain": [
       "array([1, 1, 1, 0, 1, 1, 1, 0, 1, 1, 1, 1, 1, 1, 1, 1, 0, 1, 1, 1, 1, 1,\n",
       "       1, 1, 0, 0, 0, 1, 1, 0, 0, 1, 1, 0, 0, 1, 1, 1, 1, 1, 0, 0, 1, 1,\n",
       "       1, 1, 1, 1, 1, 1, 0, 1, 1, 1, 1, 0, 1, 1, 1, 0, 1, 1, 1, 1, 1, 0,\n",
       "       1, 1, 0, 1, 0, 1, 1, 1, 1, 0, 1, 1, 1, 0, 0, 0, 1, 1, 1, 1, 1, 1,\n",
       "       1, 1, 1, 1, 0, 1, 1, 1, 0, 1, 1, 1, 1, 1, 1, 1, 0, 0, 1, 0, 1, 1,\n",
       "       1, 1, 1, 1, 1, 1, 1, 1, 1, 1, 0, 0, 0, 1, 0, 1, 0, 0, 1, 0, 1, 1,\n",
       "       1, 1, 1, 0, 0, 1, 1, 1, 0, 1, 0, 1, 1, 1, 1, 1, 1, 0, 1, 0, 0, 1,\n",
       "       1, 1, 1, 1, 1, 0, 0, 1, 1, 0, 1, 0, 1, 1, 1, 0, 1, 1, 1, 1, 1, 0,\n",
       "       1, 0, 1, 1, 1, 1, 1, 1, 1, 1, 1, 0, 1, 1, 1, 1, 1, 1, 1, 0, 1, 1,\n",
       "       1, 1, 1, 1, 1, 1, 1, 1, 1, 1, 0, 1, 1, 0, 0, 1, 0, 0, 0, 1, 1, 1,\n",
       "       1, 0, 1, 1, 1, 1, 1, 0, 0, 1, 0, 0, 1, 1, 0, 0, 1, 1, 0, 1, 1, 1,\n",
       "       1, 0, 1, 1, 1, 1, 0, 0, 1, 0, 1, 1, 1, 1, 0, 1, 0, 1, 1, 1, 1, 1,\n",
       "       1, 1, 1, 0, 1, 1, 1, 1, 1, 1, 0, 1, 1, 0, 1, 1, 0, 1, 0, 1, 1, 0,\n",
       "       0, 1, 1, 0, 1, 0, 0, 0, 1, 1, 1, 1, 1, 1, 1, 1, 1, 1, 1, 1, 1, 1,\n",
       "       1, 1], dtype=int8)"
      ]
     },
     "execution_count": 127,
     "metadata": {},
     "output_type": "execute_result"
    }
   ],
   "source": [
    "## Performance Matrix on train data set\n",
    "y_train_predict = KNN_model.predict(X_train)\n",
    "y_train_predict"
   ]
  },
  {
   "cell_type": "code",
   "execution_count": 128,
   "id": "12fbdfab",
   "metadata": {},
   "outputs": [
    {
     "data": {
      "text/plain": [
       "array([1, 1, 0, 1, 0, 1, 0, 0, 1, 1, 1, 0, 1, 0, 1, 1, 0, 1, 0, 0, 1, 0,\n",
       "       0, 1, 1, 1, 1, 1, 1, 1, 0, 1, 1, 0, 1, 0, 1, 1, 0, 1, 1, 1, 1, 1,\n",
       "       1, 0, 1, 1, 1, 0, 1, 1, 1, 1, 1, 1, 1, 1, 0, 1, 1, 1, 1, 0, 1, 1,\n",
       "       1, 0, 1, 1, 1, 0, 1, 0, 1, 1, 0, 1, 0, 1, 1, 1, 1, 1, 1, 1, 0, 1,\n",
       "       0, 0, 1, 0, 1, 1, 1, 1, 1, 1, 0, 1, 1, 0, 0, 1, 1, 1, 0, 1, 1, 0,\n",
       "       1, 1, 0, 1, 0, 1, 1, 1, 1, 1, 0, 1, 1, 1, 1, 1, 1, 1, 1, 1, 0, 1,\n",
       "       1, 1], dtype=int8)"
      ]
     },
     "execution_count": 128,
     "metadata": {},
     "output_type": "execute_result"
    }
   ],
   "source": [
    "## Performance Matrix on test data set\n",
    "y_test_predict = KNN_model.predict(X_test)\n",
    "y_test_predict"
   ]
  },
  {
   "cell_type": "code",
   "execution_count": 129,
   "id": "d6e919c6",
   "metadata": {},
   "outputs": [
    {
     "name": "stdout",
     "output_type": "stream",
     "text": [
      "0.8483870967741935\n",
      "[[ 68  34]\n",
      " [ 13 195]]\n",
      "              precision    recall  f1-score   support\n",
      "\n",
      "           0       0.84      0.67      0.74       102\n",
      "           1       0.85      0.94      0.89       208\n",
      "\n",
      "    accuracy                           0.85       310\n",
      "   macro avg       0.85      0.80      0.82       310\n",
      "weighted avg       0.85      0.85      0.84       310\n",
      "\n"
     ]
    }
   ],
   "source": [
    "model_score = KNN_model.score(X_train, y_train)\n",
    "print(model_score)#accuracy score \n",
    "\n",
    "print(metrics.confusion_matrix(y_train, y_train_predict))#confusion matrix\n",
    "\n",
    "print(metrics.classification_report(y_train, y_train_predict)) #classification report"
   ]
  },
  {
   "cell_type": "code",
   "execution_count": 130,
   "id": "ae37b152",
   "metadata": {},
   "outputs": [
    {
     "name": "stdout",
     "output_type": "stream",
     "text": [
      "0.7388059701492538\n",
      "[[22 20]\n",
      " [15 77]]\n",
      "              precision    recall  f1-score   support\n",
      "\n",
      "           0       0.59      0.52      0.56        42\n",
      "           1       0.79      0.84      0.81        92\n",
      "\n",
      "    accuracy                           0.74       134\n",
      "   macro avg       0.69      0.68      0.69       134\n",
      "weighted avg       0.73      0.74      0.73       134\n",
      "\n"
     ]
    }
   ],
   "source": [
    "\n",
    "model_score = KNN_model.score(X_test, y_test)\n",
    "print(model_score) #accuracy score\n",
    "\n",
    "print(metrics.confusion_matrix(y_test, y_test_predict))#confusion matrix\n",
    "\n",
    "print(metrics.classification_report(y_test, y_test_predict)) #classification report"
   ]
  },
  {
   "cell_type": "code",
   "execution_count": 131,
   "id": "916e0e12",
   "metadata": {},
   "outputs": [],
   "source": [
    "#85 % and 73.88% are accuracies.the gap is not more than 10%.so,it is fine.\n",
    "#but,i've not scaled  my data.so will scaling improve my performance?"
   ]
  },
  {
   "cell_type": "markdown",
   "id": "d65dec3c",
   "metadata": {},
   "source": [
    "## Generally, good KNN performance usually requires preprocessing of data to make all variables similarly scaled and centered.\n",
    "\n",
    "**It is always advisable to bring all the features to the same scale for applying distance based algorithms like KNN**\n",
    "Now lets apply zscore on continues columns and see the performance for KNN"
   ]
  },
  {
   "cell_type": "code",
   "execution_count": 132,
   "id": "8f5170ec",
   "metadata": {},
   "outputs": [],
   "source": [
    "from sklearn.preprocessing import StandardScaler\n",
    "#zscore transform\n",
    "ss = StandardScaler() \n",
    "\n",
    "X_train = ss.fit_transform(X_train)\n",
    "#we fit and transform the training data.we only transform test data \n",
    "#the train data mean n std deviation,we are using it for calculating the z value of test data as well\n",
    "X_test = ss.transform(X_test)\n"
   ]
  },
  {
   "cell_type": "code",
   "execution_count": 133,
   "id": "1a2d21a6",
   "metadata": {},
   "outputs": [],
   "source": [
    "#standard scaler function calculates z score,first we take the data n split it into 70:30\n",
    "#we take the 70% ,when we do fit and transform for this ,mean value and std dev is calculated.z value is calculated for each column separately\n",
    "#when we do only transform on the test data,it will take the older mean(mu) n std dev(sigma)of the train value data,z score for test score will be calculated"
   ]
  },
  {
   "cell_type": "code",
   "execution_count": 134,
   "id": "782837d4",
   "metadata": {},
   "outputs": [
    {
     "data": {
      "text/html": [
       "<style>#sk-container-id-2 {color: black;background-color: white;}#sk-container-id-2 pre{padding: 0;}#sk-container-id-2 div.sk-toggleable {background-color: white;}#sk-container-id-2 label.sk-toggleable__label {cursor: pointer;display: block;width: 100%;margin-bottom: 0;padding: 0.3em;box-sizing: border-box;text-align: center;}#sk-container-id-2 label.sk-toggleable__label-arrow:before {content: \"▸\";float: left;margin-right: 0.25em;color: #696969;}#sk-container-id-2 label.sk-toggleable__label-arrow:hover:before {color: black;}#sk-container-id-2 div.sk-estimator:hover label.sk-toggleable__label-arrow:before {color: black;}#sk-container-id-2 div.sk-toggleable__content {max-height: 0;max-width: 0;overflow: hidden;text-align: left;background-color: #f0f8ff;}#sk-container-id-2 div.sk-toggleable__content pre {margin: 0.2em;color: black;border-radius: 0.25em;background-color: #f0f8ff;}#sk-container-id-2 input.sk-toggleable__control:checked~div.sk-toggleable__content {max-height: 200px;max-width: 100%;overflow: auto;}#sk-container-id-2 input.sk-toggleable__control:checked~label.sk-toggleable__label-arrow:before {content: \"▾\";}#sk-container-id-2 div.sk-estimator input.sk-toggleable__control:checked~label.sk-toggleable__label {background-color: #d4ebff;}#sk-container-id-2 div.sk-label input.sk-toggleable__control:checked~label.sk-toggleable__label {background-color: #d4ebff;}#sk-container-id-2 input.sk-hidden--visually {border: 0;clip: rect(1px 1px 1px 1px);clip: rect(1px, 1px, 1px, 1px);height: 1px;margin: -1px;overflow: hidden;padding: 0;position: absolute;width: 1px;}#sk-container-id-2 div.sk-estimator {font-family: monospace;background-color: #f0f8ff;border: 1px dotted black;border-radius: 0.25em;box-sizing: border-box;margin-bottom: 0.5em;}#sk-container-id-2 div.sk-estimator:hover {background-color: #d4ebff;}#sk-container-id-2 div.sk-parallel-item::after {content: \"\";width: 100%;border-bottom: 1px solid gray;flex-grow: 1;}#sk-container-id-2 div.sk-label:hover label.sk-toggleable__label {background-color: #d4ebff;}#sk-container-id-2 div.sk-serial::before {content: \"\";position: absolute;border-left: 1px solid gray;box-sizing: border-box;top: 0;bottom: 0;left: 50%;z-index: 0;}#sk-container-id-2 div.sk-serial {display: flex;flex-direction: column;align-items: center;background-color: white;padding-right: 0.2em;padding-left: 0.2em;position: relative;}#sk-container-id-2 div.sk-item {position: relative;z-index: 1;}#sk-container-id-2 div.sk-parallel {display: flex;align-items: stretch;justify-content: center;background-color: white;position: relative;}#sk-container-id-2 div.sk-item::before, #sk-container-id-2 div.sk-parallel-item::before {content: \"\";position: absolute;border-left: 1px solid gray;box-sizing: border-box;top: 0;bottom: 0;left: 50%;z-index: -1;}#sk-container-id-2 div.sk-parallel-item {display: flex;flex-direction: column;z-index: 1;position: relative;background-color: white;}#sk-container-id-2 div.sk-parallel-item:first-child::after {align-self: flex-end;width: 50%;}#sk-container-id-2 div.sk-parallel-item:last-child::after {align-self: flex-start;width: 50%;}#sk-container-id-2 div.sk-parallel-item:only-child::after {width: 0;}#sk-container-id-2 div.sk-dashed-wrapped {border: 1px dashed gray;margin: 0 0.4em 0.5em 0.4em;box-sizing: border-box;padding-bottom: 0.4em;background-color: white;}#sk-container-id-2 div.sk-label label {font-family: monospace;font-weight: bold;display: inline-block;line-height: 1.2em;}#sk-container-id-2 div.sk-label-container {text-align: center;}#sk-container-id-2 div.sk-container {/* jupyter's `normalize.less` sets `[hidden] { display: none; }` but bootstrap.min.css set `[hidden] { display: none !important; }` so we also need the `!important` here to be able to override the default hidden behavior on the sphinx rendered scikit-learn.org. See: https://github.com/scikit-learn/scikit-learn/issues/21755 */display: inline-block !important;position: relative;}#sk-container-id-2 div.sk-text-repr-fallback {display: none;}</style><div id=\"sk-container-id-2\" class=\"sk-top-container\"><div class=\"sk-text-repr-fallback\"><pre>KNeighborsClassifier()</pre><b>In a Jupyter environment, please rerun this cell to show the HTML representation or trust the notebook. <br />On GitHub, the HTML representation is unable to render, please try loading this page with nbviewer.org.</b></div><div class=\"sk-container\" hidden><div class=\"sk-item\"><div class=\"sk-estimator sk-toggleable\"><input class=\"sk-toggleable__control sk-hidden--visually\" id=\"sk-estimator-id-2\" type=\"checkbox\" checked><label for=\"sk-estimator-id-2\" class=\"sk-toggleable__label sk-toggleable__label-arrow\">KNeighborsClassifier</label><div class=\"sk-toggleable__content\"><pre>KNeighborsClassifier()</pre></div></div></div></div></div>"
      ],
      "text/plain": [
       "KNeighborsClassifier()"
      ]
     },
     "execution_count": 134,
     "metadata": {},
     "output_type": "execute_result"
    }
   ],
   "source": [
    "from sklearn.neighbors import KNeighborsClassifier\n",
    "\n",
    "KNN_model=KNeighborsClassifier() #default value of n_neighbors=5\n",
    "KNN_model.fit(X_train,y_train)"
   ]
  },
  {
   "cell_type": "code",
   "execution_count": 135,
   "id": "58f2304c",
   "metadata": {},
   "outputs": [
    {
     "data": {
      "text/plain": [
       "array([1, 1, 1, 0, 1, 1, 1, 0, 1, 1, 1, 1, 1, 1, 1, 1, 0, 1, 1, 1, 1, 1,\n",
       "       1, 1, 0, 0, 0, 1, 1, 0, 0, 1, 1, 0, 0, 1, 1, 1, 1, 1, 0, 0, 1, 1,\n",
       "       1, 1, 1, 1, 1, 1, 0, 1, 1, 1, 0, 0, 1, 1, 1, 0, 1, 1, 0, 0, 1, 0,\n",
       "       1, 1, 0, 1, 0, 1, 1, 1, 1, 1, 1, 1, 1, 0, 0, 0, 0, 1, 1, 1, 1, 1,\n",
       "       1, 1, 1, 1, 0, 1, 1, 1, 0, 1, 1, 1, 1, 1, 1, 0, 0, 0, 1, 0, 1, 1,\n",
       "       1, 1, 1, 1, 1, 1, 1, 1, 1, 1, 0, 1, 0, 1, 0, 1, 0, 0, 1, 0, 1, 1,\n",
       "       1, 1, 1, 1, 0, 1, 1, 1, 0, 1, 0, 1, 1, 1, 1, 1, 1, 1, 1, 1, 0, 1,\n",
       "       1, 1, 1, 1, 0, 0, 1, 1, 1, 1, 1, 1, 1, 0, 1, 0, 1, 1, 1, 1, 1, 0,\n",
       "       1, 1, 1, 1, 1, 1, 1, 1, 1, 1, 1, 1, 1, 1, 0, 1, 0, 1, 1, 0, 1, 1,\n",
       "       1, 1, 1, 1, 1, 0, 1, 0, 1, 1, 0, 0, 1, 0, 0, 1, 0, 0, 1, 1, 1, 1,\n",
       "       1, 0, 1, 1, 1, 1, 1, 1, 1, 1, 1, 0, 1, 1, 1, 0, 1, 1, 1, 1, 1, 1,\n",
       "       1, 0, 1, 1, 1, 1, 0, 0, 1, 0, 1, 1, 1, 1, 0, 1, 1, 0, 1, 1, 1, 1,\n",
       "       1, 1, 1, 0, 1, 1, 0, 1, 1, 1, 0, 1, 1, 0, 0, 1, 0, 1, 1, 1, 1, 0,\n",
       "       1, 1, 1, 0, 0, 0, 1, 0, 1, 1, 1, 1, 1, 1, 1, 0, 1, 1, 1, 1, 1, 1,\n",
       "       1, 1], dtype=int8)"
      ]
     },
     "execution_count": 135,
     "metadata": {},
     "output_type": "execute_result"
    }
   ],
   "source": [
    "y_train_predict = KNN_model.predict(X_train)\n",
    "y_train_predict"
   ]
  },
  {
   "cell_type": "code",
   "execution_count": 136,
   "id": "c26871a8",
   "metadata": {},
   "outputs": [
    {
     "data": {
      "text/plain": [
       "array([1, 1, 0, 1, 0, 1, 0, 0, 0, 1, 1, 0, 1, 1, 1, 1, 0, 0, 1, 0, 1, 1,\n",
       "       0, 1, 0, 1, 1, 1, 1, 1, 1, 1, 0, 1, 1, 1, 1, 1, 0, 1, 1, 1, 0, 1,\n",
       "       1, 0, 1, 1, 1, 1, 1, 1, 1, 1, 1, 1, 1, 1, 0, 1, 1, 1, 1, 1, 1, 0,\n",
       "       1, 0, 1, 1, 1, 0, 1, 1, 0, 1, 0, 1, 0, 1, 0, 1, 1, 1, 1, 0, 0, 1,\n",
       "       1, 0, 1, 1, 1, 1, 1, 1, 1, 1, 1, 1, 1, 0, 0, 1, 1, 1, 1, 1, 1, 1,\n",
       "       0, 1, 0, 1, 0, 1, 1, 0, 1, 1, 0, 1, 0, 1, 1, 1, 1, 1, 1, 1, 0, 1,\n",
       "       1, 1], dtype=int8)"
      ]
     },
     "execution_count": 136,
     "metadata": {},
     "output_type": "execute_result"
    }
   ],
   "source": [
    "y_test_predict = KNN_model.predict(X_test)\n",
    "y_test_predict"
   ]
  },
  {
   "cell_type": "code",
   "execution_count": 137,
   "id": "2c02401f",
   "metadata": {},
   "outputs": [
    {
     "name": "stdout",
     "output_type": "stream",
     "text": [
      "0.8451612903225807\n",
      "[[ 66  36]\n",
      " [ 12 196]]\n",
      "              precision    recall  f1-score   support\n",
      "\n",
      "           0       0.85      0.65      0.73       102\n",
      "           1       0.84      0.94      0.89       208\n",
      "\n",
      "    accuracy                           0.85       310\n",
      "   macro avg       0.85      0.79      0.81       310\n",
      "weighted avg       0.85      0.85      0.84       310\n",
      "\n"
     ]
    }
   ],
   "source": [
    "## Performance Matrix on train data set\n",
    "y_train_predict = KNN_model.predict(X_train)\n",
    "model_score = KNN_model.score(X_train, y_train)\n",
    "print(model_score)\n",
    "print(metrics.confusion_matrix(y_train, y_train_predict))\n",
    "print(metrics.classification_report(y_train, y_train_predict))"
   ]
  },
  {
   "cell_type": "code",
   "execution_count": 138,
   "id": "bf74ebdf",
   "metadata": {},
   "outputs": [
    {
     "name": "stdout",
     "output_type": "stream",
     "text": [
      "0.7835820895522388\n",
      "[[24 18]\n",
      " [11 81]]\n",
      "              precision    recall  f1-score   support\n",
      "\n",
      "           0       0.69      0.57      0.62        42\n",
      "           1       0.82      0.88      0.85        92\n",
      "\n",
      "    accuracy                           0.78       134\n",
      "   macro avg       0.75      0.73      0.74       134\n",
      "weighted avg       0.78      0.78      0.78       134\n",
      "\n"
     ]
    }
   ],
   "source": [
    "## Performance Matrix on test data set\n",
    "y_test_predict = KNN_model.predict(X_test)\n",
    "model_score = KNN_model.score(X_test, y_test)\n",
    "print(model_score)\n",
    "print(metrics.confusion_matrix(y_test, y_test_predict))\n",
    "print(metrics.classification_report(y_test, y_test_predict))"
   ]
  },
  {
   "cell_type": "markdown",
   "id": "5e4edc05",
   "metadata": {},
   "source": [
    "We can see a significant change in the accuracy scores(85% for train n 78.35 % for test data), lets continue with the scaled data now."
   ]
  },
  {
   "cell_type": "markdown",
   "id": "b55382f2",
   "metadata": {},
   "source": [
    "**Run the KNN with no of neighbours to be 1,3,5..19 and *Find the optimal number of neighbours from K=1,3,5,7....19 using the Mis classification error**\n",
    "\n",
    "Hint: Misclassification error **(MCE) = 1 - Test accuracy score.** Calculated MCE for each model with neighbours = 1,3,5...19 and find the model with lowest MCE"
   ]
  },
  {
   "cell_type": "code",
   "execution_count": 139,
   "id": "b70ffd08",
   "metadata": {},
   "outputs": [
    {
     "data": {
      "text/plain": [
       "[0.25373134328358204,\n",
       " 0.23880597014925375,\n",
       " 0.21641791044776115,\n",
       " 0.23880597014925375,\n",
       " 0.22388059701492535,\n",
       " 0.20895522388059706,\n",
       " 0.20895522388059706,\n",
       " 0.19402985074626866,\n",
       " 0.19402985074626866,\n",
       " 0.20149253731343286]"
      ]
     },
     "execution_count": 139,
     "metadata": {},
     "output_type": "execute_result"
    }
   ],
   "source": [
    "# empty list that will hold accuracy scores\n",
    "ac_scores = []\n",
    "\n",
    "# perform accuracy metrics for values from 1,3,5....19\n",
    "for k in range(1,20,2):\n",
    "    knn = KNeighborsClassifier(n_neighbors=k)\n",
    "    knn.fit(X_train, y_train)\n",
    "    # evaluate test accuracy\n",
    "    scores = knn.score(X_test, y_test)\n",
    "    ac_scores.append(scores)\n",
    "\n",
    "# changing to misclassification error     #Misclassification error (MCE) = 1 - Test accuracy score.\n",
    "MCE = [1 - x for x in ac_scores]\n",
    "MCE           #The misclassification error, which tells what proportion of predicted direction did not match with the actuals."
   ]
  },
  {
   "cell_type": "code",
   "execution_count": 140,
   "id": "58bb406a",
   "metadata": {},
   "outputs": [],
   "source": [
    "#when k=1,3,5,7 .........19,these are errors\n",
    "#at k=15,MCE is least i.e 19%,"
   ]
  },
  {
   "cell_type": "markdown",
   "id": "8d305b24",
   "metadata": {},
   "source": [
    "Plot misclassification error vs k (with k value on X-axis) using matplotlib"
   ]
  },
  {
   "cell_type": "code",
   "execution_count": 141,
   "id": "cdd878e8",
   "metadata": {},
   "outputs": [
    {
     "data": {
      "image/png": "[encoded data removed]",
      "text/plain": [
       "<Figure size 1080x288 with 1 Axes>"
      ]
     },
     "metadata": {
      "needs_background": "light"
     },
     "output_type": "display_data"
    }
   ],
   "source": [
    "import matplotlib.pyplot as plt\n",
    "                                      # plot misclassification error vs k\n",
    "plt.plot(range(1,20,2), MCE)\n",
    "plt.xlabel('Number of Neighbors K')\n",
    "plt.ylabel('Misclassification Error')\n",
    "plt.show()"
   ]
  },
  {
   "cell_type": "code",
   "execution_count": 142,
   "id": "942344bb",
   "metadata": {},
   "outputs": [
    {
     "data": {
      "text/html": [
       "<style>#sk-container-id-3 {color: black;background-color: white;}#sk-container-id-3 pre{padding: 0;}#sk-container-id-3 div.sk-toggleable {background-color: white;}#sk-container-id-3 label.sk-toggleable__label {cursor: pointer;display: block;width: 100%;margin-bottom: 0;padding: 0.3em;box-sizing: border-box;text-align: center;}#sk-container-id-3 label.sk-toggleable__label-arrow:before {content: \"▸\";float: left;margin-right: 0.25em;color: #696969;}#sk-container-id-3 label.sk-toggleable__label-arrow:hover:before {color: black;}#sk-container-id-3 div.sk-estimator:hover label.sk-toggleable__label-arrow:before {color: black;}#sk-container-id-3 div.sk-toggleable__content {max-height: 0;max-width: 0;overflow: hidden;text-align: left;background-color: #f0f8ff;}#sk-container-id-3 div.sk-toggleable__content pre {margin: 0.2em;color: black;border-radius: 0.25em;background-color: #f0f8ff;}#sk-container-id-3 input.sk-toggleable__control:checked~div.sk-toggleable__content {max-height: 200px;max-width: 100%;overflow: auto;}#sk-container-id-3 input.sk-toggleable__control:checked~label.sk-toggleable__label-arrow:before {content: \"▾\";}#sk-container-id-3 div.sk-estimator input.sk-toggleable__control:checked~label.sk-toggleable__label {background-color: #d4ebff;}#sk-container-id-3 div.sk-label input.sk-toggleable__control:checked~label.sk-toggleable__label {background-color: #d4ebff;}#sk-container-id-3 input.sk-hidden--visually {border: 0;clip: rect(1px 1px 1px 1px);clip: rect(1px, 1px, 1px, 1px);height: 1px;margin: -1px;overflow: hidden;padding: 0;position: absolute;width: 1px;}#sk-container-id-3 div.sk-estimator {font-family: monospace;background-color: #f0f8ff;border: 1px dotted black;border-radius: 0.25em;box-sizing: border-box;margin-bottom: 0.5em;}#sk-container-id-3 div.sk-estimator:hover {background-color: #d4ebff;}#sk-container-id-3 div.sk-parallel-item::after {content: \"\";width: 100%;border-bottom: 1px solid gray;flex-grow: 1;}#sk-container-id-3 div.sk-label:hover label.sk-toggleable__label {background-color: #d4ebff;}#sk-container-id-3 div.sk-serial::before {content: \"\";position: absolute;border-left: 1px solid gray;box-sizing: border-box;top: 0;bottom: 0;left: 50%;z-index: 0;}#sk-container-id-3 div.sk-serial {display: flex;flex-direction: column;align-items: center;background-color: white;padding-right: 0.2em;padding-left: 0.2em;position: relative;}#sk-container-id-3 div.sk-item {position: relative;z-index: 1;}#sk-container-id-3 div.sk-parallel {display: flex;align-items: stretch;justify-content: center;background-color: white;position: relative;}#sk-container-id-3 div.sk-item::before, #sk-container-id-3 div.sk-parallel-item::before {content: \"\";position: absolute;border-left: 1px solid gray;box-sizing: border-box;top: 0;bottom: 0;left: 50%;z-index: -1;}#sk-container-id-3 div.sk-parallel-item {display: flex;flex-direction: column;z-index: 1;position: relative;background-color: white;}#sk-container-id-3 div.sk-parallel-item:first-child::after {align-self: flex-end;width: 50%;}#sk-container-id-3 div.sk-parallel-item:last-child::after {align-self: flex-start;width: 50%;}#sk-container-id-3 div.sk-parallel-item:only-child::after {width: 0;}#sk-container-id-3 div.sk-dashed-wrapped {border: 1px dashed gray;margin: 0 0.4em 0.5em 0.4em;box-sizing: border-box;padding-bottom: 0.4em;background-color: white;}#sk-container-id-3 div.sk-label label {font-family: monospace;font-weight: bold;display: inline-block;line-height: 1.2em;}#sk-container-id-3 div.sk-label-container {text-align: center;}#sk-container-id-3 div.sk-container {/* jupyter's `normalize.less` sets `[hidden] { display: none; }` but bootstrap.min.css set `[hidden] { display: none !important; }` so we also need the `!important` here to be able to override the default hidden behavior on the sphinx rendered scikit-learn.org. See: https://github.com/scikit-learn/scikit-learn/issues/21755 */display: inline-block !important;position: relative;}#sk-container-id-3 div.sk-text-repr-fallback {display: none;}</style><div id=\"sk-container-id-3\" class=\"sk-top-container\"><div class=\"sk-text-repr-fallback\"><pre>KNeighborsClassifier(n_neighbors=15)</pre><b>In a Jupyter environment, please rerun this cell to show the HTML representation or trust the notebook. <br />On GitHub, the HTML representation is unable to render, please try loading this page with nbviewer.org.</b></div><div class=\"sk-container\" hidden><div class=\"sk-item\"><div class=\"sk-estimator sk-toggleable\"><input class=\"sk-toggleable__control sk-hidden--visually\" id=\"sk-estimator-id-3\" type=\"checkbox\" checked><label for=\"sk-estimator-id-3\" class=\"sk-toggleable__label sk-toggleable__label-arrow\">KNeighborsClassifier</label><div class=\"sk-toggleable__content\"><pre>KNeighborsClassifier(n_neighbors=15)</pre></div></div></div></div></div>"
      ],
      "text/plain": [
       "KNeighborsClassifier(n_neighbors=15)"
      ]
     },
     "execution_count": 142,
     "metadata": {},
     "output_type": "execute_result"
    }
   ],
   "source": [
    "from sklearn.neighbors import KNeighborsClassifier\n",
    "\n",
    "KNN_model=KNeighborsClassifier(n_neighbors=15)\n",
    "KNN_model.fit(X_train,y_train)"
   ]
  },
  {
   "cell_type": "code",
   "execution_count": 143,
   "id": "a4b16908",
   "metadata": {},
   "outputs": [
    {
     "name": "stdout",
     "output_type": "stream",
     "text": [
      "0.8290322580645161\n",
      "[[ 57  45]\n",
      " [  8 200]]\n",
      "              precision    recall  f1-score   support\n",
      "\n",
      "           0       0.88      0.56      0.68       102\n",
      "           1       0.82      0.96      0.88       208\n",
      "\n",
      "    accuracy                           0.83       310\n",
      "   macro avg       0.85      0.76      0.78       310\n",
      "weighted avg       0.84      0.83      0.82       310\n",
      "\n"
     ]
    }
   ],
   "source": [
    "## Performance Matrix on train data set\n",
    "y_train_predict = KNN_model.predict(X_train)\n",
    "model_score = KNN_model.score(X_train, y_train)\n",
    "print(model_score)\n",
    "print(metrics.confusion_matrix(y_train, y_train_predict))\n",
    "print(metrics.classification_report(y_train, y_train_predict))"
   ]
  },
  {
   "cell_type": "code",
   "execution_count": 144,
   "id": "94b65ea0",
   "metadata": {},
   "outputs": [
    {
     "name": "stdout",
     "output_type": "stream",
     "text": [
      "0.8059701492537313\n",
      "[[21 21]\n",
      " [ 5 87]]\n",
      "              precision    recall  f1-score   support\n",
      "\n",
      "           0       0.81      0.50      0.62        42\n",
      "           1       0.81      0.95      0.87        92\n",
      "\n",
      "    accuracy                           0.81       134\n",
      "   macro avg       0.81      0.72      0.74       134\n",
      "weighted avg       0.81      0.81      0.79       134\n",
      "\n"
     ]
    }
   ],
   "source": [
    "## Performance Matrix on test data set\n",
    "y_test_predict = KNN_model.predict(X_test)\n",
    "model_score = KNN_model.score(X_test, y_test)\n",
    "print(model_score)\n",
    "print(metrics.confusion_matrix(y_test, y_test_predict))\n",
    "print(metrics.classification_report(y_test, y_test_predict))"
   ]
  },
  {
   "cell_type": "code",
   "execution_count": 145,
   "id": "b0fad623",
   "metadata": {},
   "outputs": [],
   "source": [
    "#this is giving me the best possible performance. 83% and 81%"
   ]
  },
  {
   "cell_type": "markdown",
   "id": "2bbfaf97",
   "metadata": {},
   "source": [
    "if i want to go with this particular k value,i can or if i increase  the range of k from 19 to check if there is further decrease in MCE but generally the smaller the k value,the more stronger the model.Too low and too high k value is also not good for my model.That's the reason we've taken 1 to 20 range and we're trying to find the optimum point."
   ]
  },
  {
   "cell_type": "markdown",
   "id": "9104503f",
   "metadata": {},
   "source": [
    "**As the difference between train and test accuracies is less than 10%, it is a valid model**"
   ]
  },
  {
   "cell_type": "markdown",
   "id": "84910b48",
   "metadata": {},
   "source": [
    "**Hyper-parameter tunning**"
   ]
  },
  {
   "cell_type": "code",
   "execution_count": 146,
   "id": "eb587f4d",
   "metadata": {},
   "outputs": [],
   "source": [
    "params = {'n_neighbors':[6,8,10,12,14,16,19],\n",
    "          'algorithm':['auto', 'ball_tree','kd_tree','brute'],\n",
    "          'leaf_size':list(range(1,30)),\n",
    "         'p':[1,2],\n",
    "          'metric':['minkowski','euclidean','manhattan','chebyshev','mahalanobis']}"
   ]
  },
  {
   "cell_type": "code",
   "execution_count": null,
   "id": "d7f266b8",
   "metadata": {},
   "outputs": [
    {
     "name": "stdout",
     "output_type": "stream",
     "text": [
      "Fitting 5 folds for each of 8120 candidates, totalling 40600 fits\n"
     ]
    }
   ],
   "source": [
    "from sklearn.neighbors import KNeighborsClassifier\n",
    "from sklearn.model_selection import GridSearchCV\n",
    "grid_knn = GridSearchCV(KNeighborsClassifier(),param_grid=params,refit=True,verbose=1,cv=5)\n",
    "grid_knn.fit(X_train,y_train)"
   ]
  },
  {
   "cell_type": "code",
   "execution_count": null,
   "id": "418c9c6b",
   "metadata": {},
   "outputs": [],
   "source": [
    "grid_knn.best_params_"
   ]
  },
  {
   "cell_type": "code",
   "execution_count": null,
   "id": "e7b89d62",
   "metadata": {},
   "outputs": [],
   "source": [
    "from sklearn.metrics import accuracy_score,roc_auc_score,confusion_matrix,roc_curve\n",
    "print(\"Train Accuracy is : {}\".format(accuracy_score(y_train,grid_knn.predict(X_train))))\n",
    "\n",
    "print(\"\\nTest Accuracy is : {}\".format(accuracy_score(y_test,grid_knn.predict(X_test))))\n",
    "\n",
    "\n",
    "print(\"\\nTrain ROC-AUC score is : {}\".format(roc_auc_score(y_train,grid_knn.predict_proba(X_train)[:,1])))\n",
    "print(\"\\nTest ROC-AUC score is : {}\".format(roc_auc_score(y_test,grid_knn.predict_proba(X_test)[:,1])))\n",
    "\n",
    "\n",
    "\n",
    "print(\"\\nConfusion matrix for train set : \",\"\\n\",confusion_matrix(y_train,grid_knn.predict(X_train)))\n",
    "print(\"\\nConfusion matrix for test set : \",\"\\n\",confusion_matrix(y_test,grid_knn.predict(X_test)))"
   ]
  },
  {
   "cell_type": "code",
   "execution_count": null,
   "id": "a1c04890",
   "metadata": {},
   "outputs": [],
   "source": [
    "from sklearn.metrics import classification_report\n",
    "print('Classification report Train set :')      \n",
    "print(classification_report(y_train,grid_knn.predict(X_train)))"
   ]
  },
  {
   "cell_type": "code",
   "execution_count": null,
   "id": "d933c375",
   "metadata": {},
   "outputs": [],
   "source": [
    "print('Classification report Test set :')\n",
    "print(classification_report(y_test,grid_knn.predict(X_test)))"
   ]
  },
  {
   "cell_type": "markdown",
   "id": "c1321df7",
   "metadata": {},
   "source": [
    "# 1.6) Bagging ( 4 pts) and Boosting (4 pts), Model Tuning (4 pts)."
   ]
  },
  {
   "cell_type": "code",
   "execution_count": null,
   "id": "a60f60e3",
   "metadata": {},
   "outputs": [],
   "source": [
    "df.head()"
   ]
  },
  {
   "cell_type": "code",
   "execution_count": null,
   "id": "473627b4",
   "metadata": {},
   "outputs": [],
   "source": [
    "# Arrange data into independent variables and dependent variables\n",
    "X = df.drop(\"Transport\",axis=1)  ## Features\n",
    "y = df[\"Transport\"]  ## Target"
   ]
  },
  {
   "cell_type": "code",
   "execution_count": null,
   "id": "1bba0917",
   "metadata": {},
   "outputs": [],
   "source": [
    "# Split X and y into training and test set in 70:30 ratio\n",
    "from sklearn.model_selection import train_test_split\n",
    "X_train, X_test, y_train, y_test = train_test_split(X, y, test_size=0.30 , random_state=1)"
   ]
  },
  {
   "cell_type": "code",
   "execution_count": null,
   "id": "367e624b",
   "metadata": {},
   "outputs": [],
   "source": [
    "from sklearn.preprocessing import StandardScaler\n",
    "ss=StandardScaler()\n",
    "X_train=ss.fit_transform(X_train)\n",
    "X_test=ss.transform(X_test)\n"
   ]
  },
  {
   "cell_type": "markdown",
   "id": "1bbf2d6a",
   "metadata": {},
   "source": [
    "# AdaBoost"
   ]
  },
  {
   "cell_type": "code",
   "execution_count": null,
   "id": "576efa78",
   "metadata": {},
   "outputs": [],
   "source": [
    "\n",
    "from sklearn.ensemble import AdaBoostClassifier #initially we're putting number of estimators as 100\n",
    "                                                           #it has taken 100 learners\n",
    "ADB_model=AdaBoostClassifier(n_estimators=100,random_state=1)\n",
    "ADB_model.fit(X_train,y_train)\n"
   ]
  },
  {
   "cell_type": "code",
   "execution_count": null,
   "id": "fd06e4a9",
   "metadata": {},
   "outputs": [],
   "source": [
    "#performance matrix on train data set\n",
    "y_train_predict=ADB_model.predict(X_train)\n",
    "model_score=ADB_model.score(X_train,y_train)\n",
    "print(model_score)\n",
    "print(metrics.confusion_matrix(y_train,y_train_predict))\n",
    "print(metrics.classification_report(y_train,y_train_predict))\n"
   ]
  },
  {
   "cell_type": "code",
   "execution_count": null,
   "id": "963b301f",
   "metadata": {},
   "outputs": [],
   "source": [
    "\n",
    "#performance matrix on test data set\n",
    "y_test_predict=ADB_model.predict(X_test)\n",
    "model_score=ADB_model.score(X_test,y_test)\n",
    "print(model_score)\n",
    "print(metrics.confusion_matrix(y_test,y_test_predict))\n",
    "print(metrics.classification_report(y_test,y_test_predict))"
   ]
  },
  {
   "cell_type": "code",
   "execution_count": null,
   "id": "ed2bbf18",
   "metadata": {},
   "outputs": [],
   "source": [
    "#accuracy=88% for train and 75% for test.the model performance is pretty decent"
   ]
  },
  {
   "cell_type": "markdown",
   "id": "aa66b23a",
   "metadata": {},
   "source": [
    "# Gradient Boosting"
   ]
  },
  {
   "cell_type": "code",
   "execution_count": null,
   "id": "7051a4aa",
   "metadata": {},
   "outputs": [],
   "source": [
    "\n",
    "from sklearn.ensemble import GradientBoostingClassifier#by default,n_estimators=100 here\n",
    "gbcl=GradientBoostingClassifier(random_state=1)\n",
    "gbcl=gbcl.fit(X_train,y_train)"
   ]
  },
  {
   "cell_type": "code",
   "execution_count": null,
   "id": "412313a5",
   "metadata": {},
   "outputs": [],
   "source": [
    "#performance matrix on train data set\n",
    "y_train_predict=gbcl.predict(X_train)\n",
    "model_score=gbcl.score(X_train,y_train)\n",
    "print(model_score)\n",
    "print(metrics.confusion_matrix(y_train,y_train_predict))\n",
    "print(metrics.classification_report(y_train,y_train_predict))"
   ]
  },
  {
   "cell_type": "code",
   "execution_count": null,
   "id": "7b453ed1",
   "metadata": {},
   "outputs": [],
   "source": [
    "#performance matrix on test data set\n",
    "y_test_predict=gbcl.predict(X_test)\n",
    "model_score=gbcl.score(X_test,y_test)\n",
    "print(model_score)\n",
    "print(metrics.confusion_matrix(y_test,y_test_predict))\n",
    "print(metrics.classification_report(y_test,y_test_predict))"
   ]
  },
  {
   "cell_type": "code",
   "execution_count": null,
   "id": "e962bbf7",
   "metadata": {},
   "outputs": [],
   "source": [
    "#this is giving higher accuracy compared to Adaboost.f1 score is also noticeably better"
   ]
  },
  {
   "cell_type": "markdown",
   "id": "2c03a1fd",
   "metadata": {},
   "source": [
    "# Bagging"
   ]
  },
  {
   "cell_type": "code",
   "execution_count": null,
   "id": "621bab9a",
   "metadata": {},
   "outputs": [],
   "source": [
    "from sklearn.ensemble import BaggingClassifier\n",
    "from sklearn.tree import DecisionTreeClassifier\n",
    "cart=DecisionTreeClassifier()\n",
    "Bagging_model=BaggingClassifier(base_estimator=cart,n_estimators=100,random_state=1)\n",
    "Bagging_model.fit(X_train,y_train)"
   ]
  },
  {
   "cell_type": "code",
   "execution_count": null,
   "id": "0e5350e7",
   "metadata": {},
   "outputs": [],
   "source": [
    "#performance matrix on train data set\n",
    "y_train_predict=Bagging_model.predict(X_train)\n",
    "model_score=Bagging_model.score(X_train,y_train)\n",
    "print(model_score)\n",
    "print(metrics.confusion_matrix(y_train,y_train_predict))\n",
    "print(metrics.classification_report(y_train,y_train_predict))"
   ]
  },
  {
   "cell_type": "code",
   "execution_count": null,
   "id": "052ad09d",
   "metadata": {},
   "outputs": [],
   "source": [
    "#performance matrix on test data set\n",
    "y_test_predict=Bagging_model.predict(X_test)\n",
    "model_score=Bagging_model.score(X_test,y_test)\n",
    "print(model_score)\n",
    "print(metrics.confusion_matrix(y_test,y_test_predict))      #overfitting\n",
    "print(metrics.classification_report(y_test,y_test_predict))"
   ]
  },
  {
   "cell_type": "code",
   "execution_count": null,
   "id": "eff701dc",
   "metadata": {},
   "outputs": [],
   "source": [
    "#instead of decision tree,you can pass some other classifier here."
   ]
  },
  {
   "cell_type": "markdown",
   "id": "eace0aef",
   "metadata": {},
   "source": [
    "Hyperparameter Tuning\n",
    "\n",
    "### AdaBoost Classifier"
   ]
  },
  {
   "cell_type": "markdown",
   "id": "aedb25f7",
   "metadata": {},
   "source": [
    "- An AdaBoost classifier is a meta-estimator that begins by fitting a classifier on the original dataset and then fits additional copies of the classifier on the same dataset but where the weights of incorrectly classified instances are adjusted such that subsequent classifiers focus more on difficult cases.\n",
    "- Some important hyperparamters are:\n",
    "    - base_estimator: The base estimator from which the boosted ensemble is built. By default the base estimator is a decision tree with max_depth=1\n",
    "    - n_estimators: The maximum number of estimators at which boosting is terminated. Default value is 50.\n",
    "    - learning_rate: Learning rate shrinks the contribution of each classifier by learning_rate. There is a trade-off between learning_rate and n_estimators."
   ]
  },
  {
   "cell_type": "code",
   "execution_count": null,
   "id": "cddaa22a",
   "metadata": {},
   "outputs": [],
   "source": [
    "# Choose the type of classifier. \n",
    "abc_tuned = AdaBoostClassifier(random_state=1)\n",
    "\n",
    "# Grid of parameters to choose from\n",
    "## add from article\n",
    "parameters = {\n",
    "    #Let's try different max_depth for base_estimator\n",
    "    \"base_estimator\":[DecisionTreeClassifier(max_depth=1),DecisionTreeClassifier(max_depth=2),DecisionTreeClassifier(max_depth=3)],\n",
    "    \"n_estimators\": np.arange(10,110,10),\n",
    "    \"learning_rate\":np.arange(0.1,2,0.1)\n",
    "}\n",
    "\n",
    "# Type of scoring used to compare parameter combinations\n",
    "acc_scorer = metrics.make_scorer(metrics.recall_score)\n",
    "\n",
    "# Run the grid search\n",
    "grid_obj = GridSearchCV(abc_tuned, parameters, scoring=acc_scorer,cv=5)\n",
    "grid_obj = grid_obj.fit(X_train, y_train)\n",
    "\n",
    "# Set the clf to the best combination of parameters\n",
    "abc_tuned = grid_obj.best_estimator_\n",
    "\n",
    "# Fit the best algorithm to the data.\n",
    "abc_tuned.fit(X_train, y_train)"
   ]
  },
  {
   "cell_type": "code",
   "execution_count": null,
   "id": "cbf205c0",
   "metadata": {},
   "outputs": [],
   "source": [
    "importances = abc_tuned.feature_importances_\n",
    "indices = np.argsort(importances)\n",
    "feature_names = list(X.columns)\n",
    "\n",
    "plt.figure(figsize=(12,12))\n",
    "plt.title('Feature Importances')\n",
    "plt.barh(range(len(indices)), importances[indices], color='violet', align='center')\n",
    "plt.yticks(range(len(indices)), [feature_names[i] for i in indices])\n",
    "plt.xlabel('Relative Importance')\n",
    "plt.show()"
   ]
  },
  {
   "cell_type": "markdown",
   "id": "45792869",
   "metadata": {},
   "source": [
    "- Gradient Boosting classifier:\n",
    "    Most of the hyperparameters available are same as random forest classifier.\n",
    "- init: An estimator object that is used to compute the initial predictions. If ‘zero’, the initial raw predictions are set to zero. By default, a DummyEstimator predicting the classes priors is used.\n",
    "- There is no class_weights parameter in gradient boosting."
   ]
  },
  {
   "cell_type": "code",
   "execution_count": null,
   "id": "bb2ed8b3",
   "metadata": {},
   "outputs": [],
   "source": [
    "# Choose the type of classifier. \n",
    "gbc_tuned = GradientBoostingClassifier(init=AdaBoostClassifier(random_state=1),random_state=1)\n",
    "\n",
    "# Grid of parameters to choose from\n",
    "## add from article\n",
    "parameters = {\n",
    "    \"n_estimators\": [100,150,200,250],\n",
    "    \"subsample\":[0.8,0.9,1],\n",
    "    \"max_features\":[0.7,0.8,0.9,1]\n",
    "}\n",
    "\n",
    "# Type of scoring used to compare parameter combinations\n",
    "acc_scorer = metrics.make_scorer(metrics.recall_score)\n",
    "\n",
    "# Run the grid search\n",
    "grid_obj = GridSearchCV(gbc_tuned, parameters, scoring=acc_scorer,cv=5)\n",
    "grid_obj = grid_obj.fit(X_train, y_train)\n",
    "\n",
    "# Set the clf to the best combination of parameters\n",
    "gbc_tuned = grid_obj.best_estimator_\n",
    "\n",
    "# Fit the best algorithm to the data.\n",
    "gbc_tuned.fit(X_train, y_train)"
   ]
  },
  {
   "cell_type": "markdown",
   "id": "f1bc3484",
   "metadata": {},
   "source": [
    "# 1.7 Performance Metrics: Check the performance of Predictions on Train and Test sets using Accuracy, Confusion Matrix, Plot ROC curve and get ROC_AUC score for each model (5 pts) Final Model - Compare all models on the basis of the performance metrics in a structured tabular manner. Describe on which model is best/optimized (3 pts)"
   ]
  },
  {
   "cell_type": "code",
   "execution_count": null,
   "id": "8ffb9874",
   "metadata": {},
   "outputs": [],
   "source": [
    "# Arrange data into independent variables and dependent variables\n",
    "X = df.drop(\"Transport\",axis=1)  ## Features\n",
    "y = df[\"Transport\"]  ## Target"
   ]
  },
  {
   "cell_type": "code",
   "execution_count": null,
   "id": "00ae06ff",
   "metadata": {},
   "outputs": [],
   "source": [
    "X.head(5)"
   ]
  },
  {
   "cell_type": "code",
   "execution_count": null,
   "id": "2f36751b",
   "metadata": {},
   "outputs": [],
   "source": [
    "# Split X and y into training and test set in 70:30 ratio\n",
    "from sklearn.model_selection import train_test_split\n",
    "X_train, X_test, y_train, y_test = train_test_split(X, y, test_size=0.30 , random_state=10)\n"
   ]
  },
  {
   "cell_type": "code",
   "execution_count": null,
   "id": "20e9422d",
   "metadata": {},
   "outputs": [],
   "source": [
    "from sklearn.preprocessing import StandardScaler\n",
    "ss=StandardScaler()\n",
    "X_train=ss.fit_transform(X_train)\n",
    "X_test=ss.transform(X_test)"
   ]
  },
  {
   "cell_type": "markdown",
   "id": "bc82a2fe",
   "metadata": {},
   "source": [
    "# 1)LOGISTIC REGRESSION MODEL"
   ]
  },
  {
   "cell_type": "code",
   "execution_count": null,
   "id": "f0c906e5",
   "metadata": {},
   "outputs": [],
   "source": [
    "# Fit the Logistic Regression model\n",
    "from sklearn.linear_model import LogisticRegression\n",
    "model = LogisticRegression(solver='newton-cg',max_iter=10000,penalty='none',verbose=True,n_jobs=2)\n",
    "model.fit(X_train, y_train)\n"
   ]
  },
  {
   "cell_type": "code",
   "execution_count": null,
   "id": "aa9da4bd",
   "metadata": {},
   "outputs": [],
   "source": [
    "#Predicting on Training and Test dataset\n",
    "ytrain_predict = model.predict(X_train)\n",
    "ytest_predict = model.predict(X_test)\n"
   ]
  },
  {
   "cell_type": "code",
   "execution_count": null,
   "id": "e5606560",
   "metadata": {},
   "outputs": [],
   "source": [
    "#Getting the Predicted Classes and Probs\n",
    "ytest_predict_prob=model.predict_proba(X_test)\n",
    "pd.DataFrame(ytest_predict_prob).head()\n",
    "     \n"
   ]
  },
  {
   "cell_type": "markdown",
   "id": "35a0233c",
   "metadata": {},
   "source": [
    "Model Evaluation"
   ]
  },
  {
   "cell_type": "code",
   "execution_count": null,
   "id": "4f1f1670",
   "metadata": {},
   "outputs": [],
   "source": [
    "# Accuracy - Training Data\n",
    "model.score(X_train, y_train)\n",
    "     \n"
   ]
  },
  {
   "cell_type": "code",
   "execution_count": null,
   "id": "fb075828",
   "metadata": {},
   "outputs": [],
   "source": [
    "model.score(X_test,y_test)"
   ]
  },
  {
   "cell_type": "markdown",
   "id": "3e18ae70",
   "metadata": {},
   "source": [
    "AUC and ROC for the training data"
   ]
  },
  {
   "cell_type": "code",
   "execution_count": null,
   "id": "57542f37",
   "metadata": {},
   "outputs": [],
   "source": [
    "from sklearn import metrics\n",
    "from sklearn.metrics import roc_auc_score,roc_curve,classification_report,confusion_matrix\n",
    "# predict probabilities\n",
    "probs = model.predict_proba(X_train)\n",
    "# keep probabilities for the positive outcome only\n",
    "probs = probs[:, 1]\n",
    "# calculate AUC\n",
    "auc = roc_auc_score(y_train, probs)\n",
    "print('AUC: %.3f' % auc)\n",
    "# calculate roc curve\n",
    "train_fpr, train_tpr, train_thresholds = roc_curve(y_train, probs)\n",
    "plt.plot([0, 1], [0, 1], linestyle='--')\n",
    "# plot the roc curve for the model\n",
    "plt.plot(train_fpr, train_tpr)\n"
   ]
  },
  {
   "cell_type": "markdown",
   "id": "9ee8f4d7",
   "metadata": {},
   "source": [
    "AUC and ROC for the test data"
   ]
  },
  {
   "cell_type": "code",
   "execution_count": null,
   "id": "c9af68d9",
   "metadata": {},
   "outputs": [],
   "source": [
    "# predict probabilities\n",
    "probs = model.predict_proba(X_test)\n",
    "# keep probabilities for the positive outcome only\n",
    "probs = probs[:, 1]\n",
    "# calculate AUC\n",
    "test_auc = roc_auc_score(y_test, probs)\n",
    "print('AUC: %.3f' % auc)\n",
    "# calculate roc curve\n",
    "test_fpr, test_tpr, test_thresholds = roc_curve(y_test, probs)\n",
    "plt.plot([0, 1], [0, 1], linestyle='--')\n",
    "# plot the roc curve for the model\n",
    "plt.plot(test_fpr, test_tpr)\n"
   ]
  },
  {
   "cell_type": "markdown",
   "id": "63d28f57",
   "metadata": {},
   "source": [
    "Confusion Matrix for the training data"
   ]
  },
  {
   "cell_type": "code",
   "execution_count": null,
   "id": "13471469",
   "metadata": {},
   "outputs": [],
   "source": [
    "\n",
    "confusion_matrix(y_train, ytrain_predict)"
   ]
  },
  {
   "cell_type": "code",
   "execution_count": null,
   "id": "b38bd55f",
   "metadata": {},
   "outputs": [],
   "source": [
    "\n",
    "print(classification_report(y_train, ytrain_predict))\n"
   ]
  },
  {
   "cell_type": "markdown",
   "id": "a32dbd46",
   "metadata": {},
   "source": [
    "Confusion Matrix for test data"
   ]
  },
  {
   "cell_type": "code",
   "execution_count": null,
   "id": "2c2a8eb1",
   "metadata": {},
   "outputs": [],
   "source": [
    "\n",
    "cnf_matrix=confusion_matrix(y_test, ytest_predict)\n",
    "cnf_matrix\n"
   ]
  },
  {
   "cell_type": "code",
   "execution_count": null,
   "id": "62ae3ea0",
   "metadata": {},
   "outputs": [],
   "source": [
    "print(classification_report(y_test, ytest_predict))"
   ]
  },
  {
   "cell_type": "markdown",
   "id": "0e552d8d",
   "metadata": {},
   "source": [
    "# DECISION TREE"
   ]
  },
  {
   "cell_type": "code",
   "execution_count": null,
   "id": "57b39c8f",
   "metadata": {},
   "outputs": [],
   "source": [
    "from sklearn import tree\n",
    "\n",
    "\n",
    "DT_model= tree.DecisionTreeClassifier()\n",
    "DT_model.fit(X_train, y_train)\n",
    "     "
   ]
  },
  {
   "cell_type": "code",
   "execution_count": null,
   "id": "28c05eb8",
   "metadata": {},
   "outputs": [],
   "source": [
    "y_train_predict = DT_model.predict(X_train)\n",
    "y_test_predict=DT_model.predict(X_test)"
   ]
  },
  {
   "cell_type": "code",
   "execution_count": null,
   "id": "d1756929",
   "metadata": {},
   "outputs": [],
   "source": [
    "\n",
    "## Performance Matrix on train data set\n",
    "\n",
    "model_score = DT_model.score(X_train, y_train) #ACCURACY SCORE\n",
    "print(model_score)\n",
    "print(metrics.confusion_matrix(y_train, y_train_predict))#CONFUSION MATRIX\n",
    "print(metrics.classification_report(y_train, y_train_predict)) #CLASSIFICATION REPORT\n"
   ]
  },
  {
   "cell_type": "code",
   "execution_count": null,
   "id": "d569c5a5",
   "metadata": {},
   "outputs": [],
   "source": [
    "## Performance Matrix on test data set            \n",
    "                                               \n",
    "y_test_predict = DT_model.predict(X_test)\n",
    "model_score = DT_model.score(X_test, y_test)  \n",
    "print(model_score)\n",
    "print(metrics.confusion_matrix(y_test, y_test_predict))\n",
    "print(metrics.classification_report(y_test, y_test_predict))\n"
   ]
  },
  {
   "cell_type": "code",
   "execution_count": null,
   "id": "f53171cd",
   "metadata": {},
   "outputs": [],
   "source": [
    " #overfitting\n",
    "    #accuracy is 100 % for training data but 76 % for test data\n",
    "        #f1 score is 100 % for training data but 82 % for test data"
   ]
  },
  {
   "cell_type": "markdown",
   "id": "f99f0cfd",
   "metadata": {},
   "source": [
    "# RANDOM FOREST"
   ]
  },
  {
   "cell_type": "code",
   "execution_count": null,
   "id": "e93861f2",
   "metadata": {},
   "outputs": [],
   "source": [
    "from sklearn.ensemble import RandomForestClassifier\n",
    "RF_model=RandomForestClassifier(n_estimators=100,random_state=1)\n",
    "RF_model.fit(X_train, y_train)"
   ]
  },
  {
   "cell_type": "code",
   "execution_count": null,
   "id": "a7eadb31",
   "metadata": {},
   "outputs": [],
   "source": [
    "importances = RF_model.feature_importances_\n",
    "sorted_indices = np.argsort(importances)[::-1]\n",
    " \n",
    "feat_labels = df.columns[1:]\n",
    " \n",
    "for f in range(X_train.shape[1]):\n",
    "    print(\"%2d) %-*s %f\" % (f + 1, 30,\n",
    "                            feat_labels[sorted_indices[f]],\n",
    "                            importances[sorted_indices[f]]))"
   ]
  },
  {
   "cell_type": "code",
   "execution_count": null,
   "id": "12519d11",
   "metadata": {},
   "outputs": [],
   "source": [
    "## Performance Matrix on train data set\n",
    "y_train_predict = RF_model.predict(X_train)\n",
    "model_score =RF_model.score(X_train, y_train)\n",
    "print(model_score)\n",
    "print(metrics.confusion_matrix(y_train, y_train_predict))\n",
    "print(metrics.classification_report(y_train, y_train_predict))"
   ]
  },
  {
   "cell_type": "code",
   "execution_count": null,
   "id": "b61b2b75",
   "metadata": {},
   "outputs": [],
   "source": [
    "\n",
    "## Performance Matrix on test data set\n",
    "y_test_predict = RF_model.predict(X_test)\n",
    "model_score = RF_model.score(X_test, y_test)\n",
    "print(model_score)\n",
    "print(metrics.confusion_matrix(y_test, y_test_predict))\n",
    "print(metrics.classification_report(y_test, y_test_predict))\n"
   ]
  },
  {
   "cell_type": "markdown",
   "id": "016ed8b1",
   "metadata": {},
   "source": [
    "# KNN Model"
   ]
  },
  {
   "cell_type": "code",
   "execution_count": null,
   "id": "d91182a9",
   "metadata": {},
   "outputs": [],
   "source": [
    "from sklearn.neighbors import KNeighborsClassifier\n",
    "\n",
    "KNN_model=KNeighborsClassifier(n_neighbors=15)\n",
    "KNN_model.fit(X_train,y_train)"
   ]
  },
  {
   "cell_type": "code",
   "execution_count": null,
   "id": "3bbbf908",
   "metadata": {},
   "outputs": [],
   "source": [
    "## Performance Matrix on train data set\n",
    "y_train_predict = KNN_model.predict(X_train)\n",
    "model_score = KNN_model.score(X_train, y_train)\n",
    "print(model_score)\n",
    "print(metrics.confusion_matrix(y_train, y_train_predict))\n",
    "print(metrics.classification_report(y_train, y_train_predict))"
   ]
  },
  {
   "cell_type": "code",
   "execution_count": null,
   "id": "74cc97ec",
   "metadata": {},
   "outputs": [],
   "source": [
    "## Performance Matrix on test data set\n",
    "y_test_predict = KNN_model.predict(X_test)\n",
    "model_score = KNN_model.score(X_test, y_test)\n",
    "print(model_score)\n",
    "print(metrics.confusion_matrix(y_test, y_test_predict))\n",
    "print(metrics.classification_report(y_test, y_test_predict))"
   ]
  },
  {
   "cell_type": "markdown",
   "id": "045b7a65",
   "metadata": {},
   "source": [
    "# AdaBoost"
   ]
  },
  {
   "cell_type": "code",
   "execution_count": null,
   "id": "fe2e8284",
   "metadata": {},
   "outputs": [],
   "source": [
    "\n",
    "from sklearn.ensemble import AdaBoostClassifier #initially we're putting number of estimators as 100\n",
    "                                                           #it has taken 100 learners\n",
    "ADB_model=AdaBoostClassifier(n_estimators=100,random_state=1)\n",
    "ADB_model.fit(X_train,y_train)"
   ]
  },
  {
   "cell_type": "code",
   "execution_count": null,
   "id": "7a17991d",
   "metadata": {},
   "outputs": [],
   "source": [
    "#performance matrix on train data set\n",
    "y_train_predict=ADB_model.predict(X_train)\n",
    "model_score=ADB_model.score(X_train,y_train)\n",
    "print(model_score)\n",
    "print(metrics.confusion_matrix(y_train,y_train_predict))\n",
    "print(metrics.classification_report(y_train,y_train_predict))"
   ]
  },
  {
   "cell_type": "code",
   "execution_count": null,
   "id": "bb2668bd",
   "metadata": {},
   "outputs": [],
   "source": [
    "#performance matrix on test data set\n",
    "y_test_predict=ADB_model.predict(X_test)\n",
    "model_score=ADB_model.score(X_test,y_test)\n",
    "print(model_score)\n",
    "print(metrics.confusion_matrix(y_test,y_test_predict))\n",
    "print(metrics.classification_report(y_test,y_test_predict))"
   ]
  },
  {
   "cell_type": "markdown",
   "id": "894c159d",
   "metadata": {},
   "source": [
    "# Gradient Boosting"
   ]
  },
  {
   "cell_type": "code",
   "execution_count": null,
   "id": "3e7e917a",
   "metadata": {},
   "outputs": [],
   "source": [
    "from sklearn.ensemble import GradientBoostingClassifier#by default,n_estimators=100 here\n",
    "gbcl=GradientBoostingClassifier(random_state=1)\n",
    "gbcl=gbcl.fit(X_train,y_train)"
   ]
  },
  {
   "cell_type": "code",
   "execution_count": null,
   "id": "cda3aecb",
   "metadata": {},
   "outputs": [],
   "source": [
    "#performance matrix on train data set\n",
    "y_train_predict=gbcl.predict(X_train)\n",
    "model_score=gbcl.score(X_train,y_train)\n",
    "print(model_score)\n",
    "print(metrics.confusion_matrix(y_train,y_train_predict))\n",
    "print(metrics.classification_report(y_train,y_train_predict))"
   ]
  },
  {
   "cell_type": "code",
   "execution_count": null,
   "id": "b8264ca1",
   "metadata": {},
   "outputs": [],
   "source": [
    "#performance matrix on test data set\n",
    "y_test_predict=gbcl.predict(X_test)\n",
    "model_score=gbcl.score(X_test,y_test)\n",
    "print(model_score)\n",
    "print(metrics.confusion_matrix(y_test,y_test_predict))\n",
    "print(metrics.classification_report(y_test,y_test_predict))"
   ]
  },
  {
   "cell_type": "markdown",
   "id": "163dc275",
   "metadata": {},
   "source": [
    "# Bagging"
   ]
  },
  {
   "cell_type": "code",
   "execution_count": null,
   "id": "0a9d2823",
   "metadata": {},
   "outputs": [],
   "source": [
    "from sklearn.ensemble import BaggingClassifier\n",
    "from sklearn.tree import DecisionTreeClassifier\n",
    "cart=DecisionTreeClassifier()\n",
    "Bagging_model=BaggingClassifier(base_estimator=cart,n_estimators=100,random_state=1)\n",
    "Bagging_model.fit(X_train,y_train)"
   ]
  },
  {
   "cell_type": "code",
   "execution_count": null,
   "id": "037438e7",
   "metadata": {},
   "outputs": [],
   "source": [
    "#performance matrix on train data set\n",
    "y_train_predict=Bagging_model.predict(X_train)\n",
    "model_score=Bagging_model.score(X_train,y_train)\n",
    "print(model_score)\n",
    "print(metrics.confusion_matrix(y_train,y_train_predict))\n",
    "print(metrics.classification_report(y_train,y_train_predict))"
   ]
  },
  {
   "cell_type": "code",
   "execution_count": null,
   "id": "b3df3c80",
   "metadata": {},
   "outputs": [],
   "source": [
    "#performance matrix on test data set\n",
    "y_test_predict=Bagging_model.predict(X_test)\n",
    "model_score=Bagging_model.score(X_test,y_test)\n",
    "print(model_score)\n",
    "print(metrics.confusion_matrix(y_test,y_test_predict))      #overfitting\n",
    "print(metrics.classification_report(y_test,y_test_predict))"
   ]
  },
  {
   "cell_type": "code",
   "execution_count": null,
   "id": "493bce40",
   "metadata": {},
   "outputs": [],
   "source": [
    "#instead of decision tree,you can use some other classifier also"
   ]
  },
  {
   "cell_type": "markdown",
   "id": "ca76fa25",
   "metadata": {},
   "source": [
    "To assess the quality of our model,here we will use combination of metrics F1 Score and Accuracy. For both the metrics, the higher the value the better a model can classify observations into classes. However, each metric is calculated using a different formula and there are pros and cons to using both."
   ]
  },
  {
   "cell_type": "markdown",
   "id": "3ef09941",
   "metadata": {},
   "source": [
    " F1 score represents the model score as a function of precision and recall score. F-score is a machine learning model performance metric that gives equal weight to both the Precision and Recall for measuring its performance in terms of accuracy, making it an alternative to Accuracy metrics (it doesn’t require us to know the total number of observations). It’s often used as a single value that provides high-level information about the model’s output quality. This is a useful measure of the model in the scenarios where one tries to optimize either of precision or recall score and as a result, the model performance suffers."
   ]
  },
  {
   "cell_type": "markdown",
   "id": "2956472d",
   "metadata": {},
   "source": [
    "Mathematically, it can be represented as a harmonic mean of precision and recall score.\n",
    "F1 Score = 2* Precision Score * Recall Score/ (Precision Score + Recall Score/\n"
   ]
  },
  {
   "cell_type": "markdown",
   "id": "fc35bf92",
   "metadata": {},
   "source": [
    "Accuracy score is a machine learning classification model performance metric that is defined as the ratio of true positives and true negatives to all positive and negative observations. In other words, accuracy tells us how often we can expect our machine learning model will correctly predict an outcome out of the total number of times it made predictions. For example: Let’s assume that you were testing your machine learning model with a dataset of 100 records and that your machine learning model predicted all 90 of those instances correctly. The accuracy metric, in this case, would be: (90/100) = 90%. The accuracy rate is great, but it doesn’t tell us anything about the errors our machine learning models make on new data we haven’t seen before. The accuracy metrics is also not reliable for the models trained on imbalanced or skewed datasets.\n",
    "Mathematically, it represents the ratio of the sum of true positive and true negatives out of all the predictions.\n"
   ]
  },
  {
   "cell_type": "markdown",
   "id": "42636cb7",
   "metadata": {},
   "source": [
    "Accuracy Score = (TP + TN)/ (TP + FN + TN + FP)"
   ]
  },
  {
   "cell_type": "markdown",
   "id": "3be82797",
   "metadata": {},
   "source": [
    "If we look at the accuracy and F1 scores of all the models created, the best performance is being shown by “Gradient Boosting algorithm”.\n",
    "Its accuracy for the training and test datasets is 89% and 83% respectively, which is decent. Also its F1 score for the training and test datasets is 93% and 88 %,which is quite good and much better than the other models built.\n"
   ]
  },
  {
   "cell_type": "markdown",
   "id": "310a0716",
   "metadata": {},
   "source": [
    "# 1.8) Based on your analysis and working on the business problem, detail out appropriate insights and recommendations to help the management solve the business objective."
   ]
  },
  {
   "cell_type": "markdown",
   "id": "ac9e1cbb",
   "metadata": {},
   "source": [
    "INSIGHTS\n",
    "\n",
    "In this classification model ,we have to predict  whether the mode of transport (dependent variable) is “Private transport” or “Public transport” using independent variables  Age,Gender,Engineer,MBA,WorkExp,Salary,Distance,license.We built multiple models such as logistic regression,decision tree, random forest,KNN,AdaBoost,Gradient Boosting and Bagging for this buisness problem and found Gradient boosting to be the best one.\n",
    "\n",
    "However ,while building the Random forest classifier model,we saw that some variables were of greater importance compared to the other ones.”Distance”and “Transport “ have the highest variable importance while “ license” has the least variable importance.\n",
    "\n",
    "Due to multicollinearity,the model was getting affected as multicollinearity reduces the precision of the estimated coefficients, which weakens the statistical power of  regression model.We might not be able to trust the p values then to identify independent variables that are statistically significant ones.While building the logistic regression model,we saw that WorkExp was having very high VIF(VIF means there is multicollinearity) and so we had to get rid of that variables.Also some of the variables’ pvalues were much greater than 0.05 (which means they were statistically insignificant) and so we removed them in building the final logistic regression model.\n",
    "\n"
   ]
  },
  {
   "cell_type": "markdown",
   "id": "4aeb710b",
   "metadata": {},
   "source": [
    "Recommendations:\n",
    "    \n",
    "    \n",
    "To help the management solve the buisness objective,data collection from different sources can be improved. There are many other factors that influence the choices of mode of transport. \n",
    "\n",
    "One of them can be “Cost of transport”. Public transport such as Sea transport is the cheapest means of transporting bulky goods provided the speed  of carriage is not an essential requirement. Rail transport is also a cheaper way of transport over long distances.Private transport is only confined over small distances and can’t be used for carrying higher weights. \n",
    "\n",
    "Other factor that can affect our target variable can be “Speed”.The quickest mode of transport is obviously airways whereas the slowest is the water transport. Private vehicles would be of moderate speed.\n",
    "\n",
    "One factor can be “flexibilty “also.While choosing a particular mode of transport,we have to consider the flexibility also. In this  respect,road transport and private transport would be the best ones. \n",
    "\n",
    "Other very important factor affecting the mode of transport can be “Regularity”also. In case of private transport, regularity of service is the most assured.The scheduled movement of public transport can be affected by weather conditions. \n",
    "\n",
    "There are many other factors such as Safety,Nature of commodity etc which influence the choice of mode of transport.\n",
    "\n",
    "\n",
    "The quality of data can be made better so that not much data cleaning would be required.And it should be made sure that the practical implementation of best model is made possible.\n"
   ]
  }
 ],
 "metadata": {
  "kernelspec": {
   "display_name": "Python 3 (ipykernel)",
   "language": "python",
   "name": "python3"
  },
  "language_info": {
   "codemirror_mode": {
    "name": "ipython",
    "version": 3
   },
   "file_extension": ".py",
   "mimetype": "text/x-python",
   "name": "python",
   "nbconvert_exporter": "python",
   "pygments_lexer": "ipython3",
   "version": "3.9.7"
  }
 },
 "nbformat": 4,
 "nbformat_minor": 5
}
